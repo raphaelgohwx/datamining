{
 "cells": [
  {
   "cell_type": "markdown",
   "id": "e3935bed",
   "metadata": {},
   "source": [
    "## EDA (Condensed)"
   ]
  },
  {
   "cell_type": "code",
   "execution_count": 1,
   "id": "815eabea",
   "metadata": {},
   "outputs": [
    {
     "name": "stderr",
     "output_type": "stream",
     "text": [
      "<ipython-input-1-592bc9ef9ee1>:32: SettingWithCopyWarning: \n",
      "A value is trying to be set on a copy of a slice from a DataFrame.\n",
      "Try using .loc[row_indexer,col_indexer] = value instead\n",
      "\n",
      "See the caveats in the documentation: https://pandas.pydata.org/pandas-docs/stable/user_guide/indexing.html#returning-a-view-versus-a-copy\n",
      "  df_cleaned['remaining_lease_years'] = df['remaining_lease'].apply(convert_lease_to_int)\n",
      "<ipython-input-1-592bc9ef9ee1>:36: SettingWithCopyWarning: \n",
      "A value is trying to be set on a copy of a slice from a DataFrame.\n",
      "Try using .loc[row_indexer,col_indexer] = value instead\n",
      "\n",
      "See the caveats in the documentation: https://pandas.pydata.org/pandas-docs/stable/user_guide/indexing.html#returning-a-view-versus-a-copy\n",
      "  df_cleaned['flat_type_encoded'] = labelencoder.fit_transform(df_cleaned['flat_type'])\n",
      "<ipython-input-1-592bc9ef9ee1>:37: SettingWithCopyWarning: \n",
      "A value is trying to be set on a copy of a slice from a DataFrame.\n",
      "Try using .loc[row_indexer,col_indexer] = value instead\n",
      "\n",
      "See the caveats in the documentation: https://pandas.pydata.org/pandas-docs/stable/user_guide/indexing.html#returning-a-view-versus-a-copy\n",
      "  df_cleaned['storey_range_encoded'] = labelencoder.fit_transform(df_cleaned['storey_range'])\n"
     ]
    }
   ],
   "source": [
    "import pandas as pd\n",
    "import matplotlib.pyplot as plt\n",
    "import seaborn as sns\n",
    "from sklearn.preprocessing import StandardScaler\n",
    "from sklearn.preprocessing import LabelEncoder\n",
    "import matplotlib.pyplot as plt\n",
    "import numpy as np\n",
    "import scipy.stats as stats\n",
    "from sklearn.model_selection import train_test_split \n",
    "\n",
    "df = pd.read_csv(\"completed_flat_price_2017_2023.csv\")\n",
    "df['date'] = pd.to_datetime(df['month'], format='%Y-%m')\n",
    "\n",
    "# pre processing:\n",
    "# removing outliers (3std away) for resale_price\n",
    "def three_sd_range(series):\n",
    "    mean = series.mean()\n",
    "    sd = series.std()\n",
    "    low = mean - 3*sd\n",
    "    high = mean + 3*sd\n",
    "    return (low, high)\n",
    "\n",
    "lower, upper = three_sd_range(df[\"resale_price\"])\n",
    "df_cleaned  = df[ (df.resale_price >= lower) & (df.resale_price <= upper) ]\n",
    "\n",
    "# converting remaining_lease to int format:\n",
    "def convert_lease_to_int(lease_str):\n",
    "    parts = lease_str.split()\n",
    "    years = int(parts[0])\n",
    "    return years\n",
    "\n",
    "df_cleaned['remaining_lease_years'] = df['remaining_lease'].apply(convert_lease_to_int)\n",
    "\n",
    "# encoding flat_type and storey_range to ordinal data:\n",
    "labelencoder = LabelEncoder()\n",
    "df_cleaned['flat_type_encoded'] = labelencoder.fit_transform(df_cleaned['flat_type'])\n",
    "df_cleaned['storey_range_encoded'] = labelencoder.fit_transform(df_cleaned['storey_range'])\n"
   ]
  },
  {
   "cell_type": "markdown",
   "id": "0124dc43",
   "metadata": {},
   "source": [
    "#### Inflation using CPI"
   ]
  },
  {
   "cell_type": "code",
   "execution_count": 2,
   "id": "6e082309",
   "metadata": {},
   "outputs": [
    {
     "name": "stdout",
     "output_type": "stream",
     "text": [
      "   Year      CPI  Inflation Rate\n",
      "6  2017   99.004        0.000000\n",
      "5  2018   99.438        0.438366\n",
      "4  2019  100.000        0.565176\n",
      "3  2020   99.818       -0.182000\n",
      "2  2021  102.119        2.305195\n",
      "1  2022  108.370        6.121290\n",
      "0  2023  113.595        4.821445\n"
     ]
    }
   ],
   "source": [
    "# Read the CSV file. The header is in the first row by default.\n",
    "inflation_rate = pd.read_csv('annual_CPI.csv')\n",
    "\n",
    "# Transpose the DataFrame so that years become the index\n",
    "inflation_rate = inflation_rate.transpose().reset_index()\n",
    "inflation_rate.columns = ['Year', 'CPI']  # Renaming the columns\n",
    "inflation_rate.sort_index(ascending=False, inplace=True)\n",
    "\n",
    "# Convert 'Year' to integer and 'CPI' to float\n",
    "inflation_rate['Year'] = inflation_rate['Year'].astype(int)\n",
    "inflation_rate['CPI'] = inflation_rate['CPI'].astype(float)\n",
    "\n",
    "# Calculate the inflation rate\n",
    "inflation_rate['Inflation Rate'] = inflation_rate['CPI'].diff() / inflation_rate['CPI'].shift(1) * 100\n",
    "\n",
    "# Setting the inflation rate for the base year (the first year) to 0%\n",
    "inflation_rate.iloc[0, inflation_rate.columns.get_loc('Inflation Rate')] = 0\n",
    "\n",
    "# Display the DataFrame\n",
    "print(inflation_rate)"
   ]
  },
  {
   "cell_type": "markdown",
   "id": "bfd0542c",
   "metadata": {},
   "source": [
    "#### Calculating adjusted price with inflation"
   ]
  },
  {
   "cell_type": "code",
   "execution_count": 3,
   "id": "d94bedcd",
   "metadata": {},
   "outputs": [
    {
     "name": "stderr",
     "output_type": "stream",
     "text": [
      "<ipython-input-3-b94382874872>:2: SettingWithCopyWarning: \n",
      "A value is trying to be set on a copy of a slice from a DataFrame.\n",
      "Try using .loc[row_indexer,col_indexer] = value instead\n",
      "\n",
      "See the caveats in the documentation: https://pandas.pydata.org/pandas-docs/stable/user_guide/indexing.html#returning-a-view-versus-a-copy\n",
      "  df_cleaned['year'] = pd.to_datetime(df_cleaned['month']).dt.year\n"
     ]
    }
   ],
   "source": [
    "# Add a 'year' column to df2 by converting 'month' to datetime and extracting the year\n",
    "df_cleaned['year'] = pd.to_datetime(df_cleaned['month']).dt.year\n",
    "\n",
    "# Merge df2 with the inflation_rate DataFrame on the 'year' column\n",
    "# Make sure the inflation_rate DataFrame has 'Year' and 'Inflation Rate' columns\n",
    "df_cleaned = df_cleaned.merge(inflation_rate, left_on='year', right_on='Year', how='left')\n",
    "\n",
    "# Calculate the adjusted_price\n",
    "df_cleaned['adjusted_price'] = round(df_cleaned['resale_price'] * (1 + df_cleaned['Inflation Rate'] / 100),2)\n",
    "\n",
    "# Since we only need the adjusted_price, drop the extra columns\n",
    "df_cleaned.drop(columns=['Year', 'Inflation Rate', 'year'], inplace=True)\n",
    "\n",
    "# extracting features:\n",
    "df2= df_cleaned[['month','town', \n",
    "                 'flat_type', 'flat_type_encoded',\n",
    "                 'storey_range', 'storey_range_encoded',\n",
    "                 'floor_area_sqm', 'remaining_lease_years', 'full_address', 'adjusted_price']]"
   ]
  },
  {
   "cell_type": "markdown",
   "id": "818f59b8",
   "metadata": {},
   "source": [
    "#### Normalisation of continuous variables \n",
    "Floor area, remaining lease years, resale price"
   ]
  },
  {
   "cell_type": "code",
   "execution_count": 4,
   "id": "cca7e22e",
   "metadata": {},
   "outputs": [
    {
     "data": {
      "text/html": [
       "<div>\n",
       "<style scoped>\n",
       "    .dataframe tbody tr th:only-of-type {\n",
       "        vertical-align: middle;\n",
       "    }\n",
       "\n",
       "    .dataframe tbody tr th {\n",
       "        vertical-align: top;\n",
       "    }\n",
       "\n",
       "    .dataframe thead th {\n",
       "        text-align: right;\n",
       "    }\n",
       "</style>\n",
       "<table border=\"1\" class=\"dataframe\">\n",
       "  <thead>\n",
       "    <tr style=\"text-align: right;\">\n",
       "      <th></th>\n",
       "      <th>floor_area_sqm</th>\n",
       "      <th>remaining_lease_years</th>\n",
       "      <th>adjusted_price</th>\n",
       "      <th>flat_type_encoded</th>\n",
       "      <th>storey_range_encoded</th>\n",
       "      <th>year</th>\n",
       "      <th>ANG MO KIO</th>\n",
       "      <th>BEDOK</th>\n",
       "      <th>BISHAN</th>\n",
       "      <th>BUKIT BATOK</th>\n",
       "      <th>...</th>\n",
       "      <th>PASIR RIS</th>\n",
       "      <th>PUNGGOL</th>\n",
       "      <th>QUEENSTOWN</th>\n",
       "      <th>SEMBAWANG</th>\n",
       "      <th>SENGKANG</th>\n",
       "      <th>SERANGOON</th>\n",
       "      <th>TAMPINES</th>\n",
       "      <th>TOA PAYOH</th>\n",
       "      <th>WOODLANDS</th>\n",
       "      <th>YISHUN</th>\n",
       "    </tr>\n",
       "  </thead>\n",
       "  <tbody>\n",
       "    <tr>\n",
       "      <th>0</th>\n",
       "      <td>-2.225324</td>\n",
       "      <td>-0.969351</td>\n",
       "      <td>-1.537938</td>\n",
       "      <td>1</td>\n",
       "      <td>3</td>\n",
       "      <td>2017</td>\n",
       "      <td>1</td>\n",
       "      <td>0</td>\n",
       "      <td>0</td>\n",
       "      <td>0</td>\n",
       "      <td>...</td>\n",
       "      <td>0</td>\n",
       "      <td>0</td>\n",
       "      <td>0</td>\n",
       "      <td>0</td>\n",
       "      <td>0</td>\n",
       "      <td>0</td>\n",
       "      <td>0</td>\n",
       "      <td>0</td>\n",
       "      <td>0</td>\n",
       "      <td>0</td>\n",
       "    </tr>\n",
       "    <tr>\n",
       "      <th>1</th>\n",
       "      <td>-1.266810</td>\n",
       "      <td>-1.042624</td>\n",
       "      <td>-1.427477</td>\n",
       "      <td>2</td>\n",
       "      <td>0</td>\n",
       "      <td>2017</td>\n",
       "      <td>1</td>\n",
       "      <td>0</td>\n",
       "      <td>0</td>\n",
       "      <td>0</td>\n",
       "      <td>...</td>\n",
       "      <td>0</td>\n",
       "      <td>0</td>\n",
       "      <td>0</td>\n",
       "      <td>0</td>\n",
       "      <td>0</td>\n",
       "      <td>0</td>\n",
       "      <td>0</td>\n",
       "      <td>0</td>\n",
       "      <td>0</td>\n",
       "      <td>0</td>\n",
       "    </tr>\n",
       "    <tr>\n",
       "      <th>2</th>\n",
       "      <td>-1.266810</td>\n",
       "      <td>-0.896079</td>\n",
       "      <td>-1.353836</td>\n",
       "      <td>2</td>\n",
       "      <td>0</td>\n",
       "      <td>2017</td>\n",
       "      <td>1</td>\n",
       "      <td>0</td>\n",
       "      <td>0</td>\n",
       "      <td>0</td>\n",
       "      <td>...</td>\n",
       "      <td>0</td>\n",
       "      <td>0</td>\n",
       "      <td>0</td>\n",
       "      <td>0</td>\n",
       "      <td>0</td>\n",
       "      <td>0</td>\n",
       "      <td>0</td>\n",
       "      <td>0</td>\n",
       "      <td>0</td>\n",
       "      <td>0</td>\n",
       "    </tr>\n",
       "    <tr>\n",
       "      <th>3</th>\n",
       "      <td>-1.225135</td>\n",
       "      <td>-0.896079</td>\n",
       "      <td>-1.335426</td>\n",
       "      <td>2</td>\n",
       "      <td>1</td>\n",
       "      <td>2017</td>\n",
       "      <td>1</td>\n",
       "      <td>0</td>\n",
       "      <td>0</td>\n",
       "      <td>0</td>\n",
       "      <td>...</td>\n",
       "      <td>0</td>\n",
       "      <td>0</td>\n",
       "      <td>0</td>\n",
       "      <td>0</td>\n",
       "      <td>0</td>\n",
       "      <td>0</td>\n",
       "      <td>0</td>\n",
       "      <td>0</td>\n",
       "      <td>0</td>\n",
       "      <td>0</td>\n",
       "    </tr>\n",
       "    <tr>\n",
       "      <th>4</th>\n",
       "      <td>-1.266810</td>\n",
       "      <td>-0.896079</td>\n",
       "      <td>-1.335426</td>\n",
       "      <td>2</td>\n",
       "      <td>0</td>\n",
       "      <td>2017</td>\n",
       "      <td>1</td>\n",
       "      <td>0</td>\n",
       "      <td>0</td>\n",
       "      <td>0</td>\n",
       "      <td>...</td>\n",
       "      <td>0</td>\n",
       "      <td>0</td>\n",
       "      <td>0</td>\n",
       "      <td>0</td>\n",
       "      <td>0</td>\n",
       "      <td>0</td>\n",
       "      <td>0</td>\n",
       "      <td>0</td>\n",
       "      <td>0</td>\n",
       "      <td>0</td>\n",
       "    </tr>\n",
       "    <tr>\n",
       "      <th>...</th>\n",
       "      <td>...</td>\n",
       "      <td>...</td>\n",
       "      <td>...</td>\n",
       "      <td>...</td>\n",
       "      <td>...</td>\n",
       "      <td>...</td>\n",
       "      <td>...</td>\n",
       "      <td>...</td>\n",
       "      <td>...</td>\n",
       "      <td>...</td>\n",
       "      <td>...</td>\n",
       "      <td>...</td>\n",
       "      <td>...</td>\n",
       "      <td>...</td>\n",
       "      <td>...</td>\n",
       "      <td>...</td>\n",
       "      <td>...</td>\n",
       "      <td>...</td>\n",
       "      <td>...</td>\n",
       "      <td>...</td>\n",
       "      <td>...</td>\n",
       "    </tr>\n",
       "    <tr>\n",
       "      <th>145605</th>\n",
       "      <td>0.983615</td>\n",
       "      <td>-0.822806</td>\n",
       "      <td>1.155218</td>\n",
       "      <td>4</td>\n",
       "      <td>2</td>\n",
       "      <td>2023</td>\n",
       "      <td>0</td>\n",
       "      <td>0</td>\n",
       "      <td>0</td>\n",
       "      <td>0</td>\n",
       "      <td>...</td>\n",
       "      <td>0</td>\n",
       "      <td>0</td>\n",
       "      <td>0</td>\n",
       "      <td>0</td>\n",
       "      <td>0</td>\n",
       "      <td>0</td>\n",
       "      <td>0</td>\n",
       "      <td>0</td>\n",
       "      <td>0</td>\n",
       "      <td>1</td>\n",
       "    </tr>\n",
       "    <tr>\n",
       "      <th>145606</th>\n",
       "      <td>1.233662</td>\n",
       "      <td>-0.749534</td>\n",
       "      <td>1.541176</td>\n",
       "      <td>4</td>\n",
       "      <td>0</td>\n",
       "      <td>2023</td>\n",
       "      <td>0</td>\n",
       "      <td>0</td>\n",
       "      <td>0</td>\n",
       "      <td>0</td>\n",
       "      <td>...</td>\n",
       "      <td>0</td>\n",
       "      <td>0</td>\n",
       "      <td>0</td>\n",
       "      <td>0</td>\n",
       "      <td>0</td>\n",
       "      <td>0</td>\n",
       "      <td>0</td>\n",
       "      <td>0</td>\n",
       "      <td>0</td>\n",
       "      <td>1</td>\n",
       "    </tr>\n",
       "    <tr>\n",
       "      <th>145607</th>\n",
       "      <td>1.025289</td>\n",
       "      <td>-0.749534</td>\n",
       "      <td>1.541176</td>\n",
       "      <td>4</td>\n",
       "      <td>3</td>\n",
       "      <td>2023</td>\n",
       "      <td>0</td>\n",
       "      <td>0</td>\n",
       "      <td>0</td>\n",
       "      <td>0</td>\n",
       "      <td>...</td>\n",
       "      <td>0</td>\n",
       "      <td>0</td>\n",
       "      <td>0</td>\n",
       "      <td>0</td>\n",
       "      <td>0</td>\n",
       "      <td>0</td>\n",
       "      <td>0</td>\n",
       "      <td>0</td>\n",
       "      <td>0</td>\n",
       "      <td>1</td>\n",
       "    </tr>\n",
       "    <tr>\n",
       "      <th>145608</th>\n",
       "      <td>2.025478</td>\n",
       "      <td>-0.749534</td>\n",
       "      <td>2.428879</td>\n",
       "      <td>5</td>\n",
       "      <td>3</td>\n",
       "      <td>2023</td>\n",
       "      <td>0</td>\n",
       "      <td>0</td>\n",
       "      <td>0</td>\n",
       "      <td>0</td>\n",
       "      <td>...</td>\n",
       "      <td>0</td>\n",
       "      <td>0</td>\n",
       "      <td>0</td>\n",
       "      <td>0</td>\n",
       "      <td>0</td>\n",
       "      <td>0</td>\n",
       "      <td>0</td>\n",
       "      <td>0</td>\n",
       "      <td>0</td>\n",
       "      <td>1</td>\n",
       "    </tr>\n",
       "    <tr>\n",
       "      <th>145609</th>\n",
       "      <td>1.858780</td>\n",
       "      <td>-0.822806</td>\n",
       "      <td>1.959297</td>\n",
       "      <td>5</td>\n",
       "      <td>0</td>\n",
       "      <td>2023</td>\n",
       "      <td>0</td>\n",
       "      <td>0</td>\n",
       "      <td>0</td>\n",
       "      <td>0</td>\n",
       "      <td>...</td>\n",
       "      <td>0</td>\n",
       "      <td>0</td>\n",
       "      <td>0</td>\n",
       "      <td>0</td>\n",
       "      <td>0</td>\n",
       "      <td>0</td>\n",
       "      <td>0</td>\n",
       "      <td>0</td>\n",
       "      <td>0</td>\n",
       "      <td>1</td>\n",
       "    </tr>\n",
       "  </tbody>\n",
       "</table>\n",
       "<p>145610 rows × 32 columns</p>\n",
       "</div>"
      ],
      "text/plain": [
       "        floor_area_sqm  remaining_lease_years  adjusted_price  \\\n",
       "0            -2.225324              -0.969351       -1.537938   \n",
       "1            -1.266810              -1.042624       -1.427477   \n",
       "2            -1.266810              -0.896079       -1.353836   \n",
       "3            -1.225135              -0.896079       -1.335426   \n",
       "4            -1.266810              -0.896079       -1.335426   \n",
       "...                ...                    ...             ...   \n",
       "145605        0.983615              -0.822806        1.155218   \n",
       "145606        1.233662              -0.749534        1.541176   \n",
       "145607        1.025289              -0.749534        1.541176   \n",
       "145608        2.025478              -0.749534        2.428879   \n",
       "145609        1.858780              -0.822806        1.959297   \n",
       "\n",
       "        flat_type_encoded  storey_range_encoded  year  ANG MO KIO  BEDOK  \\\n",
       "0                       1                     3  2017           1      0   \n",
       "1                       2                     0  2017           1      0   \n",
       "2                       2                     0  2017           1      0   \n",
       "3                       2                     1  2017           1      0   \n",
       "4                       2                     0  2017           1      0   \n",
       "...                   ...                   ...   ...         ...    ...   \n",
       "145605                  4                     2  2023           0      0   \n",
       "145606                  4                     0  2023           0      0   \n",
       "145607                  4                     3  2023           0      0   \n",
       "145608                  5                     3  2023           0      0   \n",
       "145609                  5                     0  2023           0      0   \n",
       "\n",
       "        BISHAN  BUKIT BATOK  ...  PASIR RIS  PUNGGOL  QUEENSTOWN  SEMBAWANG  \\\n",
       "0            0            0  ...          0        0           0          0   \n",
       "1            0            0  ...          0        0           0          0   \n",
       "2            0            0  ...          0        0           0          0   \n",
       "3            0            0  ...          0        0           0          0   \n",
       "4            0            0  ...          0        0           0          0   \n",
       "...        ...          ...  ...        ...      ...         ...        ...   \n",
       "145605       0            0  ...          0        0           0          0   \n",
       "145606       0            0  ...          0        0           0          0   \n",
       "145607       0            0  ...          0        0           0          0   \n",
       "145608       0            0  ...          0        0           0          0   \n",
       "145609       0            0  ...          0        0           0          0   \n",
       "\n",
       "        SENGKANG  SERANGOON  TAMPINES  TOA PAYOH  WOODLANDS  YISHUN  \n",
       "0              0          0         0          0          0       0  \n",
       "1              0          0         0          0          0       0  \n",
       "2              0          0         0          0          0       0  \n",
       "3              0          0         0          0          0       0  \n",
       "4              0          0         0          0          0       0  \n",
       "...          ...        ...       ...        ...        ...     ...  \n",
       "145605         0          0         0          0          0       1  \n",
       "145606         0          0         0          0          0       1  \n",
       "145607         0          0         0          0          0       1  \n",
       "145608         0          0         0          0          0       1  \n",
       "145609         0          0         0          0          0       1  \n",
       "\n",
       "[145610 rows x 32 columns]"
      ]
     },
     "execution_count": 4,
     "metadata": {},
     "output_type": "execute_result"
    }
   ],
   "source": [
    "# Applying one hot encoding to town:\n",
    "from sklearn.preprocessing import LabelBinarizer\n",
    "labelbinarizer = LabelBinarizer()\n",
    "x = labelbinarizer.fit_transform(df2[\"town\"])\n",
    "encoded_df = pd.DataFrame(x, columns=labelbinarizer.classes_)\n",
    "encoded_df.head()\n",
    "\n",
    "# Normalizing numerical variables:\n",
    "from sklearn.preprocessing import StandardScaler\n",
    "columns = [ 'floor_area_sqm', 'remaining_lease_years', 'adjusted_price']\n",
    "df2_normalized = StandardScaler().fit_transform(df2[columns])\n",
    "df2_normalized= pd.DataFrame(df2_normalized, columns = columns)\n",
    "\n",
    "df2 = df2.reset_index(drop=True)\n",
    "df2_normalized = df2_normalized.reset_index(drop=True)\n",
    "\n",
    "df2_normalized[['flat_type_encoded', 'storey_range_encoded']] = df2[['flat_type_encoded', 'storey_range_encoded']]\n",
    "df2_normalized['year'] = df2['month'].str.slice(0,4)\n",
    "df2_normalized = pd.concat([df2_normalized, encoded_df], axis=1)\n",
    "\n",
    "# Change data type of year to int\n",
    "df2_normalized['year'] = df2_normalized['year'].astype(int)\n",
    "\n",
    "df2_normalized"
   ]
  },
  {
   "cell_type": "code",
   "execution_count": 5,
   "id": "1b342366",
   "metadata": {},
   "outputs": [
    {
     "data": {
      "image/png": "[encoded data removed]",
      "text/plain": [
       "<Figure size 432x288 with 1 Axes>"
      ]
     },
     "metadata": {
      "needs_background": "light"
     },
     "output_type": "display_data"
    }
   ],
   "source": [
    "# PCA\n",
    "from sklearn.decomposition import PCA\n",
    "\n",
    "# pca = PCA(n_components=3)\n",
    "pca = PCA(n_components=4)\n",
    "\n",
    "# x_pca = pca.fit_transform(df2_normalized[['floor_area_sqm', 'remaining_lease_years', 'resale_price']])\n",
    "x_pca = pca.fit_transform(df2_normalized[['floor_area_sqm', 'remaining_lease_years', 'flat_type_encoded', 'storey_range_encoded']])\n",
    "\n",
    "x_pca = pd.DataFrame(x_pca)\n",
    "df4_names = []\n",
    "y= pca.explained_variance_ratio_\n",
    "\n",
    "for i in range(len(y)):\n",
    "    df4_names.append('PCA'+str(i+1))\n",
    "\n",
    "default_x_ticks = range(len(df4_names))\n",
    "\n",
    "plt.plot(default_x_ticks, y)\n",
    "plt.bar(default_x_ticks, y,width=0.1,color= 'blue')\n",
    "plt.xticks(default_x_ticks, df4_names)\n",
    "plt.show()"
   ]
  },
  {
   "cell_type": "code",
   "execution_count": 6,
   "id": "b5f5e2c5",
   "metadata": {},
   "outputs": [],
   "source": [
    "# Splitting into 3 df: pre-covid, post-covid, and full dataset\n",
    "full_dataset = df2_normalized\n",
    "precovid_dataset = df2_normalized[(df2_normalized['year'] >= 2017) & (df2_normalized['year'] <= 2019)] # Data from 2017 ~ 2019\n",
    "postcovid_dataset = df2_normalized[(df2_normalized['year'] >= 2020) ] # Data from 2020 ~ 2023\n",
    "\n",
    "# Extracting essential columns for model training\n",
    "full_dataset = full_dataset[['floor_area_sqm', 'remaining_lease_years', 'flat_type_encoded', 'storey_range_encoded', 'adjusted_price']]\n",
    "precovid_dataset = precovid_dataset[['floor_area_sqm', 'remaining_lease_years', 'flat_type_encoded', 'storey_range_encoded', 'adjusted_price']]\n",
    "postcovid_dataset = postcovid_dataset[['floor_area_sqm', 'remaining_lease_years', 'flat_type_encoded', 'storey_range_encoded', 'adjusted_price']]"
   ]
  },
  {
   "cell_type": "code",
   "execution_count": 7,
   "id": "464a55b8",
   "metadata": {},
   "outputs": [],
   "source": [
    "# splitting into train-test split for all 3 data sets\n",
    "# use randome state=42\n",
    "\n",
    "# For full_dataset:\n",
    "X1=full_dataset.drop(columns='adjusted_price')\n",
    "y1= full_dataset['adjusted_price']\n",
    "X_train1, X_test1, y_train1, y_test1 = train_test_split(X1, y1, test_size=0.2, random_state=42)\n",
    "\n",
    "# For precovid_dataset:\n",
    "X2=precovid_dataset.drop(columns='adjusted_price')\n",
    "y2= precovid_dataset['adjusted_price']\n",
    "X_train2, X_test2, y_train2, y_test2 = train_test_split(X2, y2, test_size=0.2, random_state=42)\n",
    "\n",
    "# For postcovid_dataset:\n",
    "X3=postcovid_dataset.drop(columns='adjusted_price')\n",
    "y3= postcovid_dataset['adjusted_price']\n",
    "X_train3, X_test3, y_train3, y_test3 = train_test_split(X3, y3, test_size=0.2, random_state=42)"
   ]
  },
  {
   "cell_type": "markdown",
   "id": "6abd5d80",
   "metadata": {},
   "source": [
    "## ANN (Artificial Neural Network)"
   ]
  },
  {
   "cell_type": "code",
   "execution_count": 8,
   "id": "4bd1f8d6",
   "metadata": {},
   "outputs": [
    {
     "name": "stdout",
     "output_type": "stream",
     "text": [
      "Model: \"sequential\"\n",
      "_________________________________________________________________\n",
      " Layer (type)                Output Shape              Param #   \n",
      "=================================================================\n",
      " dense (Dense)               (None, 256)               1280      \n",
      "                                                                 \n",
      " dense_1 (Dense)             (None, 128)               32896     \n",
      "                                                                 \n",
      " dense_2 (Dense)             (None, 64)                8256      \n",
      "                                                                 \n",
      " dense_3 (Dense)             (None, 32)                2080      \n",
      "                                                                 \n",
      " dense_4 (Dense)             (None, 16)                528       \n",
      "                                                                 \n",
      " dense_5 (Dense)             (None, 1)                 17        \n",
      "                                                                 \n",
      "=================================================================\n",
      "Total params: 45057 (176.00 KB)\n",
      "Trainable params: 45057 (176.00 KB)\n",
      "Non-trainable params: 0 (0.00 Byte)\n",
      "_________________________________________________________________\n"
     ]
    }
   ],
   "source": [
    "from tensorflow import keras\n",
    "from keras.models import Sequential\n",
    "from keras.layers import Dense\n",
    "from sklearn.model_selection import GridSearchCV\n",
    "from scikeras.wrappers import KerasRegressor\n",
    "from joblib import dump, load\n",
    "import os\n",
    "\n",
    "# Define the model\n",
    "def buildModel(input_dim, units1=256, units2=128, units3=64, units4=32, units5=16):\n",
    "    model = Sequential()\n",
    "    model.add(Dense(units1, input_dim=input_dim, activation='relu'))\n",
    "    model.add(Dense(units2, activation='relu'))\n",
    "    model.add(Dense(units3, activation='relu'))\n",
    "    model.add(Dense(units4, activation='relu'))\n",
    "    model.add(Dense(units5, activation='relu'))\n",
    "    model.add(Dense(1, activation='linear'))\n",
    "    model.compile(loss='mean_squared_error', optimizer='adam', metrics=['mae'])\n",
    "    return model\n",
    "\n",
    "# Define grid search parameters for hyperparameter tuning (modify as needed)\n",
    "param_grid = {\n",
    "    'epochs': [100], # [50, 100, 150],\n",
    "    'batch_size': [128], # [32, 64, 128],\n",
    "    'units1': [256], # [128, 256, 512],\n",
    "    'units2': [128], # [64, 128, 256],\n",
    "    'units3': [64], # [32, 64, 128],\n",
    "    'units4': [32], # [16, 32, 64],\n",
    "    'units5': [16] # [8, 16, 32]\n",
    "}\n",
    "\n",
    "model_example = buildModel(X_train1.shape[1])\n",
    "model_example.summary()"
   ]
  },
  {
   "cell_type": "markdown",
   "id": "d8494c3a",
   "metadata": {},
   "source": [
    "#### Full Dataset"
   ]
  },
  {
   "cell_type": "code",
   "execution_count": 9,
   "id": "d798e18f",
   "metadata": {},
   "outputs": [
    {
     "name": "stdout",
     "output_type": "stream",
     "text": [
      "Fitting 3 folds for each of 1 candidates, totalling 3 fits\n",
      "[CV 1/3] END batch_size=128, epochs=100, units1=256, units2=128, units3=64, units4=32, units5=16;, score=0.642 total time= 2.6min\n",
      "[CV 2/3] END batch_size=128, epochs=100, units1=256, units2=128, units3=64, units4=32, units5=16;, score=0.646 total time= 3.1min\n",
      "[CV 3/3] END batch_size=128, epochs=100, units1=256, units2=128, units3=64, units4=32, units5=16;, score=0.645 total time= 2.8min\n",
      "Best: 0.6439659454219698 using {'batch_size': 128, 'epochs': 100, 'units1': 256, 'units2': 128, 'units3': 64, 'units4': 32, 'units5': 16}\n",
      "INFO:tensorflow:Assets written to: C:\\Users\\ryanc\\AppData\\Local\\Temp\\tmp16r_kq4v\\assets\n"
     ]
    },
    {
     "name": "stderr",
     "output_type": "stream",
     "text": [
      "INFO:tensorflow:Assets written to: C:\\Users\\ryanc\\AppData\\Local\\Temp\\tmp16r_kq4v\\assets\n"
     ]
    }
   ],
   "source": [
    "if (not os.path.exists('gridsearch/ANN_fulldata.joblib')):\n",
    "\n",
    "    # Create a KerasRegressor\n",
    "    regressor_fulldata = KerasRegressor(model=buildModel, input_dim=X_train1.shape[1], verbose=0, epochs=100, batch_size=128, units1=256, units2=128, units3=64, units4=32, units5=16)\n",
    "\n",
    "    # Create a GridSearchCV and fit the model\n",
    "    grid_fulldata = GridSearchCV(estimator=regressor_fulldata, param_grid=param_grid, cv=3, verbose=3)\n",
    "    grid_result_fulldata = grid_fulldata.fit(X_train1, y_train1)\n",
    "\n",
    "    # Summarize results\n",
    "    print(f\"Best: {grid_result_fulldata.best_score_} using {grid_result_fulldata.best_params_}\")\n",
    "\n",
    "    # Save grid_result to a file\n",
    "    dump(grid_result_fulldata, 'gridsearch/ANN_fulldata.joblib')\n",
    "\n",
    "else:\n",
    "    # Load grid_result from a file\n",
    "    grid_result_fulldata = load('gridsearch/ANN_fulldata.joblib')\n",
    "\n",
    "    # Summarize results\n",
    "    print(f\"Best: {grid_result_fulldata.best_score_} using {grid_result_fulldata.best_params_}\")"
   ]
  },
  {
   "cell_type": "code",
   "execution_count": 10,
   "id": "fe51a4de",
   "metadata": {},
   "outputs": [
    {
     "name": "stdout",
     "output_type": "stream",
     "text": [
      "Test MAE: 0.6383781021217358\n"
     ]
    }
   ],
   "source": [
    "# Load and evaluate the model with the test data using the best hyperparameters\n",
    "grid_result_fulldata = load('gridsearch/ANN_fulldata.joblib')\n",
    "test_score = grid_result_fulldata.score(X_test1, y_test1)\n",
    "print(f\"Test MAE: {test_score}\")"
   ]
  },
  {
   "cell_type": "markdown",
   "id": "ce5421df",
   "metadata": {},
   "source": [
    "#### Pre-COVID Dataset"
   ]
  },
  {
   "cell_type": "code",
   "execution_count": 11,
   "id": "e96dea06",
   "metadata": {},
   "outputs": [
    {
     "name": "stdout",
     "output_type": "stream",
     "text": [
      "Fitting 3 folds for each of 1 candidates, totalling 3 fits\n",
      "[CV 1/3] END batch_size=128, epochs=100, units1=256, units2=128, units3=64, units4=32, units5=16;, score=0.659 total time=  43.3s\n",
      "[CV 2/3] END batch_size=128, epochs=100, units1=256, units2=128, units3=64, units4=32, units5=16;, score=0.658 total time=  48.3s\n",
      "[CV 3/3] END batch_size=128, epochs=100, units1=256, units2=128, units3=64, units4=32, units5=16;, score=0.657 total time= 1.1min\n",
      "Best: 0.6583594351858717 using {'batch_size': 128, 'epochs': 100, 'units1': 256, 'units2': 128, 'units3': 64, 'units4': 32, 'units5': 16}\n",
      "INFO:tensorflow:Assets written to: C:\\Users\\ryanc\\AppData\\Local\\Temp\\tmp0f56jrzi\\assets\n"
     ]
    },
    {
     "name": "stderr",
     "output_type": "stream",
     "text": [
      "INFO:tensorflow:Assets written to: C:\\Users\\ryanc\\AppData\\Local\\Temp\\tmp0f56jrzi\\assets\n"
     ]
    }
   ],
   "source": [
    "if (not os.path.exists('gridsearch/ANN_precovid.joblib')):\n",
    "\n",
    "    # Create a KerasRegressor\n",
    "    regressor_precovid = KerasRegressor(model=buildModel, input_dim=X_train2.shape[1], verbose=0, epochs=100, batch_size=128, units1=256, units2=128, units3=64, units4=32, units5=16)\n",
    "\n",
    "    # Create a GridSearchCV and fit the model\n",
    "    grid_precovid = GridSearchCV(estimator=regressor_precovid, param_grid=param_grid, cv=3, verbose=3)\n",
    "    grid_result_precovid = grid_precovid.fit(X_train2, y_train2)\n",
    "\n",
    "    # Summarize results\n",
    "    print(f\"Best: {grid_result_precovid.best_score_} using {grid_result_precovid.best_params_}\")\n",
    "\n",
    "    # Save best model\n",
    "    dump(grid_result_precovid, 'gridsearch/ANN_precovid.joblib')\n",
    "\n",
    "else:\n",
    "    # Load grid_result from a file\n",
    "    grid_result_precovid = load('gridsearch/ANN_precovid.joblib')\n",
    "\n",
    "    # Summarize results\n",
    "    print(f\"Best: {grid_result_precovid.best_score_} using {grid_result_precovid.best_params_}\")"
   ]
  },
  {
   "cell_type": "code",
   "execution_count": 12,
   "id": "1ccf1a48",
   "metadata": {},
   "outputs": [
    {
     "name": "stdout",
     "output_type": "stream",
     "text": [
      "Test MAE: 0.6633361317002339\n"
     ]
    }
   ],
   "source": [
    "# Load and evaluate the model with the test data using the best hyperparameters\n",
    "grid_result_precovid = load('gridsearch/ANN_precovid.joblib')\n",
    "test_score = grid_result_precovid.score(X_test2, y_test2)\n",
    "print(f\"Test MAE: {test_score}\")"
   ]
  },
  {
   "cell_type": "markdown",
   "id": "0fe27b91",
   "metadata": {},
   "source": [
    "#### Post-COVID Dataset"
   ]
  },
  {
   "cell_type": "code",
   "execution_count": 13,
   "id": "1e61ce76",
   "metadata": {},
   "outputs": [
    {
     "name": "stdout",
     "output_type": "stream",
     "text": [
      "Fitting 3 folds for each of 1 candidates, totalling 3 fits\n",
      "[CV 1/3] END batch_size=128, epochs=100, units1=256, units2=128, units3=64, units4=32, units5=16;, score=0.657 total time= 2.1min\n",
      "[CV 2/3] END batch_size=128, epochs=100, units1=256, units2=128, units3=64, units4=32, units5=16;, score=0.647 total time= 2.0min\n",
      "[CV 3/3] END batch_size=128, epochs=100, units1=256, units2=128, units3=64, units4=32, units5=16;, score=0.650 total time= 1.7min\n",
      "Best: 0.6512843102573611 using {'batch_size': 128, 'epochs': 100, 'units1': 256, 'units2': 128, 'units3': 64, 'units4': 32, 'units5': 16}\n",
      "INFO:tensorflow:Assets written to: C:\\Users\\ryanc\\AppData\\Local\\Temp\\tmpcyyhti8s\\assets\n"
     ]
    },
    {
     "name": "stderr",
     "output_type": "stream",
     "text": [
      "INFO:tensorflow:Assets written to: C:\\Users\\ryanc\\AppData\\Local\\Temp\\tmpcyyhti8s\\assets\n"
     ]
    }
   ],
   "source": [
    "if (not os.path.exists('gridsearch/ANN_postcovid.joblib')):\n",
    "\n",
    "    # Create a KerasRegressor\n",
    "    regressor_postcovid = KerasRegressor(model=buildModel, input_dim=X_train3.shape[1], verbose=0, epochs=100, batch_size=128, units1=256, units2=128, units3=64, units4=32, units5=16)\n",
    "\n",
    "    # Create a GridSearchCV and fit the model\n",
    "    grid_postcovid = GridSearchCV(estimator=regressor_postcovid, param_grid=param_grid, cv=3, verbose=3)\n",
    "    grid_result_postcovid = grid_postcovid.fit(X_train3, y_train3)\n",
    "\n",
    "    # Summarize results\n",
    "    print(f\"Best: {grid_result_postcovid.best_score_} using {grid_result_postcovid.best_params_}\")\n",
    "\n",
    "    # Save best model\n",
    "    dump(grid_result_postcovid, 'gridsearch/ANN_postcovid.joblib')\n",
    "\n",
    "else:\n",
    "    # Load grid_result from a file\n",
    "    grid_result_postcovid = load('gridsearch/ANN_postcovid.joblib')\n",
    "\n",
    "    # Summarize results\n",
    "    print(f\"Best: {grid_result_postcovid.best_score_} using {grid_result_postcovid.best_params_}\")"
   ]
  },
  {
   "cell_type": "code",
   "execution_count": 14,
   "id": "d25916a0",
   "metadata": {},
   "outputs": [
    {
     "name": "stdout",
     "output_type": "stream",
     "text": [
      "Test MAE: 0.6694498646436006\n"
     ]
    }
   ],
   "source": [
    "# Load and evaluate the model with the test data using the best hyperparameters\n",
    "grid_result_postcovid = load('gridsearch/ANN_postcovid.joblib')\n",
    "test_score = grid_result_postcovid.score(X_test3, y_test3)\n",
    "print(f\"Test MAE: {test_score}\")"
   ]
  },
  {
   "cell_type": "markdown",
   "id": "382e1af7",
   "metadata": {},
   "source": [
    "### Comparing Models"
   ]
  },
  {
   "cell_type": "code",
   "execution_count": 15,
   "id": "1c2cc294",
   "metadata": {},
   "outputs": [
    {
     "data": {
      "image/png": "[encoded data removed]",
      "text/plain": [
       "<Figure size 432x288 with 1 Axes>"
      ]
     },
     "metadata": {
      "needs_background": "light"
     },
     "output_type": "display_data"
    },
    {
     "data": {
      "image/png": "[encoded data removed]",
      "text/plain": [
       "<Figure size 432x288 with 1 Axes>"
      ]
     },
     "metadata": {
      "needs_background": "light"
     },
     "output_type": "display_data"
    },
    {
     "data": {
      "image/png": "[encoded data removed]",
      "text/plain": [
       "<Figure size 432x288 with 1 Axes>"
      ]
     },
     "metadata": {
      "needs_background": "light"
     },
     "output_type": "display_data"
    },
    {
     "name": "stdout",
     "output_type": "stream",
     "text": [
      "(Full) Correlation coefficient: 0.8013077652388323\n",
      "(Precovid) Correlation coefficient: 0.81486167841057\n",
      "(Postcovid) Correlation coefficient: 0.8186725835930843\n",
      "--------------------------------------------------\n",
      "(Full) R2 score: 0.6383781021217358\n",
      "(Precovid) R2 score: 0.6633361317002339\n",
      "(Postcovid) R2 score: 0.6694498646436006\n"
     ]
    }
   ],
   "source": [
    "# Predict the adjusted price\n",
    "y_pred_fulldata = grid_result_fulldata.predict(X_test1)\n",
    "y_pred_precovid = grid_result_precovid.predict(X_test2)\n",
    "y_pred_postcovid = grid_result_postcovid.predict(X_test3)\n",
    "\n",
    "# Plot the predicted adjusted price against the actual adjusted price\n",
    "plt.scatter(y_test1, y_pred_fulldata, label='Full dataset')\n",
    "plt.xlabel('Actual adjusted price')\n",
    "plt.ylabel('Predicted adjusted price')\n",
    "plt.legend()\n",
    "plt.show()\n",
    "\n",
    "plt.scatter(y_test2, y_pred_precovid, label='Precovid dataset')\n",
    "plt.xlabel('Actual adjusted price')\n",
    "plt.ylabel('Predicted adjusted price')\n",
    "plt.legend()\n",
    "plt.show()\n",
    "\n",
    "plt.scatter(y_test3, y_pred_postcovid, label='Postcovid dataset')\n",
    "plt.xlabel('Actual adjusted price')\n",
    "plt.ylabel('Predicted adjusted price')\n",
    "plt.legend()\n",
    "plt.show()\n",
    "\n",
    "# Calculate the correlation coefficient\n",
    "correlation_fulldata = np.corrcoef(y_test1, y_pred_fulldata.flatten())[0, 1]\n",
    "correlation_precovid = np.corrcoef(y_test2, y_pred_precovid.flatten())[0, 1]\n",
    "correlation_postcovid = np.corrcoef(y_test3, y_pred_postcovid.flatten())[0, 1]\n",
    "\n",
    "print('(Full) Correlation coefficient:', correlation_fulldata)\n",
    "print('(Precovid) Correlation coefficient:', correlation_precovid)\n",
    "print('(Postcovid) Correlation coefficient:', correlation_postcovid)\n",
    "\n",
    "# Calculate r2 score\n",
    "from sklearn.metrics import r2_score\n",
    "r2_fulldata = r2_score(y_test1, y_pred_fulldata)\n",
    "r2_precovid = r2_score(y_test2, y_pred_precovid)\n",
    "r2_postcovid = r2_score(y_test3, y_pred_postcovid)\n",
    "print('-'*50)\n",
    "print('(Full) R2 score:', r2_fulldata)\n",
    "print('(Precovid) R2 score:', r2_precovid)\n",
    "print('(Postcovid) R2 score:', r2_postcovid)"
   ]
  }
 ],
 "metadata": {
  "kernelspec": {
   "display_name": "Python 3 (ipykernel)",
   "language": "python",
   "name": "python3"
  },
  "language_info": {
   "codemirror_mode": {
    "name": "ipython",
    "version": 3
   },
   "file_extension": ".py",
   "mimetype": "text/x-python",
   "name": "python",
   "nbconvert_exporter": "python",
   "pygments_lexer": "ipython3",
   "version": "3.8.8"
  }
 },
 "nbformat": 4,
 "nbformat_minor": 5
}
