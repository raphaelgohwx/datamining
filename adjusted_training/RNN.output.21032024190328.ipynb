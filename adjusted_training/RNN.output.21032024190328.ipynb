{
 "cells": [
  {
   "cell_type": "markdown",
   "id": "e3935bed",
   "metadata": {
    "papermill": {
     "duration": 0.007026,
     "end_time": "2024-03-21T11:03:35.355790",
     "exception": false,
     "start_time": "2024-03-21T11:03:35.348764",
     "status": "completed"
    },
    "tags": []
   },
   "source": [
    "## EDA (Condensed)"
   ]
  },
  {
   "cell_type": "code",
   "execution_count": 1,
   "id": "ed844ca6-9546-4823-b768-20e32a3f554e",
   "metadata": {
    "execution": {
     "iopub.execute_input": "2024-03-21T11:03:35.438977Z",
     "iopub.status.busy": "2024-03-21T11:03:35.438555Z",
     "iopub.status.idle": "2024-03-21T11:03:45.546162Z",
     "shell.execute_reply": "2024-03-21T11:03:45.545617Z"
    },
    "papermill": {
     "duration": 10.129762,
     "end_time": "2024-03-21T11:03:45.547498",
     "exception": false,
     "start_time": "2024-03-21T11:03:35.417736",
     "status": "completed"
    },
    "tags": []
   },
   "outputs": [
    {
     "name": "stdout",
     "output_type": "stream",
     "text": [
      "Requirement already satisfied: pandas in ./jupyterlab-venv-tf-py311/lib/python3.11/site-packages (2.2.1)\r\n"
     ]
    },
    {
     "name": "stdout",
     "output_type": "stream",
     "text": [
      "Requirement already satisfied: numpy<2,>=1.23.2 in ./jupyterlab-venv-tf-py311/lib/python3.11/site-packages (from pandas) (1.26.3)\r\n",
      "Requirement already satisfied: python-dateutil>=2.8.2 in ./jupyterlab-venv-tf-py311/lib/python3.11/site-packages (from pandas) (2.8.2)\r\n",
      "Requirement already satisfied: pytz>=2020.1 in ./jupyterlab-venv-tf-py311/lib/python3.11/site-packages (from pandas) (2024.1)\r\n",
      "Requirement already satisfied: tzdata>=2022.7 in ./jupyterlab-venv-tf-py311/lib/python3.11/site-packages (from pandas) (2024.1)\r\n",
      "Requirement already satisfied: six>=1.5 in ./jupyterlab-venv-tf-py311/lib/python3.11/site-packages (from python-dateutil>=2.8.2->pandas) (1.16.0)\r\n"
     ]
    },
    {
     "name": "stdout",
     "output_type": "stream",
     "text": [
      "\r\n",
      "\u001b[1m[\u001b[0m\u001b[34;49mnotice\u001b[0m\u001b[1;39;49m]\u001b[0m\u001b[39;49m A new release of pip is available: \u001b[0m\u001b[31;49m23.3.2\u001b[0m\u001b[39;49m -> \u001b[0m\u001b[32;49m24.0\u001b[0m\r\n",
      "\u001b[1m[\u001b[0m\u001b[34;49mnotice\u001b[0m\u001b[1;39;49m]\u001b[0m\u001b[39;49m To update, run: \u001b[0m\u001b[32;49mpip install --upgrade pip\u001b[0m\r\n"
     ]
    },
    {
     "name": "stdout",
     "output_type": "stream",
     "text": [
      "Requirement already satisfied: matplotlib in ./jupyterlab-venv-tf-py311/lib/python3.11/site-packages (3.8.3)\r\n",
      "Requirement already satisfied: contourpy>=1.0.1 in ./jupyterlab-venv-tf-py311/lib/python3.11/site-packages (from matplotlib) (1.2.0)\r\n",
      "Requirement already satisfied: cycler>=0.10 in ./jupyterlab-venv-tf-py311/lib/python3.11/site-packages (from matplotlib) (0.12.1)\r\n",
      "Requirement already satisfied: fonttools>=4.22.0 in ./jupyterlab-venv-tf-py311/lib/python3.11/site-packages (from matplotlib) (4.50.0)\r\n",
      "Requirement already satisfied: kiwisolver>=1.3.1 in ./jupyterlab-venv-tf-py311/lib/python3.11/site-packages (from matplotlib) (1.4.5)\r\n",
      "Requirement already satisfied: numpy<2,>=1.21 in ./jupyterlab-venv-tf-py311/lib/python3.11/site-packages (from matplotlib) (1.26.3)\r\n",
      "Requirement already satisfied: packaging>=20.0 in ./jupyterlab-venv-tf-py311/lib/python3.11/site-packages (from matplotlib) (23.2)\r\n",
      "Requirement already satisfied: pillow>=8 in ./jupyterlab-venv-tf-py311/lib/python3.11/site-packages (from matplotlib) (10.2.0)\r\n",
      "Requirement already satisfied: pyparsing>=2.3.1 in ./jupyterlab-venv-tf-py311/lib/python3.11/site-packages (from matplotlib) (3.1.2)\r\n",
      "Requirement already satisfied: python-dateutil>=2.7 in ./jupyterlab-venv-tf-py311/lib/python3.11/site-packages (from matplotlib) (2.8.2)\r\n"
     ]
    },
    {
     "name": "stdout",
     "output_type": "stream",
     "text": [
      "Requirement already satisfied: six>=1.5 in ./jupyterlab-venv-tf-py311/lib/python3.11/site-packages (from python-dateutil>=2.7->matplotlib) (1.16.0)\r\n"
     ]
    },
    {
     "name": "stdout",
     "output_type": "stream",
     "text": [
      "\r\n",
      "\u001b[1m[\u001b[0m\u001b[34;49mnotice\u001b[0m\u001b[1;39;49m]\u001b[0m\u001b[39;49m A new release of pip is available: \u001b[0m\u001b[31;49m23.3.2\u001b[0m\u001b[39;49m -> \u001b[0m\u001b[32;49m24.0\u001b[0m\r\n",
      "\u001b[1m[\u001b[0m\u001b[34;49mnotice\u001b[0m\u001b[1;39;49m]\u001b[0m\u001b[39;49m To update, run: \u001b[0m\u001b[32;49mpip install --upgrade pip\u001b[0m\r\n"
     ]
    },
    {
     "name": "stdout",
     "output_type": "stream",
     "text": [
      "Requirement already satisfied: seaborn in ./jupyterlab-venv-tf-py311/lib/python3.11/site-packages (0.13.2)\r\n",
      "Requirement already satisfied: numpy!=1.24.0,>=1.20 in ./jupyterlab-venv-tf-py311/lib/python3.11/site-packages (from seaborn) (1.26.3)\r\n",
      "Requirement already satisfied: pandas>=1.2 in ./jupyterlab-venv-tf-py311/lib/python3.11/site-packages (from seaborn) (2.2.1)\r\n",
      "Requirement already satisfied: matplotlib!=3.6.1,>=3.4 in ./jupyterlab-venv-tf-py311/lib/python3.11/site-packages (from seaborn) (3.8.3)\r\n"
     ]
    },
    {
     "name": "stdout",
     "output_type": "stream",
     "text": [
      "Requirement already satisfied: contourpy>=1.0.1 in ./jupyterlab-venv-tf-py311/lib/python3.11/site-packages (from matplotlib!=3.6.1,>=3.4->seaborn) (1.2.0)\r\n",
      "Requirement already satisfied: cycler>=0.10 in ./jupyterlab-venv-tf-py311/lib/python3.11/site-packages (from matplotlib!=3.6.1,>=3.4->seaborn) (0.12.1)\r\n",
      "Requirement already satisfied: fonttools>=4.22.0 in ./jupyterlab-venv-tf-py311/lib/python3.11/site-packages (from matplotlib!=3.6.1,>=3.4->seaborn) (4.50.0)\r\n",
      "Requirement already satisfied: kiwisolver>=1.3.1 in ./jupyterlab-venv-tf-py311/lib/python3.11/site-packages (from matplotlib!=3.6.1,>=3.4->seaborn) (1.4.5)\r\n",
      "Requirement already satisfied: packaging>=20.0 in ./jupyterlab-venv-tf-py311/lib/python3.11/site-packages (from matplotlib!=3.6.1,>=3.4->seaborn) (23.2)\r\n",
      "Requirement already satisfied: pillow>=8 in ./jupyterlab-venv-tf-py311/lib/python3.11/site-packages (from matplotlib!=3.6.1,>=3.4->seaborn) (10.2.0)\r\n",
      "Requirement already satisfied: pyparsing>=2.3.1 in ./jupyterlab-venv-tf-py311/lib/python3.11/site-packages (from matplotlib!=3.6.1,>=3.4->seaborn) (3.1.2)\r\n",
      "Requirement already satisfied: python-dateutil>=2.7 in ./jupyterlab-venv-tf-py311/lib/python3.11/site-packages (from matplotlib!=3.6.1,>=3.4->seaborn) (2.8.2)\r\n"
     ]
    },
    {
     "name": "stdout",
     "output_type": "stream",
     "text": [
      "Requirement already satisfied: pytz>=2020.1 in ./jupyterlab-venv-tf-py311/lib/python3.11/site-packages (from pandas>=1.2->seaborn) (2024.1)\r\n",
      "Requirement already satisfied: tzdata>=2022.7 in ./jupyterlab-venv-tf-py311/lib/python3.11/site-packages (from pandas>=1.2->seaborn) (2024.1)\r\n"
     ]
    },
    {
     "name": "stdout",
     "output_type": "stream",
     "text": [
      "Requirement already satisfied: six>=1.5 in ./jupyterlab-venv-tf-py311/lib/python3.11/site-packages (from python-dateutil>=2.7->matplotlib!=3.6.1,>=3.4->seaborn) (1.16.0)\r\n"
     ]
    },
    {
     "name": "stdout",
     "output_type": "stream",
     "text": [
      "\r\n",
      "\u001b[1m[\u001b[0m\u001b[34;49mnotice\u001b[0m\u001b[1;39;49m]\u001b[0m\u001b[39;49m A new release of pip is available: \u001b[0m\u001b[31;49m23.3.2\u001b[0m\u001b[39;49m -> \u001b[0m\u001b[32;49m24.0\u001b[0m\r\n",
      "\u001b[1m[\u001b[0m\u001b[34;49mnotice\u001b[0m\u001b[1;39;49m]\u001b[0m\u001b[39;49m To update, run: \u001b[0m\u001b[32;49mpip install --upgrade pip\u001b[0m\r\n"
     ]
    },
    {
     "name": "stdout",
     "output_type": "stream",
     "text": [
      "Requirement already satisfied: scikit-learn in ./jupyterlab-venv-tf-py311/lib/python3.11/site-packages (1.4.1.post1)\r\n"
     ]
    },
    {
     "name": "stdout",
     "output_type": "stream",
     "text": [
      "Requirement already satisfied: numpy<2.0,>=1.19.5 in ./jupyterlab-venv-tf-py311/lib/python3.11/site-packages (from scikit-learn) (1.26.3)\r\n",
      "Requirement already satisfied: scipy>=1.6.0 in ./jupyterlab-venv-tf-py311/lib/python3.11/site-packages (from scikit-learn) (1.12.0)\r\n",
      "Requirement already satisfied: joblib>=1.2.0 in ./jupyterlab-venv-tf-py311/lib/python3.11/site-packages (from scikit-learn) (1.3.2)\r\n",
      "Requirement already satisfied: threadpoolctl>=2.0.0 in ./jupyterlab-venv-tf-py311/lib/python3.11/site-packages (from scikit-learn) (3.3.0)\r\n"
     ]
    },
    {
     "name": "stdout",
     "output_type": "stream",
     "text": [
      "\r\n",
      "\u001b[1m[\u001b[0m\u001b[34;49mnotice\u001b[0m\u001b[1;39;49m]\u001b[0m\u001b[39;49m A new release of pip is available: \u001b[0m\u001b[31;49m23.3.2\u001b[0m\u001b[39;49m -> \u001b[0m\u001b[32;49m24.0\u001b[0m\r\n",
      "\u001b[1m[\u001b[0m\u001b[34;49mnotice\u001b[0m\u001b[1;39;49m]\u001b[0m\u001b[39;49m To update, run: \u001b[0m\u001b[32;49mpip install --upgrade pip\u001b[0m\r\n"
     ]
    },
    {
     "name": "stdout",
     "output_type": "stream",
     "text": [
      "Requirement already satisfied: scikeras in ./jupyterlab-venv-tf-py311/lib/python3.11/site-packages (0.12.0)\r\n",
      "Requirement already satisfied: packaging>=0.21 in ./jupyterlab-venv-tf-py311/lib/python3.11/site-packages (from scikeras) (23.2)\r\n",
      "Requirement already satisfied: scikit-learn>=1.0.0 in ./jupyterlab-venv-tf-py311/lib/python3.11/site-packages (from scikeras) (1.4.1.post1)\r\n"
     ]
    },
    {
     "name": "stdout",
     "output_type": "stream",
     "text": [
      "Requirement already satisfied: numpy<2.0,>=1.19.5 in ./jupyterlab-venv-tf-py311/lib/python3.11/site-packages (from scikit-learn>=1.0.0->scikeras) (1.26.3)\r\n",
      "Requirement already satisfied: scipy>=1.6.0 in ./jupyterlab-venv-tf-py311/lib/python3.11/site-packages (from scikit-learn>=1.0.0->scikeras) (1.12.0)\r\n",
      "Requirement already satisfied: joblib>=1.2.0 in ./jupyterlab-venv-tf-py311/lib/python3.11/site-packages (from scikit-learn>=1.0.0->scikeras) (1.3.2)\r\n",
      "Requirement already satisfied: threadpoolctl>=2.0.0 in ./jupyterlab-venv-tf-py311/lib/python3.11/site-packages (from scikit-learn>=1.0.0->scikeras) (3.3.0)\r\n"
     ]
    },
    {
     "name": "stdout",
     "output_type": "stream",
     "text": [
      "\r\n",
      "\u001b[1m[\u001b[0m\u001b[34;49mnotice\u001b[0m\u001b[1;39;49m]\u001b[0m\u001b[39;49m A new release of pip is available: \u001b[0m\u001b[31;49m23.3.2\u001b[0m\u001b[39;49m -> \u001b[0m\u001b[32;49m24.0\u001b[0m\r\n",
      "\u001b[1m[\u001b[0m\u001b[34;49mnotice\u001b[0m\u001b[1;39;49m]\u001b[0m\u001b[39;49m To update, run: \u001b[0m\u001b[32;49mpip install --upgrade pip\u001b[0m\r\n"
     ]
    },
    {
     "name": "stdout",
     "output_type": "stream",
     "text": [
      "You are allocated NVIDIA GeForce RTX 3090 on lava\r\n",
      "You are using GPU 2\r\n"
     ]
    }
   ],
   "source": [
    "!pip3 install pandas\n",
    "!pip3 install matplotlib\n",
    "!pip3 install seaborn\n",
    "!pip3 install scikit-learn\n",
    "!pip3 install scikeras\n",
    "!whichgpu"
   ]
  },
  {
   "cell_type": "code",
   "execution_count": 2,
   "id": "815eabea",
   "metadata": {
    "execution": {
     "iopub.execute_input": "2024-03-21T11:03:45.569950Z",
     "iopub.status.busy": "2024-03-21T11:03:45.569709Z",
     "iopub.status.idle": "2024-03-21T11:03:46.960368Z",
     "shell.execute_reply": "2024-03-21T11:03:46.959885Z"
    },
    "papermill": {
     "duration": 1.406577,
     "end_time": "2024-03-21T11:03:46.961530",
     "exception": false,
     "start_time": "2024-03-21T11:03:45.554953",
     "status": "completed"
    },
    "tags": []
   },
   "outputs": [
    {
     "name": "stderr",
     "output_type": "stream",
     "text": [
      "/common/home/users/r/ryanlim.2021/tmp/ipykernel_392020/4248652671.py:32: SettingWithCopyWarning: \n",
      "A value is trying to be set on a copy of a slice from a DataFrame.\n",
      "Try using .loc[row_indexer,col_indexer] = value instead\n",
      "\n",
      "See the caveats in the documentation: https://pandas.pydata.org/pandas-docs/stable/user_guide/indexing.html#returning-a-view-versus-a-copy\n",
      "  df_cleaned['remaining_lease_years'] = df['remaining_lease'].apply(convert_lease_to_int)\n",
      "/common/home/users/r/ryanlim.2021/tmp/ipykernel_392020/4248652671.py:36: SettingWithCopyWarning: \n",
      "A value is trying to be set on a copy of a slice from a DataFrame.\n",
      "Try using .loc[row_indexer,col_indexer] = value instead\n",
      "\n",
      "See the caveats in the documentation: https://pandas.pydata.org/pandas-docs/stable/user_guide/indexing.html#returning-a-view-versus-a-copy\n",
      "  df_cleaned['flat_type_encoded'] = labelencoder.fit_transform(df_cleaned['flat_type'])\n",
      "/common/home/users/r/ryanlim.2021/tmp/ipykernel_392020/4248652671.py:37: SettingWithCopyWarning: \n",
      "A value is trying to be set on a copy of a slice from a DataFrame.\n",
      "Try using .loc[row_indexer,col_indexer] = value instead\n",
      "\n",
      "See the caveats in the documentation: https://pandas.pydata.org/pandas-docs/stable/user_guide/indexing.html#returning-a-view-versus-a-copy\n",
      "  df_cleaned['storey_range_encoded'] = labelencoder.fit_transform(df_cleaned['storey_range'])\n"
     ]
    }
   ],
   "source": [
    "import pandas as pd\n",
    "import matplotlib.pyplot as plt\n",
    "import seaborn as sns\n",
    "from sklearn.preprocessing import StandardScaler\n",
    "from sklearn.preprocessing import LabelEncoder\n",
    "import matplotlib.pyplot as plt\n",
    "import numpy as np\n",
    "import scipy.stats as stats\n",
    "from sklearn.model_selection import train_test_split \n",
    "\n",
    "df = pd.read_csv(\"completed_flat_price_2017_2023.csv\")\n",
    "df['date'] = pd.to_datetime(df['month'], format='%Y-%m')\n",
    "\n",
    "# pre processing:\n",
    "# removing outliers (3std away) for resale_price\n",
    "def three_sd_range(series):\n",
    "    mean = series.mean()\n",
    "    sd = series.std()\n",
    "    low = mean - 3*sd\n",
    "    high = mean + 3*sd\n",
    "    return (low, high)\n",
    "\n",
    "lower, upper = three_sd_range(df[\"resale_price\"])\n",
    "df_cleaned  = df[ (df.resale_price >= lower) & (df.resale_price <= upper) ]\n",
    "\n",
    "# converting remaining_lease to int format:\n",
    "def convert_lease_to_int(lease_str):\n",
    "    parts = lease_str.split()\n",
    "    years = int(parts[0])\n",
    "    return years\n",
    "\n",
    "df_cleaned['remaining_lease_years'] = df['remaining_lease'].apply(convert_lease_to_int)\n",
    "\n",
    "# encoding flat_type and storey_range to ordinal data:\n",
    "labelencoder = LabelEncoder()\n",
    "df_cleaned['flat_type_encoded'] = labelencoder.fit_transform(df_cleaned['flat_type'])\n",
    "df_cleaned['storey_range_encoded'] = labelencoder.fit_transform(df_cleaned['storey_range'])\n"
   ]
  },
  {
   "cell_type": "markdown",
   "id": "0124dc43",
   "metadata": {
    "papermill": {
     "duration": 0.024986,
     "end_time": "2024-03-21T11:03:46.993678",
     "exception": false,
     "start_time": "2024-03-21T11:03:46.968692",
     "status": "completed"
    },
    "tags": []
   },
   "source": [
    "#### Inflation using CPI"
   ]
  },
  {
   "cell_type": "code",
   "execution_count": 3,
   "id": "6e082309",
   "metadata": {
    "execution": {
     "iopub.execute_input": "2024-03-21T11:03:47.027932Z",
     "iopub.status.busy": "2024-03-21T11:03:47.027692Z",
     "iopub.status.idle": "2024-03-21T11:03:47.037253Z",
     "shell.execute_reply": "2024-03-21T11:03:47.036773Z"
    },
    "papermill": {
     "duration": 0.040173,
     "end_time": "2024-03-21T11:03:47.050214",
     "exception": false,
     "start_time": "2024-03-21T11:03:47.010041",
     "status": "completed"
    },
    "tags": []
   },
   "outputs": [
    {
     "name": "stdout",
     "output_type": "stream",
     "text": [
      "   Year      CPI  Inflation Rate\n",
      "6  2017   99.004        0.000000\n",
      "5  2018   99.438        0.438366\n",
      "4  2019  100.000        0.565176\n",
      "3  2020   99.818       -0.182000\n",
      "2  2021  102.119        2.305195\n",
      "1  2022  108.370        6.121290\n",
      "0  2023  113.595        4.821445\n"
     ]
    }
   ],
   "source": [
    "# Read the CSV file. The header is in the first row by default.\n",
    "inflation_rate = pd.read_csv('annual_CPI.csv')\n",
    "\n",
    "# Transpose the DataFrame so that years become the index\n",
    "inflation_rate = inflation_rate.transpose().reset_index()\n",
    "inflation_rate.columns = ['Year', 'CPI']  # Renaming the columns\n",
    "inflation_rate.sort_index(ascending=False, inplace=True)\n",
    "\n",
    "# Convert 'Year' to integer and 'CPI' to float\n",
    "inflation_rate['Year'] = inflation_rate['Year'].astype(int)\n",
    "inflation_rate['CPI'] = inflation_rate['CPI'].astype(float)\n",
    "\n",
    "# Calculate the inflation rate\n",
    "inflation_rate['Inflation Rate'] = inflation_rate['CPI'].diff() / inflation_rate['CPI'].shift(1) * 100\n",
    "\n",
    "# Setting the inflation rate for the base year (the first year) to 0%\n",
    "inflation_rate.iloc[0, inflation_rate.columns.get_loc('Inflation Rate')] = 0\n",
    "\n",
    "# Display the DataFrame\n",
    "print(inflation_rate)"
   ]
  },
  {
   "cell_type": "markdown",
   "id": "bfd0542c",
   "metadata": {
    "papermill": {
     "duration": 0.059929,
     "end_time": "2024-03-21T11:03:47.128304",
     "exception": false,
     "start_time": "2024-03-21T11:03:47.068375",
     "status": "completed"
    },
    "tags": []
   },
   "source": [
    "#### Calculating adjusted price with inflation"
   ]
  },
  {
   "cell_type": "code",
   "execution_count": 4,
   "id": "d94bedcd",
   "metadata": {
    "execution": {
     "iopub.execute_input": "2024-03-21T11:03:47.258420Z",
     "iopub.status.busy": "2024-03-21T11:03:47.258133Z",
     "iopub.status.idle": "2024-03-21T11:03:47.308766Z",
     "shell.execute_reply": "2024-03-21T11:03:47.308317Z"
    },
    "papermill": {
     "duration": 0.148629,
     "end_time": "2024-03-21T11:03:47.309692",
     "exception": false,
     "start_time": "2024-03-21T11:03:47.161063",
     "status": "completed"
    },
    "tags": []
   },
   "outputs": [
    {
     "name": "stderr",
     "output_type": "stream",
     "text": [
      "/common/home/users/r/ryanlim.2021/tmp/ipykernel_392020/3769391537.py:2: SettingWithCopyWarning: \n",
      "A value is trying to be set on a copy of a slice from a DataFrame.\n",
      "Try using .loc[row_indexer,col_indexer] = value instead\n",
      "\n",
      "See the caveats in the documentation: https://pandas.pydata.org/pandas-docs/stable/user_guide/indexing.html#returning-a-view-versus-a-copy\n",
      "  df_cleaned['year'] = pd.to_datetime(df_cleaned['month']).dt.year\n"
     ]
    }
   ],
   "source": [
    "# Add a 'year' column to df2 by converting 'month' to datetime and extracting the year\n",
    "df_cleaned['year'] = pd.to_datetime(df_cleaned['month']).dt.year\n",
    "\n",
    "# Merge df2 with the inflation_rate DataFrame on the 'year' column\n",
    "# Make sure the inflation_rate DataFrame has 'Year' and 'Inflation Rate' columns\n",
    "df_cleaned = df_cleaned.merge(inflation_rate, left_on='year', right_on='Year', how='left')\n",
    "\n",
    "# Calculate the adjusted_price\n",
    "df_cleaned['adjusted_price'] = round(df_cleaned['resale_price'] * (1 + df_cleaned['Inflation Rate'] / 100),2)\n",
    "\n",
    "# Since we only need the adjusted_price, drop the extra columns\n",
    "df_cleaned.drop(columns=['Year', 'Inflation Rate', 'year'], inplace=True)\n",
    "\n",
    "# extracting features:\n",
    "df2= df_cleaned[['month','town', \n",
    "                 'flat_type', 'flat_type_encoded',\n",
    "                 'storey_range', 'storey_range_encoded',\n",
    "                 'floor_area_sqm', 'remaining_lease_years', 'full_address', 'adjusted_price']]"
   ]
  },
  {
   "cell_type": "markdown",
   "id": "818f59b8",
   "metadata": {
    "papermill": {
     "duration": 0.01382,
     "end_time": "2024-03-21T11:03:47.331794",
     "exception": false,
     "start_time": "2024-03-21T11:03:47.317974",
     "status": "completed"
    },
    "tags": []
   },
   "source": [
    "#### Normalisation of continuous variables \n",
    "Floor area, remaining lease years, resale price"
   ]
  },
  {
   "cell_type": "code",
   "execution_count": 5,
   "id": "cca7e22e",
   "metadata": {
    "execution": {
     "iopub.execute_input": "2024-03-21T11:03:47.354975Z",
     "iopub.status.busy": "2024-03-21T11:03:47.354754Z",
     "iopub.status.idle": "2024-03-21T11:03:47.892324Z",
     "shell.execute_reply": "2024-03-21T11:03:47.891816Z"
    },
    "papermill": {
     "duration": 0.554356,
     "end_time": "2024-03-21T11:03:47.893371",
     "exception": false,
     "start_time": "2024-03-21T11:03:47.339015",
     "status": "completed"
    },
    "tags": []
   },
   "outputs": [
    {
     "data": {
      "text/html": [
       "<div>\n",
       "<style scoped>\n",
       "    .dataframe tbody tr th:only-of-type {\n",
       "        vertical-align: middle;\n",
       "    }\n",
       "\n",
       "    .dataframe tbody tr th {\n",
       "        vertical-align: top;\n",
       "    }\n",
       "\n",
       "    .dataframe thead th {\n",
       "        text-align: right;\n",
       "    }\n",
       "</style>\n",
       "<table border=\"1\" class=\"dataframe\">\n",
       "  <thead>\n",
       "    <tr style=\"text-align: right;\">\n",
       "      <th></th>\n",
       "      <th>floor_area_sqm</th>\n",
       "      <th>remaining_lease_years</th>\n",
       "      <th>adjusted_price</th>\n",
       "      <th>flat_type_encoded</th>\n",
       "      <th>storey_range_encoded</th>\n",
       "      <th>year</th>\n",
       "      <th>ANG MO KIO</th>\n",
       "      <th>BEDOK</th>\n",
       "      <th>BISHAN</th>\n",
       "      <th>BUKIT BATOK</th>\n",
       "      <th>...</th>\n",
       "      <th>PASIR RIS</th>\n",
       "      <th>PUNGGOL</th>\n",
       "      <th>QUEENSTOWN</th>\n",
       "      <th>SEMBAWANG</th>\n",
       "      <th>SENGKANG</th>\n",
       "      <th>SERANGOON</th>\n",
       "      <th>TAMPINES</th>\n",
       "      <th>TOA PAYOH</th>\n",
       "      <th>WOODLANDS</th>\n",
       "      <th>YISHUN</th>\n",
       "    </tr>\n",
       "  </thead>\n",
       "  <tbody>\n",
       "    <tr>\n",
       "      <th>0</th>\n",
       "      <td>-2.225324</td>\n",
       "      <td>-0.969351</td>\n",
       "      <td>-1.537938</td>\n",
       "      <td>1</td>\n",
       "      <td>3</td>\n",
       "      <td>2017</td>\n",
       "      <td>1</td>\n",
       "      <td>0</td>\n",
       "      <td>0</td>\n",
       "      <td>0</td>\n",
       "      <td>...</td>\n",
       "      <td>0</td>\n",
       "      <td>0</td>\n",
       "      <td>0</td>\n",
       "      <td>0</td>\n",
       "      <td>0</td>\n",
       "      <td>0</td>\n",
       "      <td>0</td>\n",
       "      <td>0</td>\n",
       "      <td>0</td>\n",
       "      <td>0</td>\n",
       "    </tr>\n",
       "    <tr>\n",
       "      <th>1</th>\n",
       "      <td>-1.266810</td>\n",
       "      <td>-1.042624</td>\n",
       "      <td>-1.427477</td>\n",
       "      <td>2</td>\n",
       "      <td>0</td>\n",
       "      <td>2017</td>\n",
       "      <td>1</td>\n",
       "      <td>0</td>\n",
       "      <td>0</td>\n",
       "      <td>0</td>\n",
       "      <td>...</td>\n",
       "      <td>0</td>\n",
       "      <td>0</td>\n",
       "      <td>0</td>\n",
       "      <td>0</td>\n",
       "      <td>0</td>\n",
       "      <td>0</td>\n",
       "      <td>0</td>\n",
       "      <td>0</td>\n",
       "      <td>0</td>\n",
       "      <td>0</td>\n",
       "    </tr>\n",
       "    <tr>\n",
       "      <th>2</th>\n",
       "      <td>-1.266810</td>\n",
       "      <td>-0.896079</td>\n",
       "      <td>-1.353836</td>\n",
       "      <td>2</td>\n",
       "      <td>0</td>\n",
       "      <td>2017</td>\n",
       "      <td>1</td>\n",
       "      <td>0</td>\n",
       "      <td>0</td>\n",
       "      <td>0</td>\n",
       "      <td>...</td>\n",
       "      <td>0</td>\n",
       "      <td>0</td>\n",
       "      <td>0</td>\n",
       "      <td>0</td>\n",
       "      <td>0</td>\n",
       "      <td>0</td>\n",
       "      <td>0</td>\n",
       "      <td>0</td>\n",
       "      <td>0</td>\n",
       "      <td>0</td>\n",
       "    </tr>\n",
       "    <tr>\n",
       "      <th>3</th>\n",
       "      <td>-1.225135</td>\n",
       "      <td>-0.896079</td>\n",
       "      <td>-1.335426</td>\n",
       "      <td>2</td>\n",
       "      <td>1</td>\n",
       "      <td>2017</td>\n",
       "      <td>1</td>\n",
       "      <td>0</td>\n",
       "      <td>0</td>\n",
       "      <td>0</td>\n",
       "      <td>...</td>\n",
       "      <td>0</td>\n",
       "      <td>0</td>\n",
       "      <td>0</td>\n",
       "      <td>0</td>\n",
       "      <td>0</td>\n",
       "      <td>0</td>\n",
       "      <td>0</td>\n",
       "      <td>0</td>\n",
       "      <td>0</td>\n",
       "      <td>0</td>\n",
       "    </tr>\n",
       "    <tr>\n",
       "      <th>4</th>\n",
       "      <td>-1.266810</td>\n",
       "      <td>-0.896079</td>\n",
       "      <td>-1.335426</td>\n",
       "      <td>2</td>\n",
       "      <td>0</td>\n",
       "      <td>2017</td>\n",
       "      <td>1</td>\n",
       "      <td>0</td>\n",
       "      <td>0</td>\n",
       "      <td>0</td>\n",
       "      <td>...</td>\n",
       "      <td>0</td>\n",
       "      <td>0</td>\n",
       "      <td>0</td>\n",
       "      <td>0</td>\n",
       "      <td>0</td>\n",
       "      <td>0</td>\n",
       "      <td>0</td>\n",
       "      <td>0</td>\n",
       "      <td>0</td>\n",
       "      <td>0</td>\n",
       "    </tr>\n",
       "    <tr>\n",
       "      <th>...</th>\n",
       "      <td>...</td>\n",
       "      <td>...</td>\n",
       "      <td>...</td>\n",
       "      <td>...</td>\n",
       "      <td>...</td>\n",
       "      <td>...</td>\n",
       "      <td>...</td>\n",
       "      <td>...</td>\n",
       "      <td>...</td>\n",
       "      <td>...</td>\n",
       "      <td>...</td>\n",
       "      <td>...</td>\n",
       "      <td>...</td>\n",
       "      <td>...</td>\n",
       "      <td>...</td>\n",
       "      <td>...</td>\n",
       "      <td>...</td>\n",
       "      <td>...</td>\n",
       "      <td>...</td>\n",
       "      <td>...</td>\n",
       "      <td>...</td>\n",
       "    </tr>\n",
       "    <tr>\n",
       "      <th>145605</th>\n",
       "      <td>0.983615</td>\n",
       "      <td>-0.822806</td>\n",
       "      <td>1.155218</td>\n",
       "      <td>4</td>\n",
       "      <td>2</td>\n",
       "      <td>2023</td>\n",
       "      <td>0</td>\n",
       "      <td>0</td>\n",
       "      <td>0</td>\n",
       "      <td>0</td>\n",
       "      <td>...</td>\n",
       "      <td>0</td>\n",
       "      <td>0</td>\n",
       "      <td>0</td>\n",
       "      <td>0</td>\n",
       "      <td>0</td>\n",
       "      <td>0</td>\n",
       "      <td>0</td>\n",
       "      <td>0</td>\n",
       "      <td>0</td>\n",
       "      <td>1</td>\n",
       "    </tr>\n",
       "    <tr>\n",
       "      <th>145606</th>\n",
       "      <td>1.233662</td>\n",
       "      <td>-0.749534</td>\n",
       "      <td>1.541176</td>\n",
       "      <td>4</td>\n",
       "      <td>0</td>\n",
       "      <td>2023</td>\n",
       "      <td>0</td>\n",
       "      <td>0</td>\n",
       "      <td>0</td>\n",
       "      <td>0</td>\n",
       "      <td>...</td>\n",
       "      <td>0</td>\n",
       "      <td>0</td>\n",
       "      <td>0</td>\n",
       "      <td>0</td>\n",
       "      <td>0</td>\n",
       "      <td>0</td>\n",
       "      <td>0</td>\n",
       "      <td>0</td>\n",
       "      <td>0</td>\n",
       "      <td>1</td>\n",
       "    </tr>\n",
       "    <tr>\n",
       "      <th>145607</th>\n",
       "      <td>1.025289</td>\n",
       "      <td>-0.749534</td>\n",
       "      <td>1.541176</td>\n",
       "      <td>4</td>\n",
       "      <td>3</td>\n",
       "      <td>2023</td>\n",
       "      <td>0</td>\n",
       "      <td>0</td>\n",
       "      <td>0</td>\n",
       "      <td>0</td>\n",
       "      <td>...</td>\n",
       "      <td>0</td>\n",
       "      <td>0</td>\n",
       "      <td>0</td>\n",
       "      <td>0</td>\n",
       "      <td>0</td>\n",
       "      <td>0</td>\n",
       "      <td>0</td>\n",
       "      <td>0</td>\n",
       "      <td>0</td>\n",
       "      <td>1</td>\n",
       "    </tr>\n",
       "    <tr>\n",
       "      <th>145608</th>\n",
       "      <td>2.025478</td>\n",
       "      <td>-0.749534</td>\n",
       "      <td>2.428879</td>\n",
       "      <td>5</td>\n",
       "      <td>3</td>\n",
       "      <td>2023</td>\n",
       "      <td>0</td>\n",
       "      <td>0</td>\n",
       "      <td>0</td>\n",
       "      <td>0</td>\n",
       "      <td>...</td>\n",
       "      <td>0</td>\n",
       "      <td>0</td>\n",
       "      <td>0</td>\n",
       "      <td>0</td>\n",
       "      <td>0</td>\n",
       "      <td>0</td>\n",
       "      <td>0</td>\n",
       "      <td>0</td>\n",
       "      <td>0</td>\n",
       "      <td>1</td>\n",
       "    </tr>\n",
       "    <tr>\n",
       "      <th>145609</th>\n",
       "      <td>1.858780</td>\n",
       "      <td>-0.822806</td>\n",
       "      <td>1.959297</td>\n",
       "      <td>5</td>\n",
       "      <td>0</td>\n",
       "      <td>2023</td>\n",
       "      <td>0</td>\n",
       "      <td>0</td>\n",
       "      <td>0</td>\n",
       "      <td>0</td>\n",
       "      <td>...</td>\n",
       "      <td>0</td>\n",
       "      <td>0</td>\n",
       "      <td>0</td>\n",
       "      <td>0</td>\n",
       "      <td>0</td>\n",
       "      <td>0</td>\n",
       "      <td>0</td>\n",
       "      <td>0</td>\n",
       "      <td>0</td>\n",
       "      <td>1</td>\n",
       "    </tr>\n",
       "  </tbody>\n",
       "</table>\n",
       "<p>145610 rows × 32 columns</p>\n",
       "</div>"
      ],
      "text/plain": [
       "        floor_area_sqm  remaining_lease_years  adjusted_price  \\\n",
       "0            -2.225324              -0.969351       -1.537938   \n",
       "1            -1.266810              -1.042624       -1.427477   \n",
       "2            -1.266810              -0.896079       -1.353836   \n",
       "3            -1.225135              -0.896079       -1.335426   \n",
       "4            -1.266810              -0.896079       -1.335426   \n",
       "...                ...                    ...             ...   \n",
       "145605        0.983615              -0.822806        1.155218   \n",
       "145606        1.233662              -0.749534        1.541176   \n",
       "145607        1.025289              -0.749534        1.541176   \n",
       "145608        2.025478              -0.749534        2.428879   \n",
       "145609        1.858780              -0.822806        1.959297   \n",
       "\n",
       "        flat_type_encoded  storey_range_encoded  year  ANG MO KIO  BEDOK  \\\n",
       "0                       1                     3  2017           1      0   \n",
       "1                       2                     0  2017           1      0   \n",
       "2                       2                     0  2017           1      0   \n",
       "3                       2                     1  2017           1      0   \n",
       "4                       2                     0  2017           1      0   \n",
       "...                   ...                   ...   ...         ...    ...   \n",
       "145605                  4                     2  2023           0      0   \n",
       "145606                  4                     0  2023           0      0   \n",
       "145607                  4                     3  2023           0      0   \n",
       "145608                  5                     3  2023           0      0   \n",
       "145609                  5                     0  2023           0      0   \n",
       "\n",
       "        BISHAN  BUKIT BATOK  ...  PASIR RIS  PUNGGOL  QUEENSTOWN  SEMBAWANG  \\\n",
       "0            0            0  ...          0        0           0          0   \n",
       "1            0            0  ...          0        0           0          0   \n",
       "2            0            0  ...          0        0           0          0   \n",
       "3            0            0  ...          0        0           0          0   \n",
       "4            0            0  ...          0        0           0          0   \n",
       "...        ...          ...  ...        ...      ...         ...        ...   \n",
       "145605       0            0  ...          0        0           0          0   \n",
       "145606       0            0  ...          0        0           0          0   \n",
       "145607       0            0  ...          0        0           0          0   \n",
       "145608       0            0  ...          0        0           0          0   \n",
       "145609       0            0  ...          0        0           0          0   \n",
       "\n",
       "        SENGKANG  SERANGOON  TAMPINES  TOA PAYOH  WOODLANDS  YISHUN  \n",
       "0              0          0         0          0          0       0  \n",
       "1              0          0         0          0          0       0  \n",
       "2              0          0         0          0          0       0  \n",
       "3              0          0         0          0          0       0  \n",
       "4              0          0         0          0          0       0  \n",
       "...          ...        ...       ...        ...        ...     ...  \n",
       "145605         0          0         0          0          0       1  \n",
       "145606         0          0         0          0          0       1  \n",
       "145607         0          0         0          0          0       1  \n",
       "145608         0          0         0          0          0       1  \n",
       "145609         0          0         0          0          0       1  \n",
       "\n",
       "[145610 rows x 32 columns]"
      ]
     },
     "execution_count": 5,
     "metadata": {},
     "output_type": "execute_result"
    }
   ],
   "source": [
    "# Applying one hot encoding to town:\n",
    "from sklearn.preprocessing import LabelBinarizer\n",
    "labelbinarizer = LabelBinarizer()\n",
    "x = labelbinarizer.fit_transform(df2[\"town\"])\n",
    "encoded_df = pd.DataFrame(x, columns=labelbinarizer.classes_)\n",
    "encoded_df.head()\n",
    "\n",
    "# Normalizing numerical variables:\n",
    "from sklearn.preprocessing import StandardScaler\n",
    "columns = [ 'floor_area_sqm', 'remaining_lease_years', 'adjusted_price']\n",
    "df2_normalized = StandardScaler().fit_transform(df2[columns])\n",
    "df2_normalized= pd.DataFrame(df2_normalized, columns = columns)\n",
    "\n",
    "df2 = df2.reset_index(drop=True)\n",
    "df2_normalized = df2_normalized.reset_index(drop=True)\n",
    "\n",
    "df2_normalized[['flat_type_encoded', 'storey_range_encoded']] = df2[['flat_type_encoded', 'storey_range_encoded']]\n",
    "df2_normalized['year'] = df2['month'].str.slice(0,4)\n",
    "df2_normalized = pd.concat([df2_normalized, encoded_df], axis=1)\n",
    "\n",
    "# Change data type of year to int\n",
    "df2_normalized['year'] = df2_normalized['year'].astype(int)\n",
    "\n",
    "df2_normalized"
   ]
  },
  {
   "cell_type": "code",
   "execution_count": 6,
   "id": "1b342366",
   "metadata": {
    "execution": {
     "iopub.execute_input": "2024-03-21T11:03:49.135881Z",
     "iopub.status.busy": "2024-03-21T11:03:49.135490Z",
     "iopub.status.idle": "2024-03-21T11:03:49.301102Z",
     "shell.execute_reply": "2024-03-21T11:03:49.300611Z"
    },
    "papermill": {
     "duration": 1.851596,
     "end_time": "2024-03-21T11:03:49.752773",
     "exception": false,
     "start_time": "2024-03-21T11:03:47.901177",
     "status": "completed"
    },
    "tags": []
   },
   "outputs": [
    {
     "data": {
      "image/png": "[encoded data removed]",
      "text/plain": [
       "<Figure size 640x480 with 1 Axes>"
      ]
     },
     "metadata": {},
     "output_type": "display_data"
    }
   ],
   "source": [
    "# PCA\n",
    "from sklearn.decomposition import PCA\n",
    "\n",
    "# pca = PCA(n_components=3)\n",
    "pca = PCA(n_components=4)\n",
    "\n",
    "# x_pca = pca.fit_transform(df2_normalized[['floor_area_sqm', 'remaining_lease_years', 'resale_price']])\n",
    "x_pca = pca.fit_transform(df2_normalized[['floor_area_sqm', 'remaining_lease_years', 'flat_type_encoded', 'storey_range_encoded']])\n",
    "\n",
    "x_pca = pd.DataFrame(x_pca)\n",
    "df4_names = []\n",
    "y= pca.explained_variance_ratio_\n",
    "\n",
    "for i in range(len(y)):\n",
    "    df4_names.append('PCA'+str(i+1))\n",
    "\n",
    "default_x_ticks = range(len(df4_names))\n",
    "\n",
    "plt.plot(default_x_ticks, y)\n",
    "plt.bar(default_x_ticks, y,width=0.1,color= 'blue')\n",
    "plt.xticks(default_x_ticks, df4_names)\n",
    "plt.show()"
   ]
  },
  {
   "cell_type": "code",
   "execution_count": 7,
   "id": "b5f5e2c5",
   "metadata": {
    "execution": {
     "iopub.execute_input": "2024-03-21T11:03:50.053199Z",
     "iopub.status.busy": "2024-03-21T11:03:50.052924Z",
     "iopub.status.idle": "2024-03-21T11:03:50.071861Z",
     "shell.execute_reply": "2024-03-21T11:03:50.071326Z"
    },
    "papermill": {
     "duration": 0.311114,
     "end_time": "2024-03-21T11:03:50.073074",
     "exception": false,
     "start_time": "2024-03-21T11:03:49.761960",
     "status": "completed"
    },
    "tags": []
   },
   "outputs": [],
   "source": [
    "# Splitting into 3 df: pre-covid, post-covid, and full dataset\n",
    "full_dataset = df2_normalized\n",
    "precovid_dataset = df2_normalized[(df2_normalized['year'] >= 2017) & (df2_normalized['year'] <= 2019)] # Data from 2017 ~ 2019\n",
    "postcovid_dataset = df2_normalized[(df2_normalized['year'] >= 2020) ] # Data from 2020 ~ 2023\n",
    "\n",
    "# Extracting essential columns for model training\n",
    "full_dataset = full_dataset[['floor_area_sqm', 'remaining_lease_years', 'flat_type_encoded', 'storey_range_encoded', 'adjusted_price']]\n",
    "precovid_dataset = precovid_dataset[['floor_area_sqm', 'remaining_lease_years', 'flat_type_encoded', 'storey_range_encoded', 'adjusted_price']]\n",
    "postcovid_dataset = postcovid_dataset[['floor_area_sqm', 'remaining_lease_years', 'flat_type_encoded', 'storey_range_encoded', 'adjusted_price']]"
   ]
  },
  {
   "cell_type": "code",
   "execution_count": 8,
   "id": "464a55b8",
   "metadata": {
    "execution": {
     "iopub.execute_input": "2024-03-21T11:03:50.624782Z",
     "iopub.status.busy": "2024-03-21T11:03:50.624369Z",
     "iopub.status.idle": "2024-03-21T11:03:50.651078Z",
     "shell.execute_reply": "2024-03-21T11:03:50.650490Z"
    },
    "papermill": {
     "duration": 0.296761,
     "end_time": "2024-03-21T11:03:50.652346",
     "exception": false,
     "start_time": "2024-03-21T11:03:50.355585",
     "status": "completed"
    },
    "tags": []
   },
   "outputs": [],
   "source": [
    "# splitting into train-test split for all 3 data sets\n",
    "# use randome state=42\n",
    "\n",
    "# For full_dataset:\n",
    "X1=full_dataset.drop(columns='adjusted_price')\n",
    "y1= full_dataset['adjusted_price']\n",
    "X_train1, X_test1, y_train1, y_test1 = train_test_split(X1, y1, test_size=0.2, random_state=42)\n",
    "\n",
    "# For precovid_dataset:\n",
    "X2=precovid_dataset.drop(columns='adjusted_price')\n",
    "y2= precovid_dataset['adjusted_price']\n",
    "X_train2, X_test2, y_train2, y_test2 = train_test_split(X2, y2, test_size=0.2, random_state=42)\n",
    "\n",
    "# For postcovid_dataset:\n",
    "X3=postcovid_dataset.drop(columns='adjusted_price')\n",
    "y3= postcovid_dataset['adjusted_price']\n",
    "X_train3, X_test3, y_train3, y_test3 = train_test_split(X3, y3, test_size=0.2, random_state=42)"
   ]
  },
  {
   "cell_type": "markdown",
   "id": "6abd5d80",
   "metadata": {
    "papermill": {
     "duration": 0.327188,
     "end_time": "2024-03-21T11:03:51.220443",
     "exception": false,
     "start_time": "2024-03-21T11:03:50.893255",
     "status": "completed"
    },
    "tags": []
   },
   "source": [
    "## RNN (Recurrent Neural Network)"
   ]
  },
  {
   "cell_type": "code",
   "execution_count": 9,
   "id": "4bd1f8d6",
   "metadata": {
    "execution": {
     "iopub.execute_input": "2024-03-21T11:03:51.581930Z",
     "iopub.status.busy": "2024-03-21T11:03:51.581613Z",
     "iopub.status.idle": "2024-03-21T11:03:54.325702Z",
     "shell.execute_reply": "2024-03-21T11:03:54.325208Z"
    },
    "papermill": {
     "duration": 2.9595,
     "end_time": "2024-03-21T11:03:54.328710",
     "exception": false,
     "start_time": "2024-03-21T11:03:51.369210",
     "status": "completed"
    },
    "tags": []
   },
   "outputs": [
    {
     "name": "stderr",
     "output_type": "stream",
     "text": [
      "2024-03-21 19:03:51.953951: E external/local_xla/xla/stream_executor/cuda/cuda_dnn.cc:9261] Unable to register cuDNN factory: Attempting to register factory for plugin cuDNN when one has already been registered\n",
      "2024-03-21 19:03:51.953999: E external/local_xla/xla/stream_executor/cuda/cuda_fft.cc:607] Unable to register cuFFT factory: Attempting to register factory for plugin cuFFT when one has already been registered\n",
      "2024-03-21 19:03:51.955111: E external/local_xla/xla/stream_executor/cuda/cuda_blas.cc:1515] Unable to register cuBLAS factory: Attempting to register factory for plugin cuBLAS when one has already been registered\n",
      "2024-03-21 19:03:51.962726: I tensorflow/core/platform/cpu_feature_guard.cc:182] This TensorFlow binary is optimized to use available CPU instructions in performance-critical operations.\n",
      "To enable the following instructions: AVX2 FMA, in other operations, rebuild TensorFlow with the appropriate compiler flags.\n"
     ]
    },
    {
     "name": "stderr",
     "output_type": "stream",
     "text": [
      "2024-03-21 19:03:53.015559: W tensorflow/compiler/tf2tensorrt/utils/py_utils.cc:38] TF-TRT Warning: Could not find TensorRT\n"
     ]
    },
    {
     "name": "stderr",
     "output_type": "stream",
     "text": [
      "2024-03-21 19:03:53.940779: I tensorflow/core/common_runtime/gpu/gpu_device.cc:1929] Created device /job:localhost/replica:0/task:0/device:GPU:0 with 22460 MB memory:  -> device: 0, name: NVIDIA GeForce RTX 3090, pci bus id: 0000:81:00.0, compute capability: 8.6\n"
     ]
    },
    {
     "name": "stdout",
     "output_type": "stream",
     "text": [
      "Model: \"sequential\"\n"
     ]
    },
    {
     "name": "stdout",
     "output_type": "stream",
     "text": [
      "_________________________________________________________________\n"
     ]
    },
    {
     "name": "stdout",
     "output_type": "stream",
     "text": [
      " Layer (type)                Output Shape              Param #   \n"
     ]
    },
    {
     "name": "stdout",
     "output_type": "stream",
     "text": [
      "=================================================================\n"
     ]
    },
    {
     "name": "stdout",
     "output_type": "stream",
     "text": [
      " simple_rnn (SimpleRNN)      (None, 4, 64)             4224      \n"
     ]
    },
    {
     "name": "stdout",
     "output_type": "stream",
     "text": [
      "                                                                 \n"
     ]
    },
    {
     "name": "stdout",
     "output_type": "stream",
     "text": [
      " simple_rnn_1 (SimpleRNN)    (None, 64)                8256      \n"
     ]
    },
    {
     "name": "stdout",
     "output_type": "stream",
     "text": [
      "                                                                 \n"
     ]
    },
    {
     "name": "stdout",
     "output_type": "stream",
     "text": [
      " dense (Dense)               (None, 1)                 65        \n"
     ]
    },
    {
     "name": "stdout",
     "output_type": "stream",
     "text": [
      "                                                                 \n"
     ]
    },
    {
     "name": "stdout",
     "output_type": "stream",
     "text": [
      "=================================================================\n"
     ]
    },
    {
     "name": "stdout",
     "output_type": "stream",
     "text": [
      "Total params: 12545 (49.00 KB)\n"
     ]
    },
    {
     "name": "stdout",
     "output_type": "stream",
     "text": [
      "Trainable params: 12545 (49.00 KB)\n"
     ]
    },
    {
     "name": "stdout",
     "output_type": "stream",
     "text": [
      "Non-trainable params: 0 (0.00 Byte)\n"
     ]
    },
    {
     "name": "stdout",
     "output_type": "stream",
     "text": [
      "_________________________________________________________________\n"
     ]
    }
   ],
   "source": [
    "from tensorflow import keras\n",
    "from keras.models import Sequential\n",
    "from keras.layers import Dense, SimpleRNN\n",
    "from sklearn.model_selection import GridSearchCV\n",
    "from scikeras.wrappers import KerasRegressor\n",
    "from joblib import dump, load\n",
    "import os\n",
    "\n",
    "# Define the model\n",
    "def buildModel(input_dim, units1=64, units2=64):\n",
    "    model = Sequential()\n",
    "    model.add(SimpleRNN(units=units1, input_shape=(input_dim, 1), return_sequences=True))\n",
    "    model.add(SimpleRNN(units=units2))\n",
    "    model.add(Dense(1, activation='linear'))\n",
    "    model.compile(loss='mean_squared_error', optimizer='adam', metrics=['mae'])\n",
    "    return model\n",
    "\n",
    "# Define grid search parameters for hyperparameter tuning (modify as needed)\n",
    "param_grid = {\n",
    "    'epochs': [10, 20, 50],\n",
    "    'batch_size': [32, 64, 128],\n",
    "    'units1': [16, 32, 64],\n",
    "    'units2': [16, 32, 64, 128],\n",
    "}\n",
    "\n",
    "model_example = buildModel(X_train1.shape[1])\n",
    "model_example.summary()"
   ]
  },
  {
   "cell_type": "markdown",
   "id": "d8494c3a",
   "metadata": {
    "papermill": {
     "duration": 0.041223,
     "end_time": "2024-03-21T11:03:54.379376",
     "exception": false,
     "start_time": "2024-03-21T11:03:54.338153",
     "status": "completed"
    },
    "tags": []
   },
   "source": [
    "#### Full Dataset"
   ]
  },
  {
   "cell_type": "code",
   "execution_count": 10,
   "id": "d798e18f",
   "metadata": {
    "execution": {
     "iopub.execute_input": "2024-03-21T11:03:54.547503Z",
     "iopub.status.busy": "2024-03-21T11:03:54.547235Z",
     "iopub.status.idle": "2024-03-21T20:16:15.693821Z",
     "shell.execute_reply": "2024-03-21T20:16:15.693377Z"
    },
    "papermill": {
     "duration": 33141.2057,
     "end_time": "2024-03-21T20:16:15.695066",
     "exception": false,
     "start_time": "2024-03-21T11:03:54.489366",
     "status": "completed"
    },
    "tags": []
   },
   "outputs": [
    {
     "name": "stdout",
     "output_type": "stream",
     "text": [
      "Fitting 2 folds for each of 108 candidates, totalling 216 fits\n"
     ]
    },
    {
     "name": "stderr",
     "output_type": "stream",
     "text": [
      "2024-03-21 19:03:57.980185: I external/local_xla/xla/service/service.cc:168] XLA service 0x7fc7e5d0b800 initialized for platform CUDA (this does not guarantee that XLA will be used). Devices:\n",
      "2024-03-21 19:03:57.980232: I external/local_xla/xla/service/service.cc:176]   StreamExecutor device (0): NVIDIA GeForce RTX 3090, Compute Capability 8.6\n",
      "2024-03-21 19:03:57.987081: I tensorflow/compiler/mlir/tensorflow/utils/dump_mlir_util.cc:269] disabling MLIR crash reproducer, set env var `MLIR_CRASH_REPRODUCER_DIRECTORY` to enable.\n",
      "2024-03-21 19:03:58.005155: I external/local_xla/xla/stream_executor/cuda/cuda_dnn.cc:454] Loaded cuDNN version 8907\n",
      "WARNING: All log messages before absl::InitializeLog() is called are written to STDERR\n",
      "I0000 00:00:1711019038.121691  392391 device_compiler.h:186] Compiled cluster using XLA!  This line is logged at most once for the lifetime of the process.\n"
     ]
    },
    {
     "name": "stdout",
     "output_type": "stream",
     "text": [
      "[CV 1/2] END batch_size=32, epochs=10, units1=16, units2=16;, score=0.608 total time= 1.8min\n"
     ]
    },
    {
     "name": "stdout",
     "output_type": "stream",
     "text": [
      "[CV 2/2] END batch_size=32, epochs=10, units1=16, units2=16;, score=0.603 total time= 1.8min\n"
     ]
    },
    {
     "name": "stdout",
     "output_type": "stream",
     "text": [
      "[CV 1/2] END batch_size=32, epochs=10, units1=16, units2=32;, score=0.613 total time= 1.7min\n"
     ]
    },
    {
     "name": "stdout",
     "output_type": "stream",
     "text": [
      "[CV 2/2] END batch_size=32, epochs=10, units1=16, units2=32;, score=0.604 total time= 1.7min\n"
     ]
    },
    {
     "name": "stdout",
     "output_type": "stream",
     "text": [
      "[CV 1/2] END batch_size=32, epochs=10, units1=16, units2=64;, score=0.608 total time= 1.8min\n"
     ]
    },
    {
     "name": "stdout",
     "output_type": "stream",
     "text": [
      "[CV 2/2] END batch_size=32, epochs=10, units1=16, units2=64;, score=0.607 total time= 1.7min\n"
     ]
    },
    {
     "name": "stdout",
     "output_type": "stream",
     "text": [
      "[CV 1/2] END batch_size=32, epochs=10, units1=16, units2=128;, score=0.612 total time= 1.8min\n"
     ]
    },
    {
     "name": "stdout",
     "output_type": "stream",
     "text": [
      "[CV 2/2] END batch_size=32, epochs=10, units1=16, units2=128;, score=0.608 total time= 1.8min\n"
     ]
    },
    {
     "name": "stdout",
     "output_type": "stream",
     "text": [
      "[CV 1/2] END batch_size=32, epochs=10, units1=32, units2=16;, score=0.574 total time= 1.8min\n"
     ]
    },
    {
     "name": "stdout",
     "output_type": "stream",
     "text": [
      "[CV 2/2] END batch_size=32, epochs=10, units1=32, units2=16;, score=0.608 total time= 1.8min\n"
     ]
    },
    {
     "name": "stdout",
     "output_type": "stream",
     "text": [
      "[CV 1/2] END batch_size=32, epochs=10, units1=32, units2=32;, score=0.606 total time= 1.8min\n"
     ]
    },
    {
     "name": "stdout",
     "output_type": "stream",
     "text": [
      "[CV 2/2] END batch_size=32, epochs=10, units1=32, units2=32;, score=0.611 total time= 1.7min\n"
     ]
    },
    {
     "name": "stdout",
     "output_type": "stream",
     "text": [
      "[CV 1/2] END batch_size=32, epochs=10, units1=32, units2=64;, score=0.617 total time= 1.8min\n"
     ]
    },
    {
     "name": "stdout",
     "output_type": "stream",
     "text": [
      "[CV 2/2] END batch_size=32, epochs=10, units1=32, units2=64;, score=0.611 total time= 1.8min\n"
     ]
    },
    {
     "name": "stdout",
     "output_type": "stream",
     "text": [
      "[CV 1/2] END batch_size=32, epochs=10, units1=32, units2=128;, score=0.620 total time= 1.8min\n"
     ]
    },
    {
     "name": "stdout",
     "output_type": "stream",
     "text": [
      "[CV 2/2] END batch_size=32, epochs=10, units1=32, units2=128;, score=0.607 total time= 1.7min\n"
     ]
    },
    {
     "name": "stdout",
     "output_type": "stream",
     "text": [
      "[CV 1/2] END batch_size=32, epochs=10, units1=64, units2=16;, score=0.617 total time= 1.8min\n"
     ]
    },
    {
     "name": "stdout",
     "output_type": "stream",
     "text": [
      "[CV 2/2] END batch_size=32, epochs=10, units1=64, units2=16;, score=0.597 total time= 1.7min\n"
     ]
    },
    {
     "name": "stdout",
     "output_type": "stream",
     "text": [
      "[CV 1/2] END batch_size=32, epochs=10, units1=64, units2=32;, score=0.616 total time= 1.7min\n"
     ]
    },
    {
     "name": "stdout",
     "output_type": "stream",
     "text": [
      "[CV 2/2] END batch_size=32, epochs=10, units1=64, units2=32;, score=0.617 total time= 1.7min\n"
     ]
    },
    {
     "name": "stdout",
     "output_type": "stream",
     "text": [
      "[CV 1/2] END batch_size=32, epochs=10, units1=64, units2=64;, score=0.618 total time= 1.7min\n"
     ]
    },
    {
     "name": "stdout",
     "output_type": "stream",
     "text": [
      "[CV 2/2] END batch_size=32, epochs=10, units1=64, units2=64;, score=0.614 total time= 1.7min\n"
     ]
    },
    {
     "name": "stdout",
     "output_type": "stream",
     "text": [
      "[CV 1/2] END batch_size=32, epochs=10, units1=64, units2=128;, score=0.607 total time= 1.7min\n"
     ]
    },
    {
     "name": "stdout",
     "output_type": "stream",
     "text": [
      "[CV 2/2] END batch_size=32, epochs=10, units1=64, units2=128;, score=0.609 total time= 1.7min\n"
     ]
    },
    {
     "name": "stdout",
     "output_type": "stream",
     "text": [
      "[CV 1/2] END batch_size=32, epochs=20, units1=16, units2=16;, score=0.615 total time= 3.3min\n"
     ]
    },
    {
     "name": "stdout",
     "output_type": "stream",
     "text": [
      "[CV 2/2] END batch_size=32, epochs=20, units1=16, units2=16;, score=0.610 total time= 3.3min\n"
     ]
    },
    {
     "name": "stdout",
     "output_type": "stream",
     "text": [
      "[CV 1/2] END batch_size=32, epochs=20, units1=16, units2=32;, score=0.609 total time= 3.4min\n"
     ]
    },
    {
     "name": "stdout",
     "output_type": "stream",
     "text": [
      "[CV 2/2] END batch_size=32, epochs=20, units1=16, units2=32;, score=0.615 total time= 3.4min\n"
     ]
    },
    {
     "name": "stdout",
     "output_type": "stream",
     "text": [
      "[CV 1/2] END batch_size=32, epochs=20, units1=16, units2=64;, score=0.620 total time= 3.4min\n"
     ]
    },
    {
     "name": "stdout",
     "output_type": "stream",
     "text": [
      "[CV 2/2] END batch_size=32, epochs=20, units1=16, units2=64;, score=0.612 total time= 3.4min\n"
     ]
    },
    {
     "name": "stdout",
     "output_type": "stream",
     "text": [
      "[CV 1/2] END batch_size=32, epochs=20, units1=16, units2=128;, score=0.622 total time= 3.4min\n"
     ]
    },
    {
     "name": "stdout",
     "output_type": "stream",
     "text": [
      "[CV 2/2] END batch_size=32, epochs=20, units1=16, units2=128;, score=0.616 total time= 3.4min\n"
     ]
    },
    {
     "name": "stdout",
     "output_type": "stream",
     "text": [
      "[CV 1/2] END batch_size=32, epochs=20, units1=32, units2=16;, score=0.619 total time= 3.4min\n"
     ]
    },
    {
     "name": "stdout",
     "output_type": "stream",
     "text": [
      "[CV 2/2] END batch_size=32, epochs=20, units1=32, units2=16;, score=0.613 total time= 3.4min\n"
     ]
    },
    {
     "name": "stdout",
     "output_type": "stream",
     "text": [
      "[CV 1/2] END batch_size=32, epochs=20, units1=32, units2=32;, score=0.623 total time= 3.2min\n"
     ]
    },
    {
     "name": "stdout",
     "output_type": "stream",
     "text": [
      "[CV 2/2] END batch_size=32, epochs=20, units1=32, units2=32;, score=0.623 total time= 3.2min\n"
     ]
    },
    {
     "name": "stdout",
     "output_type": "stream",
     "text": [
      "[CV 1/2] END batch_size=32, epochs=20, units1=32, units2=64;, score=0.627 total time= 3.3min\n"
     ]
    },
    {
     "name": "stdout",
     "output_type": "stream",
     "text": [
      "[CV 2/2] END batch_size=32, epochs=20, units1=32, units2=64;, score=0.622 total time= 3.3min\n"
     ]
    },
    {
     "name": "stdout",
     "output_type": "stream",
     "text": [
      "[CV 1/2] END batch_size=32, epochs=20, units1=32, units2=128;, score=0.618 total time= 3.2min\n"
     ]
    },
    {
     "name": "stdout",
     "output_type": "stream",
     "text": [
      "[CV 2/2] END batch_size=32, epochs=20, units1=32, units2=128;, score=0.605 total time= 3.2min\n"
     ]
    },
    {
     "name": "stdout",
     "output_type": "stream",
     "text": [
      "[CV 1/2] END batch_size=32, epochs=20, units1=64, units2=16;, score=0.613 total time= 3.3min\n"
     ]
    },
    {
     "name": "stdout",
     "output_type": "stream",
     "text": [
      "[CV 2/2] END batch_size=32, epochs=20, units1=64, units2=16;, score=0.609 total time= 3.3min\n"
     ]
    },
    {
     "name": "stdout",
     "output_type": "stream",
     "text": [
      "[CV 1/2] END batch_size=32, epochs=20, units1=64, units2=32;, score=0.621 total time= 3.5min\n"
     ]
    },
    {
     "name": "stdout",
     "output_type": "stream",
     "text": [
      "[CV 2/2] END batch_size=32, epochs=20, units1=64, units2=32;, score=0.620 total time= 3.3min\n"
     ]
    },
    {
     "name": "stdout",
     "output_type": "stream",
     "text": [
      "[CV 1/2] END batch_size=32, epochs=20, units1=64, units2=64;, score=0.599 total time= 3.3min\n"
     ]
    },
    {
     "name": "stdout",
     "output_type": "stream",
     "text": [
      "[CV 2/2] END batch_size=32, epochs=20, units1=64, units2=64;, score=0.615 total time= 3.4min\n"
     ]
    },
    {
     "name": "stdout",
     "output_type": "stream",
     "text": [
      "[CV 1/2] END batch_size=32, epochs=20, units1=64, units2=128;, score=0.602 total time= 3.4min\n"
     ]
    },
    {
     "name": "stdout",
     "output_type": "stream",
     "text": [
      "[CV 2/2] END batch_size=32, epochs=20, units1=64, units2=128;, score=0.624 total time= 3.4min\n"
     ]
    },
    {
     "name": "stdout",
     "output_type": "stream",
     "text": [
      "[CV 1/2] END batch_size=32, epochs=50, units1=16, units2=16;, score=0.623 total time= 8.5min\n"
     ]
    },
    {
     "name": "stdout",
     "output_type": "stream",
     "text": [
      "[CV 2/2] END batch_size=32, epochs=50, units1=16, units2=16;, score=0.625 total time= 8.1min\n"
     ]
    },
    {
     "name": "stdout",
     "output_type": "stream",
     "text": [
      "[CV 1/2] END batch_size=32, epochs=50, units1=16, units2=32;, score=0.628 total time= 8.2min\n"
     ]
    },
    {
     "name": "stdout",
     "output_type": "stream",
     "text": [
      "[CV 2/2] END batch_size=32, epochs=50, units1=16, units2=32;, score=0.631 total time= 8.3min\n"
     ]
    },
    {
     "name": "stdout",
     "output_type": "stream",
     "text": [
      "[CV 1/2] END batch_size=32, epochs=50, units1=16, units2=64;, score=0.627 total time= 8.3min\n"
     ]
    },
    {
     "name": "stdout",
     "output_type": "stream",
     "text": [
      "[CV 2/2] END batch_size=32, epochs=50, units1=16, units2=64;, score=0.633 total time= 8.3min\n"
     ]
    },
    {
     "name": "stdout",
     "output_type": "stream",
     "text": [
      "[CV 1/2] END batch_size=32, epochs=50, units1=16, units2=128;, score=0.628 total time= 8.3min\n"
     ]
    },
    {
     "name": "stdout",
     "output_type": "stream",
     "text": [
      "[CV 2/2] END batch_size=32, epochs=50, units1=16, units2=128;, score=0.628 total time= 8.3min\n"
     ]
    },
    {
     "name": "stdout",
     "output_type": "stream",
     "text": [
      "[CV 1/2] END batch_size=32, epochs=50, units1=32, units2=16;, score=0.628 total time= 8.2min\n"
     ]
    },
    {
     "name": "stdout",
     "output_type": "stream",
     "text": [
      "[CV 2/2] END batch_size=32, epochs=50, units1=32, units2=16;, score=0.630 total time= 8.3min\n"
     ]
    },
    {
     "name": "stdout",
     "output_type": "stream",
     "text": [
      "[CV 1/2] END batch_size=32, epochs=50, units1=32, units2=32;, score=0.629 total time= 8.2min\n"
     ]
    },
    {
     "name": "stdout",
     "output_type": "stream",
     "text": [
      "[CV 2/2] END batch_size=32, epochs=50, units1=32, units2=32;, score=0.634 total time= 8.3min\n"
     ]
    },
    {
     "name": "stdout",
     "output_type": "stream",
     "text": [
      "[CV 1/2] END batch_size=32, epochs=50, units1=32, units2=64;, score=0.636 total time= 8.4min\n"
     ]
    },
    {
     "name": "stdout",
     "output_type": "stream",
     "text": [
      "[CV 2/2] END batch_size=32, epochs=50, units1=32, units2=64;, score=0.623 total time= 8.2min\n"
     ]
    },
    {
     "name": "stdout",
     "output_type": "stream",
     "text": [
      "[CV 1/2] END batch_size=32, epochs=50, units1=32, units2=128;, score=0.632 total time= 8.3min\n"
     ]
    },
    {
     "name": "stdout",
     "output_type": "stream",
     "text": [
      "[CV 2/2] END batch_size=32, epochs=50, units1=32, units2=128;, score=0.633 total time= 8.3min\n"
     ]
    },
    {
     "name": "stdout",
     "output_type": "stream",
     "text": [
      "[CV 1/2] END batch_size=32, epochs=50, units1=64, units2=16;, score=0.630 total time= 8.2min\n"
     ]
    },
    {
     "name": "stdout",
     "output_type": "stream",
     "text": [
      "[CV 2/2] END batch_size=32, epochs=50, units1=64, units2=16;, score=0.629 total time= 8.2min\n"
     ]
    },
    {
     "name": "stdout",
     "output_type": "stream",
     "text": [
      "[CV 1/2] END batch_size=32, epochs=50, units1=64, units2=32;, score=0.616 total time= 8.0min\n"
     ]
    },
    {
     "name": "stdout",
     "output_type": "stream",
     "text": [
      "[CV 2/2] END batch_size=32, epochs=50, units1=64, units2=32;, score=0.629 total time= 8.0min\n"
     ]
    },
    {
     "name": "stdout",
     "output_type": "stream",
     "text": [
      "[CV 1/2] END batch_size=32, epochs=50, units1=64, units2=64;, score=0.628 total time= 7.9min\n"
     ]
    },
    {
     "name": "stdout",
     "output_type": "stream",
     "text": [
      "[CV 2/2] END batch_size=32, epochs=50, units1=64, units2=64;, score=0.621 total time= 7.7min\n"
     ]
    },
    {
     "name": "stdout",
     "output_type": "stream",
     "text": [
      "[CV 1/2] END batch_size=32, epochs=50, units1=64, units2=128;, score=0.629 total time= 7.6min\n"
     ]
    },
    {
     "name": "stdout",
     "output_type": "stream",
     "text": [
      "[CV 2/2] END batch_size=32, epochs=50, units1=64, units2=128;, score=0.630 total time= 7.7min\n"
     ]
    },
    {
     "name": "stdout",
     "output_type": "stream",
     "text": [
      "[CV 1/2] END batch_size=64, epochs=10, units1=16, units2=16;, score=0.600 total time=  49.8s\n"
     ]
    },
    {
     "name": "stdout",
     "output_type": "stream",
     "text": [
      "[CV 2/2] END batch_size=64, epochs=10, units1=16, units2=16;, score=0.600 total time=  49.5s\n"
     ]
    },
    {
     "name": "stdout",
     "output_type": "stream",
     "text": [
      "[CV 1/2] END batch_size=64, epochs=10, units1=16, units2=32;, score=0.608 total time=  49.7s\n"
     ]
    },
    {
     "name": "stdout",
     "output_type": "stream",
     "text": [
      "[CV 2/2] END batch_size=64, epochs=10, units1=16, units2=32;, score=0.594 total time=  50.0s\n"
     ]
    },
    {
     "name": "stdout",
     "output_type": "stream",
     "text": [
      "[CV 1/2] END batch_size=64, epochs=10, units1=16, units2=64;, score=0.607 total time=  50.1s\n"
     ]
    },
    {
     "name": "stdout",
     "output_type": "stream",
     "text": [
      "[CV 2/2] END batch_size=64, epochs=10, units1=16, units2=64;, score=0.591 total time=  49.6s\n"
     ]
    },
    {
     "name": "stdout",
     "output_type": "stream",
     "text": [
      "[CV 1/2] END batch_size=64, epochs=10, units1=16, units2=128;, score=0.610 total time=  49.8s\n"
     ]
    },
    {
     "name": "stdout",
     "output_type": "stream",
     "text": [
      "[CV 2/2] END batch_size=64, epochs=10, units1=16, units2=128;, score=0.605 total time=  49.8s\n"
     ]
    },
    {
     "name": "stdout",
     "output_type": "stream",
     "text": [
      "[CV 1/2] END batch_size=64, epochs=10, units1=32, units2=16;, score=0.602 total time=  51.4s\n"
     ]
    },
    {
     "name": "stdout",
     "output_type": "stream",
     "text": [
      "[CV 2/2] END batch_size=64, epochs=10, units1=32, units2=16;, score=0.602 total time=  49.8s\n"
     ]
    },
    {
     "name": "stdout",
     "output_type": "stream",
     "text": [
      "[CV 1/2] END batch_size=64, epochs=10, units1=32, units2=32;, score=0.608 total time=  49.4s\n"
     ]
    },
    {
     "name": "stdout",
     "output_type": "stream",
     "text": [
      "[CV 2/2] END batch_size=64, epochs=10, units1=32, units2=32;, score=0.611 total time=  49.7s\n"
     ]
    },
    {
     "name": "stdout",
     "output_type": "stream",
     "text": [
      "[CV 1/2] END batch_size=64, epochs=10, units1=32, units2=64;, score=0.615 total time=  49.4s\n"
     ]
    },
    {
     "name": "stdout",
     "output_type": "stream",
     "text": [
      "[CV 2/2] END batch_size=64, epochs=10, units1=32, units2=64;, score=0.610 total time=  49.3s\n"
     ]
    },
    {
     "name": "stdout",
     "output_type": "stream",
     "text": [
      "[CV 1/2] END batch_size=64, epochs=10, units1=32, units2=128;, score=0.606 total time=  49.7s\n"
     ]
    },
    {
     "name": "stdout",
     "output_type": "stream",
     "text": [
      "[CV 2/2] END batch_size=64, epochs=10, units1=32, units2=128;, score=0.604 total time=  49.6s\n"
     ]
    },
    {
     "name": "stdout",
     "output_type": "stream",
     "text": [
      "[CV 1/2] END batch_size=64, epochs=10, units1=64, units2=16;, score=0.612 total time=  49.6s\n"
     ]
    },
    {
     "name": "stdout",
     "output_type": "stream",
     "text": [
      "[CV 2/2] END batch_size=64, epochs=10, units1=64, units2=16;, score=0.609 total time=  49.6s\n"
     ]
    },
    {
     "name": "stdout",
     "output_type": "stream",
     "text": [
      "[CV 1/2] END batch_size=64, epochs=10, units1=64, units2=32;, score=0.615 total time=  51.6s\n"
     ]
    },
    {
     "name": "stdout",
     "output_type": "stream",
     "text": [
      "[CV 2/2] END batch_size=64, epochs=10, units1=64, units2=32;, score=0.609 total time=  49.8s\n"
     ]
    },
    {
     "name": "stdout",
     "output_type": "stream",
     "text": [
      "[CV 1/2] END batch_size=64, epochs=10, units1=64, units2=64;, score=0.609 total time=  50.0s\n"
     ]
    },
    {
     "name": "stdout",
     "output_type": "stream",
     "text": [
      "[CV 2/2] END batch_size=64, epochs=10, units1=64, units2=64;, score=0.616 total time=  49.7s\n"
     ]
    },
    {
     "name": "stdout",
     "output_type": "stream",
     "text": [
      "[CV 1/2] END batch_size=64, epochs=10, units1=64, units2=128;, score=0.606 total time=  49.3s\n"
     ]
    },
    {
     "name": "stdout",
     "output_type": "stream",
     "text": [
      "[CV 2/2] END batch_size=64, epochs=10, units1=64, units2=128;, score=0.611 total time=  49.8s\n"
     ]
    },
    {
     "name": "stdout",
     "output_type": "stream",
     "text": [
      "[CV 1/2] END batch_size=64, epochs=20, units1=16, units2=16;, score=0.606 total time= 1.6min\n"
     ]
    },
    {
     "name": "stdout",
     "output_type": "stream",
     "text": [
      "[CV 2/2] END batch_size=64, epochs=20, units1=16, units2=16;, score=0.604 total time= 1.6min\n"
     ]
    },
    {
     "name": "stdout",
     "output_type": "stream",
     "text": [
      "[CV 1/2] END batch_size=64, epochs=20, units1=16, units2=32;, score=0.617 total time= 1.6min\n"
     ]
    },
    {
     "name": "stdout",
     "output_type": "stream",
     "text": [
      "[CV 2/2] END batch_size=64, epochs=20, units1=16, units2=32;, score=0.616 total time= 1.6min\n"
     ]
    },
    {
     "name": "stdout",
     "output_type": "stream",
     "text": [
      "[CV 1/2] END batch_size=64, epochs=20, units1=16, units2=64;, score=0.619 total time= 1.6min\n"
     ]
    },
    {
     "name": "stdout",
     "output_type": "stream",
     "text": [
      "[CV 2/2] END batch_size=64, epochs=20, units1=16, units2=64;, score=0.615 total time= 1.6min\n"
     ]
    },
    {
     "name": "stdout",
     "output_type": "stream",
     "text": [
      "[CV 1/2] END batch_size=64, epochs=20, units1=16, units2=128;, score=0.612 total time= 1.6min\n"
     ]
    },
    {
     "name": "stdout",
     "output_type": "stream",
     "text": [
      "[CV 2/2] END batch_size=64, epochs=20, units1=16, units2=128;, score=0.613 total time= 1.6min\n"
     ]
    },
    {
     "name": "stdout",
     "output_type": "stream",
     "text": [
      "[CV 1/2] END batch_size=64, epochs=20, units1=32, units2=16;, score=0.612 total time= 1.6min\n"
     ]
    },
    {
     "name": "stdout",
     "output_type": "stream",
     "text": [
      "[CV 2/2] END batch_size=64, epochs=20, units1=32, units2=16;, score=0.616 total time= 1.6min\n"
     ]
    },
    {
     "name": "stdout",
     "output_type": "stream",
     "text": [
      "[CV 1/2] END batch_size=64, epochs=20, units1=32, units2=32;, score=0.615 total time= 1.6min\n"
     ]
    },
    {
     "name": "stdout",
     "output_type": "stream",
     "text": [
      "[CV 2/2] END batch_size=64, epochs=20, units1=32, units2=32;, score=0.622 total time= 1.6min\n"
     ]
    },
    {
     "name": "stdout",
     "output_type": "stream",
     "text": [
      "[CV 1/2] END batch_size=64, epochs=20, units1=32, units2=64;, score=0.619 total time= 1.6min\n"
     ]
    },
    {
     "name": "stdout",
     "output_type": "stream",
     "text": [
      "[CV 2/2] END batch_size=64, epochs=20, units1=32, units2=64;, score=0.617 total time= 1.6min\n"
     ]
    },
    {
     "name": "stdout",
     "output_type": "stream",
     "text": [
      "[CV 1/2] END batch_size=64, epochs=20, units1=32, units2=128;, score=0.618 total time= 1.6min\n"
     ]
    },
    {
     "name": "stdout",
     "output_type": "stream",
     "text": [
      "[CV 2/2] END batch_size=64, epochs=20, units1=32, units2=128;, score=0.621 total time= 1.6min\n"
     ]
    },
    {
     "name": "stdout",
     "output_type": "stream",
     "text": [
      "[CV 1/2] END batch_size=64, epochs=20, units1=64, units2=16;, score=0.614 total time= 1.6min\n"
     ]
    },
    {
     "name": "stdout",
     "output_type": "stream",
     "text": [
      "[CV 2/2] END batch_size=64, epochs=20, units1=64, units2=16;, score=0.622 total time= 1.6min\n"
     ]
    },
    {
     "name": "stdout",
     "output_type": "stream",
     "text": [
      "[CV 1/2] END batch_size=64, epochs=20, units1=64, units2=32;, score=0.619 total time= 1.6min\n"
     ]
    },
    {
     "name": "stdout",
     "output_type": "stream",
     "text": [
      "[CV 2/2] END batch_size=64, epochs=20, units1=64, units2=32;, score=0.622 total time= 1.6min\n"
     ]
    },
    {
     "name": "stdout",
     "output_type": "stream",
     "text": [
      "[CV 1/2] END batch_size=64, epochs=20, units1=64, units2=64;, score=0.624 total time= 1.6min\n"
     ]
    },
    {
     "name": "stdout",
     "output_type": "stream",
     "text": [
      "[CV 2/2] END batch_size=64, epochs=20, units1=64, units2=64;, score=0.622 total time= 1.6min\n"
     ]
    },
    {
     "name": "stdout",
     "output_type": "stream",
     "text": [
      "[CV 1/2] END batch_size=64, epochs=20, units1=64, units2=128;, score=0.622 total time= 1.6min\n"
     ]
    },
    {
     "name": "stdout",
     "output_type": "stream",
     "text": [
      "[CV 2/2] END batch_size=64, epochs=20, units1=64, units2=128;, score=0.613 total time= 1.6min\n"
     ]
    },
    {
     "name": "stdout",
     "output_type": "stream",
     "text": [
      "[CV 1/2] END batch_size=64, epochs=50, units1=16, units2=16;, score=0.621 total time= 4.0min\n"
     ]
    },
    {
     "name": "stdout",
     "output_type": "stream",
     "text": [
      "[CV 2/2] END batch_size=64, epochs=50, units1=16, units2=16;, score=0.623 total time= 3.9min\n"
     ]
    },
    {
     "name": "stdout",
     "output_type": "stream",
     "text": [
      "[CV 1/2] END batch_size=64, epochs=50, units1=16, units2=32;, score=0.628 total time= 3.9min\n"
     ]
    },
    {
     "name": "stdout",
     "output_type": "stream",
     "text": [
      "[CV 2/2] END batch_size=64, epochs=50, units1=16, units2=32;, score=0.627 total time= 3.9min\n"
     ]
    },
    {
     "name": "stdout",
     "output_type": "stream",
     "text": [
      "[CV 1/2] END batch_size=64, epochs=50, units1=16, units2=64;, score=0.634 total time= 3.9min\n"
     ]
    },
    {
     "name": "stdout",
     "output_type": "stream",
     "text": [
      "[CV 2/2] END batch_size=64, epochs=50, units1=16, units2=64;, score=0.626 total time= 3.9min\n"
     ]
    },
    {
     "name": "stdout",
     "output_type": "stream",
     "text": [
      "[CV 1/2] END batch_size=64, epochs=50, units1=16, units2=128;, score=0.631 total time= 3.9min\n"
     ]
    },
    {
     "name": "stdout",
     "output_type": "stream",
     "text": [
      "[CV 2/2] END batch_size=64, epochs=50, units1=16, units2=128;, score=0.632 total time= 3.9min\n"
     ]
    },
    {
     "name": "stdout",
     "output_type": "stream",
     "text": [
      "[CV 1/2] END batch_size=64, epochs=50, units1=32, units2=16;, score=0.622 total time= 4.0min\n"
     ]
    },
    {
     "name": "stdout",
     "output_type": "stream",
     "text": [
      "[CV 2/2] END batch_size=64, epochs=50, units1=32, units2=16;, score=0.628 total time= 4.0min\n"
     ]
    },
    {
     "name": "stdout",
     "output_type": "stream",
     "text": [
      "[CV 1/2] END batch_size=64, epochs=50, units1=32, units2=32;, score=0.622 total time= 3.9min\n"
     ]
    },
    {
     "name": "stdout",
     "output_type": "stream",
     "text": [
      "[CV 2/2] END batch_size=64, epochs=50, units1=32, units2=32;, score=0.629 total time= 3.9min\n"
     ]
    },
    {
     "name": "stdout",
     "output_type": "stream",
     "text": [
      "[CV 1/2] END batch_size=64, epochs=50, units1=32, units2=64;, score=0.631 total time= 3.9min\n"
     ]
    },
    {
     "name": "stdout",
     "output_type": "stream",
     "text": [
      "[CV 2/2] END batch_size=64, epochs=50, units1=32, units2=64;, score=0.632 total time= 3.9min\n"
     ]
    },
    {
     "name": "stdout",
     "output_type": "stream",
     "text": [
      "[CV 1/2] END batch_size=64, epochs=50, units1=32, units2=128;, score=0.623 total time= 3.9min\n"
     ]
    },
    {
     "name": "stdout",
     "output_type": "stream",
     "text": [
      "[CV 2/2] END batch_size=64, epochs=50, units1=32, units2=128;, score=0.625 total time= 3.9min\n"
     ]
    },
    {
     "name": "stdout",
     "output_type": "stream",
     "text": [
      "[CV 1/2] END batch_size=64, epochs=50, units1=64, units2=16;, score=0.630 total time= 3.9min\n"
     ]
    },
    {
     "name": "stdout",
     "output_type": "stream",
     "text": [
      "[CV 2/2] END batch_size=64, epochs=50, units1=64, units2=16;, score=0.624 total time= 3.9min\n"
     ]
    },
    {
     "name": "stdout",
     "output_type": "stream",
     "text": [
      "[CV 1/2] END batch_size=64, epochs=50, units1=64, units2=32;, score=0.629 total time= 3.9min\n"
     ]
    },
    {
     "name": "stdout",
     "output_type": "stream",
     "text": [
      "[CV 2/2] END batch_size=64, epochs=50, units1=64, units2=32;, score=0.629 total time= 3.9min\n"
     ]
    },
    {
     "name": "stdout",
     "output_type": "stream",
     "text": [
      "[CV 1/2] END batch_size=64, epochs=50, units1=64, units2=64;, score=0.629 total time= 3.9min\n"
     ]
    },
    {
     "name": "stdout",
     "output_type": "stream",
     "text": [
      "[CV 2/2] END batch_size=64, epochs=50, units1=64, units2=64;, score=0.637 total time= 3.9min\n"
     ]
    },
    {
     "name": "stdout",
     "output_type": "stream",
     "text": [
      "[CV 1/2] END batch_size=64, epochs=50, units1=64, units2=128;, score=0.634 total time= 3.9min\n"
     ]
    },
    {
     "name": "stdout",
     "output_type": "stream",
     "text": [
      "[CV 2/2] END batch_size=64, epochs=50, units1=64, units2=128;, score=0.630 total time= 3.9min\n"
     ]
    },
    {
     "name": "stdout",
     "output_type": "stream",
     "text": [
      "[CV 1/2] END batch_size=128, epochs=10, units1=16, units2=16;, score=0.591 total time=  29.9s\n"
     ]
    },
    {
     "name": "stdout",
     "output_type": "stream",
     "text": [
      "[CV 2/2] END batch_size=128, epochs=10, units1=16, units2=16;, score=0.588 total time=  26.3s\n"
     ]
    },
    {
     "name": "stdout",
     "output_type": "stream",
     "text": [
      "[CV 1/2] END batch_size=128, epochs=10, units1=16, units2=32;, score=0.598 total time=  26.1s\n"
     ]
    },
    {
     "name": "stdout",
     "output_type": "stream",
     "text": [
      "[CV 2/2] END batch_size=128, epochs=10, units1=16, units2=32;, score=0.594 total time=  26.4s\n"
     ]
    },
    {
     "name": "stdout",
     "output_type": "stream",
     "text": [
      "[CV 1/2] END batch_size=128, epochs=10, units1=16, units2=64;, score=0.600 total time=  26.1s\n"
     ]
    },
    {
     "name": "stdout",
     "output_type": "stream",
     "text": [
      "[CV 2/2] END batch_size=128, epochs=10, units1=16, units2=64;, score=0.598 total time=  26.0s\n"
     ]
    },
    {
     "name": "stdout",
     "output_type": "stream",
     "text": [
      "[CV 1/2] END batch_size=128, epochs=10, units1=16, units2=128;, score=0.548 total time=  25.9s\n"
     ]
    },
    {
     "name": "stdout",
     "output_type": "stream",
     "text": [
      "[CV 2/2] END batch_size=128, epochs=10, units1=16, units2=128;, score=0.597 total time=  26.3s\n"
     ]
    },
    {
     "name": "stdout",
     "output_type": "stream",
     "text": [
      "[CV 1/2] END batch_size=128, epochs=10, units1=32, units2=16;, score=0.580 total time=  26.2s\n"
     ]
    },
    {
     "name": "stdout",
     "output_type": "stream",
     "text": [
      "[CV 2/2] END batch_size=128, epochs=10, units1=32, units2=16;, score=0.588 total time=  26.1s\n"
     ]
    },
    {
     "name": "stdout",
     "output_type": "stream",
     "text": [
      "[CV 1/2] END batch_size=128, epochs=10, units1=32, units2=32;, score=0.597 total time=  25.9s\n"
     ]
    },
    {
     "name": "stdout",
     "output_type": "stream",
     "text": [
      "[CV 2/2] END batch_size=128, epochs=10, units1=32, units2=32;, score=0.596 total time=  25.9s\n"
     ]
    },
    {
     "name": "stdout",
     "output_type": "stream",
     "text": [
      "[CV 1/2] END batch_size=128, epochs=10, units1=32, units2=64;, score=0.609 total time=  25.9s\n"
     ]
    },
    {
     "name": "stdout",
     "output_type": "stream",
     "text": [
      "[CV 2/2] END batch_size=128, epochs=10, units1=32, units2=64;, score=0.595 total time=  26.0s\n"
     ]
    },
    {
     "name": "stdout",
     "output_type": "stream",
     "text": [
      "[CV 1/2] END batch_size=128, epochs=10, units1=32, units2=128;, score=0.593 total time=  26.0s\n"
     ]
    },
    {
     "name": "stdout",
     "output_type": "stream",
     "text": [
      "[CV 2/2] END batch_size=128, epochs=10, units1=32, units2=128;, score=0.598 total time=  26.1s\n"
     ]
    },
    {
     "name": "stdout",
     "output_type": "stream",
     "text": [
      "[CV 1/2] END batch_size=128, epochs=10, units1=64, units2=16;, score=0.611 total time=  25.9s\n"
     ]
    },
    {
     "name": "stdout",
     "output_type": "stream",
     "text": [
      "[CV 2/2] END batch_size=128, epochs=10, units1=64, units2=16;, score=0.604 total time=  26.3s\n"
     ]
    },
    {
     "name": "stdout",
     "output_type": "stream",
     "text": [
      "[CV 1/2] END batch_size=128, epochs=10, units1=64, units2=32;, score=0.610 total time=  30.0s\n"
     ]
    },
    {
     "name": "stdout",
     "output_type": "stream",
     "text": [
      "[CV 2/2] END batch_size=128, epochs=10, units1=64, units2=32;, score=0.585 total time=  26.4s\n"
     ]
    },
    {
     "name": "stdout",
     "output_type": "stream",
     "text": [
      "[CV 1/2] END batch_size=128, epochs=10, units1=64, units2=64;, score=0.604 total time=  26.1s\n"
     ]
    },
    {
     "name": "stdout",
     "output_type": "stream",
     "text": [
      "[CV 2/2] END batch_size=128, epochs=10, units1=64, units2=64;, score=0.609 total time=  26.1s\n"
     ]
    },
    {
     "name": "stdout",
     "output_type": "stream",
     "text": [
      "[CV 1/2] END batch_size=128, epochs=10, units1=64, units2=128;, score=0.608 total time=  26.3s\n"
     ]
    },
    {
     "name": "stdout",
     "output_type": "stream",
     "text": [
      "[CV 2/2] END batch_size=128, epochs=10, units1=64, units2=128;, score=0.596 total time=  25.9s\n"
     ]
    },
    {
     "name": "stdout",
     "output_type": "stream",
     "text": [
      "[CV 1/2] END batch_size=128, epochs=20, units1=16, units2=16;, score=0.604 total time=  49.7s\n"
     ]
    },
    {
     "name": "stdout",
     "output_type": "stream",
     "text": [
      "[CV 2/2] END batch_size=128, epochs=20, units1=16, units2=16;, score=0.604 total time=  49.3s\n"
     ]
    },
    {
     "name": "stdout",
     "output_type": "stream",
     "text": [
      "[CV 1/2] END batch_size=128, epochs=20, units1=16, units2=32;, score=0.598 total time=  49.1s\n"
     ]
    },
    {
     "name": "stdout",
     "output_type": "stream",
     "text": [
      "[CV 2/2] END batch_size=128, epochs=20, units1=16, units2=32;, score=0.600 total time=  49.4s\n"
     ]
    },
    {
     "name": "stdout",
     "output_type": "stream",
     "text": [
      "[CV 1/2] END batch_size=128, epochs=20, units1=16, units2=64;, score=0.619 total time=  49.5s\n"
     ]
    },
    {
     "name": "stdout",
     "output_type": "stream",
     "text": [
      "[CV 2/2] END batch_size=128, epochs=20, units1=16, units2=64;, score=0.608 total time=  49.3s\n"
     ]
    },
    {
     "name": "stdout",
     "output_type": "stream",
     "text": [
      "[CV 1/2] END batch_size=128, epochs=20, units1=16, units2=128;, score=0.614 total time=  49.1s\n"
     ]
    },
    {
     "name": "stdout",
     "output_type": "stream",
     "text": [
      "[CV 2/2] END batch_size=128, epochs=20, units1=16, units2=128;, score=0.604 total time=  49.2s\n"
     ]
    },
    {
     "name": "stdout",
     "output_type": "stream",
     "text": [
      "[CV 1/2] END batch_size=128, epochs=20, units1=32, units2=16;, score=0.613 total time=  49.1s\n"
     ]
    },
    {
     "name": "stdout",
     "output_type": "stream",
     "text": [
      "[CV 2/2] END batch_size=128, epochs=20, units1=32, units2=16;, score=0.610 total time=  49.3s\n"
     ]
    },
    {
     "name": "stdout",
     "output_type": "stream",
     "text": [
      "[CV 1/2] END batch_size=128, epochs=20, units1=32, units2=32;, score=0.603 total time=  49.0s\n"
     ]
    },
    {
     "name": "stdout",
     "output_type": "stream",
     "text": [
      "[CV 2/2] END batch_size=128, epochs=20, units1=32, units2=32;, score=0.601 total time=  49.5s\n"
     ]
    },
    {
     "name": "stdout",
     "output_type": "stream",
     "text": [
      "[CV 1/2] END batch_size=128, epochs=20, units1=32, units2=64;, score=0.605 total time=  49.2s\n"
     ]
    },
    {
     "name": "stdout",
     "output_type": "stream",
     "text": [
      "[CV 2/2] END batch_size=128, epochs=20, units1=32, units2=64;, score=0.619 total time=  53.7s\n"
     ]
    },
    {
     "name": "stdout",
     "output_type": "stream",
     "text": [
      "[CV 1/2] END batch_size=128, epochs=20, units1=32, units2=128;, score=0.620 total time=  49.4s\n"
     ]
    },
    {
     "name": "stdout",
     "output_type": "stream",
     "text": [
      "[CV 2/2] END batch_size=128, epochs=20, units1=32, units2=128;, score=0.608 total time=  49.1s\n"
     ]
    },
    {
     "name": "stdout",
     "output_type": "stream",
     "text": [
      "[CV 1/2] END batch_size=128, epochs=20, units1=64, units2=16;, score=0.615 total time=  49.4s\n"
     ]
    },
    {
     "name": "stdout",
     "output_type": "stream",
     "text": [
      "[CV 2/2] END batch_size=128, epochs=20, units1=64, units2=16;, score=0.616 total time=  49.6s\n"
     ]
    },
    {
     "name": "stdout",
     "output_type": "stream",
     "text": [
      "[CV 1/2] END batch_size=128, epochs=20, units1=64, units2=32;, score=0.621 total time=  49.0s\n"
     ]
    },
    {
     "name": "stdout",
     "output_type": "stream",
     "text": [
      "[CV 2/2] END batch_size=128, epochs=20, units1=64, units2=32;, score=0.620 total time=  49.0s\n"
     ]
    },
    {
     "name": "stdout",
     "output_type": "stream",
     "text": [
      "[CV 1/2] END batch_size=128, epochs=20, units1=64, units2=64;, score=0.617 total time=  49.2s\n"
     ]
    },
    {
     "name": "stdout",
     "output_type": "stream",
     "text": [
      "[CV 2/2] END batch_size=128, epochs=20, units1=64, units2=64;, score=0.620 total time=  49.1s\n"
     ]
    },
    {
     "name": "stdout",
     "output_type": "stream",
     "text": [
      "[CV 1/2] END batch_size=128, epochs=20, units1=64, units2=128;, score=0.629 total time=  49.0s\n"
     ]
    },
    {
     "name": "stdout",
     "output_type": "stream",
     "text": [
      "[CV 2/2] END batch_size=128, epochs=20, units1=64, units2=128;, score=0.617 total time=  49.0s\n"
     ]
    },
    {
     "name": "stdout",
     "output_type": "stream",
     "text": [
      "[CV 1/2] END batch_size=128, epochs=50, units1=16, units2=16;, score=0.618 total time= 2.0min\n"
     ]
    },
    {
     "name": "stdout",
     "output_type": "stream",
     "text": [
      "[CV 2/2] END batch_size=128, epochs=50, units1=16, units2=16;, score=0.620 total time= 2.0min\n"
     ]
    },
    {
     "name": "stdout",
     "output_type": "stream",
     "text": [
      "[CV 1/2] END batch_size=128, epochs=50, units1=16, units2=32;, score=0.623 total time= 2.0min\n"
     ]
    },
    {
     "name": "stdout",
     "output_type": "stream",
     "text": [
      "[CV 2/2] END batch_size=128, epochs=50, units1=16, units2=32;, score=0.622 total time= 2.0min\n"
     ]
    },
    {
     "name": "stdout",
     "output_type": "stream",
     "text": [
      "[CV 1/2] END batch_size=128, epochs=50, units1=16, units2=64;, score=0.624 total time= 2.0min\n"
     ]
    },
    {
     "name": "stdout",
     "output_type": "stream",
     "text": [
      "[CV 2/2] END batch_size=128, epochs=50, units1=16, units2=64;, score=0.618 total time= 2.0min\n"
     ]
    },
    {
     "name": "stdout",
     "output_type": "stream",
     "text": [
      "[CV 1/2] END batch_size=128, epochs=50, units1=16, units2=128;, score=0.624 total time= 2.0min\n"
     ]
    },
    {
     "name": "stdout",
     "output_type": "stream",
     "text": [
      "[CV 2/2] END batch_size=128, epochs=50, units1=16, units2=128;, score=0.615 total time= 2.0min\n"
     ]
    },
    {
     "name": "stdout",
     "output_type": "stream",
     "text": [
      "[CV 1/2] END batch_size=128, epochs=50, units1=32, units2=16;, score=0.627 total time= 2.0min\n"
     ]
    },
    {
     "name": "stdout",
     "output_type": "stream",
     "text": [
      "[CV 2/2] END batch_size=128, epochs=50, units1=32, units2=16;, score=0.620 total time= 2.0min\n"
     ]
    },
    {
     "name": "stdout",
     "output_type": "stream",
     "text": [
      "[CV 1/2] END batch_size=128, epochs=50, units1=32, units2=32;, score=0.623 total time= 2.1min\n"
     ]
    },
    {
     "name": "stdout",
     "output_type": "stream",
     "text": [
      "[CV 2/2] END batch_size=128, epochs=50, units1=32, units2=32;, score=0.627 total time= 2.0min\n"
     ]
    },
    {
     "name": "stdout",
     "output_type": "stream",
     "text": [
      "[CV 1/2] END batch_size=128, epochs=50, units1=32, units2=64;, score=0.631 total time= 2.0min\n"
     ]
    },
    {
     "name": "stdout",
     "output_type": "stream",
     "text": [
      "[CV 2/2] END batch_size=128, epochs=50, units1=32, units2=64;, score=0.628 total time= 2.0min\n"
     ]
    },
    {
     "name": "stdout",
     "output_type": "stream",
     "text": [
      "[CV 1/2] END batch_size=128, epochs=50, units1=32, units2=128;, score=0.632 total time= 2.0min\n"
     ]
    },
    {
     "name": "stdout",
     "output_type": "stream",
     "text": [
      "[CV 2/2] END batch_size=128, epochs=50, units1=32, units2=128;, score=0.630 total time= 2.0min\n"
     ]
    },
    {
     "name": "stdout",
     "output_type": "stream",
     "text": [
      "[CV 1/2] END batch_size=128, epochs=50, units1=64, units2=16;, score=0.623 total time= 2.0min\n"
     ]
    },
    {
     "name": "stdout",
     "output_type": "stream",
     "text": [
      "[CV 2/2] END batch_size=128, epochs=50, units1=64, units2=16;, score=0.628 total time= 2.0min\n"
     ]
    },
    {
     "name": "stdout",
     "output_type": "stream",
     "text": [
      "[CV 1/2] END batch_size=128, epochs=50, units1=64, units2=32;, score=0.624 total time= 2.0min\n"
     ]
    },
    {
     "name": "stdout",
     "output_type": "stream",
     "text": [
      "[CV 2/2] END batch_size=128, epochs=50, units1=64, units2=32;, score=0.604 total time= 2.0min\n"
     ]
    },
    {
     "name": "stdout",
     "output_type": "stream",
     "text": [
      "[CV 1/2] END batch_size=128, epochs=50, units1=64, units2=64;, score=0.635 total time= 2.0min\n"
     ]
    },
    {
     "name": "stdout",
     "output_type": "stream",
     "text": [
      "[CV 2/2] END batch_size=128, epochs=50, units1=64, units2=64;, score=0.622 total time= 2.0min\n"
     ]
    },
    {
     "name": "stdout",
     "output_type": "stream",
     "text": [
      "[CV 1/2] END batch_size=128, epochs=50, units1=64, units2=128;, score=0.634 total time= 2.0min\n"
     ]
    },
    {
     "name": "stdout",
     "output_type": "stream",
     "text": [
      "[CV 2/2] END batch_size=128, epochs=50, units1=64, units2=128;, score=0.632 total time= 2.0min\n"
     ]
    },
    {
     "name": "stdout",
     "output_type": "stream",
     "text": [
      "Best: 0.633083237893147 using {'batch_size': 128, 'epochs': 50, 'units1': 64, 'units2': 128}\n"
     ]
    },
    {
     "name": "stdout",
     "output_type": "stream",
     "text": [
      "INFO:tensorflow:Assets written to: ram://bc75b1aaa5184b10b260e558704cf4c3/assets\n"
     ]
    },
    {
     "name": "stderr",
     "output_type": "stream",
     "text": [
      "INFO:tensorflow:Assets written to: ram://bc75b1aaa5184b10b260e558704cf4c3/assets\n"
     ]
    }
   ],
   "source": [
    "if (not os.path.exists('gridsearch/RNN_fulldata.joblib')):\n",
    "\n",
    "    # Create a KerasRegressor\n",
    "    regressor_fulldata = KerasRegressor(model=buildModel, input_dim=X_train1.shape[1], verbose=0, epochs=100, batch_size=128, units1=64, units2=64)\n",
    "\n",
    "    # Create a GridSearchCV and fit the model\n",
    "    grid_fulldata = GridSearchCV(estimator=regressor_fulldata, param_grid=param_grid, cv=2, verbose=3)\n",
    "    grid_result_fulldata = grid_fulldata.fit(X_train1, y_train1)\n",
    "\n",
    "    # Summarize results\n",
    "    print(f\"Best: {grid_result_fulldata.best_score_} using {grid_result_fulldata.best_params_}\")\n",
    "\n",
    "    # Save grid_result to a file\n",
    "    dump(grid_result_fulldata, 'gridsearch/RNN_fulldata.joblib')\n",
    "\n",
    "else:\n",
    "    # Load grid_result from a file\n",
    "    grid_result_fulldata = load('gridsearch/RNN_fulldata.joblib')\n",
    "\n",
    "    # Summarize results\n",
    "    print(f\"Best: {grid_result_fulldata.best_score_} using {grid_result_fulldata.best_params_}\")"
   ]
  },
  {
   "cell_type": "code",
   "execution_count": 11,
   "id": "fe51a4de",
   "metadata": {
    "execution": {
     "iopub.execute_input": "2024-03-21T20:16:15.733753Z",
     "iopub.status.busy": "2024-03-21T20:16:15.733441Z",
     "iopub.status.idle": "2024-03-21T20:16:18.238202Z",
     "shell.execute_reply": "2024-03-21T20:16:18.237741Z"
    },
    "papermill": {
     "duration": 2.553127,
     "end_time": "2024-03-21T20:16:18.267422",
     "exception": false,
     "start_time": "2024-03-21T20:16:15.714295",
     "status": "completed"
    },
    "tags": []
   },
   "outputs": [
    {
     "name": "stderr",
     "output_type": "stream",
     "text": [
      "2024-03-22 04:16:17.542648: W tensorflow/core/util/tensor_slice_reader.cc:98] Could not open ram://54b55f3ce7104ec6ba47bcbb866c618d: INVALID_ARGUMENT: ram://54b55f3ce7104ec6ba47bcbb866c618d is a directory.\n"
     ]
    },
    {
     "name": "stdout",
     "output_type": "stream",
     "text": [
      "Test MAE: 0.6290131769567453\n"
     ]
    }
   ],
   "source": [
    "# Load and evaluate the model with the test data using the best hyperparameters\n",
    "grid_result_fulldata = load('gridsearch/RNN_fulldata.joblib')\n",
    "test_score = grid_result_fulldata.score(X_test1, y_test1)\n",
    "print(f\"Test MAE: {test_score}\")"
   ]
  },
  {
   "cell_type": "markdown",
   "id": "ce5421df",
   "metadata": {
    "papermill": {
     "duration": 0.028085,
     "end_time": "2024-03-21T20:16:18.314928",
     "exception": false,
     "start_time": "2024-03-21T20:16:18.286843",
     "status": "completed"
    },
    "tags": []
   },
   "source": [
    "#### Pre-COVID Dataset"
   ]
  },
  {
   "cell_type": "code",
   "execution_count": 12,
   "id": "e96dea06",
   "metadata": {
    "execution": {
     "iopub.execute_input": "2024-03-21T20:16:18.382890Z",
     "iopub.status.busy": "2024-03-21T20:16:18.382727Z",
     "iopub.status.idle": "2024-03-22T00:17:53.512425Z",
     "shell.execute_reply": "2024-03-22T00:17:53.511965Z"
    },
    "papermill": {
     "duration": 14495.156925,
     "end_time": "2024-03-22T00:17:53.513667",
     "exception": false,
     "start_time": "2024-03-21T20:16:18.356742",
     "status": "completed"
    },
    "tags": []
   },
   "outputs": [
    {
     "name": "stdout",
     "output_type": "stream",
     "text": [
      "Fitting 2 folds for each of 108 candidates, totalling 216 fits\n"
     ]
    },
    {
     "name": "stdout",
     "output_type": "stream",
     "text": [
      "[CV 1/2] END batch_size=32, epochs=10, units1=16, units2=16;, score=0.618 total time=  44.3s\n"
     ]
    },
    {
     "name": "stdout",
     "output_type": "stream",
     "text": [
      "[CV 2/2] END batch_size=32, epochs=10, units1=16, units2=16;, score=0.619 total time=  44.2s\n"
     ]
    },
    {
     "name": "stdout",
     "output_type": "stream",
     "text": [
      "[CV 1/2] END batch_size=32, epochs=10, units1=16, units2=32;, score=0.623 total time=  50.5s\n"
     ]
    },
    {
     "name": "stdout",
     "output_type": "stream",
     "text": [
      "[CV 2/2] END batch_size=32, epochs=10, units1=16, units2=32;, score=0.619 total time=  44.7s\n"
     ]
    },
    {
     "name": "stdout",
     "output_type": "stream",
     "text": [
      "[CV 1/2] END batch_size=32, epochs=10, units1=16, units2=64;, score=0.624 total time=  44.5s\n"
     ]
    },
    {
     "name": "stdout",
     "output_type": "stream",
     "text": [
      "[CV 2/2] END batch_size=32, epochs=10, units1=16, units2=64;, score=0.618 total time=  44.5s\n"
     ]
    },
    {
     "name": "stdout",
     "output_type": "stream",
     "text": [
      "[CV 1/2] END batch_size=32, epochs=10, units1=16, units2=128;, score=0.624 total time=  44.6s\n"
     ]
    },
    {
     "name": "stdout",
     "output_type": "stream",
     "text": [
      "[CV 2/2] END batch_size=32, epochs=10, units1=16, units2=128;, score=0.618 total time=  44.6s\n"
     ]
    },
    {
     "name": "stdout",
     "output_type": "stream",
     "text": [
      "[CV 1/2] END batch_size=32, epochs=10, units1=32, units2=16;, score=0.622 total time=  43.9s\n"
     ]
    },
    {
     "name": "stdout",
     "output_type": "stream",
     "text": [
      "[CV 2/2] END batch_size=32, epochs=10, units1=32, units2=16;, score=0.619 total time=  43.9s\n"
     ]
    },
    {
     "name": "stdout",
     "output_type": "stream",
     "text": [
      "[CV 1/2] END batch_size=32, epochs=10, units1=32, units2=32;, score=0.628 total time=  43.7s\n"
     ]
    },
    {
     "name": "stdout",
     "output_type": "stream",
     "text": [
      "[CV 2/2] END batch_size=32, epochs=10, units1=32, units2=32;, score=0.627 total time=  43.5s\n"
     ]
    },
    {
     "name": "stdout",
     "output_type": "stream",
     "text": [
      "[CV 1/2] END batch_size=32, epochs=10, units1=32, units2=64;, score=0.623 total time=  43.6s\n"
     ]
    },
    {
     "name": "stdout",
     "output_type": "stream",
     "text": [
      "[CV 2/2] END batch_size=32, epochs=10, units1=32, units2=64;, score=0.616 total time=  44.0s\n"
     ]
    },
    {
     "name": "stdout",
     "output_type": "stream",
     "text": [
      "[CV 1/2] END batch_size=32, epochs=10, units1=32, units2=128;, score=0.621 total time=  44.0s\n"
     ]
    },
    {
     "name": "stdout",
     "output_type": "stream",
     "text": [
      "[CV 2/2] END batch_size=32, epochs=10, units1=32, units2=128;, score=0.623 total time=  43.7s\n"
     ]
    },
    {
     "name": "stdout",
     "output_type": "stream",
     "text": [
      "[CV 1/2] END batch_size=32, epochs=10, units1=64, units2=16;, score=0.614 total time=  43.9s\n"
     ]
    },
    {
     "name": "stdout",
     "output_type": "stream",
     "text": [
      "[CV 2/2] END batch_size=32, epochs=10, units1=64, units2=16;, score=0.635 total time=  44.0s\n"
     ]
    },
    {
     "name": "stdout",
     "output_type": "stream",
     "text": [
      "[CV 1/2] END batch_size=32, epochs=10, units1=64, units2=32;, score=0.627 total time=  43.8s\n"
     ]
    },
    {
     "name": "stdout",
     "output_type": "stream",
     "text": [
      "[CV 2/2] END batch_size=32, epochs=10, units1=64, units2=32;, score=0.624 total time=  43.9s\n"
     ]
    },
    {
     "name": "stdout",
     "output_type": "stream",
     "text": [
      "[CV 1/2] END batch_size=32, epochs=10, units1=64, units2=64;, score=0.619 total time=  44.0s\n"
     ]
    },
    {
     "name": "stdout",
     "output_type": "stream",
     "text": [
      "[CV 2/2] END batch_size=32, epochs=10, units1=64, units2=64;, score=0.623 total time=  43.8s\n"
     ]
    },
    {
     "name": "stdout",
     "output_type": "stream",
     "text": [
      "[CV 1/2] END batch_size=32, epochs=10, units1=64, units2=128;, score=0.625 total time=  44.3s\n"
     ]
    },
    {
     "name": "stdout",
     "output_type": "stream",
     "text": [
      "[CV 2/2] END batch_size=32, epochs=10, units1=64, units2=128;, score=0.628 total time=  43.8s\n"
     ]
    },
    {
     "name": "stdout",
     "output_type": "stream",
     "text": [
      "[CV 1/2] END batch_size=32, epochs=20, units1=16, units2=16;, score=0.629 total time= 1.4min\n"
     ]
    },
    {
     "name": "stdout",
     "output_type": "stream",
     "text": [
      "[CV 2/2] END batch_size=32, epochs=20, units1=16, units2=16;, score=0.630 total time= 1.4min\n"
     ]
    },
    {
     "name": "stdout",
     "output_type": "stream",
     "text": [
      "[CV 1/2] END batch_size=32, epochs=20, units1=16, units2=32;, score=0.633 total time= 1.4min\n"
     ]
    },
    {
     "name": "stdout",
     "output_type": "stream",
     "text": [
      "[CV 2/2] END batch_size=32, epochs=20, units1=16, units2=32;, score=0.636 total time= 1.5min\n"
     ]
    },
    {
     "name": "stdout",
     "output_type": "stream",
     "text": [
      "[CV 1/2] END batch_size=32, epochs=20, units1=16, units2=64;, score=0.632 total time= 1.4min\n"
     ]
    },
    {
     "name": "stdout",
     "output_type": "stream",
     "text": [
      "[CV 2/2] END batch_size=32, epochs=20, units1=16, units2=64;, score=0.631 total time= 1.4min\n"
     ]
    },
    {
     "name": "stdout",
     "output_type": "stream",
     "text": [
      "[CV 1/2] END batch_size=32, epochs=20, units1=16, units2=128;, score=0.617 total time= 1.4min\n"
     ]
    },
    {
     "name": "stdout",
     "output_type": "stream",
     "text": [
      "[CV 2/2] END batch_size=32, epochs=20, units1=16, units2=128;, score=0.626 total time= 1.4min\n"
     ]
    },
    {
     "name": "stdout",
     "output_type": "stream",
     "text": [
      "[CV 1/2] END batch_size=32, epochs=20, units1=32, units2=16;, score=0.641 total time= 1.4min\n"
     ]
    },
    {
     "name": "stdout",
     "output_type": "stream",
     "text": [
      "[CV 2/2] END batch_size=32, epochs=20, units1=32, units2=16;, score=0.633 total time= 1.4min\n"
     ]
    },
    {
     "name": "stdout",
     "output_type": "stream",
     "text": [
      "[CV 1/2] END batch_size=32, epochs=20, units1=32, units2=32;, score=0.645 total time= 1.4min\n"
     ]
    },
    {
     "name": "stdout",
     "output_type": "stream",
     "text": [
      "[CV 2/2] END batch_size=32, epochs=20, units1=32, units2=32;, score=0.631 total time= 1.4min\n"
     ]
    },
    {
     "name": "stdout",
     "output_type": "stream",
     "text": [
      "[CV 1/2] END batch_size=32, epochs=20, units1=32, units2=64;, score=0.628 total time= 1.4min\n"
     ]
    },
    {
     "name": "stdout",
     "output_type": "stream",
     "text": [
      "[CV 2/2] END batch_size=32, epochs=20, units1=32, units2=64;, score=0.640 total time= 1.4min\n"
     ]
    },
    {
     "name": "stdout",
     "output_type": "stream",
     "text": [
      "[CV 1/2] END batch_size=32, epochs=20, units1=32, units2=128;, score=0.630 total time= 1.4min\n"
     ]
    },
    {
     "name": "stdout",
     "output_type": "stream",
     "text": [
      "[CV 2/2] END batch_size=32, epochs=20, units1=32, units2=128;, score=0.639 total time= 1.4min\n"
     ]
    },
    {
     "name": "stdout",
     "output_type": "stream",
     "text": [
      "[CV 1/2] END batch_size=32, epochs=20, units1=64, units2=16;, score=0.636 total time= 1.4min\n"
     ]
    },
    {
     "name": "stdout",
     "output_type": "stream",
     "text": [
      "[CV 2/2] END batch_size=32, epochs=20, units1=64, units2=16;, score=0.634 total time= 1.4min\n"
     ]
    },
    {
     "name": "stdout",
     "output_type": "stream",
     "text": [
      "[CV 1/2] END batch_size=32, epochs=20, units1=64, units2=32;, score=0.632 total time= 1.4min\n"
     ]
    },
    {
     "name": "stdout",
     "output_type": "stream",
     "text": [
      "[CV 2/2] END batch_size=32, epochs=20, units1=64, units2=32;, score=0.633 total time= 1.4min\n"
     ]
    },
    {
     "name": "stdout",
     "output_type": "stream",
     "text": [
      "[CV 1/2] END batch_size=32, epochs=20, units1=64, units2=64;, score=0.621 total time= 1.4min\n"
     ]
    },
    {
     "name": "stdout",
     "output_type": "stream",
     "text": [
      "[CV 2/2] END batch_size=32, epochs=20, units1=64, units2=64;, score=0.643 total time= 1.4min\n"
     ]
    },
    {
     "name": "stdout",
     "output_type": "stream",
     "text": [
      "[CV 1/2] END batch_size=32, epochs=20, units1=64, units2=128;, score=0.637 total time= 1.4min\n"
     ]
    },
    {
     "name": "stdout",
     "output_type": "stream",
     "text": [
      "[CV 2/2] END batch_size=32, epochs=20, units1=64, units2=128;, score=0.633 total time= 1.4min\n"
     ]
    },
    {
     "name": "stdout",
     "output_type": "stream",
     "text": [
      "[CV 1/2] END batch_size=32, epochs=50, units1=16, units2=16;, score=0.640 total time= 3.5min\n"
     ]
    },
    {
     "name": "stdout",
     "output_type": "stream",
     "text": [
      "[CV 2/2] END batch_size=32, epochs=50, units1=16, units2=16;, score=0.646 total time= 3.4min\n"
     ]
    },
    {
     "name": "stdout",
     "output_type": "stream",
     "text": [
      "[CV 1/2] END batch_size=32, epochs=50, units1=16, units2=32;, score=0.648 total time= 3.5min\n"
     ]
    },
    {
     "name": "stdout",
     "output_type": "stream",
     "text": [
      "[CV 2/2] END batch_size=32, epochs=50, units1=16, units2=32;, score=0.643 total time= 3.5min\n"
     ]
    },
    {
     "name": "stdout",
     "output_type": "stream",
     "text": [
      "[CV 1/2] END batch_size=32, epochs=50, units1=16, units2=64;, score=0.645 total time= 3.5min\n"
     ]
    },
    {
     "name": "stdout",
     "output_type": "stream",
     "text": [
      "[CV 2/2] END batch_size=32, epochs=50, units1=16, units2=64;, score=0.640 total time= 3.5min\n"
     ]
    },
    {
     "name": "stdout",
     "output_type": "stream",
     "text": [
      "[CV 1/2] END batch_size=32, epochs=50, units1=16, units2=128;, score=0.646 total time= 3.5min\n"
     ]
    },
    {
     "name": "stdout",
     "output_type": "stream",
     "text": [
      "[CV 2/2] END batch_size=32, epochs=50, units1=16, units2=128;, score=0.643 total time= 3.6min\n"
     ]
    },
    {
     "name": "stdout",
     "output_type": "stream",
     "text": [
      "[CV 1/2] END batch_size=32, epochs=50, units1=32, units2=16;, score=0.648 total time= 3.5min\n"
     ]
    },
    {
     "name": "stdout",
     "output_type": "stream",
     "text": [
      "[CV 2/2] END batch_size=32, epochs=50, units1=32, units2=16;, score=0.646 total time= 3.5min\n"
     ]
    },
    {
     "name": "stdout",
     "output_type": "stream",
     "text": [
      "[CV 1/2] END batch_size=32, epochs=50, units1=32, units2=32;, score=0.646 total time= 3.4min\n"
     ]
    },
    {
     "name": "stdout",
     "output_type": "stream",
     "text": [
      "[CV 2/2] END batch_size=32, epochs=50, units1=32, units2=32;, score=0.655 total time= 3.5min\n"
     ]
    },
    {
     "name": "stdout",
     "output_type": "stream",
     "text": [
      "[CV 1/2] END batch_size=32, epochs=50, units1=32, units2=64;, score=0.642 total time= 3.4min\n"
     ]
    },
    {
     "name": "stdout",
     "output_type": "stream",
     "text": [
      "[CV 2/2] END batch_size=32, epochs=50, units1=32, units2=64;, score=0.648 total time= 3.5min\n"
     ]
    },
    {
     "name": "stdout",
     "output_type": "stream",
     "text": [
      "[CV 1/2] END batch_size=32, epochs=50, units1=32, units2=128;, score=0.646 total time= 3.4min\n"
     ]
    },
    {
     "name": "stdout",
     "output_type": "stream",
     "text": [
      "[CV 2/2] END batch_size=32, epochs=50, units1=32, units2=128;, score=0.643 total time= 3.5min\n"
     ]
    },
    {
     "name": "stdout",
     "output_type": "stream",
     "text": [
      "[CV 1/2] END batch_size=32, epochs=50, units1=64, units2=16;, score=0.646 total time= 3.5min\n"
     ]
    },
    {
     "name": "stdout",
     "output_type": "stream",
     "text": [
      "[CV 2/2] END batch_size=32, epochs=50, units1=64, units2=16;, score=0.651 total time= 3.4min\n"
     ]
    },
    {
     "name": "stdout",
     "output_type": "stream",
     "text": [
      "[CV 1/2] END batch_size=32, epochs=50, units1=64, units2=32;, score=0.646 total time= 3.4min\n"
     ]
    },
    {
     "name": "stdout",
     "output_type": "stream",
     "text": [
      "[CV 2/2] END batch_size=32, epochs=50, units1=64, units2=32;, score=0.648 total time= 3.5min\n"
     ]
    },
    {
     "name": "stdout",
     "output_type": "stream",
     "text": [
      "[CV 1/2] END batch_size=32, epochs=50, units1=64, units2=64;, score=0.650 total time= 3.4min\n"
     ]
    },
    {
     "name": "stdout",
     "output_type": "stream",
     "text": [
      "[CV 2/2] END batch_size=32, epochs=50, units1=64, units2=64;, score=0.643 total time= 3.4min\n"
     ]
    },
    {
     "name": "stdout",
     "output_type": "stream",
     "text": [
      "[CV 1/2] END batch_size=32, epochs=50, units1=64, units2=128;, score=0.635 total time= 3.4min\n"
     ]
    },
    {
     "name": "stdout",
     "output_type": "stream",
     "text": [
      "[CV 2/2] END batch_size=32, epochs=50, units1=64, units2=128;, score=0.650 total time= 3.4min\n"
     ]
    },
    {
     "name": "stdout",
     "output_type": "stream",
     "text": [
      "[CV 1/2] END batch_size=64, epochs=10, units1=16, units2=16;, score=0.620 total time=  23.4s\n"
     ]
    },
    {
     "name": "stdout",
     "output_type": "stream",
     "text": [
      "[CV 2/2] END batch_size=64, epochs=10, units1=16, units2=16;, score=0.610 total time=  23.4s\n"
     ]
    },
    {
     "name": "stdout",
     "output_type": "stream",
     "text": [
      "[CV 1/2] END batch_size=64, epochs=10, units1=16, units2=32;, score=0.618 total time=  23.4s\n"
     ]
    },
    {
     "name": "stdout",
     "output_type": "stream",
     "text": [
      "[CV 2/2] END batch_size=64, epochs=10, units1=16, units2=32;, score=0.622 total time=  23.4s\n"
     ]
    },
    {
     "name": "stdout",
     "output_type": "stream",
     "text": [
      "[CV 1/2] END batch_size=64, epochs=10, units1=16, units2=64;, score=0.621 total time=  23.3s\n"
     ]
    },
    {
     "name": "stdout",
     "output_type": "stream",
     "text": [
      "[CV 2/2] END batch_size=64, epochs=10, units1=16, units2=64;, score=0.605 total time=  23.4s\n"
     ]
    },
    {
     "name": "stdout",
     "output_type": "stream",
     "text": [
      "[CV 1/2] END batch_size=64, epochs=10, units1=16, units2=128;, score=0.616 total time=  23.3s\n"
     ]
    },
    {
     "name": "stdout",
     "output_type": "stream",
     "text": [
      "[CV 2/2] END batch_size=64, epochs=10, units1=16, units2=128;, score=0.625 total time=  23.1s\n"
     ]
    },
    {
     "name": "stdout",
     "output_type": "stream",
     "text": [
      "[CV 1/2] END batch_size=64, epochs=10, units1=32, units2=16;, score=0.611 total time=  23.2s\n"
     ]
    },
    {
     "name": "stdout",
     "output_type": "stream",
     "text": [
      "[CV 2/2] END batch_size=64, epochs=10, units1=32, units2=16;, score=0.613 total time=  23.2s\n"
     ]
    },
    {
     "name": "stdout",
     "output_type": "stream",
     "text": [
      "[CV 1/2] END batch_size=64, epochs=10, units1=32, units2=32;, score=0.609 total time=  23.0s\n"
     ]
    },
    {
     "name": "stdout",
     "output_type": "stream",
     "text": [
      "[CV 2/2] END batch_size=64, epochs=10, units1=32, units2=32;, score=0.622 total time=  23.2s\n"
     ]
    },
    {
     "name": "stdout",
     "output_type": "stream",
     "text": [
      "[CV 1/2] END batch_size=64, epochs=10, units1=32, units2=64;, score=0.620 total time=  23.2s\n"
     ]
    },
    {
     "name": "stdout",
     "output_type": "stream",
     "text": [
      "[CV 2/2] END batch_size=64, epochs=10, units1=32, units2=64;, score=0.627 total time=  23.1s\n"
     ]
    },
    {
     "name": "stdout",
     "output_type": "stream",
     "text": [
      "[CV 1/2] END batch_size=64, epochs=10, units1=32, units2=128;, score=0.624 total time=  23.2s\n"
     ]
    },
    {
     "name": "stdout",
     "output_type": "stream",
     "text": [
      "[CV 2/2] END batch_size=64, epochs=10, units1=32, units2=128;, score=0.619 total time=  31.8s\n"
     ]
    },
    {
     "name": "stdout",
     "output_type": "stream",
     "text": [
      "[CV 1/2] END batch_size=64, epochs=10, units1=64, units2=16;, score=0.624 total time=  23.8s\n"
     ]
    },
    {
     "name": "stdout",
     "output_type": "stream",
     "text": [
      "[CV 2/2] END batch_size=64, epochs=10, units1=64, units2=16;, score=0.627 total time=  23.7s\n"
     ]
    },
    {
     "name": "stdout",
     "output_type": "stream",
     "text": [
      "[CV 1/2] END batch_size=64, epochs=10, units1=64, units2=32;, score=0.622 total time=  23.3s\n"
     ]
    },
    {
     "name": "stdout",
     "output_type": "stream",
     "text": [
      "[CV 2/2] END batch_size=64, epochs=10, units1=64, units2=32;, score=0.634 total time=  23.4s\n"
     ]
    },
    {
     "name": "stdout",
     "output_type": "stream",
     "text": [
      "[CV 1/2] END batch_size=64, epochs=10, units1=64, units2=64;, score=0.628 total time=  23.3s\n"
     ]
    },
    {
     "name": "stdout",
     "output_type": "stream",
     "text": [
      "[CV 2/2] END batch_size=64, epochs=10, units1=64, units2=64;, score=0.602 total time=  23.2s\n"
     ]
    },
    {
     "name": "stdout",
     "output_type": "stream",
     "text": [
      "[CV 1/2] END batch_size=64, epochs=10, units1=64, units2=128;, score=0.617 total time=  23.2s\n"
     ]
    },
    {
     "name": "stdout",
     "output_type": "stream",
     "text": [
      "[CV 2/2] END batch_size=64, epochs=10, units1=64, units2=128;, score=0.605 total time=  23.4s\n"
     ]
    },
    {
     "name": "stdout",
     "output_type": "stream",
     "text": [
      "[CV 1/2] END batch_size=64, epochs=20, units1=16, units2=16;, score=0.627 total time=  44.1s\n"
     ]
    },
    {
     "name": "stdout",
     "output_type": "stream",
     "text": [
      "[CV 2/2] END batch_size=64, epochs=20, units1=16, units2=16;, score=0.625 total time=  43.6s\n"
     ]
    },
    {
     "name": "stdout",
     "output_type": "stream",
     "text": [
      "[CV 1/2] END batch_size=64, epochs=20, units1=16, units2=32;, score=0.610 total time=  43.4s\n"
     ]
    },
    {
     "name": "stdout",
     "output_type": "stream",
     "text": [
      "[CV 2/2] END batch_size=64, epochs=20, units1=16, units2=32;, score=0.638 total time=  43.6s\n"
     ]
    },
    {
     "name": "stdout",
     "output_type": "stream",
     "text": [
      "[CV 1/2] END batch_size=64, epochs=20, units1=16, units2=64;, score=0.627 total time=  43.9s\n"
     ]
    },
    {
     "name": "stdout",
     "output_type": "stream",
     "text": [
      "[CV 2/2] END batch_size=64, epochs=20, units1=16, units2=64;, score=0.627 total time=  43.8s\n"
     ]
    },
    {
     "name": "stdout",
     "output_type": "stream",
     "text": [
      "[CV 1/2] END batch_size=64, epochs=20, units1=16, units2=128;, score=0.629 total time=  43.5s\n"
     ]
    },
    {
     "name": "stdout",
     "output_type": "stream",
     "text": [
      "[CV 2/2] END batch_size=64, epochs=20, units1=16, units2=128;, score=0.628 total time=  43.9s\n"
     ]
    },
    {
     "name": "stdout",
     "output_type": "stream",
     "text": [
      "[CV 1/2] END batch_size=64, epochs=20, units1=32, units2=16;, score=0.635 total time=  43.5s\n"
     ]
    },
    {
     "name": "stdout",
     "output_type": "stream",
     "text": [
      "[CV 2/2] END batch_size=64, epochs=20, units1=32, units2=16;, score=0.627 total time=  43.4s\n"
     ]
    },
    {
     "name": "stdout",
     "output_type": "stream",
     "text": [
      "[CV 1/2] END batch_size=64, epochs=20, units1=32, units2=32;, score=0.627 total time=  43.4s\n"
     ]
    },
    {
     "name": "stdout",
     "output_type": "stream",
     "text": [
      "[CV 2/2] END batch_size=64, epochs=20, units1=32, units2=32;, score=0.638 total time=  43.2s\n"
     ]
    },
    {
     "name": "stdout",
     "output_type": "stream",
     "text": [
      "[CV 1/2] END batch_size=64, epochs=20, units1=32, units2=64;, score=0.631 total time=  43.1s\n"
     ]
    },
    {
     "name": "stdout",
     "output_type": "stream",
     "text": [
      "[CV 2/2] END batch_size=64, epochs=20, units1=32, units2=64;, score=0.631 total time=  43.0s\n"
     ]
    },
    {
     "name": "stdout",
     "output_type": "stream",
     "text": [
      "[CV 1/2] END batch_size=64, epochs=20, units1=32, units2=128;, score=0.621 total time=  43.5s\n"
     ]
    },
    {
     "name": "stdout",
     "output_type": "stream",
     "text": [
      "[CV 2/2] END batch_size=64, epochs=20, units1=32, units2=128;, score=0.599 total time=  43.5s\n"
     ]
    },
    {
     "name": "stdout",
     "output_type": "stream",
     "text": [
      "[CV 1/2] END batch_size=64, epochs=20, units1=64, units2=16;, score=0.636 total time=  43.6s\n"
     ]
    },
    {
     "name": "stdout",
     "output_type": "stream",
     "text": [
      "[CV 2/2] END batch_size=64, epochs=20, units1=64, units2=16;, score=0.640 total time=  43.5s\n"
     ]
    },
    {
     "name": "stdout",
     "output_type": "stream",
     "text": [
      "[CV 1/2] END batch_size=64, epochs=20, units1=64, units2=32;, score=0.638 total time=  43.2s\n"
     ]
    },
    {
     "name": "stdout",
     "output_type": "stream",
     "text": [
      "[CV 2/2] END batch_size=64, epochs=20, units1=64, units2=32;, score=0.639 total time=  43.1s\n"
     ]
    },
    {
     "name": "stdout",
     "output_type": "stream",
     "text": [
      "[CV 1/2] END batch_size=64, epochs=20, units1=64, units2=64;, score=0.641 total time=  43.5s\n"
     ]
    },
    {
     "name": "stdout",
     "output_type": "stream",
     "text": [
      "[CV 2/2] END batch_size=64, epochs=20, units1=64, units2=64;, score=0.641 total time=  43.6s\n"
     ]
    },
    {
     "name": "stdout",
     "output_type": "stream",
     "text": [
      "[CV 1/2] END batch_size=64, epochs=20, units1=64, units2=128;, score=0.638 total time=  43.5s\n"
     ]
    },
    {
     "name": "stdout",
     "output_type": "stream",
     "text": [
      "[CV 2/2] END batch_size=64, epochs=20, units1=64, units2=128;, score=0.633 total time=  43.4s\n"
     ]
    },
    {
     "name": "stdout",
     "output_type": "stream",
     "text": [
      "[CV 1/2] END batch_size=64, epochs=50, units1=16, units2=16;, score=0.641 total time= 1.7min\n"
     ]
    },
    {
     "name": "stdout",
     "output_type": "stream",
     "text": [
      "[CV 2/2] END batch_size=64, epochs=50, units1=16, units2=16;, score=0.640 total time= 1.9min\n"
     ]
    },
    {
     "name": "stdout",
     "output_type": "stream",
     "text": [
      "[CV 1/2] END batch_size=64, epochs=50, units1=16, units2=32;, score=0.643 total time= 1.8min\n"
     ]
    },
    {
     "name": "stdout",
     "output_type": "stream",
     "text": [
      "[CV 2/2] END batch_size=64, epochs=50, units1=16, units2=32;, score=0.645 total time= 1.8min\n"
     ]
    },
    {
     "name": "stdout",
     "output_type": "stream",
     "text": [
      "[CV 1/2] END batch_size=64, epochs=50, units1=16, units2=64;, score=0.649 total time= 1.8min\n"
     ]
    },
    {
     "name": "stdout",
     "output_type": "stream",
     "text": [
      "[CV 2/2] END batch_size=64, epochs=50, units1=16, units2=64;, score=0.647 total time= 1.8min\n"
     ]
    },
    {
     "name": "stdout",
     "output_type": "stream",
     "text": [
      "[CV 1/2] END batch_size=64, epochs=50, units1=16, units2=128;, score=0.637 total time= 1.8min\n"
     ]
    },
    {
     "name": "stdout",
     "output_type": "stream",
     "text": [
      "[CV 2/2] END batch_size=64, epochs=50, units1=16, units2=128;, score=0.640 total time= 1.8min\n"
     ]
    },
    {
     "name": "stdout",
     "output_type": "stream",
     "text": [
      "[CV 1/2] END batch_size=64, epochs=50, units1=32, units2=16;, score=0.643 total time= 1.7min\n"
     ]
    },
    {
     "name": "stdout",
     "output_type": "stream",
     "text": [
      "[CV 2/2] END batch_size=64, epochs=50, units1=32, units2=16;, score=0.643 total time= 1.8min\n"
     ]
    },
    {
     "name": "stdout",
     "output_type": "stream",
     "text": [
      "[CV 1/2] END batch_size=64, epochs=50, units1=32, units2=32;, score=0.644 total time= 1.7min\n"
     ]
    },
    {
     "name": "stdout",
     "output_type": "stream",
     "text": [
      "[CV 2/2] END batch_size=64, epochs=50, units1=32, units2=32;, score=0.648 total time= 1.7min\n"
     ]
    },
    {
     "name": "stdout",
     "output_type": "stream",
     "text": [
      "[CV 1/2] END batch_size=64, epochs=50, units1=32, units2=64;, score=0.652 total time= 1.7min\n"
     ]
    },
    {
     "name": "stdout",
     "output_type": "stream",
     "text": [
      "[CV 2/2] END batch_size=64, epochs=50, units1=32, units2=64;, score=0.645 total time= 1.7min\n"
     ]
    },
    {
     "name": "stdout",
     "output_type": "stream",
     "text": [
      "[CV 1/2] END batch_size=64, epochs=50, units1=32, units2=128;, score=0.640 total time= 1.7min\n"
     ]
    },
    {
     "name": "stdout",
     "output_type": "stream",
     "text": [
      "[CV 2/2] END batch_size=64, epochs=50, units1=32, units2=128;, score=0.638 total time= 1.7min\n"
     ]
    },
    {
     "name": "stdout",
     "output_type": "stream",
     "text": [
      "[CV 1/2] END batch_size=64, epochs=50, units1=64, units2=16;, score=0.649 total time= 1.8min\n"
     ]
    },
    {
     "name": "stdout",
     "output_type": "stream",
     "text": [
      "[CV 2/2] END batch_size=64, epochs=50, units1=64, units2=16;, score=0.647 total time= 1.7min\n"
     ]
    },
    {
     "name": "stdout",
     "output_type": "stream",
     "text": [
      "[CV 1/2] END batch_size=64, epochs=50, units1=64, units2=32;, score=0.645 total time= 1.7min\n"
     ]
    },
    {
     "name": "stdout",
     "output_type": "stream",
     "text": [
      "[CV 2/2] END batch_size=64, epochs=50, units1=64, units2=32;, score=0.638 total time= 1.7min\n"
     ]
    },
    {
     "name": "stdout",
     "output_type": "stream",
     "text": [
      "[CV 1/2] END batch_size=64, epochs=50, units1=64, units2=64;, score=0.647 total time= 1.7min\n"
     ]
    },
    {
     "name": "stdout",
     "output_type": "stream",
     "text": [
      "[CV 2/2] END batch_size=64, epochs=50, units1=64, units2=64;, score=0.655 total time= 1.7min\n"
     ]
    },
    {
     "name": "stdout",
     "output_type": "stream",
     "text": [
      "[CV 1/2] END batch_size=64, epochs=50, units1=64, units2=128;, score=0.649 total time= 1.7min\n"
     ]
    },
    {
     "name": "stdout",
     "output_type": "stream",
     "text": [
      "[CV 2/2] END batch_size=64, epochs=50, units1=64, units2=128;, score=0.651 total time= 1.8min\n"
     ]
    },
    {
     "name": "stdout",
     "output_type": "stream",
     "text": [
      "[CV 1/2] END batch_size=128, epochs=10, units1=16, units2=16;, score=0.598 total time=  12.8s\n"
     ]
    },
    {
     "name": "stdout",
     "output_type": "stream",
     "text": [
      "[CV 2/2] END batch_size=128, epochs=10, units1=16, units2=16;, score=0.608 total time=  12.9s\n"
     ]
    },
    {
     "name": "stdout",
     "output_type": "stream",
     "text": [
      "[CV 1/2] END batch_size=128, epochs=10, units1=16, units2=32;, score=0.607 total time=  12.9s\n"
     ]
    },
    {
     "name": "stdout",
     "output_type": "stream",
     "text": [
      "[CV 2/2] END batch_size=128, epochs=10, units1=16, units2=32;, score=0.616 total time=  12.8s\n"
     ]
    },
    {
     "name": "stdout",
     "output_type": "stream",
     "text": [
      "[CV 1/2] END batch_size=128, epochs=10, units1=16, units2=64;, score=0.607 total time=  12.9s\n"
     ]
    },
    {
     "name": "stdout",
     "output_type": "stream",
     "text": [
      "[CV 2/2] END batch_size=128, epochs=10, units1=16, units2=64;, score=0.613 total time=  12.8s\n"
     ]
    },
    {
     "name": "stdout",
     "output_type": "stream",
     "text": [
      "[CV 1/2] END batch_size=128, epochs=10, units1=16, units2=128;, score=0.600 total time=  12.8s\n"
     ]
    },
    {
     "name": "stdout",
     "output_type": "stream",
     "text": [
      "[CV 2/2] END batch_size=128, epochs=10, units1=16, units2=128;, score=0.611 total time=  12.8s\n"
     ]
    },
    {
     "name": "stdout",
     "output_type": "stream",
     "text": [
      "[CV 1/2] END batch_size=128, epochs=10, units1=32, units2=16;, score=0.618 total time=  12.8s\n"
     ]
    },
    {
     "name": "stdout",
     "output_type": "stream",
     "text": [
      "[CV 2/2] END batch_size=128, epochs=10, units1=32, units2=16;, score=0.615 total time=  12.9s\n"
     ]
    },
    {
     "name": "stdout",
     "output_type": "stream",
     "text": [
      "[CV 1/2] END batch_size=128, epochs=10, units1=32, units2=32;, score=0.615 total time=  12.7s\n"
     ]
    },
    {
     "name": "stdout",
     "output_type": "stream",
     "text": [
      "[CV 2/2] END batch_size=128, epochs=10, units1=32, units2=32;, score=0.619 total time=  12.7s\n"
     ]
    },
    {
     "name": "stdout",
     "output_type": "stream",
     "text": [
      "[CV 1/2] END batch_size=128, epochs=10, units1=32, units2=64;, score=0.625 total time=  12.8s\n"
     ]
    },
    {
     "name": "stdout",
     "output_type": "stream",
     "text": [
      "[CV 2/2] END batch_size=128, epochs=10, units1=32, units2=64;, score=0.614 total time=  12.8s\n"
     ]
    },
    {
     "name": "stdout",
     "output_type": "stream",
     "text": [
      "[CV 1/2] END batch_size=128, epochs=10, units1=32, units2=128;, score=0.607 total time=  12.7s\n"
     ]
    },
    {
     "name": "stdout",
     "output_type": "stream",
     "text": [
      "[CV 2/2] END batch_size=128, epochs=10, units1=32, units2=128;, score=0.616 total time=  12.9s\n"
     ]
    },
    {
     "name": "stdout",
     "output_type": "stream",
     "text": [
      "[CV 1/2] END batch_size=128, epochs=10, units1=64, units2=16;, score=0.625 total time=  23.7s\n"
     ]
    },
    {
     "name": "stdout",
     "output_type": "stream",
     "text": [
      "[CV 2/2] END batch_size=128, epochs=10, units1=64, units2=16;, score=0.625 total time=  13.1s\n"
     ]
    },
    {
     "name": "stdout",
     "output_type": "stream",
     "text": [
      "[CV 1/2] END batch_size=128, epochs=10, units1=64, units2=32;, score=0.611 total time=  12.9s\n"
     ]
    },
    {
     "name": "stdout",
     "output_type": "stream",
     "text": [
      "[CV 2/2] END batch_size=128, epochs=10, units1=64, units2=32;, score=0.623 total time=  12.9s\n"
     ]
    },
    {
     "name": "stdout",
     "output_type": "stream",
     "text": [
      "[CV 1/2] END batch_size=128, epochs=10, units1=64, units2=64;, score=0.621 total time=  12.9s\n"
     ]
    },
    {
     "name": "stdout",
     "output_type": "stream",
     "text": [
      "[CV 2/2] END batch_size=128, epochs=10, units1=64, units2=64;, score=0.611 total time=  12.9s\n"
     ]
    },
    {
     "name": "stdout",
     "output_type": "stream",
     "text": [
      "[CV 1/2] END batch_size=128, epochs=10, units1=64, units2=128;, score=0.623 total time=  13.0s\n"
     ]
    },
    {
     "name": "stdout",
     "output_type": "stream",
     "text": [
      "[CV 2/2] END batch_size=128, epochs=10, units1=64, units2=128;, score=0.629 total time=  12.8s\n"
     ]
    },
    {
     "name": "stdout",
     "output_type": "stream",
     "text": [
      "[CV 1/2] END batch_size=128, epochs=20, units1=16, units2=16;, score=0.621 total time=  23.5s\n"
     ]
    },
    {
     "name": "stdout",
     "output_type": "stream",
     "text": [
      "[CV 2/2] END batch_size=128, epochs=20, units1=16, units2=16;, score=0.620 total time=  23.1s\n"
     ]
    },
    {
     "name": "stdout",
     "output_type": "stream",
     "text": [
      "[CV 1/2] END batch_size=128, epochs=20, units1=16, units2=32;, score=0.624 total time=  22.9s\n"
     ]
    },
    {
     "name": "stdout",
     "output_type": "stream",
     "text": [
      "[CV 2/2] END batch_size=128, epochs=20, units1=16, units2=32;, score=0.628 total time=  23.2s\n"
     ]
    },
    {
     "name": "stdout",
     "output_type": "stream",
     "text": [
      "[CV 1/2] END batch_size=128, epochs=20, units1=16, units2=64;, score=0.620 total time=  23.1s\n"
     ]
    },
    {
     "name": "stdout",
     "output_type": "stream",
     "text": [
      "[CV 2/2] END batch_size=128, epochs=20, units1=16, units2=64;, score=0.626 total time=  22.9s\n"
     ]
    },
    {
     "name": "stdout",
     "output_type": "stream",
     "text": [
      "[CV 1/2] END batch_size=128, epochs=20, units1=16, units2=128;, score=0.625 total time=  23.0s\n"
     ]
    },
    {
     "name": "stdout",
     "output_type": "stream",
     "text": [
      "[CV 2/2] END batch_size=128, epochs=20, units1=16, units2=128;, score=0.625 total time=  23.0s\n"
     ]
    },
    {
     "name": "stdout",
     "output_type": "stream",
     "text": [
      "[CV 1/2] END batch_size=128, epochs=20, units1=32, units2=16;, score=0.623 total time=  22.9s\n"
     ]
    },
    {
     "name": "stdout",
     "output_type": "stream",
     "text": [
      "[CV 2/2] END batch_size=128, epochs=20, units1=32, units2=16;, score=0.625 total time=  23.1s\n"
     ]
    },
    {
     "name": "stdout",
     "output_type": "stream",
     "text": [
      "[CV 1/2] END batch_size=128, epochs=20, units1=32, units2=32;, score=0.629 total time=  23.1s\n"
     ]
    },
    {
     "name": "stdout",
     "output_type": "stream",
     "text": [
      "[CV 2/2] END batch_size=128, epochs=20, units1=32, units2=32;, score=0.630 total time=  22.9s\n"
     ]
    },
    {
     "name": "stdout",
     "output_type": "stream",
     "text": [
      "[CV 1/2] END batch_size=128, epochs=20, units1=32, units2=64;, score=0.631 total time=  23.1s\n"
     ]
    },
    {
     "name": "stdout",
     "output_type": "stream",
     "text": [
      "[CV 2/2] END batch_size=128, epochs=20, units1=32, units2=64;, score=0.633 total time=  22.8s\n"
     ]
    },
    {
     "name": "stdout",
     "output_type": "stream",
     "text": [
      "[CV 1/2] END batch_size=128, epochs=20, units1=32, units2=128;, score=0.634 total time=  23.1s\n"
     ]
    },
    {
     "name": "stdout",
     "output_type": "stream",
     "text": [
      "[CV 2/2] END batch_size=128, epochs=20, units1=32, units2=128;, score=0.626 total time=  23.0s\n"
     ]
    },
    {
     "name": "stdout",
     "output_type": "stream",
     "text": [
      "[CV 1/2] END batch_size=128, epochs=20, units1=64, units2=16;, score=0.632 total time=  22.9s\n"
     ]
    },
    {
     "name": "stdout",
     "output_type": "stream",
     "text": [
      "[CV 2/2] END batch_size=128, epochs=20, units1=64, units2=16;, score=0.633 total time=  23.0s\n"
     ]
    },
    {
     "name": "stdout",
     "output_type": "stream",
     "text": [
      "[CV 1/2] END batch_size=128, epochs=20, units1=64, units2=32;, score=0.632 total time=  22.8s\n"
     ]
    },
    {
     "name": "stdout",
     "output_type": "stream",
     "text": [
      "[CV 2/2] END batch_size=128, epochs=20, units1=64, units2=32;, score=0.632 total time=  22.8s\n"
     ]
    },
    {
     "name": "stdout",
     "output_type": "stream",
     "text": [
      "[CV 1/2] END batch_size=128, epochs=20, units1=64, units2=64;, score=0.636 total time=  22.8s\n"
     ]
    },
    {
     "name": "stdout",
     "output_type": "stream",
     "text": [
      "[CV 2/2] END batch_size=128, epochs=20, units1=64, units2=64;, score=0.627 total time=  22.8s\n"
     ]
    },
    {
     "name": "stdout",
     "output_type": "stream",
     "text": [
      "[CV 1/2] END batch_size=128, epochs=20, units1=64, units2=128;, score=0.632 total time=  22.8s\n"
     ]
    },
    {
     "name": "stdout",
     "output_type": "stream",
     "text": [
      "[CV 2/2] END batch_size=128, epochs=20, units1=64, units2=128;, score=0.629 total time=  23.0s\n"
     ]
    },
    {
     "name": "stdout",
     "output_type": "stream",
     "text": [
      "[CV 1/2] END batch_size=128, epochs=50, units1=16, units2=16;, score=0.634 total time=  53.9s\n"
     ]
    },
    {
     "name": "stdout",
     "output_type": "stream",
     "text": [
      "[CV 2/2] END batch_size=128, epochs=50, units1=16, units2=16;, score=0.636 total time=  53.8s\n"
     ]
    },
    {
     "name": "stdout",
     "output_type": "stream",
     "text": [
      "[CV 1/2] END batch_size=128, epochs=50, units1=16, units2=32;, score=0.641 total time=  54.2s\n"
     ]
    },
    {
     "name": "stdout",
     "output_type": "stream",
     "text": [
      "[CV 2/2] END batch_size=128, epochs=50, units1=16, units2=32;, score=0.640 total time=  53.7s\n"
     ]
    },
    {
     "name": "stdout",
     "output_type": "stream",
     "text": [
      "[CV 1/2] END batch_size=128, epochs=50, units1=16, units2=64;, score=0.642 total time=  53.6s\n"
     ]
    },
    {
     "name": "stdout",
     "output_type": "stream",
     "text": [
      "[CV 2/2] END batch_size=128, epochs=50, units1=16, units2=64;, score=0.646 total time=  53.4s\n"
     ]
    },
    {
     "name": "stdout",
     "output_type": "stream",
     "text": [
      "[CV 1/2] END batch_size=128, epochs=50, units1=16, units2=128;, score=0.639 total time=  53.2s\n"
     ]
    },
    {
     "name": "stdout",
     "output_type": "stream",
     "text": [
      "[CV 2/2] END batch_size=128, epochs=50, units1=16, units2=128;, score=0.629 total time=  53.4s\n"
     ]
    },
    {
     "name": "stdout",
     "output_type": "stream",
     "text": [
      "[CV 1/2] END batch_size=128, epochs=50, units1=32, units2=16;, score=0.640 total time=  53.1s\n"
     ]
    },
    {
     "name": "stdout",
     "output_type": "stream",
     "text": [
      "[CV 2/2] END batch_size=128, epochs=50, units1=32, units2=16;, score=0.642 total time=  53.4s\n"
     ]
    },
    {
     "name": "stdout",
     "output_type": "stream",
     "text": [
      "[CV 1/2] END batch_size=128, epochs=50, units1=32, units2=32;, score=0.642 total time=  53.2s\n"
     ]
    },
    {
     "name": "stdout",
     "output_type": "stream",
     "text": [
      "[CV 2/2] END batch_size=128, epochs=50, units1=32, units2=32;, score=0.640 total time= 1.1min\n"
     ]
    },
    {
     "name": "stdout",
     "output_type": "stream",
     "text": [
      "[CV 1/2] END batch_size=128, epochs=50, units1=32, units2=64;, score=0.645 total time=  54.0s\n"
     ]
    },
    {
     "name": "stdout",
     "output_type": "stream",
     "text": [
      "[CV 2/2] END batch_size=128, epochs=50, units1=32, units2=64;, score=0.648 total time=  53.9s\n"
     ]
    },
    {
     "name": "stdout",
     "output_type": "stream",
     "text": [
      "[CV 1/2] END batch_size=128, epochs=50, units1=32, units2=128;, score=0.648 total time=  54.2s\n"
     ]
    },
    {
     "name": "stdout",
     "output_type": "stream",
     "text": [
      "[CV 2/2] END batch_size=128, epochs=50, units1=32, units2=128;, score=0.644 total time=  53.6s\n"
     ]
    },
    {
     "name": "stdout",
     "output_type": "stream",
     "text": [
      "[CV 1/2] END batch_size=128, epochs=50, units1=64, units2=16;, score=0.641 total time=  53.9s\n"
     ]
    },
    {
     "name": "stdout",
     "output_type": "stream",
     "text": [
      "[CV 2/2] END batch_size=128, epochs=50, units1=64, units2=16;, score=0.640 total time=  53.6s\n"
     ]
    },
    {
     "name": "stdout",
     "output_type": "stream",
     "text": [
      "[CV 1/2] END batch_size=128, epochs=50, units1=64, units2=32;, score=0.652 total time=  53.5s\n"
     ]
    },
    {
     "name": "stdout",
     "output_type": "stream",
     "text": [
      "[CV 2/2] END batch_size=128, epochs=50, units1=64, units2=32;, score=0.650 total time=  53.4s\n"
     ]
    },
    {
     "name": "stdout",
     "output_type": "stream",
     "text": [
      "[CV 1/2] END batch_size=128, epochs=50, units1=64, units2=64;, score=0.644 total time=  53.6s\n"
     ]
    },
    {
     "name": "stdout",
     "output_type": "stream",
     "text": [
      "[CV 2/2] END batch_size=128, epochs=50, units1=64, units2=64;, score=0.642 total time=  53.4s\n"
     ]
    },
    {
     "name": "stdout",
     "output_type": "stream",
     "text": [
      "[CV 1/2] END batch_size=128, epochs=50, units1=64, units2=128;, score=0.644 total time=  53.6s\n"
     ]
    },
    {
     "name": "stdout",
     "output_type": "stream",
     "text": [
      "[CV 2/2] END batch_size=128, epochs=50, units1=64, units2=128;, score=0.636 total time=  53.4s\n"
     ]
    },
    {
     "name": "stdout",
     "output_type": "stream",
     "text": [
      "Best: 0.6511000724214824 using {'batch_size': 128, 'epochs': 50, 'units1': 64, 'units2': 32}\n"
     ]
    },
    {
     "name": "stdout",
     "output_type": "stream",
     "text": [
      "INFO:tensorflow:Assets written to: ram://c32e1e1cf42747749016df4bdf18debb/assets\n"
     ]
    },
    {
     "name": "stderr",
     "output_type": "stream",
     "text": [
      "INFO:tensorflow:Assets written to: ram://c32e1e1cf42747749016df4bdf18debb/assets\n"
     ]
    }
   ],
   "source": [
    "if (not os.path.exists('gridsearch/RNN_precovid.joblib')):\n",
    "\n",
    "    # Create a KerasRegressor\n",
    "    regressor_precovid = KerasRegressor(model=buildModel, input_dim=X_train2.shape[1], verbose=0, epochs=100, batch_size=128, units1=64, units2=64)\n",
    "\n",
    "    # Create a GridSearchCV and fit the model\n",
    "    grid_precovid = GridSearchCV(estimator=regressor_precovid, param_grid=param_grid, cv=2, verbose=3)\n",
    "    grid_result_precovid = grid_precovid.fit(X_train2, y_train2)\n",
    "\n",
    "    # Summarize results\n",
    "    print(f\"Best: {grid_result_precovid.best_score_} using {grid_result_precovid.best_params_}\")\n",
    "\n",
    "    # Save best model\n",
    "    dump(grid_result_precovid, 'gridsearch/RNN_precovid.joblib')\n",
    "\n",
    "else:\n",
    "    # Load grid_result from a file\n",
    "    grid_result_precovid = load('gridsearch/RNN_precovid.joblib')\n",
    "\n",
    "    # Summarize results\n",
    "    print(f\"Best: {grid_result_precovid.best_score_} using {grid_result_precovid.best_params_}\")"
   ]
  },
  {
   "cell_type": "code",
   "execution_count": 13,
   "id": "1ccf1a48",
   "metadata": {
    "execution": {
     "iopub.execute_input": "2024-03-22T00:17:53.572395Z",
     "iopub.status.busy": "2024-03-22T00:17:53.572163Z",
     "iopub.status.idle": "2024-03-22T00:17:55.896105Z",
     "shell.execute_reply": "2024-03-22T00:17:55.895643Z"
    },
    "papermill": {
     "duration": 2.353833,
     "end_time": "2024-03-22T00:17:55.897125",
     "exception": false,
     "start_time": "2024-03-22T00:17:53.543292",
     "status": "completed"
    },
    "tags": []
   },
   "outputs": [
    {
     "name": "stderr",
     "output_type": "stream",
     "text": [
      "2024-03-22 08:17:55.416606: W tensorflow/core/util/tensor_slice_reader.cc:98] Could not open ram://3efc2a3dea16454baff1167dfddc6535: INVALID_ARGUMENT: ram://3efc2a3dea16454baff1167dfddc6535 is a directory.\n"
     ]
    },
    {
     "name": "stdout",
     "output_type": "stream",
     "text": [
      "Test MAE: 0.6529175179777431\n"
     ]
    }
   ],
   "source": [
    "# Load and evaluate the model with the test data using the best hyperparameters\n",
    "grid_result_precovid = load('gridsearch/RNN_precovid.joblib')\n",
    "test_score = grid_result_precovid.score(X_test2, y_test2)\n",
    "print(f\"Test MAE: {test_score}\")"
   ]
  },
  {
   "cell_type": "markdown",
   "id": "0fe27b91",
   "metadata": {
    "papermill": {
     "duration": 0.028109,
     "end_time": "2024-03-22T00:17:55.955038",
     "exception": false,
     "start_time": "2024-03-22T00:17:55.926929",
     "status": "completed"
    },
    "tags": []
   },
   "source": [
    "#### Post-COVID Dataset"
   ]
  },
  {
   "cell_type": "code",
   "execution_count": 14,
   "id": "1e61ce76",
   "metadata": {
    "execution": {
     "iopub.execute_input": "2024-03-22T00:17:56.013207Z",
     "iopub.status.busy": "2024-03-22T00:17:56.012809Z",
     "iopub.status.idle": "2024-03-22T05:37:55.724838Z",
     "shell.execute_reply": "2024-03-22T05:37:55.724330Z"
    },
    "papermill": {
     "duration": 19199.743371,
     "end_time": "2024-03-22T05:37:55.726492",
     "exception": false,
     "start_time": "2024-03-22T00:17:55.983121",
     "status": "completed"
    },
    "tags": []
   },
   "outputs": [
    {
     "name": "stdout",
     "output_type": "stream",
     "text": [
      "Fitting 2 folds for each of 108 candidates, totalling 216 fits\n"
     ]
    },
    {
     "name": "stdout",
     "output_type": "stream",
     "text": [
      "[CV 1/2] END batch_size=32, epochs=10, units1=16, units2=16;, score=0.611 total time=  56.8s\n"
     ]
    },
    {
     "name": "stdout",
     "output_type": "stream",
     "text": [
      "[CV 2/2] END batch_size=32, epochs=10, units1=16, units2=16;, score=0.605 total time=  56.4s\n"
     ]
    },
    {
     "name": "stdout",
     "output_type": "stream",
     "text": [
      "[CV 1/2] END batch_size=32, epochs=10, units1=16, units2=32;, score=0.613 total time=  55.8s\n"
     ]
    },
    {
     "name": "stdout",
     "output_type": "stream",
     "text": [
      "[CV 2/2] END batch_size=32, epochs=10, units1=16, units2=32;, score=0.609 total time=  55.9s\n"
     ]
    },
    {
     "name": "stdout",
     "output_type": "stream",
     "text": [
      "[CV 1/2] END batch_size=32, epochs=10, units1=16, units2=64;, score=0.619 total time=  56.0s\n"
     ]
    },
    {
     "name": "stdout",
     "output_type": "stream",
     "text": [
      "[CV 2/2] END batch_size=32, epochs=10, units1=16, units2=64;, score=0.609 total time=  55.7s\n"
     ]
    },
    {
     "name": "stdout",
     "output_type": "stream",
     "text": [
      "[CV 1/2] END batch_size=32, epochs=10, units1=16, units2=128;, score=0.602 total time=  56.2s\n"
     ]
    },
    {
     "name": "stdout",
     "output_type": "stream",
     "text": [
      "[CV 2/2] END batch_size=32, epochs=10, units1=16, units2=128;, score=0.610 total time=  56.3s\n"
     ]
    },
    {
     "name": "stdout",
     "output_type": "stream",
     "text": [
      "[CV 1/2] END batch_size=32, epochs=10, units1=32, units2=16;, score=0.614 total time=  55.6s\n"
     ]
    },
    {
     "name": "stdout",
     "output_type": "stream",
     "text": [
      "[CV 2/2] END batch_size=32, epochs=10, units1=32, units2=16;, score=0.605 total time=  55.4s\n"
     ]
    },
    {
     "name": "stdout",
     "output_type": "stream",
     "text": [
      "[CV 1/2] END batch_size=32, epochs=10, units1=32, units2=32;, score=0.622 total time=  56.1s\n"
     ]
    },
    {
     "name": "stdout",
     "output_type": "stream",
     "text": [
      "[CV 2/2] END batch_size=32, epochs=10, units1=32, units2=32;, score=0.616 total time=  55.4s\n"
     ]
    },
    {
     "name": "stdout",
     "output_type": "stream",
     "text": [
      "[CV 1/2] END batch_size=32, epochs=10, units1=32, units2=64;, score=0.620 total time=  55.3s\n"
     ]
    },
    {
     "name": "stdout",
     "output_type": "stream",
     "text": [
      "[CV 2/2] END batch_size=32, epochs=10, units1=32, units2=64;, score=0.616 total time=  55.5s\n"
     ]
    },
    {
     "name": "stdout",
     "output_type": "stream",
     "text": [
      "[CV 1/2] END batch_size=32, epochs=10, units1=32, units2=128;, score=0.619 total time=  55.8s\n"
     ]
    },
    {
     "name": "stdout",
     "output_type": "stream",
     "text": [
      "[CV 2/2] END batch_size=32, epochs=10, units1=32, units2=128;, score=0.601 total time=  55.7s\n"
     ]
    },
    {
     "name": "stdout",
     "output_type": "stream",
     "text": [
      "[CV 1/2] END batch_size=32, epochs=10, units1=64, units2=16;, score=0.622 total time=  55.6s\n"
     ]
    },
    {
     "name": "stdout",
     "output_type": "stream",
     "text": [
      "[CV 2/2] END batch_size=32, epochs=10, units1=64, units2=16;, score=0.611 total time=  55.7s\n"
     ]
    },
    {
     "name": "stdout",
     "output_type": "stream",
     "text": [
      "[CV 1/2] END batch_size=32, epochs=10, units1=64, units2=32;, score=0.617 total time=  55.9s\n"
     ]
    },
    {
     "name": "stdout",
     "output_type": "stream",
     "text": [
      "[CV 2/2] END batch_size=32, epochs=10, units1=64, units2=32;, score=0.611 total time=  56.0s\n"
     ]
    },
    {
     "name": "stdout",
     "output_type": "stream",
     "text": [
      "[CV 1/2] END batch_size=32, epochs=10, units1=64, units2=64;, score=0.622 total time=  56.0s\n"
     ]
    },
    {
     "name": "stdout",
     "output_type": "stream",
     "text": [
      "[CV 2/2] END batch_size=32, epochs=10, units1=64, units2=64;, score=0.612 total time=  55.7s\n"
     ]
    },
    {
     "name": "stdout",
     "output_type": "stream",
     "text": [
      "[CV 1/2] END batch_size=32, epochs=10, units1=64, units2=128;, score=0.604 total time=  55.8s\n"
     ]
    },
    {
     "name": "stdout",
     "output_type": "stream",
     "text": [
      "[CV 2/2] END batch_size=32, epochs=10, units1=64, units2=128;, score=0.612 total time=  55.2s\n"
     ]
    },
    {
     "name": "stdout",
     "output_type": "stream",
     "text": [
      "[CV 1/2] END batch_size=32, epochs=20, units1=16, units2=16;, score=0.619 total time= 1.8min\n"
     ]
    },
    {
     "name": "stdout",
     "output_type": "stream",
     "text": [
      "[CV 2/2] END batch_size=32, epochs=20, units1=16, units2=16;, score=0.620 total time= 1.8min\n"
     ]
    },
    {
     "name": "stdout",
     "output_type": "stream",
     "text": [
      "[CV 1/2] END batch_size=32, epochs=20, units1=16, units2=32;, score=0.631 total time= 1.8min\n"
     ]
    },
    {
     "name": "stdout",
     "output_type": "stream",
     "text": [
      "[CV 2/2] END batch_size=32, epochs=20, units1=16, units2=32;, score=0.626 total time= 2.1min\n"
     ]
    },
    {
     "name": "stdout",
     "output_type": "stream",
     "text": [
      "[CV 1/2] END batch_size=32, epochs=20, units1=16, units2=64;, score=0.635 total time= 1.8min\n"
     ]
    },
    {
     "name": "stdout",
     "output_type": "stream",
     "text": [
      "[CV 2/2] END batch_size=32, epochs=20, units1=16, units2=64;, score=0.628 total time= 1.8min\n"
     ]
    },
    {
     "name": "stdout",
     "output_type": "stream",
     "text": [
      "[CV 1/2] END batch_size=32, epochs=20, units1=16, units2=128;, score=0.626 total time= 1.8min\n"
     ]
    },
    {
     "name": "stdout",
     "output_type": "stream",
     "text": [
      "[CV 2/2] END batch_size=32, epochs=20, units1=16, units2=128;, score=0.621 total time= 1.8min\n"
     ]
    },
    {
     "name": "stdout",
     "output_type": "stream",
     "text": [
      "[CV 1/2] END batch_size=32, epochs=20, units1=32, units2=16;, score=0.623 total time= 1.8min\n"
     ]
    },
    {
     "name": "stdout",
     "output_type": "stream",
     "text": [
      "[CV 2/2] END batch_size=32, epochs=20, units1=32, units2=16;, score=0.623 total time= 1.8min\n"
     ]
    },
    {
     "name": "stdout",
     "output_type": "stream",
     "text": [
      "[CV 1/2] END batch_size=32, epochs=20, units1=32, units2=32;, score=0.637 total time= 1.8min\n"
     ]
    },
    {
     "name": "stdout",
     "output_type": "stream",
     "text": [
      "[CV 2/2] END batch_size=32, epochs=20, units1=32, units2=32;, score=0.629 total time= 1.8min\n"
     ]
    },
    {
     "name": "stdout",
     "output_type": "stream",
     "text": [
      "[CV 1/2] END batch_size=32, epochs=20, units1=32, units2=64;, score=0.636 total time= 1.8min\n"
     ]
    },
    {
     "name": "stdout",
     "output_type": "stream",
     "text": [
      "[CV 2/2] END batch_size=32, epochs=20, units1=32, units2=64;, score=0.628 total time= 1.8min\n"
     ]
    },
    {
     "name": "stdout",
     "output_type": "stream",
     "text": [
      "[CV 1/2] END batch_size=32, epochs=20, units1=32, units2=128;, score=0.637 total time= 1.8min\n"
     ]
    },
    {
     "name": "stdout",
     "output_type": "stream",
     "text": [
      "[CV 2/2] END batch_size=32, epochs=20, units1=32, units2=128;, score=0.626 total time= 1.8min\n"
     ]
    },
    {
     "name": "stdout",
     "output_type": "stream",
     "text": [
      "[CV 1/2] END batch_size=32, epochs=20, units1=64, units2=16;, score=0.632 total time= 1.8min\n"
     ]
    },
    {
     "name": "stdout",
     "output_type": "stream",
     "text": [
      "[CV 2/2] END batch_size=32, epochs=20, units1=64, units2=16;, score=0.628 total time= 1.8min\n"
     ]
    },
    {
     "name": "stdout",
     "output_type": "stream",
     "text": [
      "[CV 1/2] END batch_size=32, epochs=20, units1=64, units2=32;, score=0.623 total time= 1.8min\n"
     ]
    },
    {
     "name": "stdout",
     "output_type": "stream",
     "text": [
      "[CV 2/2] END batch_size=32, epochs=20, units1=64, units2=32;, score=0.630 total time= 1.8min\n"
     ]
    },
    {
     "name": "stdout",
     "output_type": "stream",
     "text": [
      "[CV 1/2] END batch_size=32, epochs=20, units1=64, units2=64;, score=0.638 total time= 1.8min\n"
     ]
    },
    {
     "name": "stdout",
     "output_type": "stream",
     "text": [
      "[CV 2/2] END batch_size=32, epochs=20, units1=64, units2=64;, score=0.634 total time= 1.8min\n"
     ]
    },
    {
     "name": "stdout",
     "output_type": "stream",
     "text": [
      "[CV 1/2] END batch_size=32, epochs=20, units1=64, units2=128;, score=0.621 total time= 1.8min\n"
     ]
    },
    {
     "name": "stdout",
     "output_type": "stream",
     "text": [
      "[CV 2/2] END batch_size=32, epochs=20, units1=64, units2=128;, score=0.627 total time= 1.8min\n"
     ]
    },
    {
     "name": "stdout",
     "output_type": "stream",
     "text": [
      "[CV 1/2] END batch_size=32, epochs=50, units1=16, units2=16;, score=0.636 total time= 4.4min\n"
     ]
    },
    {
     "name": "stdout",
     "output_type": "stream",
     "text": [
      "[CV 2/2] END batch_size=32, epochs=50, units1=16, units2=16;, score=0.635 total time= 4.4min\n"
     ]
    },
    {
     "name": "stdout",
     "output_type": "stream",
     "text": [
      "[CV 1/2] END batch_size=32, epochs=50, units1=16, units2=32;, score=0.645 total time= 4.4min\n"
     ]
    },
    {
     "name": "stdout",
     "output_type": "stream",
     "text": [
      "[CV 2/2] END batch_size=32, epochs=50, units1=16, units2=32;, score=0.635 total time= 4.4min\n"
     ]
    },
    {
     "name": "stdout",
     "output_type": "stream",
     "text": [
      "[CV 1/2] END batch_size=32, epochs=50, units1=16, units2=64;, score=0.643 total time= 4.4min\n"
     ]
    },
    {
     "name": "stdout",
     "output_type": "stream",
     "text": [
      "[CV 2/2] END batch_size=32, epochs=50, units1=16, units2=64;, score=0.645 total time= 4.4min\n"
     ]
    },
    {
     "name": "stdout",
     "output_type": "stream",
     "text": [
      "[CV 1/2] END batch_size=32, epochs=50, units1=16, units2=128;, score=0.647 total time= 4.4min\n"
     ]
    },
    {
     "name": "stdout",
     "output_type": "stream",
     "text": [
      "[CV 2/2] END batch_size=32, epochs=50, units1=16, units2=128;, score=0.630 total time= 4.4min\n"
     ]
    },
    {
     "name": "stdout",
     "output_type": "stream",
     "text": [
      "[CV 1/2] END batch_size=32, epochs=50, units1=32, units2=16;, score=0.640 total time= 4.4min\n"
     ]
    },
    {
     "name": "stdout",
     "output_type": "stream",
     "text": [
      "[CV 2/2] END batch_size=32, epochs=50, units1=32, units2=16;, score=0.631 total time= 4.4min\n"
     ]
    },
    {
     "name": "stdout",
     "output_type": "stream",
     "text": [
      "[CV 1/2] END batch_size=32, epochs=50, units1=32, units2=32;, score=0.647 total time= 4.4min\n"
     ]
    },
    {
     "name": "stdout",
     "output_type": "stream",
     "text": [
      "[CV 2/2] END batch_size=32, epochs=50, units1=32, units2=32;, score=0.642 total time= 4.4min\n"
     ]
    },
    {
     "name": "stdout",
     "output_type": "stream",
     "text": [
      "[CV 1/2] END batch_size=32, epochs=50, units1=32, units2=64;, score=0.638 total time= 4.4min\n"
     ]
    },
    {
     "name": "stdout",
     "output_type": "stream",
     "text": [
      "[CV 2/2] END batch_size=32, epochs=50, units1=32, units2=64;, score=0.644 total time= 4.4min\n"
     ]
    },
    {
     "name": "stdout",
     "output_type": "stream",
     "text": [
      "[CV 1/2] END batch_size=32, epochs=50, units1=32, units2=128;, score=0.645 total time= 4.4min\n"
     ]
    },
    {
     "name": "stdout",
     "output_type": "stream",
     "text": [
      "[CV 2/2] END batch_size=32, epochs=50, units1=32, units2=128;, score=0.633 total time= 4.4min\n"
     ]
    },
    {
     "name": "stdout",
     "output_type": "stream",
     "text": [
      "[CV 1/2] END batch_size=32, epochs=50, units1=64, units2=16;, score=0.647 total time= 4.4min\n"
     ]
    },
    {
     "name": "stdout",
     "output_type": "stream",
     "text": [
      "[CV 2/2] END batch_size=32, epochs=50, units1=64, units2=16;, score=0.645 total time= 4.4min\n"
     ]
    },
    {
     "name": "stdout",
     "output_type": "stream",
     "text": [
      "[CV 1/2] END batch_size=32, epochs=50, units1=64, units2=32;, score=0.646 total time= 4.4min\n"
     ]
    },
    {
     "name": "stdout",
     "output_type": "stream",
     "text": [
      "[CV 2/2] END batch_size=32, epochs=50, units1=64, units2=32;, score=0.646 total time= 4.3min\n"
     ]
    },
    {
     "name": "stdout",
     "output_type": "stream",
     "text": [
      "[CV 1/2] END batch_size=32, epochs=50, units1=64, units2=64;, score=0.637 total time= 4.4min\n"
     ]
    },
    {
     "name": "stdout",
     "output_type": "stream",
     "text": [
      "[CV 2/2] END batch_size=32, epochs=50, units1=64, units2=64;, score=0.644 total time= 4.4min\n"
     ]
    },
    {
     "name": "stdout",
     "output_type": "stream",
     "text": [
      "[CV 1/2] END batch_size=32, epochs=50, units1=64, units2=128;, score=0.637 total time= 4.4min\n"
     ]
    },
    {
     "name": "stdout",
     "output_type": "stream",
     "text": [
      "[CV 2/2] END batch_size=32, epochs=50, units1=64, units2=128;, score=0.638 total time= 4.4min\n"
     ]
    },
    {
     "name": "stdout",
     "output_type": "stream",
     "text": [
      "[CV 1/2] END batch_size=64, epochs=10, units1=16, units2=16;, score=0.602 total time=  29.4s\n"
     ]
    },
    {
     "name": "stdout",
     "output_type": "stream",
     "text": [
      "[CV 2/2] END batch_size=64, epochs=10, units1=16, units2=16;, score=0.590 total time=  29.6s\n"
     ]
    },
    {
     "name": "stdout",
     "output_type": "stream",
     "text": [
      "[CV 1/2] END batch_size=64, epochs=10, units1=16, units2=32;, score=0.607 total time=  29.3s\n"
     ]
    },
    {
     "name": "stdout",
     "output_type": "stream",
     "text": [
      "[CV 2/2] END batch_size=64, epochs=10, units1=16, units2=32;, score=0.597 total time=  29.4s\n"
     ]
    },
    {
     "name": "stdout",
     "output_type": "stream",
     "text": [
      "[CV 1/2] END batch_size=64, epochs=10, units1=16, units2=64;, score=0.607 total time=  29.6s\n"
     ]
    },
    {
     "name": "stdout",
     "output_type": "stream",
     "text": [
      "[CV 2/2] END batch_size=64, epochs=10, units1=16, units2=64;, score=0.604 total time=  29.3s\n"
     ]
    },
    {
     "name": "stdout",
     "output_type": "stream",
     "text": [
      "[CV 1/2] END batch_size=64, epochs=10, units1=16, units2=128;, score=0.618 total time=  29.4s\n"
     ]
    },
    {
     "name": "stdout",
     "output_type": "stream",
     "text": [
      "[CV 2/2] END batch_size=64, epochs=10, units1=16, units2=128;, score=0.598 total time=  44.3s\n"
     ]
    },
    {
     "name": "stdout",
     "output_type": "stream",
     "text": [
      "[CV 1/2] END batch_size=64, epochs=10, units1=32, units2=16;, score=0.610 total time=  29.7s\n"
     ]
    },
    {
     "name": "stdout",
     "output_type": "stream",
     "text": [
      "[CV 2/2] END batch_size=64, epochs=10, units1=32, units2=16;, score=0.608 total time=  29.6s\n"
     ]
    },
    {
     "name": "stdout",
     "output_type": "stream",
     "text": [
      "[CV 1/2] END batch_size=64, epochs=10, units1=32, units2=32;, score=0.602 total time=  29.4s\n"
     ]
    },
    {
     "name": "stdout",
     "output_type": "stream",
     "text": [
      "[CV 2/2] END batch_size=64, epochs=10, units1=32, units2=32;, score=0.608 total time=  29.2s\n"
     ]
    },
    {
     "name": "stdout",
     "output_type": "stream",
     "text": [
      "[CV 1/2] END batch_size=64, epochs=10, units1=32, units2=64;, score=0.616 total time=  29.0s\n"
     ]
    },
    {
     "name": "stdout",
     "output_type": "stream",
     "text": [
      "[CV 2/2] END batch_size=64, epochs=10, units1=32, units2=64;, score=0.604 total time=  29.1s\n"
     ]
    },
    {
     "name": "stdout",
     "output_type": "stream",
     "text": [
      "[CV 1/2] END batch_size=64, epochs=10, units1=32, units2=128;, score=0.619 total time=  29.2s\n"
     ]
    },
    {
     "name": "stdout",
     "output_type": "stream",
     "text": [
      "[CV 2/2] END batch_size=64, epochs=10, units1=32, units2=128;, score=0.609 total time=  29.2s\n"
     ]
    },
    {
     "name": "stdout",
     "output_type": "stream",
     "text": [
      "[CV 1/2] END batch_size=64, epochs=10, units1=64, units2=16;, score=0.618 total time=  29.1s\n"
     ]
    },
    {
     "name": "stdout",
     "output_type": "stream",
     "text": [
      "[CV 2/2] END batch_size=64, epochs=10, units1=64, units2=16;, score=0.614 total time=  29.5s\n"
     ]
    },
    {
     "name": "stdout",
     "output_type": "stream",
     "text": [
      "[CV 1/2] END batch_size=64, epochs=10, units1=64, units2=32;, score=0.624 total time=  29.3s\n"
     ]
    },
    {
     "name": "stdout",
     "output_type": "stream",
     "text": [
      "[CV 2/2] END batch_size=64, epochs=10, units1=64, units2=32;, score=0.601 total time=  29.1s\n"
     ]
    },
    {
     "name": "stdout",
     "output_type": "stream",
     "text": [
      "[CV 1/2] END batch_size=64, epochs=10, units1=64, units2=64;, score=0.628 total time=  29.2s\n"
     ]
    },
    {
     "name": "stdout",
     "output_type": "stream",
     "text": [
      "[CV 2/2] END batch_size=64, epochs=10, units1=64, units2=64;, score=0.610 total time=  29.1s\n"
     ]
    },
    {
     "name": "stdout",
     "output_type": "stream",
     "text": [
      "[CV 1/2] END batch_size=64, epochs=10, units1=64, units2=128;, score=0.615 total time=  29.2s\n"
     ]
    },
    {
     "name": "stdout",
     "output_type": "stream",
     "text": [
      "[CV 2/2] END batch_size=64, epochs=10, units1=64, units2=128;, score=0.610 total time=  29.1s\n"
     ]
    },
    {
     "name": "stdout",
     "output_type": "stream",
     "text": [
      "[CV 1/2] END batch_size=64, epochs=20, units1=16, units2=16;, score=0.619 total time=  55.2s\n"
     ]
    },
    {
     "name": "stdout",
     "output_type": "stream",
     "text": [
      "[CV 2/2] END batch_size=64, epochs=20, units1=16, units2=16;, score=0.617 total time=  55.3s\n"
     ]
    },
    {
     "name": "stdout",
     "output_type": "stream",
     "text": [
      "[CV 1/2] END batch_size=64, epochs=20, units1=16, units2=32;, score=0.623 total time=  55.8s\n"
     ]
    },
    {
     "name": "stdout",
     "output_type": "stream",
     "text": [
      "[CV 2/2] END batch_size=64, epochs=20, units1=16, units2=32;, score=0.614 total time=  55.5s\n"
     ]
    },
    {
     "name": "stdout",
     "output_type": "stream",
     "text": [
      "[CV 1/2] END batch_size=64, epochs=20, units1=16, units2=64;, score=0.607 total time=  56.3s\n"
     ]
    },
    {
     "name": "stdout",
     "output_type": "stream",
     "text": [
      "[CV 2/2] END batch_size=64, epochs=20, units1=16, units2=64;, score=0.611 total time=  57.0s\n"
     ]
    },
    {
     "name": "stdout",
     "output_type": "stream",
     "text": [
      "[CV 1/2] END batch_size=64, epochs=20, units1=16, units2=128;, score=0.626 total time=  57.2s\n"
     ]
    },
    {
     "name": "stdout",
     "output_type": "stream",
     "text": [
      "[CV 2/2] END batch_size=64, epochs=20, units1=16, units2=128;, score=0.619 total time=  56.6s\n"
     ]
    },
    {
     "name": "stdout",
     "output_type": "stream",
     "text": [
      "[CV 1/2] END batch_size=64, epochs=20, units1=32, units2=16;, score=0.631 total time=  56.3s\n"
     ]
    },
    {
     "name": "stdout",
     "output_type": "stream",
     "text": [
      "[CV 2/2] END batch_size=64, epochs=20, units1=32, units2=16;, score=0.616 total time=  57.0s\n"
     ]
    },
    {
     "name": "stdout",
     "output_type": "stream",
     "text": [
      "[CV 1/2] END batch_size=64, epochs=20, units1=32, units2=32;, score=0.634 total time=  55.7s\n"
     ]
    },
    {
     "name": "stdout",
     "output_type": "stream",
     "text": [
      "[CV 2/2] END batch_size=64, epochs=20, units1=32, units2=32;, score=0.619 total time=  56.6s\n"
     ]
    },
    {
     "name": "stdout",
     "output_type": "stream",
     "text": [
      "[CV 1/2] END batch_size=64, epochs=20, units1=32, units2=64;, score=0.630 total time=  55.9s\n"
     ]
    },
    {
     "name": "stdout",
     "output_type": "stream",
     "text": [
      "[CV 2/2] END batch_size=64, epochs=20, units1=32, units2=64;, score=0.631 total time=  55.4s\n"
     ]
    },
    {
     "name": "stdout",
     "output_type": "stream",
     "text": [
      "[CV 1/2] END batch_size=64, epochs=20, units1=32, units2=128;, score=0.626 total time=  55.9s\n"
     ]
    },
    {
     "name": "stdout",
     "output_type": "stream",
     "text": [
      "[CV 2/2] END batch_size=64, epochs=20, units1=32, units2=128;, score=0.627 total time=  55.8s\n"
     ]
    },
    {
     "name": "stdout",
     "output_type": "stream",
     "text": [
      "[CV 1/2] END batch_size=64, epochs=20, units1=64, units2=16;, score=0.634 total time=  56.7s\n"
     ]
    },
    {
     "name": "stdout",
     "output_type": "stream",
     "text": [
      "[CV 2/2] END batch_size=64, epochs=20, units1=64, units2=16;, score=0.623 total time=  56.8s\n"
     ]
    },
    {
     "name": "stdout",
     "output_type": "stream",
     "text": [
      "[CV 1/2] END batch_size=64, epochs=20, units1=64, units2=32;, score=0.637 total time=  58.1s\n"
     ]
    },
    {
     "name": "stdout",
     "output_type": "stream",
     "text": [
      "[CV 2/2] END batch_size=64, epochs=20, units1=64, units2=32;, score=0.626 total time=  57.4s\n"
     ]
    },
    {
     "name": "stdout",
     "output_type": "stream",
     "text": [
      "[CV 1/2] END batch_size=64, epochs=20, units1=64, units2=64;, score=0.632 total time=  56.9s\n"
     ]
    },
    {
     "name": "stdout",
     "output_type": "stream",
     "text": [
      "[CV 2/2] END batch_size=64, epochs=20, units1=64, units2=64;, score=0.628 total time=  57.5s\n"
     ]
    },
    {
     "name": "stdout",
     "output_type": "stream",
     "text": [
      "[CV 1/2] END batch_size=64, epochs=20, units1=64, units2=128;, score=0.632 total time=  58.3s\n"
     ]
    },
    {
     "name": "stdout",
     "output_type": "stream",
     "text": [
      "[CV 2/2] END batch_size=64, epochs=20, units1=64, units2=128;, score=0.619 total time=  57.4s\n"
     ]
    },
    {
     "name": "stdout",
     "output_type": "stream",
     "text": [
      "[CV 1/2] END batch_size=64, epochs=50, units1=16, units2=16;, score=0.633 total time= 2.4min\n"
     ]
    },
    {
     "name": "stdout",
     "output_type": "stream",
     "text": [
      "[CV 2/2] END batch_size=64, epochs=50, units1=16, units2=16;, score=0.629 total time= 2.3min\n"
     ]
    },
    {
     "name": "stdout",
     "output_type": "stream",
     "text": [
      "[CV 1/2] END batch_size=64, epochs=50, units1=16, units2=32;, score=0.630 total time= 2.3min\n"
     ]
    },
    {
     "name": "stdout",
     "output_type": "stream",
     "text": [
      "[CV 2/2] END batch_size=64, epochs=50, units1=16, units2=32;, score=0.627 total time= 2.3min\n"
     ]
    },
    {
     "name": "stdout",
     "output_type": "stream",
     "text": [
      "[CV 1/2] END batch_size=64, epochs=50, units1=16, units2=64;, score=0.647 total time= 2.3min\n"
     ]
    },
    {
     "name": "stdout",
     "output_type": "stream",
     "text": [
      "[CV 2/2] END batch_size=64, epochs=50, units1=16, units2=64;, score=0.633 total time= 2.3min\n"
     ]
    },
    {
     "name": "stdout",
     "output_type": "stream",
     "text": [
      "[CV 1/2] END batch_size=64, epochs=50, units1=16, units2=128;, score=0.631 total time= 2.3min\n"
     ]
    },
    {
     "name": "stdout",
     "output_type": "stream",
     "text": [
      "[CV 2/2] END batch_size=64, epochs=50, units1=16, units2=128;, score=0.641 total time= 2.3min\n"
     ]
    },
    {
     "name": "stdout",
     "output_type": "stream",
     "text": [
      "[CV 1/2] END batch_size=64, epochs=50, units1=32, units2=16;, score=0.632 total time= 2.3min\n"
     ]
    },
    {
     "name": "stdout",
     "output_type": "stream",
     "text": [
      "[CV 2/2] END batch_size=64, epochs=50, units1=32, units2=16;, score=0.638 total time= 2.3min\n"
     ]
    },
    {
     "name": "stdout",
     "output_type": "stream",
     "text": [
      "[CV 1/2] END batch_size=64, epochs=50, units1=32, units2=32;, score=0.634 total time= 2.3min\n"
     ]
    },
    {
     "name": "stdout",
     "output_type": "stream",
     "text": [
      "[CV 2/2] END batch_size=64, epochs=50, units1=32, units2=32;, score=0.642 total time= 2.3min\n"
     ]
    },
    {
     "name": "stdout",
     "output_type": "stream",
     "text": [
      "[CV 1/2] END batch_size=64, epochs=50, units1=32, units2=64;, score=0.648 total time= 2.3min\n"
     ]
    },
    {
     "name": "stdout",
     "output_type": "stream",
     "text": [
      "[CV 2/2] END batch_size=64, epochs=50, units1=32, units2=64;, score=0.643 total time= 2.3min\n"
     ]
    },
    {
     "name": "stdout",
     "output_type": "stream",
     "text": [
      "[CV 1/2] END batch_size=64, epochs=50, units1=32, units2=128;, score=0.638 total time= 2.3min\n"
     ]
    },
    {
     "name": "stdout",
     "output_type": "stream",
     "text": [
      "[CV 2/2] END batch_size=64, epochs=50, units1=32, units2=128;, score=0.638 total time= 2.3min\n"
     ]
    },
    {
     "name": "stdout",
     "output_type": "stream",
     "text": [
      "[CV 1/2] END batch_size=64, epochs=50, units1=64, units2=16;, score=0.641 total time= 2.3min\n"
     ]
    },
    {
     "name": "stdout",
     "output_type": "stream",
     "text": [
      "[CV 2/2] END batch_size=64, epochs=50, units1=64, units2=16;, score=0.637 total time= 2.6min\n"
     ]
    },
    {
     "name": "stdout",
     "output_type": "stream",
     "text": [
      "[CV 1/2] END batch_size=64, epochs=50, units1=64, units2=32;, score=0.644 total time= 2.3min\n"
     ]
    },
    {
     "name": "stdout",
     "output_type": "stream",
     "text": [
      "[CV 2/2] END batch_size=64, epochs=50, units1=64, units2=32;, score=0.641 total time= 2.3min\n"
     ]
    },
    {
     "name": "stdout",
     "output_type": "stream",
     "text": [
      "[CV 1/2] END batch_size=64, epochs=50, units1=64, units2=64;, score=0.637 total time= 2.4min\n"
     ]
    },
    {
     "name": "stdout",
     "output_type": "stream",
     "text": [
      "[CV 2/2] END batch_size=64, epochs=50, units1=64, units2=64;, score=0.644 total time= 2.4min\n"
     ]
    },
    {
     "name": "stdout",
     "output_type": "stream",
     "text": [
      "[CV 1/2] END batch_size=64, epochs=50, units1=64, units2=128;, score=0.642 total time= 2.4min\n"
     ]
    },
    {
     "name": "stdout",
     "output_type": "stream",
     "text": [
      "[CV 2/2] END batch_size=64, epochs=50, units1=64, units2=128;, score=0.637 total time= 2.4min\n"
     ]
    },
    {
     "name": "stdout",
     "output_type": "stream",
     "text": [
      "[CV 1/2] END batch_size=128, epochs=10, units1=16, units2=16;, score=0.602 total time=  17.3s\n"
     ]
    },
    {
     "name": "stdout",
     "output_type": "stream",
     "text": [
      "[CV 2/2] END batch_size=128, epochs=10, units1=16, units2=16;, score=0.591 total time=  17.1s\n"
     ]
    },
    {
     "name": "stdout",
     "output_type": "stream",
     "text": [
      "[CV 1/2] END batch_size=128, epochs=10, units1=16, units2=32;, score=0.602 total time=  17.0s\n"
     ]
    },
    {
     "name": "stdout",
     "output_type": "stream",
     "text": [
      "[CV 2/2] END batch_size=128, epochs=10, units1=16, units2=32;, score=0.596 total time=  17.0s\n"
     ]
    },
    {
     "name": "stdout",
     "output_type": "stream",
     "text": [
      "[CV 1/2] END batch_size=128, epochs=10, units1=16, units2=64;, score=0.608 total time=  17.0s\n"
     ]
    },
    {
     "name": "stdout",
     "output_type": "stream",
     "text": [
      "[CV 2/2] END batch_size=128, epochs=10, units1=16, units2=64;, score=0.597 total time=  17.0s\n"
     ]
    },
    {
     "name": "stdout",
     "output_type": "stream",
     "text": [
      "[CV 1/2] END batch_size=128, epochs=10, units1=16, units2=128;, score=0.606 total time=  16.8s\n"
     ]
    },
    {
     "name": "stdout",
     "output_type": "stream",
     "text": [
      "[CV 2/2] END batch_size=128, epochs=10, units1=16, units2=128;, score=0.604 total time=  16.8s\n"
     ]
    },
    {
     "name": "stdout",
     "output_type": "stream",
     "text": [
      "[CV 1/2] END batch_size=128, epochs=10, units1=32, units2=16;, score=0.596 total time=  16.8s\n"
     ]
    },
    {
     "name": "stdout",
     "output_type": "stream",
     "text": [
      "[CV 2/2] END batch_size=128, epochs=10, units1=32, units2=16;, score=0.571 total time=  16.8s\n"
     ]
    },
    {
     "name": "stdout",
     "output_type": "stream",
     "text": [
      "[CV 1/2] END batch_size=128, epochs=10, units1=32, units2=32;, score=0.596 total time=  16.7s\n"
     ]
    },
    {
     "name": "stdout",
     "output_type": "stream",
     "text": [
      "[CV 2/2] END batch_size=128, epochs=10, units1=32, units2=32;, score=0.598 total time=  16.7s\n"
     ]
    },
    {
     "name": "stdout",
     "output_type": "stream",
     "text": [
      "[CV 1/2] END batch_size=128, epochs=10, units1=32, units2=64;, score=0.609 total time=  16.8s\n"
     ]
    },
    {
     "name": "stdout",
     "output_type": "stream",
     "text": [
      "[CV 2/2] END batch_size=128, epochs=10, units1=32, units2=64;, score=0.590 total time=  16.7s\n"
     ]
    },
    {
     "name": "stdout",
     "output_type": "stream",
     "text": [
      "[CV 1/2] END batch_size=128, epochs=10, units1=32, units2=128;, score=0.608 total time=  16.7s\n"
     ]
    },
    {
     "name": "stdout",
     "output_type": "stream",
     "text": [
      "[CV 2/2] END batch_size=128, epochs=10, units1=32, units2=128;, score=0.589 total time=  16.6s\n"
     ]
    },
    {
     "name": "stdout",
     "output_type": "stream",
     "text": [
      "[CV 1/2] END batch_size=128, epochs=10, units1=64, units2=16;, score=0.607 total time=  16.8s\n"
     ]
    },
    {
     "name": "stdout",
     "output_type": "stream",
     "text": [
      "[CV 2/2] END batch_size=128, epochs=10, units1=64, units2=16;, score=0.603 total time=  16.8s\n"
     ]
    },
    {
     "name": "stdout",
     "output_type": "stream",
     "text": [
      "[CV 1/2] END batch_size=128, epochs=10, units1=64, units2=32;, score=0.601 total time=  16.7s\n"
     ]
    },
    {
     "name": "stdout",
     "output_type": "stream",
     "text": [
      "[CV 2/2] END batch_size=128, epochs=10, units1=64, units2=32;, score=0.599 total time=  16.7s\n"
     ]
    },
    {
     "name": "stdout",
     "output_type": "stream",
     "text": [
      "[CV 1/2] END batch_size=128, epochs=10, units1=64, units2=64;, score=0.614 total time=  16.6s\n"
     ]
    },
    {
     "name": "stdout",
     "output_type": "stream",
     "text": [
      "[CV 2/2] END batch_size=128, epochs=10, units1=64, units2=64;, score=0.601 total time=  16.8s\n"
     ]
    },
    {
     "name": "stdout",
     "output_type": "stream",
     "text": [
      "[CV 1/2] END batch_size=128, epochs=10, units1=64, units2=128;, score=0.613 total time=  16.8s\n"
     ]
    },
    {
     "name": "stdout",
     "output_type": "stream",
     "text": [
      "[CV 2/2] END batch_size=128, epochs=10, units1=64, units2=128;, score=0.607 total time=  16.8s\n"
     ]
    },
    {
     "name": "stdout",
     "output_type": "stream",
     "text": [
      "[CV 1/2] END batch_size=128, epochs=20, units1=16, units2=16;, score=0.606 total time=  31.2s\n"
     ]
    },
    {
     "name": "stdout",
     "output_type": "stream",
     "text": [
      "[CV 2/2] END batch_size=128, epochs=20, units1=16, units2=16;, score=0.606 total time=  30.8s\n"
     ]
    },
    {
     "name": "stdout",
     "output_type": "stream",
     "text": [
      "[CV 1/2] END batch_size=128, epochs=20, units1=16, units2=32;, score=0.611 total time=  30.6s\n"
     ]
    },
    {
     "name": "stdout",
     "output_type": "stream",
     "text": [
      "[CV 2/2] END batch_size=128, epochs=20, units1=16, units2=32;, score=0.598 total time=  31.1s\n"
     ]
    },
    {
     "name": "stdout",
     "output_type": "stream",
     "text": [
      "[CV 1/2] END batch_size=128, epochs=20, units1=16, units2=64;, score=0.612 total time=  30.8s\n"
     ]
    },
    {
     "name": "stdout",
     "output_type": "stream",
     "text": [
      "[CV 2/2] END batch_size=128, epochs=20, units1=16, units2=64;, score=0.614 total time=  30.9s\n"
     ]
    },
    {
     "name": "stdout",
     "output_type": "stream",
     "text": [
      "[CV 1/2] END batch_size=128, epochs=20, units1=16, units2=128;, score=0.621 total time=  30.6s\n"
     ]
    },
    {
     "name": "stdout",
     "output_type": "stream",
     "text": [
      "[CV 2/2] END batch_size=128, epochs=20, units1=16, units2=128;, score=0.609 total time=  30.7s\n"
     ]
    },
    {
     "name": "stdout",
     "output_type": "stream",
     "text": [
      "[CV 1/2] END batch_size=128, epochs=20, units1=32, units2=16;, score=0.615 total time=  30.4s\n"
     ]
    },
    {
     "name": "stdout",
     "output_type": "stream",
     "text": [
      "[CV 2/2] END batch_size=128, epochs=20, units1=32, units2=16;, score=0.616 total time=  30.4s\n"
     ]
    },
    {
     "name": "stdout",
     "output_type": "stream",
     "text": [
      "[CV 1/2] END batch_size=128, epochs=20, units1=32, units2=32;, score=0.618 total time=  30.4s\n"
     ]
    },
    {
     "name": "stdout",
     "output_type": "stream",
     "text": [
      "[CV 2/2] END batch_size=128, epochs=20, units1=32, units2=32;, score=0.618 total time=  30.7s\n"
     ]
    },
    {
     "name": "stdout",
     "output_type": "stream",
     "text": [
      "[CV 1/2] END batch_size=128, epochs=20, units1=32, units2=64;, score=0.628 total time=  30.5s\n"
     ]
    },
    {
     "name": "stdout",
     "output_type": "stream",
     "text": [
      "[CV 2/2] END batch_size=128, epochs=20, units1=32, units2=64;, score=0.616 total time=  30.5s\n"
     ]
    },
    {
     "name": "stdout",
     "output_type": "stream",
     "text": [
      "[CV 1/2] END batch_size=128, epochs=20, units1=32, units2=128;, score=0.626 total time=  30.5s\n"
     ]
    },
    {
     "name": "stdout",
     "output_type": "stream",
     "text": [
      "[CV 2/2] END batch_size=128, epochs=20, units1=32, units2=128;, score=0.625 total time=  30.8s\n"
     ]
    },
    {
     "name": "stdout",
     "output_type": "stream",
     "text": [
      "[CV 1/2] END batch_size=128, epochs=20, units1=64, units2=16;, score=0.623 total time=  30.9s\n"
     ]
    },
    {
     "name": "stdout",
     "output_type": "stream",
     "text": [
      "[CV 2/2] END batch_size=128, epochs=20, units1=64, units2=16;, score=0.616 total time=  30.8s\n"
     ]
    },
    {
     "name": "stdout",
     "output_type": "stream",
     "text": [
      "[CV 1/2] END batch_size=128, epochs=20, units1=64, units2=32;, score=0.625 total time=  31.1s\n"
     ]
    },
    {
     "name": "stdout",
     "output_type": "stream",
     "text": [
      "[CV 2/2] END batch_size=128, epochs=20, units1=64, units2=32;, score=0.625 total time=  31.0s\n"
     ]
    },
    {
     "name": "stdout",
     "output_type": "stream",
     "text": [
      "[CV 1/2] END batch_size=128, epochs=20, units1=64, units2=64;, score=0.635 total time=  30.9s\n"
     ]
    },
    {
     "name": "stdout",
     "output_type": "stream",
     "text": [
      "[CV 2/2] END batch_size=128, epochs=20, units1=64, units2=64;, score=0.624 total time=  30.7s\n"
     ]
    },
    {
     "name": "stdout",
     "output_type": "stream",
     "text": [
      "[CV 1/2] END batch_size=128, epochs=20, units1=64, units2=128;, score=0.633 total time=  31.1s\n"
     ]
    },
    {
     "name": "stdout",
     "output_type": "stream",
     "text": [
      "[CV 2/2] END batch_size=128, epochs=20, units1=64, units2=128;, score=0.620 total time=  30.7s\n"
     ]
    },
    {
     "name": "stdout",
     "output_type": "stream",
     "text": [
      "[CV 1/2] END batch_size=128, epochs=50, units1=16, units2=16;, score=0.631 total time= 1.2min\n"
     ]
    },
    {
     "name": "stdout",
     "output_type": "stream",
     "text": [
      "[CV 2/2] END batch_size=128, epochs=50, units1=16, units2=16;, score=0.623 total time= 1.2min\n"
     ]
    },
    {
     "name": "stdout",
     "output_type": "stream",
     "text": [
      "[CV 1/2] END batch_size=128, epochs=50, units1=16, units2=32;, score=0.637 total time= 1.2min\n"
     ]
    },
    {
     "name": "stdout",
     "output_type": "stream",
     "text": [
      "[CV 2/2] END batch_size=128, epochs=50, units1=16, units2=32;, score=0.620 total time= 1.2min\n"
     ]
    },
    {
     "name": "stdout",
     "output_type": "stream",
     "text": [
      "[CV 1/2] END batch_size=128, epochs=50, units1=16, units2=64;, score=0.633 total time= 1.2min\n"
     ]
    },
    {
     "name": "stdout",
     "output_type": "stream",
     "text": [
      "[CV 2/2] END batch_size=128, epochs=50, units1=16, units2=64;, score=0.626 total time= 1.2min\n"
     ]
    },
    {
     "name": "stdout",
     "output_type": "stream",
     "text": [
      "[CV 1/2] END batch_size=128, epochs=50, units1=16, units2=128;, score=0.640 total time= 1.2min\n"
     ]
    },
    {
     "name": "stdout",
     "output_type": "stream",
     "text": [
      "[CV 2/2] END batch_size=128, epochs=50, units1=16, units2=128;, score=0.626 total time= 1.2min\n"
     ]
    },
    {
     "name": "stdout",
     "output_type": "stream",
     "text": [
      "[CV 1/2] END batch_size=128, epochs=50, units1=32, units2=16;, score=0.638 total time= 1.2min\n"
     ]
    },
    {
     "name": "stdout",
     "output_type": "stream",
     "text": [
      "[CV 2/2] END batch_size=128, epochs=50, units1=32, units2=16;, score=0.632 total time= 1.6min\n"
     ]
    },
    {
     "name": "stdout",
     "output_type": "stream",
     "text": [
      "[CV 1/2] END batch_size=128, epochs=50, units1=32, units2=32;, score=0.640 total time= 1.2min\n"
     ]
    },
    {
     "name": "stdout",
     "output_type": "stream",
     "text": [
      "[CV 2/2] END batch_size=128, epochs=50, units1=32, units2=32;, score=0.634 total time= 1.2min\n"
     ]
    },
    {
     "name": "stdout",
     "output_type": "stream",
     "text": [
      "[CV 1/2] END batch_size=128, epochs=50, units1=32, units2=64;, score=0.643 total time= 1.2min\n"
     ]
    },
    {
     "name": "stdout",
     "output_type": "stream",
     "text": [
      "[CV 2/2] END batch_size=128, epochs=50, units1=32, units2=64;, score=0.642 total time= 1.2min\n"
     ]
    },
    {
     "name": "stdout",
     "output_type": "stream",
     "text": [
      "[CV 1/2] END batch_size=128, epochs=50, units1=32, units2=128;, score=0.639 total time= 1.2min\n"
     ]
    },
    {
     "name": "stdout",
     "output_type": "stream",
     "text": [
      "[CV 2/2] END batch_size=128, epochs=50, units1=32, units2=128;, score=0.640 total time= 1.2min\n"
     ]
    },
    {
     "name": "stdout",
     "output_type": "stream",
     "text": [
      "[CV 1/2] END batch_size=128, epochs=50, units1=64, units2=16;, score=0.635 total time= 1.2min\n"
     ]
    },
    {
     "name": "stdout",
     "output_type": "stream",
     "text": [
      "[CV 2/2] END batch_size=128, epochs=50, units1=64, units2=16;, score=0.638 total time= 1.2min\n"
     ]
    },
    {
     "name": "stdout",
     "output_type": "stream",
     "text": [
      "[CV 1/2] END batch_size=128, epochs=50, units1=64, units2=32;, score=0.643 total time= 1.2min\n"
     ]
    },
    {
     "name": "stdout",
     "output_type": "stream",
     "text": [
      "[CV 2/2] END batch_size=128, epochs=50, units1=64, units2=32;, score=0.640 total time= 1.2min\n"
     ]
    },
    {
     "name": "stdout",
     "output_type": "stream",
     "text": [
      "[CV 1/2] END batch_size=128, epochs=50, units1=64, units2=64;, score=0.642 total time= 1.2min\n"
     ]
    },
    {
     "name": "stdout",
     "output_type": "stream",
     "text": [
      "[CV 2/2] END batch_size=128, epochs=50, units1=64, units2=64;, score=0.644 total time= 1.2min\n"
     ]
    },
    {
     "name": "stdout",
     "output_type": "stream",
     "text": [
      "[CV 1/2] END batch_size=128, epochs=50, units1=64, units2=128;, score=0.647 total time= 1.2min\n"
     ]
    },
    {
     "name": "stdout",
     "output_type": "stream",
     "text": [
      "[CV 2/2] END batch_size=128, epochs=50, units1=64, units2=128;, score=0.637 total time= 1.2min\n"
     ]
    },
    {
     "name": "stdout",
     "output_type": "stream",
     "text": [
      "Best: 0.646108174605056 using {'batch_size': 32, 'epochs': 50, 'units1': 64, 'units2': 16}\n"
     ]
    },
    {
     "name": "stdout",
     "output_type": "stream",
     "text": [
      "INFO:tensorflow:Assets written to: ram://80489aa8c15c4a0c84cacab4127d6f4a/assets\n"
     ]
    },
    {
     "name": "stderr",
     "output_type": "stream",
     "text": [
      "INFO:tensorflow:Assets written to: ram://80489aa8c15c4a0c84cacab4127d6f4a/assets\n"
     ]
    }
   ],
   "source": [
    "if (not os.path.exists('gridsearch/RNN_postcovid.joblib')):\n",
    "\n",
    "    # Create a KerasRegressor\n",
    "    regressor_postcovid = KerasRegressor(model=buildModel, input_dim=X_train3.shape[1], verbose=0, epochs=100, batch_size=128, units1=64, units2=64)\n",
    "\n",
    "    # Create a GridSearchCV and fit the model\n",
    "    grid_postcovid = GridSearchCV(estimator=regressor_postcovid, param_grid=param_grid, cv=2, verbose=3)\n",
    "    grid_result_postcovid = grid_postcovid.fit(X_train3, y_train3)\n",
    "\n",
    "    # Summarize results\n",
    "    print(f\"Best: {grid_result_postcovid.best_score_} using {grid_result_postcovid.best_params_}\")\n",
    "\n",
    "    # Save best model\n",
    "    dump(grid_result_postcovid, 'gridsearch/RNN_postcovid.joblib')\n",
    "\n",
    "else:\n",
    "    # Load grid_result from a file\n",
    "    grid_result_postcovid = load('gridsearch/RNN_postcovid.joblib')\n",
    "\n",
    "    # Summarize results\n",
    "    print(f\"Best: {grid_result_postcovid.best_score_} using {grid_result_postcovid.best_params_}\")"
   ]
  },
  {
   "cell_type": "code",
   "execution_count": 15,
   "id": "d25916a0",
   "metadata": {
    "execution": {
     "iopub.execute_input": "2024-03-22T05:37:55.808897Z",
     "iopub.status.busy": "2024-03-22T05:37:55.808668Z",
     "iopub.status.idle": "2024-03-22T05:37:58.829145Z",
     "shell.execute_reply": "2024-03-22T05:37:58.828721Z"
    },
    "papermill": {
     "duration": 3.062251,
     "end_time": "2024-03-22T05:37:58.830122",
     "exception": false,
     "start_time": "2024-03-22T05:37:55.767871",
     "status": "completed"
    },
    "tags": []
   },
   "outputs": [
    {
     "name": "stderr",
     "output_type": "stream",
     "text": [
      "2024-03-22 13:37:57.684993: W tensorflow/core/util/tensor_slice_reader.cc:98] Could not open ram://855733470a4e46d39312c8f6b6190057: INVALID_ARGUMENT: ram://855733470a4e46d39312c8f6b6190057 is a directory.\n"
     ]
    },
    {
     "name": "stdout",
     "output_type": "stream",
     "text": [
      "Test MAE: 0.6473609549856725\n"
     ]
    }
   ],
   "source": [
    "# Load and evaluate the model with the test data using the best hyperparameters\n",
    "grid_result_postcovid = load('gridsearch/RNN_postcovid.joblib')\n",
    "test_score = grid_result_postcovid.score(X_test3, y_test3)\n",
    "print(f\"Test MAE: {test_score}\")"
   ]
  },
  {
   "cell_type": "markdown",
   "id": "382e1af7",
   "metadata": {
    "papermill": {
     "duration": 0.061115,
     "end_time": "2024-03-22T05:37:58.931386",
     "exception": false,
     "start_time": "2024-03-22T05:37:58.870271",
     "status": "completed"
    },
    "tags": []
   },
   "source": [
    "### Comparing Models"
   ]
  },
  {
   "cell_type": "code",
   "execution_count": 16,
   "id": "1c2cc294",
   "metadata": {
    "execution": {
     "iopub.execute_input": "2024-03-22T05:37:59.037618Z",
     "iopub.status.busy": "2024-03-22T05:37:59.037388Z",
     "iopub.status.idle": "2024-03-22T05:38:01.541893Z",
     "shell.execute_reply": "2024-03-22T05:38:01.541393Z"
    },
    "papermill": {
     "duration": 2.552766,
     "end_time": "2024-03-22T05:38:01.542915",
     "exception": false,
     "start_time": "2024-03-22T05:37:58.990149",
     "status": "completed"
    },
    "tags": []
   },
   "outputs": [
    {
     "data": {
      "image/png": "[encoded data removed]",
      "text/plain": [
       "<Figure size 640x480 with 1 Axes>"
      ]
     },
     "metadata": {},
     "output_type": "display_data"
    },
    {
     "data": {
      "image/png": "[encoded data removed]",
      "text/plain": [
       "<Figure size 640x480 with 1 Axes>"
      ]
     },
     "metadata": {},
     "output_type": "display_data"
    },
    {
     "data": {
      "image/png": "[encoded data removed]",
      "text/plain": [
       "<Figure size 640x480 with 1 Axes>"
      ]
     },
     "metadata": {},
     "output_type": "display_data"
    },
    {
     "name": "stdout",
     "output_type": "stream",
     "text": [
      "(Full) Correlation coefficient: 0.794158690552142\n",
      "(Precovid) Correlation coefficient: 0.8088958601930725\n",
      "(Postcovid) Correlation coefficient: 0.8057824777766246\n",
      "--------------------------------------------------\n",
      "(Full) R2 score: 0.6290131769567453\n",
      "(Precovid) R2 score: 0.6529175179777431\n",
      "(Postcovid) R2 score: 0.6473609549856725\n",
      "--------------------------------------------------\n",
      "(Full) Mean squared error: 0.37204117399332837\n",
      "(Precovid) Mean squared error: 0.29070938077047564\n",
      "(Postcovid) Mean squared error: 0.3590210573067202\n"
     ]
    }
   ],
   "source": [
    "# Predict the adjusted price\n",
    "y_pred_fulldata = grid_result_fulldata.predict(X_test1)\n",
    "y_pred_precovid = grid_result_precovid.predict(X_test2)\n",
    "y_pred_postcovid = grid_result_postcovid.predict(X_test3)\n",
    "\n",
    "# Plot the predicted adjusted price against the actual adjusted price\n",
    "plt.scatter(y_test1, y_pred_fulldata, label='Full dataset')\n",
    "plt.xlabel('Actual adjusted price')\n",
    "plt.ylabel('Predicted adjusted price')\n",
    "plt.legend()\n",
    "plt.show()\n",
    "\n",
    "plt.scatter(y_test2, y_pred_precovid, label='Precovid dataset')\n",
    "plt.xlabel('Actual adjusted price')\n",
    "plt.ylabel('Predicted adjusted price')\n",
    "plt.legend()\n",
    "plt.show()\n",
    "\n",
    "plt.scatter(y_test3, y_pred_postcovid, label='Postcovid dataset')\n",
    "plt.xlabel('Actual adjusted price')\n",
    "plt.ylabel('Predicted adjusted price')\n",
    "plt.legend()\n",
    "plt.show()\n",
    "\n",
    "# Calculate the correlation coefficient\n",
    "correlation_fulldata = np.corrcoef(y_test1, y_pred_fulldata.flatten())[0, 1]\n",
    "correlation_precovid = np.corrcoef(y_test2, y_pred_precovid.flatten())[0, 1]\n",
    "correlation_postcovid = np.corrcoef(y_test3, y_pred_postcovid.flatten())[0, 1]\n",
    "print('(Full) Correlation coefficient:', correlation_fulldata)\n",
    "print('(Precovid) Correlation coefficient:', correlation_precovid)\n",
    "print('(Postcovid) Correlation coefficient:', correlation_postcovid)\n",
    "\n",
    "# Calculate r2 score\n",
    "from sklearn.metrics import r2_score\n",
    "r2_fulldata = r2_score(y_test1, y_pred_fulldata)\n",
    "r2_precovid = r2_score(y_test2, y_pred_precovid)\n",
    "r2_postcovid = r2_score(y_test3, y_pred_postcovid)\n",
    "print('-'*50)\n",
    "print('(Full) R2 score:', r2_fulldata)\n",
    "print('(Precovid) R2 score:', r2_precovid)\n",
    "print('(Postcovid) R2 score:', r2_postcovid)\n",
    "\n",
    "# Obtain the mean squared error\n",
    "from sklearn.metrics import mean_squared_error\n",
    "mse_fulldata = mean_squared_error(y_test1, y_pred_fulldata)\n",
    "mse_precovid = mean_squared_error(y_test2, y_pred_precovid)\n",
    "mse_postcovid = mean_squared_error(y_test3, y_pred_postcovid)\n",
    "print('-'*50)\n",
    "print('(Full) Mean squared error:', mse_fulldata)\n",
    "print('(Precovid) Mean squared error:', mse_precovid)\n",
    "print('(Postcovid) Mean squared error:', mse_postcovid)"
   ]
  }
 ],
 "metadata": {
  "kernelspec": {
   "display_name": "Python 3 (ipykernel)",
   "language": "python",
   "name": "python3"
  },
  "language_info": {
   "codemirror_mode": {
    "name": "ipython",
    "version": 3
   },
   "file_extension": ".py",
   "mimetype": "text/x-python",
   "name": "python",
   "nbconvert_exporter": "python",
   "pygments_lexer": "ipython3",
   "version": "3.11.4"
  },
  "papermill": {
   "default_parameters": {},
   "duration": 66870.90811,
   "end_time": "2024-03-22T05:38:05.356009",
   "environment_variables": {},
   "exception": null,
   "input_path": "/common/home/users/r/ryanlim.2021/RNN.ipynb",
   "output_path": "/common/home/users/r/ryanlim.2021/RNN.output.21032024190328.ipynb",
   "parameters": {},
   "start_time": "2024-03-21T11:03:34.447899",
   "version": "2.5.0"
  }
 },
 "nbformat": 4,
 "nbformat_minor": 5
}