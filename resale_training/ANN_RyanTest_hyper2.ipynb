{
 "cells": [
  {
   "cell_type": "markdown",
   "id": "e3935bed",
   "metadata": {
    "papermill": {
     "duration": 0.007244,
     "end_time": "2024-03-28T04:25:54.292456",
     "exception": false,
     "start_time": "2024-03-28T04:25:54.285212",
     "status": "completed"
    },
    "tags": []
   },
   "source": [
    "## EDA (Condensed)"
   ]
  },
  {
   "cell_type": "code",
   "execution_count": 1,
   "id": "b824d877-d2f7-4db1-9707-b6d18dbd3048",
   "metadata": {
    "execution": {
     "iopub.execute_input": "2024-03-28T04:25:54.337017Z",
     "iopub.status.busy": "2024-03-28T04:25:54.336603Z",
     "iopub.status.idle": "2024-03-28T04:26:08.671643Z",
     "shell.execute_reply": "2024-03-28T04:26:08.671095Z"
    },
    "papermill": {
     "duration": 14.361693,
     "end_time": "2024-03-28T04:26:08.672950",
     "exception": false,
     "start_time": "2024-03-28T04:25:54.311257",
     "status": "completed"
    },
    "tags": []
   },
   "outputs": [
    {
     "name": "stdout",
     "output_type": "stream",
     "text": [
      "Requirement already satisfied: pandas in ./jupyterlab-venv-tf-py311/lib/python3.11/site-packages (2.2.1)\r\n"
     ]
    },
    {
     "name": "stdout",
     "output_type": "stream",
     "text": [
      "Requirement already satisfied: numpy<2,>=1.23.2 in ./jupyterlab-venv-tf-py311/lib/python3.11/site-packages (from pandas) (1.26.3)\r\n",
      "Requirement already satisfied: python-dateutil>=2.8.2 in ./jupyterlab-venv-tf-py311/lib/python3.11/site-packages (from pandas) (2.8.2)\r\n",
      "Requirement already satisfied: pytz>=2020.1 in ./jupyterlab-venv-tf-py311/lib/python3.11/site-packages (from pandas) (2024.1)\r\n",
      "Requirement already satisfied: tzdata>=2022.7 in ./jupyterlab-venv-tf-py311/lib/python3.11/site-packages (from pandas) (2024.1)\r\n",
      "Requirement already satisfied: six>=1.5 in ./jupyterlab-venv-tf-py311/lib/python3.11/site-packages (from python-dateutil>=2.8.2->pandas) (1.16.0)\r\n"
     ]
    },
    {
     "name": "stdout",
     "output_type": "stream",
     "text": [
      "\r\n",
      "\u001b[1m[\u001b[0m\u001b[34;49mnotice\u001b[0m\u001b[1;39;49m]\u001b[0m\u001b[39;49m A new release of pip is available: \u001b[0m\u001b[31;49m23.3.2\u001b[0m\u001b[39;49m -> \u001b[0m\u001b[32;49m24.0\u001b[0m\r\n",
      "\u001b[1m[\u001b[0m\u001b[34;49mnotice\u001b[0m\u001b[1;39;49m]\u001b[0m\u001b[39;49m To update, run: \u001b[0m\u001b[32;49mpip install --upgrade pip\u001b[0m\r\n"
     ]
    },
    {
     "name": "stdout",
     "output_type": "stream",
     "text": [
      "Requirement already satisfied: matplotlib in ./jupyterlab-venv-tf-py311/lib/python3.11/site-packages (3.8.3)\r\n",
      "Requirement already satisfied: contourpy>=1.0.1 in ./jupyterlab-venv-tf-py311/lib/python3.11/site-packages (from matplotlib) (1.2.0)\r\n",
      "Requirement already satisfied: cycler>=0.10 in ./jupyterlab-venv-tf-py311/lib/python3.11/site-packages (from matplotlib) (0.12.1)\r\n"
     ]
    },
    {
     "name": "stdout",
     "output_type": "stream",
     "text": [
      "Requirement already satisfied: fonttools>=4.22.0 in ./jupyterlab-venv-tf-py311/lib/python3.11/site-packages (from matplotlib) (4.50.0)\r\n",
      "Requirement already satisfied: kiwisolver>=1.3.1 in ./jupyterlab-venv-tf-py311/lib/python3.11/site-packages (from matplotlib) (1.4.5)\r\n",
      "Requirement already satisfied: numpy<2,>=1.21 in ./jupyterlab-venv-tf-py311/lib/python3.11/site-packages (from matplotlib) (1.26.3)\r\n",
      "Requirement already satisfied: packaging>=20.0 in ./jupyterlab-venv-tf-py311/lib/python3.11/site-packages (from matplotlib) (23.2)\r\n",
      "Requirement already satisfied: pillow>=8 in ./jupyterlab-venv-tf-py311/lib/python3.11/site-packages (from matplotlib) (10.2.0)\r\n",
      "Requirement already satisfied: pyparsing>=2.3.1 in ./jupyterlab-venv-tf-py311/lib/python3.11/site-packages (from matplotlib) (3.1.2)\r\n",
      "Requirement already satisfied: python-dateutil>=2.7 in ./jupyterlab-venv-tf-py311/lib/python3.11/site-packages (from matplotlib) (2.8.2)\r\n"
     ]
    },
    {
     "name": "stdout",
     "output_type": "stream",
     "text": [
      "Requirement already satisfied: six>=1.5 in ./jupyterlab-venv-tf-py311/lib/python3.11/site-packages (from python-dateutil>=2.7->matplotlib) (1.16.0)\r\n"
     ]
    },
    {
     "name": "stdout",
     "output_type": "stream",
     "text": [
      "\r\n",
      "\u001b[1m[\u001b[0m\u001b[34;49mnotice\u001b[0m\u001b[1;39;49m]\u001b[0m\u001b[39;49m A new release of pip is available: \u001b[0m\u001b[31;49m23.3.2\u001b[0m\u001b[39;49m -> \u001b[0m\u001b[32;49m24.0\u001b[0m\r\n",
      "\u001b[1m[\u001b[0m\u001b[34;49mnotice\u001b[0m\u001b[1;39;49m]\u001b[0m\u001b[39;49m To update, run: \u001b[0m\u001b[32;49mpip install --upgrade pip\u001b[0m\r\n"
     ]
    },
    {
     "name": "stdout",
     "output_type": "stream",
     "text": [
      "Requirement already satisfied: seaborn in ./jupyterlab-venv-tf-py311/lib/python3.11/site-packages (0.13.2)\r\n"
     ]
    },
    {
     "name": "stdout",
     "output_type": "stream",
     "text": [
      "Requirement already satisfied: numpy!=1.24.0,>=1.20 in ./jupyterlab-venv-tf-py311/lib/python3.11/site-packages (from seaborn) (1.26.3)\r\n",
      "Requirement already satisfied: pandas>=1.2 in ./jupyterlab-venv-tf-py311/lib/python3.11/site-packages (from seaborn) (2.2.1)\r\n",
      "Requirement already satisfied: matplotlib!=3.6.1,>=3.4 in ./jupyterlab-venv-tf-py311/lib/python3.11/site-packages (from seaborn) (3.8.3)\r\n",
      "Requirement already satisfied: contourpy>=1.0.1 in ./jupyterlab-venv-tf-py311/lib/python3.11/site-packages (from matplotlib!=3.6.1,>=3.4->seaborn) (1.2.0)\r\n",
      "Requirement already satisfied: cycler>=0.10 in ./jupyterlab-venv-tf-py311/lib/python3.11/site-packages (from matplotlib!=3.6.1,>=3.4->seaborn) (0.12.1)\r\n",
      "Requirement already satisfied: fonttools>=4.22.0 in ./jupyterlab-venv-tf-py311/lib/python3.11/site-packages (from matplotlib!=3.6.1,>=3.4->seaborn) (4.50.0)\r\n",
      "Requirement already satisfied: kiwisolver>=1.3.1 in ./jupyterlab-venv-tf-py311/lib/python3.11/site-packages (from matplotlib!=3.6.1,>=3.4->seaborn) (1.4.5)\r\n",
      "Requirement already satisfied: packaging>=20.0 in ./jupyterlab-venv-tf-py311/lib/python3.11/site-packages (from matplotlib!=3.6.1,>=3.4->seaborn) (23.2)\r\n",
      "Requirement already satisfied: pillow>=8 in ./jupyterlab-venv-tf-py311/lib/python3.11/site-packages (from matplotlib!=3.6.1,>=3.4->seaborn) (10.2.0)\r\n",
      "Requirement already satisfied: pyparsing>=2.3.1 in ./jupyterlab-venv-tf-py311/lib/python3.11/site-packages (from matplotlib!=3.6.1,>=3.4->seaborn) (3.1.2)\r\n",
      "Requirement already satisfied: python-dateutil>=2.7 in ./jupyterlab-venv-tf-py311/lib/python3.11/site-packages (from matplotlib!=3.6.1,>=3.4->seaborn) (2.8.2)\r\n"
     ]
    },
    {
     "name": "stdout",
     "output_type": "stream",
     "text": [
      "Requirement already satisfied: pytz>=2020.1 in ./jupyterlab-venv-tf-py311/lib/python3.11/site-packages (from pandas>=1.2->seaborn) (2024.1)\r\n",
      "Requirement already satisfied: tzdata>=2022.7 in ./jupyterlab-venv-tf-py311/lib/python3.11/site-packages (from pandas>=1.2->seaborn) (2024.1)\r\n"
     ]
    },
    {
     "name": "stdout",
     "output_type": "stream",
     "text": [
      "Requirement already satisfied: six>=1.5 in ./jupyterlab-venv-tf-py311/lib/python3.11/site-packages (from python-dateutil>=2.7->matplotlib!=3.6.1,>=3.4->seaborn) (1.16.0)\r\n"
     ]
    },
    {
     "name": "stdout",
     "output_type": "stream",
     "text": [
      "\r\n",
      "\u001b[1m[\u001b[0m\u001b[34;49mnotice\u001b[0m\u001b[1;39;49m]\u001b[0m\u001b[39;49m A new release of pip is available: \u001b[0m\u001b[31;49m23.3.2\u001b[0m\u001b[39;49m -> \u001b[0m\u001b[32;49m24.0\u001b[0m\r\n",
      "\u001b[1m[\u001b[0m\u001b[34;49mnotice\u001b[0m\u001b[1;39;49m]\u001b[0m\u001b[39;49m To update, run: \u001b[0m\u001b[32;49mpip install --upgrade pip\u001b[0m\r\n"
     ]
    },
    {
     "name": "stdout",
     "output_type": "stream",
     "text": [
      "Requirement already satisfied: scikit-learn in ./jupyterlab-venv-tf-py311/lib/python3.11/site-packages (1.4.1.post1)\r\n",
      "Requirement already satisfied: numpy<2.0,>=1.19.5 in ./jupyterlab-venv-tf-py311/lib/python3.11/site-packages (from scikit-learn) (1.26.3)\r\n"
     ]
    },
    {
     "name": "stdout",
     "output_type": "stream",
     "text": [
      "Requirement already satisfied: scipy>=1.6.0 in ./jupyterlab-venv-tf-py311/lib/python3.11/site-packages (from scikit-learn) (1.12.0)\r\n",
      "Requirement already satisfied: joblib>=1.2.0 in ./jupyterlab-venv-tf-py311/lib/python3.11/site-packages (from scikit-learn) (1.3.2)\r\n",
      "Requirement already satisfied: threadpoolctl>=2.0.0 in ./jupyterlab-venv-tf-py311/lib/python3.11/site-packages (from scikit-learn) (3.3.0)\r\n"
     ]
    },
    {
     "name": "stdout",
     "output_type": "stream",
     "text": [
      "\r\n",
      "\u001b[1m[\u001b[0m\u001b[34;49mnotice\u001b[0m\u001b[1;39;49m]\u001b[0m\u001b[39;49m A new release of pip is available: \u001b[0m\u001b[31;49m23.3.2\u001b[0m\u001b[39;49m -> \u001b[0m\u001b[32;49m24.0\u001b[0m\r\n",
      "\u001b[1m[\u001b[0m\u001b[34;49mnotice\u001b[0m\u001b[1;39;49m]\u001b[0m\u001b[39;49m To update, run: \u001b[0m\u001b[32;49mpip install --upgrade pip\u001b[0m\r\n"
     ]
    },
    {
     "name": "stdout",
     "output_type": "stream",
     "text": [
      "Requirement already satisfied: scikeras in ./jupyterlab-venv-tf-py311/lib/python3.11/site-packages (0.12.0)\r\n",
      "Requirement already satisfied: packaging>=0.21 in ./jupyterlab-venv-tf-py311/lib/python3.11/site-packages (from scikeras) (23.2)\r\n",
      "Requirement already satisfied: scikit-learn>=1.0.0 in ./jupyterlab-venv-tf-py311/lib/python3.11/site-packages (from scikeras) (1.4.1.post1)\r\n"
     ]
    },
    {
     "name": "stdout",
     "output_type": "stream",
     "text": [
      "Requirement already satisfied: numpy<2.0,>=1.19.5 in ./jupyterlab-venv-tf-py311/lib/python3.11/site-packages (from scikit-learn>=1.0.0->scikeras) (1.26.3)\r\n",
      "Requirement already satisfied: scipy>=1.6.0 in ./jupyterlab-venv-tf-py311/lib/python3.11/site-packages (from scikit-learn>=1.0.0->scikeras) (1.12.0)\r\n",
      "Requirement already satisfied: joblib>=1.2.0 in ./jupyterlab-venv-tf-py311/lib/python3.11/site-packages (from scikit-learn>=1.0.0->scikeras) (1.3.2)\r\n",
      "Requirement already satisfied: threadpoolctl>=2.0.0 in ./jupyterlab-venv-tf-py311/lib/python3.11/site-packages (from scikit-learn>=1.0.0->scikeras) (3.3.0)\r\n"
     ]
    },
    {
     "name": "stdout",
     "output_type": "stream",
     "text": [
      "\r\n",
      "\u001b[1m[\u001b[0m\u001b[34;49mnotice\u001b[0m\u001b[1;39;49m]\u001b[0m\u001b[39;49m A new release of pip is available: \u001b[0m\u001b[31;49m23.3.2\u001b[0m\u001b[39;49m -> \u001b[0m\u001b[32;49m24.0\u001b[0m\r\n",
      "\u001b[1m[\u001b[0m\u001b[34;49mnotice\u001b[0m\u001b[1;39;49m]\u001b[0m\u001b[39;49m To update, run: \u001b[0m\u001b[32;49mpip install --upgrade pip\u001b[0m\r\n"
     ]
    },
    {
     "name": "stdout",
     "output_type": "stream",
     "text": [
      "You are allocated NVIDIA GeForce RTX 3090 on aloha\r\n",
      "You are using GPU 0\r\n"
     ]
    }
   ],
   "source": [
    "!pip3 install pandas\n",
    "!pip3 install matplotlib\n",
    "!pip3 install seaborn\n",
    "!pip3 install scikit-learn\n",
    "!pip3 install scikeras\n",
    "!whichgpu"
   ]
  },
  {
   "cell_type": "code",
   "execution_count": 2,
   "id": "815eabea",
   "metadata": {
    "execution": {
     "iopub.execute_input": "2024-03-28T04:26:08.707493Z",
     "iopub.status.busy": "2024-03-28T04:26:08.707227Z",
     "iopub.status.idle": "2024-03-28T04:26:22.194591Z",
     "shell.execute_reply": "2024-03-28T04:26:22.194031Z"
    },
    "papermill": {
     "duration": 13.514066,
     "end_time": "2024-03-28T04:26:22.195822",
     "exception": false,
     "start_time": "2024-03-28T04:26:08.681756",
     "status": "completed"
    },
    "tags": []
   },
   "outputs": [
    {
     "name": "stderr",
     "output_type": "stream",
     "text": [
      "/common/home/users/r/ryanlim.2021/tmp/ipykernel_2708742/4248652671.py:32: SettingWithCopyWarning: \n",
      "A value is trying to be set on a copy of a slice from a DataFrame.\n",
      "Try using .loc[row_indexer,col_indexer] = value instead\n",
      "\n",
      "See the caveats in the documentation: https://pandas.pydata.org/pandas-docs/stable/user_guide/indexing.html#returning-a-view-versus-a-copy\n",
      "  df_cleaned['remaining_lease_years'] = df['remaining_lease'].apply(convert_lease_to_int)\n",
      "/common/home/users/r/ryanlim.2021/tmp/ipykernel_2708742/4248652671.py:36: SettingWithCopyWarning: \n",
      "A value is trying to be set on a copy of a slice from a DataFrame.\n",
      "Try using .loc[row_indexer,col_indexer] = value instead\n",
      "\n",
      "See the caveats in the documentation: https://pandas.pydata.org/pandas-docs/stable/user_guide/indexing.html#returning-a-view-versus-a-copy\n",
      "  df_cleaned['flat_type_encoded'] = labelencoder.fit_transform(df_cleaned['flat_type'])\n",
      "/common/home/users/r/ryanlim.2021/tmp/ipykernel_2708742/4248652671.py:37: SettingWithCopyWarning: \n",
      "A value is trying to be set on a copy of a slice from a DataFrame.\n",
      "Try using .loc[row_indexer,col_indexer] = value instead\n",
      "\n",
      "See the caveats in the documentation: https://pandas.pydata.org/pandas-docs/stable/user_guide/indexing.html#returning-a-view-versus-a-copy\n",
      "  df_cleaned['storey_range_encoded'] = labelencoder.fit_transform(df_cleaned['storey_range'])\n"
     ]
    }
   ],
   "source": [
    "import pandas as pd\n",
    "import matplotlib.pyplot as plt\n",
    "import seaborn as sns\n",
    "from sklearn.preprocessing import StandardScaler\n",
    "from sklearn.preprocessing import LabelEncoder\n",
    "import matplotlib.pyplot as plt\n",
    "import numpy as np\n",
    "import scipy.stats as stats\n",
    "from sklearn.model_selection import train_test_split \n",
    "\n",
    "df = pd.read_csv(\"completed_flat_price_2017_2023.csv\")\n",
    "df['date'] = pd.to_datetime(df['month'], format='%Y-%m')\n",
    "\n",
    "# pre processing:\n",
    "# removing outliers (3std away) for resale_price\n",
    "def three_sd_range(series):\n",
    "    mean = series.mean()\n",
    "    sd = series.std()\n",
    "    low = mean - 3*sd\n",
    "    high = mean + 3*sd\n",
    "    return (low, high)\n",
    "\n",
    "lower, upper = three_sd_range(df[\"resale_price\"])\n",
    "df_cleaned  = df[ (df.resale_price >= lower) & (df.resale_price <= upper) ]\n",
    "\n",
    "# converting remaining_lease to int format:\n",
    "def convert_lease_to_int(lease_str):\n",
    "    parts = lease_str.split()\n",
    "    years = int(parts[0])\n",
    "    return years\n",
    "\n",
    "df_cleaned['remaining_lease_years'] = df['remaining_lease'].apply(convert_lease_to_int)\n",
    "\n",
    "# encoding flat_type and storey_range to ordinal data:\n",
    "labelencoder = LabelEncoder()\n",
    "df_cleaned['flat_type_encoded'] = labelencoder.fit_transform(df_cleaned['flat_type'])\n",
    "df_cleaned['storey_range_encoded'] = labelencoder.fit_transform(df_cleaned['storey_range'])\n"
   ]
  },
  {
   "cell_type": "markdown",
   "id": "0124dc43",
   "metadata": {
    "papermill": {
     "duration": 0.024183,
     "end_time": "2024-03-28T04:26:22.233918",
     "exception": false,
     "start_time": "2024-03-28T04:26:22.209735",
     "status": "completed"
    },
    "tags": []
   },
   "source": [
    "#### Inflation using CPI"
   ]
  },
  {
   "cell_type": "code",
   "execution_count": 3,
   "id": "6e082309",
   "metadata": {
    "execution": {
     "iopub.execute_input": "2024-03-28T04:26:22.285571Z",
     "iopub.status.busy": "2024-03-28T04:26:22.285301Z",
     "iopub.status.idle": "2024-03-28T04:26:22.301858Z",
     "shell.execute_reply": "2024-03-28T04:26:22.301267Z"
    },
    "papermill": {
     "duration": 0.045978,
     "end_time": "2024-03-28T04:26:22.303212",
     "exception": false,
     "start_time": "2024-03-28T04:26:22.257234",
     "status": "completed"
    },
    "tags": []
   },
   "outputs": [
    {
     "name": "stdout",
     "output_type": "stream",
     "text": [
      "   Year      CPI  Inflation Rate\n",
      "6  2017   99.004        0.000000\n",
      "5  2018   99.438        0.438366\n",
      "4  2019  100.000        0.565176\n",
      "3  2020   99.818       -0.182000\n",
      "2  2021  102.119        2.305195\n",
      "1  2022  108.370        6.121290\n",
      "0  2023  113.595        4.821445\n"
     ]
    }
   ],
   "source": [
    "# Read the CSV file. The header is in the first row by default.\n",
    "inflation_rate = pd.read_csv('annual_CPI.csv')\n",
    "\n",
    "# Transpose the DataFrame so that years become the index\n",
    "inflation_rate = inflation_rate.transpose().reset_index()\n",
    "inflation_rate.columns = ['Year', 'CPI']  # Renaming the columns\n",
    "inflation_rate.sort_index(ascending=False, inplace=True)\n",
    "\n",
    "# Convert 'Year' to integer and 'CPI' to float\n",
    "inflation_rate['Year'] = inflation_rate['Year'].astype(int)\n",
    "inflation_rate['CPI'] = inflation_rate['CPI'].astype(float)\n",
    "\n",
    "# Calculate the inflation rate\n",
    "inflation_rate['Inflation Rate'] = inflation_rate['CPI'].diff() / inflation_rate['CPI'].shift(1) * 100\n",
    "\n",
    "# Setting the inflation rate for the base year (the first year) to 0%\n",
    "inflation_rate.iloc[0, inflation_rate.columns.get_loc('Inflation Rate')] = 0\n",
    "\n",
    "# Display the DataFrame\n",
    "print(inflation_rate)"
   ]
  },
  {
   "cell_type": "markdown",
   "id": "bfd0542c",
   "metadata": {
    "papermill": {
     "duration": 0.040333,
     "end_time": "2024-03-28T04:26:22.356588",
     "exception": false,
     "start_time": "2024-03-28T04:26:22.316255",
     "status": "completed"
    },
    "tags": []
   },
   "source": [
    "#### Calculating adjusted price with inflation"
   ]
  },
  {
   "cell_type": "code",
   "execution_count": 4,
   "id": "d94bedcd",
   "metadata": {
    "execution": {
     "iopub.execute_input": "2024-03-28T04:26:22.439386Z",
     "iopub.status.busy": "2024-03-28T04:26:22.439076Z",
     "iopub.status.idle": "2024-03-28T04:26:22.505201Z",
     "shell.execute_reply": "2024-03-28T04:26:22.504740Z"
    },
    "papermill": {
     "duration": 0.093104,
     "end_time": "2024-03-28T04:26:22.506262",
     "exception": false,
     "start_time": "2024-03-28T04:26:22.413158",
     "status": "completed"
    },
    "tags": []
   },
   "outputs": [
    {
     "name": "stderr",
     "output_type": "stream",
     "text": [
      "/common/home/users/r/ryanlim.2021/tmp/ipykernel_2708742/3932039432.py:2: SettingWithCopyWarning: \n",
      "A value is trying to be set on a copy of a slice from a DataFrame.\n",
      "Try using .loc[row_indexer,col_indexer] = value instead\n",
      "\n",
      "See the caveats in the documentation: https://pandas.pydata.org/pandas-docs/stable/user_guide/indexing.html#returning-a-view-versus-a-copy\n",
      "  df_cleaned['year'] = pd.to_datetime(df_cleaned['month']).dt.year\n"
     ]
    }
   ],
   "source": [
    "# Add a 'year' column to df2 by converting 'month' to datetime and extracting the year\n",
    "df_cleaned['year'] = pd.to_datetime(df_cleaned['month']).dt.year\n",
    "\n",
    "# Merge df2 with the inflation_rate DataFrame on the 'year' column\n",
    "# Make sure the inflation_rate DataFrame has 'Year' and 'Inflation Rate' columns\n",
    "df_cleaned = df_cleaned.merge(inflation_rate, left_on='year', right_on='Year', how='left')\n",
    "\n",
    "# Calculate the adjusted_price\n",
    "df_cleaned['adjusted_price'] = round(df_cleaned['resale_price'] * (1 + df_cleaned['Inflation Rate'] / 100),2)\n",
    "\n",
    "# Since we only need the adjusted_price, drop the extra columns\n",
    "df_cleaned.drop(columns=['Year', 'Inflation Rate', 'year'], inplace=True)\n",
    "\n",
    "# extracting features:\n",
    "df2= df_cleaned[['month','town', \n",
    "                 'flat_type', 'flat_type_encoded',\n",
    "                 'storey_range', 'storey_range_encoded',\n",
    "                 'floor_area_sqm', 'remaining_lease_years', 'full_address', 'resale_price']]\n",
    "# Not using adjusted_price as inflation may not consistently affect all prices - raw prices are hypothesised to result in better model training"
   ]
  },
  {
   "cell_type": "markdown",
   "id": "818f59b8",
   "metadata": {
    "papermill": {
     "duration": 0.02828,
     "end_time": "2024-03-28T04:26:22.541936",
     "exception": false,
     "start_time": "2024-03-28T04:26:22.513656",
     "status": "completed"
    },
    "tags": []
   },
   "source": [
    "#### Normalisation of continuous variables \n",
    "Floor area, remaining lease years, resale price"
   ]
  },
  {
   "cell_type": "code",
   "execution_count": 5,
   "id": "cca7e22e",
   "metadata": {
    "execution": {
     "iopub.execute_input": "2024-03-28T04:26:22.604793Z",
     "iopub.status.busy": "2024-03-28T04:26:22.604409Z",
     "iopub.status.idle": "2024-03-28T04:26:23.179188Z",
     "shell.execute_reply": "2024-03-28T04:26:23.178723Z"
    },
    "papermill": {
     "duration": 0.605578,
     "end_time": "2024-03-28T04:26:23.180163",
     "exception": false,
     "start_time": "2024-03-28T04:26:22.574585",
     "status": "completed"
    },
    "tags": []
   },
   "outputs": [
    {
     "data": {
      "text/html": [
       "<div>\n",
       "<style scoped>\n",
       "    .dataframe tbody tr th:only-of-type {\n",
       "        vertical-align: middle;\n",
       "    }\n",
       "\n",
       "    .dataframe tbody tr th {\n",
       "        vertical-align: top;\n",
       "    }\n",
       "\n",
       "    .dataframe thead th {\n",
       "        text-align: right;\n",
       "    }\n",
       "</style>\n",
       "<table border=\"1\" class=\"dataframe\">\n",
       "  <thead>\n",
       "    <tr style=\"text-align: right;\">\n",
       "      <th></th>\n",
       "      <th>floor_area_sqm</th>\n",
       "      <th>remaining_lease_years</th>\n",
       "      <th>resale_price</th>\n",
       "      <th>flat_type_encoded</th>\n",
       "      <th>storey_range_encoded</th>\n",
       "      <th>year</th>\n",
       "      <th>ANG MO KIO</th>\n",
       "      <th>BEDOK</th>\n",
       "      <th>BISHAN</th>\n",
       "      <th>BUKIT BATOK</th>\n",
       "      <th>...</th>\n",
       "      <th>PASIR RIS</th>\n",
       "      <th>PUNGGOL</th>\n",
       "      <th>QUEENSTOWN</th>\n",
       "      <th>SEMBAWANG</th>\n",
       "      <th>SENGKANG</th>\n",
       "      <th>SERANGOON</th>\n",
       "      <th>TAMPINES</th>\n",
       "      <th>TOA PAYOH</th>\n",
       "      <th>WOODLANDS</th>\n",
       "      <th>YISHUN</th>\n",
       "    </tr>\n",
       "  </thead>\n",
       "  <tbody>\n",
       "    <tr>\n",
       "      <th>0</th>\n",
       "      <td>-2.225324</td>\n",
       "      <td>-0.969351</td>\n",
       "      <td>-1.539479</td>\n",
       "      <td>1</td>\n",
       "      <td>3</td>\n",
       "      <td>2017</td>\n",
       "      <td>1</td>\n",
       "      <td>0</td>\n",
       "      <td>0</td>\n",
       "      <td>0</td>\n",
       "      <td>...</td>\n",
       "      <td>0</td>\n",
       "      <td>0</td>\n",
       "      <td>0</td>\n",
       "      <td>0</td>\n",
       "      <td>0</td>\n",
       "      <td>0</td>\n",
       "      <td>0</td>\n",
       "      <td>0</td>\n",
       "      <td>0</td>\n",
       "      <td>0</td>\n",
       "    </tr>\n",
       "    <tr>\n",
       "      <th>1</th>\n",
       "      <td>-1.266810</td>\n",
       "      <td>-1.042624</td>\n",
       "      <td>-1.424603</td>\n",
       "      <td>2</td>\n",
       "      <td>0</td>\n",
       "      <td>2017</td>\n",
       "      <td>1</td>\n",
       "      <td>0</td>\n",
       "      <td>0</td>\n",
       "      <td>0</td>\n",
       "      <td>...</td>\n",
       "      <td>0</td>\n",
       "      <td>0</td>\n",
       "      <td>0</td>\n",
       "      <td>0</td>\n",
       "      <td>0</td>\n",
       "      <td>0</td>\n",
       "      <td>0</td>\n",
       "      <td>0</td>\n",
       "      <td>0</td>\n",
       "      <td>0</td>\n",
       "    </tr>\n",
       "    <tr>\n",
       "      <th>2</th>\n",
       "      <td>-1.266810</td>\n",
       "      <td>-0.896079</td>\n",
       "      <td>-1.348019</td>\n",
       "      <td>2</td>\n",
       "      <td>0</td>\n",
       "      <td>2017</td>\n",
       "      <td>1</td>\n",
       "      <td>0</td>\n",
       "      <td>0</td>\n",
       "      <td>0</td>\n",
       "      <td>...</td>\n",
       "      <td>0</td>\n",
       "      <td>0</td>\n",
       "      <td>0</td>\n",
       "      <td>0</td>\n",
       "      <td>0</td>\n",
       "      <td>0</td>\n",
       "      <td>0</td>\n",
       "      <td>0</td>\n",
       "      <td>0</td>\n",
       "      <td>0</td>\n",
       "    </tr>\n",
       "    <tr>\n",
       "      <th>3</th>\n",
       "      <td>-1.225135</td>\n",
       "      <td>-0.896079</td>\n",
       "      <td>-1.328874</td>\n",
       "      <td>2</td>\n",
       "      <td>1</td>\n",
       "      <td>2017</td>\n",
       "      <td>1</td>\n",
       "      <td>0</td>\n",
       "      <td>0</td>\n",
       "      <td>0</td>\n",
       "      <td>...</td>\n",
       "      <td>0</td>\n",
       "      <td>0</td>\n",
       "      <td>0</td>\n",
       "      <td>0</td>\n",
       "      <td>0</td>\n",
       "      <td>0</td>\n",
       "      <td>0</td>\n",
       "      <td>0</td>\n",
       "      <td>0</td>\n",
       "      <td>0</td>\n",
       "    </tr>\n",
       "    <tr>\n",
       "      <th>4</th>\n",
       "      <td>-1.266810</td>\n",
       "      <td>-0.896079</td>\n",
       "      <td>-1.328874</td>\n",
       "      <td>2</td>\n",
       "      <td>0</td>\n",
       "      <td>2017</td>\n",
       "      <td>1</td>\n",
       "      <td>0</td>\n",
       "      <td>0</td>\n",
       "      <td>0</td>\n",
       "      <td>...</td>\n",
       "      <td>0</td>\n",
       "      <td>0</td>\n",
       "      <td>0</td>\n",
       "      <td>0</td>\n",
       "      <td>0</td>\n",
       "      <td>0</td>\n",
       "      <td>0</td>\n",
       "      <td>0</td>\n",
       "      <td>0</td>\n",
       "      <td>0</td>\n",
       "    </tr>\n",
       "    <tr>\n",
       "      <th>...</th>\n",
       "      <td>...</td>\n",
       "      <td>...</td>\n",
       "      <td>...</td>\n",
       "      <td>...</td>\n",
       "      <td>...</td>\n",
       "      <td>...</td>\n",
       "      <td>...</td>\n",
       "      <td>...</td>\n",
       "      <td>...</td>\n",
       "      <td>...</td>\n",
       "      <td>...</td>\n",
       "      <td>...</td>\n",
       "      <td>...</td>\n",
       "      <td>...</td>\n",
       "      <td>...</td>\n",
       "      <td>...</td>\n",
       "      <td>...</td>\n",
       "      <td>...</td>\n",
       "      <td>...</td>\n",
       "      <td>...</td>\n",
       "      <td>...</td>\n",
       "    </tr>\n",
       "    <tr>\n",
       "      <th>145605</th>\n",
       "      <td>0.983615</td>\n",
       "      <td>-0.822806</td>\n",
       "      <td>1.064368</td>\n",
       "      <td>4</td>\n",
       "      <td>2</td>\n",
       "      <td>2023</td>\n",
       "      <td>0</td>\n",
       "      <td>0</td>\n",
       "      <td>0</td>\n",
       "      <td>0</td>\n",
       "      <td>...</td>\n",
       "      <td>0</td>\n",
       "      <td>0</td>\n",
       "      <td>0</td>\n",
       "      <td>0</td>\n",
       "      <td>0</td>\n",
       "      <td>0</td>\n",
       "      <td>0</td>\n",
       "      <td>0</td>\n",
       "      <td>0</td>\n",
       "      <td>1</td>\n",
       "    </tr>\n",
       "    <tr>\n",
       "      <th>145606</th>\n",
       "      <td>1.233662</td>\n",
       "      <td>-0.749534</td>\n",
       "      <td>1.447287</td>\n",
       "      <td>4</td>\n",
       "      <td>0</td>\n",
       "      <td>2023</td>\n",
       "      <td>0</td>\n",
       "      <td>0</td>\n",
       "      <td>0</td>\n",
       "      <td>0</td>\n",
       "      <td>...</td>\n",
       "      <td>0</td>\n",
       "      <td>0</td>\n",
       "      <td>0</td>\n",
       "      <td>0</td>\n",
       "      <td>0</td>\n",
       "      <td>0</td>\n",
       "      <td>0</td>\n",
       "      <td>0</td>\n",
       "      <td>0</td>\n",
       "      <td>1</td>\n",
       "    </tr>\n",
       "    <tr>\n",
       "      <th>145607</th>\n",
       "      <td>1.025289</td>\n",
       "      <td>-0.749534</td>\n",
       "      <td>1.447287</td>\n",
       "      <td>4</td>\n",
       "      <td>3</td>\n",
       "      <td>2023</td>\n",
       "      <td>0</td>\n",
       "      <td>0</td>\n",
       "      <td>0</td>\n",
       "      <td>0</td>\n",
       "      <td>...</td>\n",
       "      <td>0</td>\n",
       "      <td>0</td>\n",
       "      <td>0</td>\n",
       "      <td>0</td>\n",
       "      <td>0</td>\n",
       "      <td>0</td>\n",
       "      <td>0</td>\n",
       "      <td>0</td>\n",
       "      <td>0</td>\n",
       "      <td>1</td>\n",
       "    </tr>\n",
       "    <tr>\n",
       "      <th>145608</th>\n",
       "      <td>2.025478</td>\n",
       "      <td>-0.749534</td>\n",
       "      <td>2.328000</td>\n",
       "      <td>5</td>\n",
       "      <td>3</td>\n",
       "      <td>2023</td>\n",
       "      <td>0</td>\n",
       "      <td>0</td>\n",
       "      <td>0</td>\n",
       "      <td>0</td>\n",
       "      <td>...</td>\n",
       "      <td>0</td>\n",
       "      <td>0</td>\n",
       "      <td>0</td>\n",
       "      <td>0</td>\n",
       "      <td>0</td>\n",
       "      <td>0</td>\n",
       "      <td>0</td>\n",
       "      <td>0</td>\n",
       "      <td>0</td>\n",
       "      <td>1</td>\n",
       "    </tr>\n",
       "    <tr>\n",
       "      <th>145609</th>\n",
       "      <td>1.858780</td>\n",
       "      <td>-0.822806</td>\n",
       "      <td>1.862115</td>\n",
       "      <td>5</td>\n",
       "      <td>0</td>\n",
       "      <td>2023</td>\n",
       "      <td>0</td>\n",
       "      <td>0</td>\n",
       "      <td>0</td>\n",
       "      <td>0</td>\n",
       "      <td>...</td>\n",
       "      <td>0</td>\n",
       "      <td>0</td>\n",
       "      <td>0</td>\n",
       "      <td>0</td>\n",
       "      <td>0</td>\n",
       "      <td>0</td>\n",
       "      <td>0</td>\n",
       "      <td>0</td>\n",
       "      <td>0</td>\n",
       "      <td>1</td>\n",
       "    </tr>\n",
       "  </tbody>\n",
       "</table>\n",
       "<p>145610 rows × 32 columns</p>\n",
       "</div>"
      ],
      "text/plain": [
       "        floor_area_sqm  remaining_lease_years  resale_price  \\\n",
       "0            -2.225324              -0.969351     -1.539479   \n",
       "1            -1.266810              -1.042624     -1.424603   \n",
       "2            -1.266810              -0.896079     -1.348019   \n",
       "3            -1.225135              -0.896079     -1.328874   \n",
       "4            -1.266810              -0.896079     -1.328874   \n",
       "...                ...                    ...           ...   \n",
       "145605        0.983615              -0.822806      1.064368   \n",
       "145606        1.233662              -0.749534      1.447287   \n",
       "145607        1.025289              -0.749534      1.447287   \n",
       "145608        2.025478              -0.749534      2.328000   \n",
       "145609        1.858780              -0.822806      1.862115   \n",
       "\n",
       "        flat_type_encoded  storey_range_encoded  year  ANG MO KIO  BEDOK  \\\n",
       "0                       1                     3  2017           1      0   \n",
       "1                       2                     0  2017           1      0   \n",
       "2                       2                     0  2017           1      0   \n",
       "3                       2                     1  2017           1      0   \n",
       "4                       2                     0  2017           1      0   \n",
       "...                   ...                   ...   ...         ...    ...   \n",
       "145605                  4                     2  2023           0      0   \n",
       "145606                  4                     0  2023           0      0   \n",
       "145607                  4                     3  2023           0      0   \n",
       "145608                  5                     3  2023           0      0   \n",
       "145609                  5                     0  2023           0      0   \n",
       "\n",
       "        BISHAN  BUKIT BATOK  ...  PASIR RIS  PUNGGOL  QUEENSTOWN  SEMBAWANG  \\\n",
       "0            0            0  ...          0        0           0          0   \n",
       "1            0            0  ...          0        0           0          0   \n",
       "2            0            0  ...          0        0           0          0   \n",
       "3            0            0  ...          0        0           0          0   \n",
       "4            0            0  ...          0        0           0          0   \n",
       "...        ...          ...  ...        ...      ...         ...        ...   \n",
       "145605       0            0  ...          0        0           0          0   \n",
       "145606       0            0  ...          0        0           0          0   \n",
       "145607       0            0  ...          0        0           0          0   \n",
       "145608       0            0  ...          0        0           0          0   \n",
       "145609       0            0  ...          0        0           0          0   \n",
       "\n",
       "        SENGKANG  SERANGOON  TAMPINES  TOA PAYOH  WOODLANDS  YISHUN  \n",
       "0              0          0         0          0          0       0  \n",
       "1              0          0         0          0          0       0  \n",
       "2              0          0         0          0          0       0  \n",
       "3              0          0         0          0          0       0  \n",
       "4              0          0         0          0          0       0  \n",
       "...          ...        ...       ...        ...        ...     ...  \n",
       "145605         0          0         0          0          0       1  \n",
       "145606         0          0         0          0          0       1  \n",
       "145607         0          0         0          0          0       1  \n",
       "145608         0          0         0          0          0       1  \n",
       "145609         0          0         0          0          0       1  \n",
       "\n",
       "[145610 rows x 32 columns]"
      ]
     },
     "execution_count": 5,
     "metadata": {},
     "output_type": "execute_result"
    }
   ],
   "source": [
    "# Applying one hot encoding to town:\n",
    "from sklearn.preprocessing import LabelBinarizer\n",
    "labelbinarizer = LabelBinarizer()\n",
    "x = labelbinarizer.fit_transform(df2[\"town\"])\n",
    "encoded_df = pd.DataFrame(x, columns=labelbinarizer.classes_)\n",
    "encoded_df.head()\n",
    "\n",
    "# Normalizing numerical variables:\n",
    "from sklearn.preprocessing import StandardScaler\n",
    "columns = [ 'floor_area_sqm', 'remaining_lease_years', 'resale_price']\n",
    "df2_normalized = StandardScaler().fit_transform(df2[columns])\n",
    "df2_normalized= pd.DataFrame(df2_normalized, columns = columns)\n",
    "\n",
    "df2 = df2.reset_index(drop=True)\n",
    "df2_normalized = df2_normalized.reset_index(drop=True)\n",
    "\n",
    "df2_normalized[['flat_type_encoded', 'storey_range_encoded']] = df2[['flat_type_encoded', 'storey_range_encoded']]\n",
    "df2_normalized['year'] = df2['month'].str.slice(0,4)\n",
    "df2_normalized = pd.concat([df2_normalized, encoded_df], axis=1)\n",
    "\n",
    "# Change data type of year to int\n",
    "df2_normalized['year'] = df2_normalized['year'].astype(int)\n",
    "\n",
    "df2_normalized"
   ]
  },
  {
   "cell_type": "code",
   "execution_count": 6,
   "id": "1b342366",
   "metadata": {
    "execution": {
     "iopub.execute_input": "2024-03-28T04:26:23.214183Z",
     "iopub.status.busy": "2024-03-28T04:26:23.213743Z",
     "iopub.status.idle": "2024-03-28T04:26:24.030285Z",
     "shell.execute_reply": "2024-03-28T04:26:24.029695Z"
    },
    "papermill": {
     "duration": 0.841493,
     "end_time": "2024-03-28T04:26:24.031480",
     "exception": false,
     "start_time": "2024-03-28T04:26:23.189987",
     "status": "completed"
    },
    "tags": []
   },
   "outputs": [
    {
     "data": {
      "image/png": "[encoded data removed]",
      "text/plain": [
       "<Figure size 640x480 with 1 Axes>"
      ]
     },
     "metadata": {},
     "output_type": "display_data"
    }
   ],
   "source": [
    "# PCA\n",
    "from sklearn.decomposition import PCA\n",
    "\n",
    "# pca = PCA(n_components=3)\n",
    "pca = PCA(n_components=4)\n",
    "\n",
    "# x_pca = pca.fit_transform(df2_normalized[['floor_area_sqm', 'remaining_lease_years', 'resale_price']])\n",
    "x_pca = pca.fit_transform(df2_normalized[['floor_area_sqm', 'remaining_lease_years', 'flat_type_encoded', 'storey_range_encoded']])\n",
    "\n",
    "x_pca = pd.DataFrame(x_pca)\n",
    "df4_names = []\n",
    "y= pca.explained_variance_ratio_\n",
    "\n",
    "for i in range(len(y)):\n",
    "    df4_names.append('PCA'+str(i+1))\n",
    "\n",
    "default_x_ticks = range(len(df4_names))\n",
    "\n",
    "plt.plot(default_x_ticks, y)\n",
    "plt.bar(default_x_ticks, y,width=0.1,color= 'blue')\n",
    "plt.xticks(default_x_ticks, df4_names)\n",
    "plt.show()"
   ]
  },
  {
   "cell_type": "code",
   "execution_count": 7,
   "id": "b5f5e2c5",
   "metadata": {
    "execution": {
     "iopub.execute_input": "2024-03-28T04:26:24.071187Z",
     "iopub.status.busy": "2024-03-28T04:26:24.070632Z",
     "iopub.status.idle": "2024-03-28T04:26:24.090994Z",
     "shell.execute_reply": "2024-03-28T04:26:24.090593Z"
    },
    "papermill": {
     "duration": 0.052128,
     "end_time": "2024-03-28T04:26:24.092180",
     "exception": false,
     "start_time": "2024-03-28T04:26:24.040052",
     "status": "completed"
    },
    "tags": []
   },
   "outputs": [],
   "source": [
    "# Splitting into 3 df: pre-covid, post-covid, and full dataset\n",
    "full_dataset = df2_normalized\n",
    "precovid_dataset = df2_normalized[(df2_normalized['year'] >= 2017) & (df2_normalized['year'] <= 2019)] # Data from 2017 ~ 2019\n",
    "postcovid_dataset = df2_normalized[(df2_normalized['year'] >= 2020) ] # Data from 2020 ~ 2023\n",
    "\n",
    "# Extracting essential columns for model training\n",
    "full_dataset = full_dataset[['floor_area_sqm', 'remaining_lease_years', 'flat_type_encoded', 'storey_range_encoded', 'resale_price']]\n",
    "precovid_dataset = precovid_dataset[['floor_area_sqm', 'remaining_lease_years', 'flat_type_encoded', 'storey_range_encoded', 'resale_price']]\n",
    "postcovid_dataset = postcovid_dataset[['floor_area_sqm', 'remaining_lease_years', 'flat_type_encoded', 'storey_range_encoded', 'resale_price']]"
   ]
  },
  {
   "cell_type": "code",
   "execution_count": 8,
   "id": "464a55b8",
   "metadata": {
    "execution": {
     "iopub.execute_input": "2024-03-28T04:26:24.165277Z",
     "iopub.status.busy": "2024-03-28T04:26:24.164951Z",
     "iopub.status.idle": "2024-03-28T04:26:24.194110Z",
     "shell.execute_reply": "2024-03-28T04:26:24.193583Z"
    },
    "papermill": {
     "duration": 0.081699,
     "end_time": "2024-03-28T04:26:24.195410",
     "exception": false,
     "start_time": "2024-03-28T04:26:24.113711",
     "status": "completed"
    },
    "tags": []
   },
   "outputs": [],
   "source": [
    "# splitting into train-test split for all 3 data sets\n",
    "# use randome state=42\n",
    "\n",
    "# For full_dataset:\n",
    "X1=full_dataset.drop(columns='resale_price')\n",
    "y1= full_dataset['resale_price']\n",
    "X_train1, X_test1, y_train1, y_test1 = train_test_split(X1, y1, test_size=0.2, random_state=42)\n",
    "\n",
    "# For precovid_dataset:\n",
    "X2=precovid_dataset.drop(columns='resale_price')\n",
    "y2= precovid_dataset['resale_price']\n",
    "X_train2, X_test2, y_train2, y_test2 = train_test_split(X2, y2, test_size=0.2, random_state=42)\n",
    "\n",
    "# For postcovid_dataset:\n",
    "X3=postcovid_dataset.drop(columns='resale_price')\n",
    "y3= postcovid_dataset['resale_price']\n",
    "X_train3, X_test3, y_train3, y_test3 = train_test_split(X3, y3, test_size=0.2, random_state=42)"
   ]
  },
  {
   "cell_type": "markdown",
   "id": "6abd5d80",
   "metadata": {
    "papermill": {
     "duration": 0.045467,
     "end_time": "2024-03-28T04:26:24.248818",
     "exception": false,
     "start_time": "2024-03-28T04:26:24.203351",
     "status": "completed"
    },
    "tags": []
   },
   "source": [
    "## ANN (Artificial Neural Network)"
   ]
  },
  {
   "cell_type": "code",
   "execution_count": 9,
   "id": "4bd1f8d6",
   "metadata": {
    "execution": {
     "iopub.execute_input": "2024-03-28T04:26:24.320502Z",
     "iopub.status.busy": "2024-03-28T04:26:24.320247Z",
     "iopub.status.idle": "2024-03-28T04:26:49.654382Z",
     "shell.execute_reply": "2024-03-28T04:26:49.653774Z"
    },
    "papermill": {
     "duration": 25.36033,
     "end_time": "2024-03-28T04:26:49.658259",
     "exception": false,
     "start_time": "2024-03-28T04:26:24.297929",
     "status": "completed"
    },
    "tags": []
   },
   "outputs": [
    {
     "name": "stderr",
     "output_type": "stream",
     "text": [
      "2024-03-28 12:26:27.881758: E external/local_xla/xla/stream_executor/cuda/cuda_dnn.cc:9261] Unable to register cuDNN factory: Attempting to register factory for plugin cuDNN when one has already been registered\n",
      "2024-03-28 12:26:27.881824: E external/local_xla/xla/stream_executor/cuda/cuda_fft.cc:607] Unable to register cuFFT factory: Attempting to register factory for plugin cuFFT when one has already been registered\n",
      "2024-03-28 12:26:27.910832: E external/local_xla/xla/stream_executor/cuda/cuda_blas.cc:1515] Unable to register cuBLAS factory: Attempting to register factory for plugin cuBLAS when one has already been registered\n",
      "2024-03-28 12:26:28.081078: I tensorflow/core/platform/cpu_feature_guard.cc:182] This TensorFlow binary is optimized to use available CPU instructions in performance-critical operations.\n",
      "To enable the following instructions: AVX2 FMA, in other operations, rebuild TensorFlow with the appropriate compiler flags.\n"
     ]
    },
    {
     "name": "stderr",
     "output_type": "stream",
     "text": [
      "2024-03-28 12:26:38.449982: W tensorflow/compiler/tf2tensorrt/utils/py_utils.cc:38] TF-TRT Warning: Could not find TensorRT\n"
     ]
    },
    {
     "name": "stdout",
     "output_type": "stream",
     "text": [
      "Model: \"sequential\"\n"
     ]
    },
    {
     "name": "stdout",
     "output_type": "stream",
     "text": [
      "_________________________________________________________________\n"
     ]
    },
    {
     "name": "stdout",
     "output_type": "stream",
     "text": [
      " Layer (type)                Output Shape              Param #   \n"
     ]
    },
    {
     "name": "stdout",
     "output_type": "stream",
     "text": [
      "=================================================================\n"
     ]
    },
    {
     "name": "stdout",
     "output_type": "stream",
     "text": [
      " dense (Dense)               (None, 128)               640       \n"
     ]
    },
    {
     "name": "stdout",
     "output_type": "stream",
     "text": [
      "                                                                 \n"
     ]
    },
    {
     "name": "stdout",
     "output_type": "stream",
     "text": [
      " dense_1 (Dense)             (None, 64)                8256      \n"
     ]
    },
    {
     "name": "stdout",
     "output_type": "stream",
     "text": [
      "                                                                 \n"
     ]
    },
    {
     "name": "stdout",
     "output_type": "stream",
     "text": [
      " dense_2 (Dense)             (None, 32)                2080      \n"
     ]
    },
    {
     "name": "stdout",
     "output_type": "stream",
     "text": [
      "                                                                 \n"
     ]
    },
    {
     "name": "stdout",
     "output_type": "stream",
     "text": [
      " dense_3 (Dense)             (None, 1)                 33        \n"
     ]
    },
    {
     "name": "stdout",
     "output_type": "stream",
     "text": [
      "                                                                 \n"
     ]
    },
    {
     "name": "stdout",
     "output_type": "stream",
     "text": [
      "=================================================================\n"
     ]
    },
    {
     "name": "stdout",
     "output_type": "stream",
     "text": [
      "Total params: 11009 (43.00 KB)\n"
     ]
    },
    {
     "name": "stdout",
     "output_type": "stream",
     "text": [
      "Trainable params: 11009 (43.00 KB)\n"
     ]
    },
    {
     "name": "stdout",
     "output_type": "stream",
     "text": [
      "Non-trainable params: 0 (0.00 Byte)\n"
     ]
    },
    {
     "name": "stdout",
     "output_type": "stream",
     "text": [
      "_________________________________________________________________\n"
     ]
    },
    {
     "name": "stderr",
     "output_type": "stream",
     "text": [
      "2024-03-28 12:26:49.360381: I tensorflow/core/common_runtime/gpu/gpu_device.cc:1929] Created device /job:localhost/replica:0/task:0/device:GPU:0 with 22460 MB memory:  -> device: 0, name: NVIDIA GeForce RTX 3090, pci bus id: 0000:01:00.0, compute capability: 8.6\n"
     ]
    }
   ],
   "source": [
    "from tensorflow import keras\n",
    "from keras.models import Sequential\n",
    "from keras.layers import Dense\n",
    "from sklearn.model_selection import GridSearchCV\n",
    "from scikeras.wrappers import KerasRegressor\n",
    "from joblib import dump, load\n",
    "import os\n",
    "\n",
    "# Define the model\n",
    "def buildModel(input_dim, units1=128, units2=64, units3=32):\n",
    "    model = Sequential()\n",
    "    model.add(Dense(units1, input_dim=input_dim, activation='relu'))\n",
    "    model.add(Dense(units2, activation='relu'))\n",
    "    model.add(Dense(units3, activation='relu'))\n",
    "    model.add(Dense(1, activation='linear'))\n",
    "    model.compile(loss='mean_squared_error', optimizer='adam', metrics=['mae'])\n",
    "    return model\n",
    "\n",
    "# Define grid search parameters for hyperparameter tuning (modify as needed)\n",
    "param_grid = {\n",
    "    'epochs': [10, 20, 50],\n",
    "    'batch_size': [32, 64, 128],\n",
    "    'units1': [32, 64, 128],\n",
    "    'units2': [16, 32, 64],\n",
    "    'units3': [8, 16, 32],\n",
    "}\n",
    "\n",
    "model_example = buildModel(X_train1.shape[1])\n",
    "model_example.summary()"
   ]
  },
  {
   "cell_type": "markdown",
   "id": "d8494c3a",
   "metadata": {
    "papermill": {
     "duration": 0.017562,
     "end_time": "2024-03-28T04:26:49.685511",
     "exception": false,
     "start_time": "2024-03-28T04:26:49.667949",
     "status": "completed"
    },
    "tags": []
   },
   "source": [
    "#### Full Dataset"
   ]
  },
  {
   "cell_type": "code",
   "execution_count": 10,
   "id": "d798e18f",
   "metadata": {
    "execution": {
     "iopub.execute_input": "2024-03-28T04:26:49.736269Z",
     "iopub.status.busy": "2024-03-28T04:26:49.735651Z",
     "iopub.status.idle": "2024-03-28T04:26:50.543506Z",
     "shell.execute_reply": "2024-03-28T04:26:50.542937Z"
    },
    "papermill": {
     "duration": 0.832966,
     "end_time": "2024-03-28T04:26:50.544582",
     "exception": false,
     "start_time": "2024-03-28T04:26:49.711616",
     "status": "completed"
    },
    "tags": []
   },
   "outputs": [
    {
     "name": "stdout",
     "output_type": "stream",
     "text": [
      "Best: 0.6458730598057187 using {'batch_size': 32, 'epochs': 50, 'units1': 128, 'units2': 64, 'units3': 32}\n"
     ]
    },
    {
     "name": "stderr",
     "output_type": "stream",
     "text": [
      "2024-03-28 12:26:50.475572: W tensorflow/core/util/tensor_slice_reader.cc:98] Could not open ram://1fb5b1c6b949465abad4eeaa1b3cc262: INVALID_ARGUMENT: ram://1fb5b1c6b949465abad4eeaa1b3cc262 is a directory.\n"
     ]
    }
   ],
   "source": [
    "if (not os.path.exists('gridsearch/ANN_fulldata.joblib')):\n",
    "\n",
    "    # Create a KerasRegressor\n",
    "    regressor_fulldata = KerasRegressor(model=buildModel, input_dim=X_train1.shape[1], verbose=0, epochs=100, batch_size=128, units1=256, units2=128, units3=64)\n",
    "\n",
    "    # Create a GridSearchCV and fit the model\n",
    "    grid_fulldata = GridSearchCV(estimator=regressor_fulldata, param_grid=param_grid, cv=2, verbose=3)\n",
    "    grid_result_fulldata = grid_fulldata.fit(X_train1, y_train1)\n",
    "\n",
    "    # Summarize results\n",
    "    print(f\"Best: {grid_result_fulldata.best_score_} using {grid_result_fulldata.best_params_}\")\n",
    "\n",
    "    # Save grid_result to a file\n",
    "    dump(grid_result_fulldata, 'gridsearch/ANN_fulldata.joblib')\n",
    "\n",
    "else:\n",
    "    # Load grid_result from a file\n",
    "    grid_result_fulldata = load('gridsearch/ANN_fulldata.joblib')\n",
    "\n",
    "    # Summarize results\n",
    "    print(f\"Best: {grid_result_fulldata.best_score_} using {grid_result_fulldata.best_params_}\")"
   ]
  },
  {
   "cell_type": "code",
   "execution_count": 11,
   "id": "fe51a4de",
   "metadata": {
    "execution": {
     "iopub.execute_input": "2024-03-28T04:26:50.608530Z",
     "iopub.status.busy": "2024-03-28T04:26:50.608243Z",
     "iopub.status.idle": "2024-03-28T04:26:52.971803Z",
     "shell.execute_reply": "2024-03-28T04:26:52.971340Z"
    },
    "papermill": {
     "duration": 2.418673,
     "end_time": "2024-03-28T04:26:52.972931",
     "exception": false,
     "start_time": "2024-03-28T04:26:50.554258",
     "status": "completed"
    },
    "tags": []
   },
   "outputs": [
    {
     "name": "stderr",
     "output_type": "stream",
     "text": [
      "2024-03-28 12:26:51.109821: W tensorflow/core/util/tensor_slice_reader.cc:98] Could not open ram://7e8dbf92403a421b8e3e1e3a0ec63ac4: INVALID_ARGUMENT: ram://7e8dbf92403a421b8e3e1e3a0ec63ac4 is a directory.\n"
     ]
    },
    {
     "name": "stdout",
     "output_type": "stream",
     "text": [
      "Test MAE: 0.6430637799714232\n"
     ]
    }
   ],
   "source": [
    "# Load and evaluate the model with the test data using the best hyperparameters\n",
    "grid_result_fulldata = load('gridsearch/ANN_fulldata.joblib')\n",
    "test_score = grid_result_fulldata.score(X_test1, y_test1)\n",
    "print(f\"Test MAE: {test_score}\")"
   ]
  },
  {
   "cell_type": "markdown",
   "id": "ce5421df",
   "metadata": {
    "papermill": {
     "duration": 0.025208,
     "end_time": "2024-03-28T04:26:53.008452",
     "exception": false,
     "start_time": "2024-03-28T04:26:52.983244",
     "status": "completed"
    },
    "tags": []
   },
   "source": [
    "#### Pre-COVID Dataset"
   ]
  },
  {
   "cell_type": "code",
   "execution_count": 12,
   "id": "e96dea06",
   "metadata": {
    "execution": {
     "iopub.execute_input": "2024-03-28T04:26:53.065265Z",
     "iopub.status.busy": "2024-03-28T04:26:53.064807Z",
     "iopub.status.idle": "2024-03-28T04:26:53.872179Z",
     "shell.execute_reply": "2024-03-28T04:26:53.871700Z"
    },
    "papermill": {
     "duration": 0.836438,
     "end_time": "2024-03-28T04:26:53.873121",
     "exception": false,
     "start_time": "2024-03-28T04:26:53.036683",
     "status": "completed"
    },
    "tags": []
   },
   "outputs": [
    {
     "name": "stdout",
     "output_type": "stream",
     "text": [
      "WARNING:tensorflow:Detecting that an object or model or tf.train.Checkpoint is being deleted with unrestored values. See the following logs for the specific values in question. To silence these warnings, use `status.expect_partial()`. See https://www.tensorflow.org/api_docs/python/tf/train/Checkpoint#restorefor details about the status object returned by the restore function.\n"
     ]
    },
    {
     "name": "stdout",
     "output_type": "stream",
     "text": [
      "WARNING:tensorflow:Value in checkpoint could not be found in the restored object: (root).keras_api.metrics.0.total\n"
     ]
    },
    {
     "name": "stdout",
     "output_type": "stream",
     "text": [
      "WARNING:tensorflow:Value in checkpoint could not be found in the restored object: (root).keras_api.metrics.0.count\n"
     ]
    },
    {
     "name": "stdout",
     "output_type": "stream",
     "text": [
      "WARNING:tensorflow:Value in checkpoint could not be found in the restored object: (root).keras_api.metrics.1.total\n"
     ]
    },
    {
     "name": "stdout",
     "output_type": "stream",
     "text": [
      "WARNING:tensorflow:Value in checkpoint could not be found in the restored object: (root).keras_api.metrics.1.count\n"
     ]
    },
    {
     "name": "stdout",
     "output_type": "stream",
     "text": [
      "Best: 0.6457073425330682 using {'batch_size': 32, 'epochs': 50, 'units1': 128, 'units2': 64, 'units3': 16}\n"
     ]
    },
    {
     "name": "stderr",
     "output_type": "stream",
     "text": [
      "2024-03-28 12:26:53.810251: W tensorflow/core/util/tensor_slice_reader.cc:98] Could not open ram://1e463896fc3d498ba83a88981573e86e: INVALID_ARGUMENT: ram://1e463896fc3d498ba83a88981573e86e is a directory.\n"
     ]
    }
   ],
   "source": [
    "if (not os.path.exists('gridsearch/ANN_precovid.joblib')):\n",
    "\n",
    "    # Create a KerasRegressor\n",
    "    regressor_precovid = KerasRegressor(model=buildModel, input_dim=X_train2.shape[1], verbose=0, epochs=100, batch_size=128, units1=256, units2=128, units3=64)\n",
    "\n",
    "    # Create a GridSearchCV and fit the model\n",
    "    grid_precovid = GridSearchCV(estimator=regressor_precovid, param_grid=param_grid, cv=2, verbose=3)\n",
    "    grid_result_precovid = grid_precovid.fit(X_train2, y_train2)\n",
    "\n",
    "    # Summarize results\n",
    "    print(f\"Best: {grid_result_precovid.best_score_} using {grid_result_precovid.best_params_}\")\n",
    "\n",
    "    # Save best model\n",
    "    dump(grid_result_precovid, 'gridsearch/ANN_precovid.joblib')\n",
    "\n",
    "else:\n",
    "    # Load grid_result from a file\n",
    "    grid_result_precovid = load('gridsearch/ANN_precovid.joblib')\n",
    "\n",
    "    # Summarize results\n",
    "    print(f\"Best: {grid_result_precovid.best_score_} using {grid_result_precovid.best_params_}\")"
   ]
  },
  {
   "cell_type": "code",
   "execution_count": 13,
   "id": "1ccf1a48",
   "metadata": {
    "execution": {
     "iopub.execute_input": "2024-03-28T04:26:53.893737Z",
     "iopub.status.busy": "2024-03-28T04:26:53.893505Z",
     "iopub.status.idle": "2024-03-28T04:26:55.061956Z",
     "shell.execute_reply": "2024-03-28T04:26:55.061332Z"
    },
    "papermill": {
     "duration": 1.179963,
     "end_time": "2024-03-28T04:26:55.063185",
     "exception": false,
     "start_time": "2024-03-28T04:26:53.883222",
     "status": "completed"
    },
    "tags": []
   },
   "outputs": [
    {
     "name": "stderr",
     "output_type": "stream",
     "text": [
      "2024-03-28 12:26:54.400208: W tensorflow/core/util/tensor_slice_reader.cc:98] Could not open ram://5afe8c1e8c7d4011ac29dcdbb72d500a: INVALID_ARGUMENT: ram://5afe8c1e8c7d4011ac29dcdbb72d500a is a directory.\n"
     ]
    },
    {
     "name": "stdout",
     "output_type": "stream",
     "text": [
      "Test MAE: 0.64724037502495\n"
     ]
    }
   ],
   "source": [
    "# Load and evaluate the model with the test data using the best hyperparameters\n",
    "grid_result_precovid = load('gridsearch/ANN_precovid.joblib')\n",
    "test_score = grid_result_precovid.score(X_test2, y_test2)\n",
    "print(f\"Test MAE: {test_score}\")"
   ]
  },
  {
   "cell_type": "markdown",
   "id": "0fe27b91",
   "metadata": {
    "papermill": {
     "duration": 0.029818,
     "end_time": "2024-03-28T04:26:55.104694",
     "exception": false,
     "start_time": "2024-03-28T04:26:55.074876",
     "status": "completed"
    },
    "tags": []
   },
   "source": [
    "#### Post-COVID Dataset"
   ]
  },
  {
   "cell_type": "code",
   "execution_count": 14,
   "id": "1e61ce76",
   "metadata": {
    "execution": {
     "iopub.execute_input": "2024-03-28T04:26:55.167490Z",
     "iopub.status.busy": "2024-03-28T04:26:55.166933Z",
     "iopub.status.idle": "2024-03-28T09:19:55.083906Z",
     "shell.execute_reply": "2024-03-28T09:19:55.083390Z"
    },
    "papermill": {
     "duration": 17579.956405,
     "end_time": "2024-03-28T09:19:55.085101",
     "exception": false,
     "start_time": "2024-03-28T04:26:55.128696",
     "status": "completed"
    },
    "tags": []
   },
   "outputs": [
    {
     "name": "stdout",
     "output_type": "stream",
     "text": [
      "Fitting 2 folds for each of 243 candidates, totalling 486 fits\n"
     ]
    },
    {
     "name": "stdout",
     "output_type": "stream",
     "text": [
      "WARNING:tensorflow:Detecting that an object or model or tf.train.Checkpoint is being deleted with unrestored values. See the following logs for the specific values in question. To silence these warnings, use `status.expect_partial()`. See https://www.tensorflow.org/api_docs/python/tf/train/Checkpoint#restorefor details about the status object returned by the restore function.\n"
     ]
    },
    {
     "name": "stdout",
     "output_type": "stream",
     "text": [
      "WARNING:tensorflow:Value in checkpoint could not be found in the restored object: (root).keras_api.metrics.0.total\n"
     ]
    },
    {
     "name": "stdout",
     "output_type": "stream",
     "text": [
      "WARNING:tensorflow:Value in checkpoint could not be found in the restored object: (root).keras_api.metrics.0.count\n"
     ]
    },
    {
     "name": "stdout",
     "output_type": "stream",
     "text": [
      "WARNING:tensorflow:Value in checkpoint could not be found in the restored object: (root).keras_api.metrics.1.total\n"
     ]
    },
    {
     "name": "stdout",
     "output_type": "stream",
     "text": [
      "WARNING:tensorflow:Value in checkpoint could not be found in the restored object: (root).keras_api.metrics.1.count\n"
     ]
    },
    {
     "name": "stderr",
     "output_type": "stream",
     "text": [
      "2024-03-28 12:26:57.063709: I external/local_xla/xla/service/service.cc:168] XLA service 0x7fd74141af80 initialized for platform CUDA (this does not guarantee that XLA will be used). Devices:\n",
      "2024-03-28 12:26:57.063758: I external/local_xla/xla/service/service.cc:176]   StreamExecutor device (0): NVIDIA GeForce RTX 3090, Compute Capability 8.6\n",
      "2024-03-28 12:26:57.070928: I tensorflow/compiler/mlir/tensorflow/utils/dump_mlir_util.cc:269] disabling MLIR crash reproducer, set env var `MLIR_CRASH_REPRODUCER_DIRECTORY` to enable.\n",
      "2024-03-28 12:26:57.094395: I external/local_xla/xla/stream_executor/cuda/cuda_dnn.cc:454] Loaded cuDNN version 8907\n",
      "WARNING: All log messages before absl::InitializeLog() is called are written to STDERR\n",
      "I0000 00:00:1711600017.217216 2709848 device_compiler.h:186] Compiled cluster using XLA!  This line is logged at most once for the lifetime of the process.\n"
     ]
    },
    {
     "name": "stdout",
     "output_type": "stream",
     "text": [
      "[CV 1/2] END batch_size=32, epochs=10, units1=32, units2=16, units3=8;, score=0.634 total time=  28.3s\n"
     ]
    },
    {
     "name": "stdout",
     "output_type": "stream",
     "text": [
      "[CV 2/2] END batch_size=32, epochs=10, units1=32, units2=16, units3=8;, score=0.635 total time=  26.9s\n"
     ]
    },
    {
     "name": "stdout",
     "output_type": "stream",
     "text": [
      "[CV 1/2] END batch_size=32, epochs=10, units1=32, units2=16, units3=16;, score=0.640 total time=  26.9s\n"
     ]
    },
    {
     "name": "stdout",
     "output_type": "stream",
     "text": [
      "[CV 2/2] END batch_size=32, epochs=10, units1=32, units2=16, units3=16;, score=0.624 total time=  27.0s\n"
     ]
    },
    {
     "name": "stdout",
     "output_type": "stream",
     "text": [
      "[CV 1/2] END batch_size=32, epochs=10, units1=32, units2=16, units3=32;, score=0.642 total time=  27.1s\n"
     ]
    },
    {
     "name": "stdout",
     "output_type": "stream",
     "text": [
      "[CV 2/2] END batch_size=32, epochs=10, units1=32, units2=16, units3=32;, score=0.633 total time=  27.8s\n"
     ]
    },
    {
     "name": "stdout",
     "output_type": "stream",
     "text": [
      "[CV 1/2] END batch_size=32, epochs=10, units1=32, units2=32, units3=8;, score=0.641 total time=  27.4s\n"
     ]
    },
    {
     "name": "stdout",
     "output_type": "stream",
     "text": [
      "[CV 2/2] END batch_size=32, epochs=10, units1=32, units2=32, units3=8;, score=0.637 total time=  27.1s\n"
     ]
    },
    {
     "name": "stdout",
     "output_type": "stream",
     "text": [
      "[CV 1/2] END batch_size=32, epochs=10, units1=32, units2=32, units3=16;, score=0.641 total time=  23.4s\n"
     ]
    },
    {
     "name": "stdout",
     "output_type": "stream",
     "text": [
      "[CV 2/2] END batch_size=32, epochs=10, units1=32, units2=32, units3=16;, score=0.625 total time=  22.6s\n"
     ]
    },
    {
     "name": "stdout",
     "output_type": "stream",
     "text": [
      "[CV 1/2] END batch_size=32, epochs=10, units1=32, units2=32, units3=32;, score=0.637 total time=  22.7s\n"
     ]
    },
    {
     "name": "stdout",
     "output_type": "stream",
     "text": [
      "[CV 2/2] END batch_size=32, epochs=10, units1=32, units2=32, units3=32;, score=0.635 total time=  23.1s\n"
     ]
    },
    {
     "name": "stdout",
     "output_type": "stream",
     "text": [
      "[CV 1/2] END batch_size=32, epochs=10, units1=32, units2=64, units3=8;, score=0.636 total time=  22.9s\n"
     ]
    },
    {
     "name": "stdout",
     "output_type": "stream",
     "text": [
      "[CV 2/2] END batch_size=32, epochs=10, units1=32, units2=64, units3=8;, score=0.624 total time=  22.7s\n"
     ]
    },
    {
     "name": "stdout",
     "output_type": "stream",
     "text": [
      "[CV 1/2] END batch_size=32, epochs=10, units1=32, units2=64, units3=16;, score=0.641 total time=  22.7s\n"
     ]
    },
    {
     "name": "stdout",
     "output_type": "stream",
     "text": [
      "[CV 2/2] END batch_size=32, epochs=10, units1=32, units2=64, units3=16;, score=0.641 total time=  22.8s\n"
     ]
    },
    {
     "name": "stdout",
     "output_type": "stream",
     "text": [
      "[CV 1/2] END batch_size=32, epochs=10, units1=32, units2=64, units3=32;, score=0.642 total time=  22.8s\n"
     ]
    },
    {
     "name": "stdout",
     "output_type": "stream",
     "text": [
      "[CV 2/2] END batch_size=32, epochs=10, units1=32, units2=64, units3=32;, score=0.637 total time=  22.4s\n"
     ]
    },
    {
     "name": "stdout",
     "output_type": "stream",
     "text": [
      "[CV 1/2] END batch_size=32, epochs=10, units1=64, units2=16, units3=8;, score=0.639 total time=  23.7s\n"
     ]
    },
    {
     "name": "stdout",
     "output_type": "stream",
     "text": [
      "[CV 2/2] END batch_size=32, epochs=10, units1=64, units2=16, units3=8;, score=0.635 total time=  23.0s\n"
     ]
    },
    {
     "name": "stdout",
     "output_type": "stream",
     "text": [
      "[CV 1/2] END batch_size=32, epochs=10, units1=64, units2=16, units3=16;, score=0.637 total time=  23.0s\n"
     ]
    },
    {
     "name": "stdout",
     "output_type": "stream",
     "text": [
      "[CV 2/2] END batch_size=32, epochs=10, units1=64, units2=16, units3=16;, score=0.627 total time=  22.8s\n"
     ]
    },
    {
     "name": "stdout",
     "output_type": "stream",
     "text": [
      "[CV 1/2] END batch_size=32, epochs=10, units1=64, units2=16, units3=32;, score=0.638 total time=  22.9s\n"
     ]
    },
    {
     "name": "stdout",
     "output_type": "stream",
     "text": [
      "[CV 2/2] END batch_size=32, epochs=10, units1=64, units2=16, units3=32;, score=0.636 total time=  23.0s\n"
     ]
    },
    {
     "name": "stdout",
     "output_type": "stream",
     "text": [
      "[CV 1/2] END batch_size=32, epochs=10, units1=64, units2=32, units3=8;, score=0.628 total time=  23.0s\n"
     ]
    },
    {
     "name": "stdout",
     "output_type": "stream",
     "text": [
      "[CV 2/2] END batch_size=32, epochs=10, units1=64, units2=32, units3=8;, score=0.637 total time=  23.6s\n"
     ]
    },
    {
     "name": "stdout",
     "output_type": "stream",
     "text": [
      "[CV 1/2] END batch_size=32, epochs=10, units1=64, units2=32, units3=16;, score=0.639 total time=  23.2s\n"
     ]
    },
    {
     "name": "stdout",
     "output_type": "stream",
     "text": [
      "[CV 2/2] END batch_size=32, epochs=10, units1=64, units2=32, units3=16;, score=0.643 total time=  23.0s\n"
     ]
    },
    {
     "name": "stdout",
     "output_type": "stream",
     "text": [
      "[CV 1/2] END batch_size=32, epochs=10, units1=64, units2=32, units3=32;, score=0.643 total time=  23.1s\n"
     ]
    },
    {
     "name": "stdout",
     "output_type": "stream",
     "text": [
      "[CV 2/2] END batch_size=32, epochs=10, units1=64, units2=32, units3=32;, score=0.639 total time=  23.0s\n"
     ]
    },
    {
     "name": "stdout",
     "output_type": "stream",
     "text": [
      "[CV 1/2] END batch_size=32, epochs=10, units1=64, units2=64, units3=8;, score=0.642 total time=  22.8s\n"
     ]
    },
    {
     "name": "stdout",
     "output_type": "stream",
     "text": [
      "[CV 2/2] END batch_size=32, epochs=10, units1=64, units2=64, units3=8;, score=0.630 total time=  23.0s\n"
     ]
    },
    {
     "name": "stdout",
     "output_type": "stream",
     "text": [
      "[CV 1/2] END batch_size=32, epochs=10, units1=64, units2=64, units3=16;, score=0.648 total time=  23.1s\n"
     ]
    },
    {
     "name": "stdout",
     "output_type": "stream",
     "text": [
      "[CV 2/2] END batch_size=32, epochs=10, units1=64, units2=64, units3=16;, score=0.635 total time=  27.3s\n"
     ]
    },
    {
     "name": "stdout",
     "output_type": "stream",
     "text": [
      "[CV 1/2] END batch_size=32, epochs=10, units1=64, units2=64, units3=32;, score=0.645 total time=  27.6s\n"
     ]
    },
    {
     "name": "stdout",
     "output_type": "stream",
     "text": [
      "[CV 2/2] END batch_size=32, epochs=10, units1=64, units2=64, units3=32;, score=0.648 total time=  26.6s\n"
     ]
    },
    {
     "name": "stdout",
     "output_type": "stream",
     "text": [
      "[CV 1/2] END batch_size=32, epochs=10, units1=128, units2=16, units3=8;, score=0.643 total time=  26.9s\n"
     ]
    },
    {
     "name": "stdout",
     "output_type": "stream",
     "text": [
      "[CV 2/2] END batch_size=32, epochs=10, units1=128, units2=16, units3=8;, score=0.636 total time=  27.0s\n"
     ]
    },
    {
     "name": "stdout",
     "output_type": "stream",
     "text": [
      "[CV 1/2] END batch_size=32, epochs=10, units1=128, units2=16, units3=16;, score=0.639 total time=  27.1s\n"
     ]
    },
    {
     "name": "stdout",
     "output_type": "stream",
     "text": [
      "[CV 2/2] END batch_size=32, epochs=10, units1=128, units2=16, units3=16;, score=0.640 total time=  27.1s\n"
     ]
    },
    {
     "name": "stdout",
     "output_type": "stream",
     "text": [
      "[CV 1/2] END batch_size=32, epochs=10, units1=128, units2=16, units3=32;, score=0.646 total time=  26.9s\n"
     ]
    },
    {
     "name": "stdout",
     "output_type": "stream",
     "text": [
      "[CV 2/2] END batch_size=32, epochs=10, units1=128, units2=16, units3=32;, score=0.639 total time=  26.9s\n"
     ]
    },
    {
     "name": "stdout",
     "output_type": "stream",
     "text": [
      "[CV 1/2] END batch_size=32, epochs=10, units1=128, units2=32, units3=8;, score=0.638 total time=  28.0s\n"
     ]
    },
    {
     "name": "stdout",
     "output_type": "stream",
     "text": [
      "[CV 2/2] END batch_size=32, epochs=10, units1=128, units2=32, units3=8;, score=0.626 total time=  23.8s\n"
     ]
    },
    {
     "name": "stdout",
     "output_type": "stream",
     "text": [
      "[CV 1/2] END batch_size=32, epochs=10, units1=128, units2=32, units3=16;, score=0.639 total time=  23.0s\n"
     ]
    },
    {
     "name": "stdout",
     "output_type": "stream",
     "text": [
      "[CV 2/2] END batch_size=32, epochs=10, units1=128, units2=32, units3=16;, score=0.642 total time=  23.3s\n"
     ]
    },
    {
     "name": "stdout",
     "output_type": "stream",
     "text": [
      "[CV 1/2] END batch_size=32, epochs=10, units1=128, units2=32, units3=32;, score=0.647 total time=  23.0s\n"
     ]
    },
    {
     "name": "stdout",
     "output_type": "stream",
     "text": [
      "[CV 2/2] END batch_size=32, epochs=10, units1=128, units2=32, units3=32;, score=0.642 total time=  22.8s\n"
     ]
    },
    {
     "name": "stdout",
     "output_type": "stream",
     "text": [
      "[CV 1/2] END batch_size=32, epochs=10, units1=128, units2=64, units3=8;, score=0.644 total time=  23.1s\n"
     ]
    },
    {
     "name": "stdout",
     "output_type": "stream",
     "text": [
      "[CV 2/2] END batch_size=32, epochs=10, units1=128, units2=64, units3=8;, score=0.630 total time=  22.9s\n"
     ]
    },
    {
     "name": "stdout",
     "output_type": "stream",
     "text": [
      "[CV 1/2] END batch_size=32, epochs=10, units1=128, units2=64, units3=16;, score=0.630 total time=  22.8s\n"
     ]
    },
    {
     "name": "stdout",
     "output_type": "stream",
     "text": [
      "[CV 2/2] END batch_size=32, epochs=10, units1=128, units2=64, units3=16;, score=0.647 total time=  23.0s\n"
     ]
    },
    {
     "name": "stdout",
     "output_type": "stream",
     "text": [
      "[CV 1/2] END batch_size=32, epochs=10, units1=128, units2=64, units3=32;, score=0.642 total time=  24.1s\n"
     ]
    },
    {
     "name": "stdout",
     "output_type": "stream",
     "text": [
      "[CV 2/2] END batch_size=32, epochs=10, units1=128, units2=64, units3=32;, score=0.636 total time=  23.1s\n"
     ]
    },
    {
     "name": "stdout",
     "output_type": "stream",
     "text": [
      "[CV 1/2] END batch_size=32, epochs=20, units1=32, units2=16, units3=8;, score=0.646 total time=  44.1s\n"
     ]
    },
    {
     "name": "stdout",
     "output_type": "stream",
     "text": [
      "[CV 2/2] END batch_size=32, epochs=20, units1=32, units2=16, units3=8;, score=0.644 total time=  43.9s\n"
     ]
    },
    {
     "name": "stdout",
     "output_type": "stream",
     "text": [
      "[CV 1/2] END batch_size=32, epochs=20, units1=32, units2=16, units3=16;, score=0.638 total time=  44.2s\n"
     ]
    },
    {
     "name": "stdout",
     "output_type": "stream",
     "text": [
      "[CV 2/2] END batch_size=32, epochs=20, units1=32, units2=16, units3=16;, score=0.643 total time=  43.7s\n"
     ]
    },
    {
     "name": "stdout",
     "output_type": "stream",
     "text": [
      "[CV 1/2] END batch_size=32, epochs=20, units1=32, units2=16, units3=32;, score=0.647 total time=  43.7s\n"
     ]
    },
    {
     "name": "stdout",
     "output_type": "stream",
     "text": [
      "[CV 2/2] END batch_size=32, epochs=20, units1=32, units2=16, units3=32;, score=0.640 total time=  44.0s\n"
     ]
    },
    {
     "name": "stdout",
     "output_type": "stream",
     "text": [
      "[CV 1/2] END batch_size=32, epochs=20, units1=32, units2=32, units3=8;, score=0.648 total time=  43.1s\n"
     ]
    },
    {
     "name": "stdout",
     "output_type": "stream",
     "text": [
      "[CV 2/2] END batch_size=32, epochs=20, units1=32, units2=32, units3=8;, score=0.648 total time=  47.9s\n"
     ]
    },
    {
     "name": "stdout",
     "output_type": "stream",
     "text": [
      "[CV 1/2] END batch_size=32, epochs=20, units1=32, units2=32, units3=16;, score=0.645 total time=  51.3s\n"
     ]
    },
    {
     "name": "stdout",
     "output_type": "stream",
     "text": [
      "[CV 2/2] END batch_size=32, epochs=20, units1=32, units2=32, units3=16;, score=0.650 total time=  53.2s\n"
     ]
    },
    {
     "name": "stdout",
     "output_type": "stream",
     "text": [
      "[CV 1/2] END batch_size=32, epochs=20, units1=32, units2=32, units3=32;, score=0.649 total time=  52.9s\n"
     ]
    },
    {
     "name": "stdout",
     "output_type": "stream",
     "text": [
      "[CV 2/2] END batch_size=32, epochs=20, units1=32, units2=32, units3=32;, score=0.652 total time=  52.5s\n"
     ]
    },
    {
     "name": "stdout",
     "output_type": "stream",
     "text": [
      "[CV 1/2] END batch_size=32, epochs=20, units1=32, units2=64, units3=8;, score=0.645 total time=  49.1s\n"
     ]
    },
    {
     "name": "stdout",
     "output_type": "stream",
     "text": [
      "[CV 2/2] END batch_size=32, epochs=20, units1=32, units2=64, units3=8;, score=0.651 total time=  43.8s\n"
     ]
    },
    {
     "name": "stdout",
     "output_type": "stream",
     "text": [
      "[CV 1/2] END batch_size=32, epochs=20, units1=32, units2=64, units3=16;, score=0.651 total time=  43.6s\n"
     ]
    },
    {
     "name": "stdout",
     "output_type": "stream",
     "text": [
      "[CV 2/2] END batch_size=32, epochs=20, units1=32, units2=64, units3=16;, score=0.655 total time=  43.5s\n"
     ]
    },
    {
     "name": "stdout",
     "output_type": "stream",
     "text": [
      "[CV 1/2] END batch_size=32, epochs=20, units1=32, units2=64, units3=32;, score=0.662 total time=  43.4s\n"
     ]
    },
    {
     "name": "stdout",
     "output_type": "stream",
     "text": [
      "[CV 2/2] END batch_size=32, epochs=20, units1=32, units2=64, units3=32;, score=0.651 total time=  44.0s\n"
     ]
    },
    {
     "name": "stdout",
     "output_type": "stream",
     "text": [
      "[CV 1/2] END batch_size=32, epochs=20, units1=64, units2=16, units3=8;, score=0.645 total time=  43.7s\n"
     ]
    },
    {
     "name": "stdout",
     "output_type": "stream",
     "text": [
      "[CV 2/2] END batch_size=32, epochs=20, units1=64, units2=16, units3=8;, score=0.646 total time=  43.2s\n"
     ]
    },
    {
     "name": "stdout",
     "output_type": "stream",
     "text": [
      "[CV 1/2] END batch_size=32, epochs=20, units1=64, units2=16, units3=16;, score=0.646 total time=  43.8s\n"
     ]
    },
    {
     "name": "stdout",
     "output_type": "stream",
     "text": [
      "[CV 2/2] END batch_size=32, epochs=20, units1=64, units2=16, units3=16;, score=0.642 total time=  44.7s\n"
     ]
    },
    {
     "name": "stdout",
     "output_type": "stream",
     "text": [
      "[CV 1/2] END batch_size=32, epochs=20, units1=64, units2=16, units3=32;, score=0.649 total time=  45.1s\n"
     ]
    },
    {
     "name": "stdout",
     "output_type": "stream",
     "text": [
      "[CV 2/2] END batch_size=32, epochs=20, units1=64, units2=16, units3=32;, score=0.647 total time=  44.6s\n"
     ]
    },
    {
     "name": "stdout",
     "output_type": "stream",
     "text": [
      "[CV 1/2] END batch_size=32, epochs=20, units1=64, units2=32, units3=8;, score=0.645 total time=  44.3s\n"
     ]
    },
    {
     "name": "stdout",
     "output_type": "stream",
     "text": [
      "[CV 2/2] END batch_size=32, epochs=20, units1=64, units2=32, units3=8;, score=0.652 total time=  45.9s\n"
     ]
    },
    {
     "name": "stdout",
     "output_type": "stream",
     "text": [
      "[CV 1/2] END batch_size=32, epochs=20, units1=64, units2=32, units3=16;, score=0.648 total time=  51.9s\n"
     ]
    },
    {
     "name": "stdout",
     "output_type": "stream",
     "text": [
      "[CV 2/2] END batch_size=32, epochs=20, units1=64, units2=32, units3=16;, score=0.646 total time=  52.0s\n"
     ]
    },
    {
     "name": "stdout",
     "output_type": "stream",
     "text": [
      "[CV 1/2] END batch_size=32, epochs=20, units1=64, units2=32, units3=32;, score=0.649 total time=  51.2s\n"
     ]
    },
    {
     "name": "stdout",
     "output_type": "stream",
     "text": [
      "[CV 2/2] END batch_size=32, epochs=20, units1=64, units2=32, units3=32;, score=0.650 total time=  50.9s\n"
     ]
    },
    {
     "name": "stdout",
     "output_type": "stream",
     "text": [
      "[CV 1/2] END batch_size=32, epochs=20, units1=64, units2=64, units3=8;, score=0.658 total time=  51.8s\n"
     ]
    },
    {
     "name": "stdout",
     "output_type": "stream",
     "text": [
      "[CV 2/2] END batch_size=32, epochs=20, units1=64, units2=64, units3=8;, score=0.646 total time=  44.0s\n"
     ]
    },
    {
     "name": "stdout",
     "output_type": "stream",
     "text": [
      "[CV 1/2] END batch_size=32, epochs=20, units1=64, units2=64, units3=16;, score=0.658 total time=  43.0s\n"
     ]
    },
    {
     "name": "stdout",
     "output_type": "stream",
     "text": [
      "[CV 2/2] END batch_size=32, epochs=20, units1=64, units2=64, units3=16;, score=0.653 total time=  43.2s\n"
     ]
    },
    {
     "name": "stdout",
     "output_type": "stream",
     "text": [
      "[CV 1/2] END batch_size=32, epochs=20, units1=64, units2=64, units3=32;, score=0.658 total time=  43.2s\n"
     ]
    },
    {
     "name": "stdout",
     "output_type": "stream",
     "text": [
      "[CV 2/2] END batch_size=32, epochs=20, units1=64, units2=64, units3=32;, score=0.655 total time=  45.4s\n"
     ]
    },
    {
     "name": "stdout",
     "output_type": "stream",
     "text": [
      "[CV 1/2] END batch_size=32, epochs=20, units1=128, units2=16, units3=8;, score=0.646 total time=  44.8s\n"
     ]
    },
    {
     "name": "stdout",
     "output_type": "stream",
     "text": [
      "[CV 2/2] END batch_size=32, epochs=20, units1=128, units2=16, units3=8;, score=0.644 total time=  44.2s\n"
     ]
    },
    {
     "name": "stdout",
     "output_type": "stream",
     "text": [
      "[CV 1/2] END batch_size=32, epochs=20, units1=128, units2=16, units3=16;, score=0.649 total time=  43.9s\n"
     ]
    },
    {
     "name": "stdout",
     "output_type": "stream",
     "text": [
      "[CV 2/2] END batch_size=32, epochs=20, units1=128, units2=16, units3=16;, score=0.652 total time=  43.5s\n"
     ]
    },
    {
     "name": "stdout",
     "output_type": "stream",
     "text": [
      "[CV 1/2] END batch_size=32, epochs=20, units1=128, units2=16, units3=32;, score=0.655 total time=  43.6s\n"
     ]
    },
    {
     "name": "stdout",
     "output_type": "stream",
     "text": [
      "[CV 2/2] END batch_size=32, epochs=20, units1=128, units2=16, units3=32;, score=0.655 total time=  43.8s\n"
     ]
    },
    {
     "name": "stdout",
     "output_type": "stream",
     "text": [
      "[CV 1/2] END batch_size=32, epochs=20, units1=128, units2=32, units3=8;, score=0.657 total time=  43.4s\n"
     ]
    },
    {
     "name": "stdout",
     "output_type": "stream",
     "text": [
      "[CV 2/2] END batch_size=32, epochs=20, units1=128, units2=32, units3=8;, score=0.650 total time=  43.3s\n"
     ]
    },
    {
     "name": "stdout",
     "output_type": "stream",
     "text": [
      "[CV 1/2] END batch_size=32, epochs=20, units1=128, units2=32, units3=16;, score=0.659 total time=  49.2s\n"
     ]
    },
    {
     "name": "stdout",
     "output_type": "stream",
     "text": [
      "[CV 2/2] END batch_size=32, epochs=20, units1=128, units2=32, units3=16;, score=0.652 total time=  50.9s\n"
     ]
    },
    {
     "name": "stdout",
     "output_type": "stream",
     "text": [
      "[CV 1/2] END batch_size=32, epochs=20, units1=128, units2=32, units3=32;, score=0.654 total time=  51.2s\n"
     ]
    },
    {
     "name": "stdout",
     "output_type": "stream",
     "text": [
      "[CV 2/2] END batch_size=32, epochs=20, units1=128, units2=32, units3=32;, score=0.652 total time=  50.9s\n"
     ]
    },
    {
     "name": "stdout",
     "output_type": "stream",
     "text": [
      "[CV 1/2] END batch_size=32, epochs=20, units1=128, units2=64, units3=8;, score=0.659 total time=  50.1s\n"
     ]
    },
    {
     "name": "stdout",
     "output_type": "stream",
     "text": [
      "[CV 2/2] END batch_size=32, epochs=20, units1=128, units2=64, units3=8;, score=0.655 total time=  47.9s\n"
     ]
    },
    {
     "name": "stdout",
     "output_type": "stream",
     "text": [
      "[CV 1/2] END batch_size=32, epochs=20, units1=128, units2=64, units3=16;, score=0.656 total time=  45.8s\n"
     ]
    },
    {
     "name": "stdout",
     "output_type": "stream",
     "text": [
      "[CV 2/2] END batch_size=32, epochs=20, units1=128, units2=64, units3=16;, score=0.648 total time=  44.2s\n"
     ]
    },
    {
     "name": "stdout",
     "output_type": "stream",
     "text": [
      "[CV 1/2] END batch_size=32, epochs=20, units1=128, units2=64, units3=32;, score=0.661 total time=  44.3s\n"
     ]
    },
    {
     "name": "stdout",
     "output_type": "stream",
     "text": [
      "[CV 2/2] END batch_size=32, epochs=20, units1=128, units2=64, units3=32;, score=0.657 total time=  44.1s\n"
     ]
    },
    {
     "name": "stdout",
     "output_type": "stream",
     "text": [
      "[CV 1/2] END batch_size=32, epochs=50, units1=32, units2=16, units3=8;, score=0.652 total time= 1.8min\n"
     ]
    },
    {
     "name": "stdout",
     "output_type": "stream",
     "text": [
      "[CV 2/2] END batch_size=32, epochs=50, units1=32, units2=16, units3=8;, score=0.646 total time= 1.8min\n"
     ]
    },
    {
     "name": "stdout",
     "output_type": "stream",
     "text": [
      "[CV 1/2] END batch_size=32, epochs=50, units1=32, units2=16, units3=16;, score=0.657 total time= 1.8min\n"
     ]
    },
    {
     "name": "stdout",
     "output_type": "stream",
     "text": [
      "[CV 2/2] END batch_size=32, epochs=50, units1=32, units2=16, units3=16;, score=0.645 total time= 1.9min\n"
     ]
    },
    {
     "name": "stdout",
     "output_type": "stream",
     "text": [
      "[CV 1/2] END batch_size=32, epochs=50, units1=32, units2=16, units3=32;, score=0.648 total time= 2.1min\n"
     ]
    },
    {
     "name": "stdout",
     "output_type": "stream",
     "text": [
      "[CV 2/2] END batch_size=32, epochs=50, units1=32, units2=16, units3=32;, score=0.659 total time= 2.0min\n"
     ]
    },
    {
     "name": "stdout",
     "output_type": "stream",
     "text": [
      "[CV 1/2] END batch_size=32, epochs=50, units1=32, units2=32, units3=8;, score=0.660 total time= 1.8min\n"
     ]
    },
    {
     "name": "stdout",
     "output_type": "stream",
     "text": [
      "[CV 2/2] END batch_size=32, epochs=50, units1=32, units2=32, units3=8;, score=0.652 total time= 1.8min\n"
     ]
    },
    {
     "name": "stdout",
     "output_type": "stream",
     "text": [
      "[CV 1/2] END batch_size=32, epochs=50, units1=32, units2=32, units3=16;, score=0.667 total time= 1.7min\n"
     ]
    },
    {
     "name": "stdout",
     "output_type": "stream",
     "text": [
      "[CV 2/2] END batch_size=32, epochs=50, units1=32, units2=32, units3=16;, score=0.661 total time= 1.7min\n"
     ]
    },
    {
     "name": "stdout",
     "output_type": "stream",
     "text": [
      "[CV 1/2] END batch_size=32, epochs=50, units1=32, units2=32, units3=32;, score=0.668 total time= 1.7min\n"
     ]
    },
    {
     "name": "stdout",
     "output_type": "stream",
     "text": [
      "[CV 2/2] END batch_size=32, epochs=50, units1=32, units2=32, units3=32;, score=0.665 total time= 1.7min\n"
     ]
    },
    {
     "name": "stdout",
     "output_type": "stream",
     "text": [
      "[CV 1/2] END batch_size=32, epochs=50, units1=32, units2=64, units3=8;, score=0.661 total time= 2.1min\n"
     ]
    },
    {
     "name": "stdout",
     "output_type": "stream",
     "text": [
      "[CV 2/2] END batch_size=32, epochs=50, units1=32, units2=64, units3=8;, score=0.660 total time= 2.2min\n"
     ]
    },
    {
     "name": "stdout",
     "output_type": "stream",
     "text": [
      "[CV 1/2] END batch_size=32, epochs=50, units1=32, units2=64, units3=16;, score=0.663 total time= 1.8min\n"
     ]
    },
    {
     "name": "stdout",
     "output_type": "stream",
     "text": [
      "[CV 2/2] END batch_size=32, epochs=50, units1=32, units2=64, units3=16;, score=0.662 total time= 1.8min\n"
     ]
    },
    {
     "name": "stdout",
     "output_type": "stream",
     "text": [
      "[CV 1/2] END batch_size=32, epochs=50, units1=32, units2=64, units3=32;, score=0.662 total time= 1.8min\n"
     ]
    },
    {
     "name": "stdout",
     "output_type": "stream",
     "text": [
      "[CV 2/2] END batch_size=32, epochs=50, units1=32, units2=64, units3=32;, score=0.662 total time= 1.8min\n"
     ]
    },
    {
     "name": "stdout",
     "output_type": "stream",
     "text": [
      "[CV 1/2] END batch_size=32, epochs=50, units1=64, units2=16, units3=8;, score=0.655 total time= 1.7min\n"
     ]
    },
    {
     "name": "stdout",
     "output_type": "stream",
     "text": [
      "[CV 2/2] END batch_size=32, epochs=50, units1=64, units2=16, units3=8;, score=0.651 total time= 1.9min\n"
     ]
    },
    {
     "name": "stdout",
     "output_type": "stream",
     "text": [
      "[CV 1/2] END batch_size=32, epochs=50, units1=64, units2=16, units3=16;, score=0.663 total time= 2.1min\n"
     ]
    },
    {
     "name": "stdout",
     "output_type": "stream",
     "text": [
      "[CV 2/2] END batch_size=32, epochs=50, units1=64, units2=16, units3=16;, score=0.653 total time= 1.9min\n"
     ]
    },
    {
     "name": "stdout",
     "output_type": "stream",
     "text": [
      "[CV 1/2] END batch_size=32, epochs=50, units1=64, units2=16, units3=32;, score=0.663 total time= 1.8min\n"
     ]
    },
    {
     "name": "stdout",
     "output_type": "stream",
     "text": [
      "[CV 2/2] END batch_size=32, epochs=50, units1=64, units2=16, units3=32;, score=0.658 total time= 1.8min\n"
     ]
    },
    {
     "name": "stdout",
     "output_type": "stream",
     "text": [
      "[CV 1/2] END batch_size=32, epochs=50, units1=64, units2=32, units3=8;, score=0.657 total time= 1.7min\n"
     ]
    },
    {
     "name": "stdout",
     "output_type": "stream",
     "text": [
      "[CV 2/2] END batch_size=32, epochs=50, units1=64, units2=32, units3=8;, score=0.655 total time= 1.7min\n"
     ]
    },
    {
     "name": "stdout",
     "output_type": "stream",
     "text": [
      "[CV 1/2] END batch_size=32, epochs=50, units1=64, units2=32, units3=16;, score=0.665 total time= 1.7min\n"
     ]
    },
    {
     "name": "stdout",
     "output_type": "stream",
     "text": [
      "[CV 2/2] END batch_size=32, epochs=50, units1=64, units2=32, units3=16;, score=0.658 total time= 2.0min\n"
     ]
    },
    {
     "name": "stdout",
     "output_type": "stream",
     "text": [
      "[CV 1/2] END batch_size=32, epochs=50, units1=64, units2=32, units3=32;, score=0.657 total time= 2.1min\n"
     ]
    },
    {
     "name": "stdout",
     "output_type": "stream",
     "text": [
      "[CV 2/2] END batch_size=32, epochs=50, units1=64, units2=32, units3=32;, score=0.664 total time= 1.8min\n"
     ]
    },
    {
     "name": "stdout",
     "output_type": "stream",
     "text": [
      "[CV 1/2] END batch_size=32, epochs=50, units1=64, units2=64, units3=8;, score=0.669 total time= 1.7min\n"
     ]
    },
    {
     "name": "stdout",
     "output_type": "stream",
     "text": [
      "[CV 2/2] END batch_size=32, epochs=50, units1=64, units2=64, units3=8;, score=0.664 total time= 1.8min\n"
     ]
    },
    {
     "name": "stdout",
     "output_type": "stream",
     "text": [
      "[CV 1/2] END batch_size=32, epochs=50, units1=64, units2=64, units3=16;, score=0.667 total time= 1.8min\n"
     ]
    },
    {
     "name": "stdout",
     "output_type": "stream",
     "text": [
      "[CV 2/2] END batch_size=32, epochs=50, units1=64, units2=64, units3=16;, score=0.664 total time= 1.8min\n"
     ]
    },
    {
     "name": "stdout",
     "output_type": "stream",
     "text": [
      "[CV 1/2] END batch_size=32, epochs=50, units1=64, units2=64, units3=32;, score=0.662 total time= 1.8min\n"
     ]
    },
    {
     "name": "stdout",
     "output_type": "stream",
     "text": [
      "[CV 2/2] END batch_size=32, epochs=50, units1=64, units2=64, units3=32;, score=0.663 total time= 2.1min\n"
     ]
    },
    {
     "name": "stdout",
     "output_type": "stream",
     "text": [
      "[CV 1/2] END batch_size=32, epochs=50, units1=128, units2=16, units3=8;, score=0.659 total time= 2.1min\n"
     ]
    },
    {
     "name": "stdout",
     "output_type": "stream",
     "text": [
      "[CV 2/2] END batch_size=32, epochs=50, units1=128, units2=16, units3=8;, score=0.655 total time= 1.7min\n"
     ]
    },
    {
     "name": "stdout",
     "output_type": "stream",
     "text": [
      "[CV 1/2] END batch_size=32, epochs=50, units1=128, units2=16, units3=16;, score=0.659 total time= 1.8min\n"
     ]
    },
    {
     "name": "stdout",
     "output_type": "stream",
     "text": [
      "[CV 2/2] END batch_size=32, epochs=50, units1=128, units2=16, units3=16;, score=0.664 total time= 1.8min\n"
     ]
    },
    {
     "name": "stdout",
     "output_type": "stream",
     "text": [
      "[CV 1/2] END batch_size=32, epochs=50, units1=128, units2=16, units3=32;, score=0.657 total time= 1.8min\n"
     ]
    },
    {
     "name": "stdout",
     "output_type": "stream",
     "text": [
      "[CV 2/2] END batch_size=32, epochs=50, units1=128, units2=16, units3=32;, score=0.663 total time= 1.7min\n"
     ]
    },
    {
     "name": "stdout",
     "output_type": "stream",
     "text": [
      "[CV 1/2] END batch_size=32, epochs=50, units1=128, units2=32, units3=8;, score=0.664 total time= 1.9min\n"
     ]
    },
    {
     "name": "stdout",
     "output_type": "stream",
     "text": [
      "[CV 2/2] END batch_size=32, epochs=50, units1=128, units2=32, units3=8;, score=0.662 total time= 2.1min\n"
     ]
    },
    {
     "name": "stdout",
     "output_type": "stream",
     "text": [
      "[CV 1/2] END batch_size=32, epochs=50, units1=128, units2=32, units3=16;, score=0.664 total time= 1.9min\n"
     ]
    },
    {
     "name": "stdout",
     "output_type": "stream",
     "text": [
      "[CV 2/2] END batch_size=32, epochs=50, units1=128, units2=32, units3=16;, score=0.662 total time= 1.7min\n"
     ]
    },
    {
     "name": "stdout",
     "output_type": "stream",
     "text": [
      "[CV 1/2] END batch_size=32, epochs=50, units1=128, units2=32, units3=32;, score=0.668 total time= 1.7min\n"
     ]
    },
    {
     "name": "stdout",
     "output_type": "stream",
     "text": [
      "[CV 2/2] END batch_size=32, epochs=50, units1=128, units2=32, units3=32;, score=0.668 total time= 1.7min\n"
     ]
    },
    {
     "name": "stdout",
     "output_type": "stream",
     "text": [
      "[CV 1/2] END batch_size=32, epochs=50, units1=128, units2=64, units3=8;, score=0.669 total time= 1.8min\n"
     ]
    },
    {
     "name": "stdout",
     "output_type": "stream",
     "text": [
      "[CV 2/2] END batch_size=32, epochs=50, units1=128, units2=64, units3=8;, score=0.663 total time= 1.7min\n"
     ]
    },
    {
     "name": "stdout",
     "output_type": "stream",
     "text": [
      "[CV 1/2] END batch_size=32, epochs=50, units1=128, units2=64, units3=16;, score=0.671 total time= 2.0min\n"
     ]
    },
    {
     "name": "stdout",
     "output_type": "stream",
     "text": [
      "[CV 2/2] END batch_size=32, epochs=50, units1=128, units2=64, units3=16;, score=0.662 total time= 2.1min\n"
     ]
    },
    {
     "name": "stdout",
     "output_type": "stream",
     "text": [
      "[CV 1/2] END batch_size=32, epochs=50, units1=128, units2=64, units3=32;, score=0.660 total time= 1.9min\n"
     ]
    },
    {
     "name": "stdout",
     "output_type": "stream",
     "text": [
      "[CV 2/2] END batch_size=32, epochs=50, units1=128, units2=64, units3=32;, score=0.667 total time= 1.8min\n"
     ]
    },
    {
     "name": "stdout",
     "output_type": "stream",
     "text": [
      "[CV 1/2] END batch_size=64, epochs=10, units1=32, units2=16, units3=8;, score=0.631 total time=  12.5s\n"
     ]
    },
    {
     "name": "stdout",
     "output_type": "stream",
     "text": [
      "[CV 2/2] END batch_size=64, epochs=10, units1=32, units2=16, units3=8;, score=0.634 total time=  12.4s\n"
     ]
    },
    {
     "name": "stdout",
     "output_type": "stream",
     "text": [
      "[CV 1/2] END batch_size=64, epochs=10, units1=32, units2=16, units3=16;, score=0.639 total time=  12.2s\n"
     ]
    },
    {
     "name": "stdout",
     "output_type": "stream",
     "text": [
      "[CV 2/2] END batch_size=64, epochs=10, units1=32, units2=16, units3=16;, score=0.628 total time=  12.3s\n"
     ]
    },
    {
     "name": "stdout",
     "output_type": "stream",
     "text": [
      "[CV 1/2] END batch_size=64, epochs=10, units1=32, units2=16, units3=32;, score=0.636 total time=  12.2s\n"
     ]
    },
    {
     "name": "stdout",
     "output_type": "stream",
     "text": [
      "[CV 2/2] END batch_size=64, epochs=10, units1=32, units2=16, units3=32;, score=0.624 total time=  12.1s\n"
     ]
    },
    {
     "name": "stdout",
     "output_type": "stream",
     "text": [
      "[CV 1/2] END batch_size=64, epochs=10, units1=32, units2=32, units3=8;, score=0.638 total time=  12.2s\n"
     ]
    },
    {
     "name": "stdout",
     "output_type": "stream",
     "text": [
      "[CV 2/2] END batch_size=64, epochs=10, units1=32, units2=32, units3=8;, score=0.633 total time=  12.0s\n"
     ]
    },
    {
     "name": "stdout",
     "output_type": "stream",
     "text": [
      "[CV 1/2] END batch_size=64, epochs=10, units1=32, units2=32, units3=16;, score=0.643 total time=  12.1s\n"
     ]
    },
    {
     "name": "stdout",
     "output_type": "stream",
     "text": [
      "[CV 2/2] END batch_size=64, epochs=10, units1=32, units2=32, units3=16;, score=0.627 total time=  12.2s\n"
     ]
    },
    {
     "name": "stdout",
     "output_type": "stream",
     "text": [
      "[CV 1/2] END batch_size=64, epochs=10, units1=32, units2=32, units3=32;, score=0.633 total time=  12.1s\n"
     ]
    },
    {
     "name": "stdout",
     "output_type": "stream",
     "text": [
      "[CV 2/2] END batch_size=64, epochs=10, units1=32, units2=32, units3=32;, score=0.631 total time=  12.1s\n"
     ]
    },
    {
     "name": "stdout",
     "output_type": "stream",
     "text": [
      "[CV 1/2] END batch_size=64, epochs=10, units1=32, units2=64, units3=8;, score=0.640 total time=  12.1s\n"
     ]
    },
    {
     "name": "stdout",
     "output_type": "stream",
     "text": [
      "[CV 2/2] END batch_size=64, epochs=10, units1=32, units2=64, units3=8;, score=0.635 total time=  12.1s\n"
     ]
    },
    {
     "name": "stdout",
     "output_type": "stream",
     "text": [
      "[CV 1/2] END batch_size=64, epochs=10, units1=32, units2=64, units3=16;, score=0.637 total time=  12.2s\n"
     ]
    },
    {
     "name": "stdout",
     "output_type": "stream",
     "text": [
      "[CV 2/2] END batch_size=64, epochs=10, units1=32, units2=64, units3=16;, score=0.636 total time=  12.1s\n"
     ]
    },
    {
     "name": "stdout",
     "output_type": "stream",
     "text": [
      "[CV 1/2] END batch_size=64, epochs=10, units1=32, units2=64, units3=32;, score=0.634 total time=  12.1s\n"
     ]
    },
    {
     "name": "stdout",
     "output_type": "stream",
     "text": [
      "[CV 2/2] END batch_size=64, epochs=10, units1=32, units2=64, units3=32;, score=0.633 total time=  12.1s\n"
     ]
    },
    {
     "name": "stdout",
     "output_type": "stream",
     "text": [
      "[CV 1/2] END batch_size=64, epochs=10, units1=64, units2=16, units3=8;, score=0.635 total time=  12.2s\n"
     ]
    },
    {
     "name": "stdout",
     "output_type": "stream",
     "text": [
      "[CV 2/2] END batch_size=64, epochs=10, units1=64, units2=16, units3=8;, score=0.627 total time=  12.2s\n"
     ]
    },
    {
     "name": "stdout",
     "output_type": "stream",
     "text": [
      "[CV 1/2] END batch_size=64, epochs=10, units1=64, units2=16, units3=16;, score=0.630 total time=  12.3s\n"
     ]
    },
    {
     "name": "stdout",
     "output_type": "stream",
     "text": [
      "[CV 2/2] END batch_size=64, epochs=10, units1=64, units2=16, units3=16;, score=0.626 total time=  12.2s\n"
     ]
    },
    {
     "name": "stdout",
     "output_type": "stream",
     "text": [
      "[CV 1/2] END batch_size=64, epochs=10, units1=64, units2=16, units3=32;, score=0.633 total time=  14.5s\n"
     ]
    },
    {
     "name": "stdout",
     "output_type": "stream",
     "text": [
      "[CV 2/2] END batch_size=64, epochs=10, units1=64, units2=16, units3=32;, score=0.633 total time=  12.3s\n"
     ]
    },
    {
     "name": "stdout",
     "output_type": "stream",
     "text": [
      "[CV 1/2] END batch_size=64, epochs=10, units1=64, units2=32, units3=8;, score=0.638 total time=  12.4s\n"
     ]
    },
    {
     "name": "stdout",
     "output_type": "stream",
     "text": [
      "[CV 2/2] END batch_size=64, epochs=10, units1=64, units2=32, units3=8;, score=0.631 total time=  12.2s\n"
     ]
    },
    {
     "name": "stdout",
     "output_type": "stream",
     "text": [
      "[CV 1/2] END batch_size=64, epochs=10, units1=64, units2=32, units3=16;, score=0.639 total time=  12.3s\n"
     ]
    },
    {
     "name": "stdout",
     "output_type": "stream",
     "text": [
      "[CV 2/2] END batch_size=64, epochs=10, units1=64, units2=32, units3=16;, score=0.631 total time=  12.2s\n"
     ]
    },
    {
     "name": "stdout",
     "output_type": "stream",
     "text": [
      "[CV 1/2] END batch_size=64, epochs=10, units1=64, units2=32, units3=32;, score=0.634 total time=  11.8s\n"
     ]
    },
    {
     "name": "stdout",
     "output_type": "stream",
     "text": [
      "[CV 2/2] END batch_size=64, epochs=10, units1=64, units2=32, units3=32;, score=0.631 total time=  12.0s\n"
     ]
    },
    {
     "name": "stdout",
     "output_type": "stream",
     "text": [
      "[CV 1/2] END batch_size=64, epochs=10, units1=64, units2=64, units3=8;, score=0.642 total time=  12.0s\n"
     ]
    },
    {
     "name": "stdout",
     "output_type": "stream",
     "text": [
      "[CV 2/2] END batch_size=64, epochs=10, units1=64, units2=64, units3=8;, score=0.635 total time=  12.2s\n"
     ]
    },
    {
     "name": "stdout",
     "output_type": "stream",
     "text": [
      "[CV 1/2] END batch_size=64, epochs=10, units1=64, units2=64, units3=16;, score=0.643 total time=  13.1s\n"
     ]
    },
    {
     "name": "stdout",
     "output_type": "stream",
     "text": [
      "[CV 2/2] END batch_size=64, epochs=10, units1=64, units2=64, units3=16;, score=0.638 total time=  14.1s\n"
     ]
    },
    {
     "name": "stdout",
     "output_type": "stream",
     "text": [
      "[CV 1/2] END batch_size=64, epochs=10, units1=64, units2=64, units3=32;, score=0.645 total time=  14.2s\n"
     ]
    },
    {
     "name": "stdout",
     "output_type": "stream",
     "text": [
      "[CV 2/2] END batch_size=64, epochs=10, units1=64, units2=64, units3=32;, score=0.623 total time=  14.1s\n"
     ]
    },
    {
     "name": "stdout",
     "output_type": "stream",
     "text": [
      "[CV 1/2] END batch_size=64, epochs=10, units1=128, units2=16, units3=8;, score=0.640 total time=  14.0s\n"
     ]
    },
    {
     "name": "stdout",
     "output_type": "stream",
     "text": [
      "[CV 2/2] END batch_size=64, epochs=10, units1=128, units2=16, units3=8;, score=0.631 total time=  14.2s\n"
     ]
    },
    {
     "name": "stdout",
     "output_type": "stream",
     "text": [
      "[CV 1/2] END batch_size=64, epochs=10, units1=128, units2=16, units3=16;, score=0.643 total time=  14.1s\n"
     ]
    },
    {
     "name": "stdout",
     "output_type": "stream",
     "text": [
      "[CV 2/2] END batch_size=64, epochs=10, units1=128, units2=16, units3=16;, score=0.635 total time=  14.1s\n"
     ]
    },
    {
     "name": "stdout",
     "output_type": "stream",
     "text": [
      "[CV 1/2] END batch_size=64, epochs=10, units1=128, units2=16, units3=32;, score=0.645 total time=  14.1s\n"
     ]
    },
    {
     "name": "stdout",
     "output_type": "stream",
     "text": [
      "[CV 2/2] END batch_size=64, epochs=10, units1=128, units2=16, units3=32;, score=0.636 total time=  14.2s\n"
     ]
    },
    {
     "name": "stdout",
     "output_type": "stream",
     "text": [
      "[CV 1/2] END batch_size=64, epochs=10, units1=128, units2=32, units3=8;, score=0.643 total time=  14.0s\n"
     ]
    },
    {
     "name": "stdout",
     "output_type": "stream",
     "text": [
      "[CV 2/2] END batch_size=64, epochs=10, units1=128, units2=32, units3=8;, score=0.632 total time=  14.0s\n"
     ]
    },
    {
     "name": "stdout",
     "output_type": "stream",
     "text": [
      "[CV 1/2] END batch_size=64, epochs=10, units1=128, units2=32, units3=16;, score=0.645 total time=  14.1s\n"
     ]
    },
    {
     "name": "stdout",
     "output_type": "stream",
     "text": [
      "[CV 2/2] END batch_size=64, epochs=10, units1=128, units2=32, units3=16;, score=0.624 total time=  14.1s\n"
     ]
    },
    {
     "name": "stdout",
     "output_type": "stream",
     "text": [
      "[CV 1/2] END batch_size=64, epochs=10, units1=128, units2=32, units3=32;, score=0.641 total time=  14.1s\n"
     ]
    },
    {
     "name": "stdout",
     "output_type": "stream",
     "text": [
      "[CV 2/2] END batch_size=64, epochs=10, units1=128, units2=32, units3=32;, score=0.642 total time=  14.1s\n"
     ]
    },
    {
     "name": "stdout",
     "output_type": "stream",
     "text": [
      "[CV 1/2] END batch_size=64, epochs=10, units1=128, units2=64, units3=8;, score=0.642 total time=  17.0s\n"
     ]
    },
    {
     "name": "stdout",
     "output_type": "stream",
     "text": [
      "[CV 2/2] END batch_size=64, epochs=10, units1=128, units2=64, units3=8;, score=0.636 total time=  14.6s\n"
     ]
    },
    {
     "name": "stdout",
     "output_type": "stream",
     "text": [
      "[CV 1/2] END batch_size=64, epochs=10, units1=128, units2=64, units3=16;, score=0.644 total time=  14.5s\n"
     ]
    },
    {
     "name": "stdout",
     "output_type": "stream",
     "text": [
      "[CV 2/2] END batch_size=64, epochs=10, units1=128, units2=64, units3=16;, score=0.637 total time=  12.7s\n"
     ]
    },
    {
     "name": "stdout",
     "output_type": "stream",
     "text": [
      "[CV 1/2] END batch_size=64, epochs=10, units1=128, units2=64, units3=32;, score=0.645 total time=  12.3s\n"
     ]
    },
    {
     "name": "stdout",
     "output_type": "stream",
     "text": [
      "[CV 2/2] END batch_size=64, epochs=10, units1=128, units2=64, units3=32;, score=0.625 total time=  12.2s\n"
     ]
    },
    {
     "name": "stdout",
     "output_type": "stream",
     "text": [
      "[CV 1/2] END batch_size=64, epochs=20, units1=32, units2=16, units3=8;, score=0.640 total time=  22.8s\n"
     ]
    },
    {
     "name": "stdout",
     "output_type": "stream",
     "text": [
      "[CV 2/2] END batch_size=64, epochs=20, units1=32, units2=16, units3=8;, score=0.629 total time=  22.6s\n"
     ]
    },
    {
     "name": "stdout",
     "output_type": "stream",
     "text": [
      "[CV 1/2] END batch_size=64, epochs=20, units1=32, units2=16, units3=16;, score=0.642 total time=  22.6s\n"
     ]
    },
    {
     "name": "stdout",
     "output_type": "stream",
     "text": [
      "[CV 2/2] END batch_size=64, epochs=20, units1=32, units2=16, units3=16;, score=0.638 total time=  22.3s\n"
     ]
    },
    {
     "name": "stdout",
     "output_type": "stream",
     "text": [
      "[CV 1/2] END batch_size=64, epochs=20, units1=32, units2=16, units3=32;, score=0.640 total time=  22.2s\n"
     ]
    },
    {
     "name": "stdout",
     "output_type": "stream",
     "text": [
      "[CV 2/2] END batch_size=64, epochs=20, units1=32, units2=16, units3=32;, score=0.630 total time=  22.6s\n"
     ]
    },
    {
     "name": "stdout",
     "output_type": "stream",
     "text": [
      "[CV 1/2] END batch_size=64, epochs=20, units1=32, units2=32, units3=8;, score=0.643 total time=  22.4s\n"
     ]
    },
    {
     "name": "stdout",
     "output_type": "stream",
     "text": [
      "[CV 2/2] END batch_size=64, epochs=20, units1=32, units2=32, units3=8;, score=0.637 total time=  22.4s\n"
     ]
    },
    {
     "name": "stdout",
     "output_type": "stream",
     "text": [
      "[CV 1/2] END batch_size=64, epochs=20, units1=32, units2=32, units3=16;, score=0.648 total time=  22.6s\n"
     ]
    },
    {
     "name": "stdout",
     "output_type": "stream",
     "text": [
      "[CV 2/2] END batch_size=64, epochs=20, units1=32, units2=32, units3=16;, score=0.640 total time=  22.4s\n"
     ]
    },
    {
     "name": "stdout",
     "output_type": "stream",
     "text": [
      "[CV 1/2] END batch_size=64, epochs=20, units1=32, units2=32, units3=32;, score=0.637 total time=  22.4s\n"
     ]
    },
    {
     "name": "stdout",
     "output_type": "stream",
     "text": [
      "[CV 2/2] END batch_size=64, epochs=20, units1=32, units2=32, units3=32;, score=0.640 total time=  22.2s\n"
     ]
    },
    {
     "name": "stdout",
     "output_type": "stream",
     "text": [
      "[CV 1/2] END batch_size=64, epochs=20, units1=32, units2=64, units3=8;, score=0.656 total time=  22.4s\n"
     ]
    },
    {
     "name": "stdout",
     "output_type": "stream",
     "text": [
      "[CV 2/2] END batch_size=64, epochs=20, units1=32, units2=64, units3=8;, score=0.645 total time=  22.4s\n"
     ]
    },
    {
     "name": "stdout",
     "output_type": "stream",
     "text": [
      "[CV 1/2] END batch_size=64, epochs=20, units1=32, units2=64, units3=16;, score=0.646 total time=  22.4s\n"
     ]
    },
    {
     "name": "stdout",
     "output_type": "stream",
     "text": [
      "[CV 2/2] END batch_size=64, epochs=20, units1=32, units2=64, units3=16;, score=0.641 total time=  22.5s\n"
     ]
    },
    {
     "name": "stdout",
     "output_type": "stream",
     "text": [
      "[CV 1/2] END batch_size=64, epochs=20, units1=32, units2=64, units3=32;, score=0.651 total time=  22.3s\n"
     ]
    },
    {
     "name": "stdout",
     "output_type": "stream",
     "text": [
      "[CV 2/2] END batch_size=64, epochs=20, units1=32, units2=64, units3=32;, score=0.644 total time=  22.5s\n"
     ]
    },
    {
     "name": "stdout",
     "output_type": "stream",
     "text": [
      "[CV 1/2] END batch_size=64, epochs=20, units1=64, units2=16, units3=8;, score=0.648 total time=  22.4s\n"
     ]
    },
    {
     "name": "stdout",
     "output_type": "stream",
     "text": [
      "[CV 2/2] END batch_size=64, epochs=20, units1=64, units2=16, units3=8;, score=0.637 total time=  22.5s\n"
     ]
    },
    {
     "name": "stdout",
     "output_type": "stream",
     "text": [
      "[CV 1/2] END batch_size=64, epochs=20, units1=64, units2=16, units3=16;, score=0.648 total time=  22.7s\n"
     ]
    },
    {
     "name": "stdout",
     "output_type": "stream",
     "text": [
      "[CV 2/2] END batch_size=64, epochs=20, units1=64, units2=16, units3=16;, score=0.636 total time=  22.6s\n"
     ]
    },
    {
     "name": "stdout",
     "output_type": "stream",
     "text": [
      "[CV 1/2] END batch_size=64, epochs=20, units1=64, units2=16, units3=32;, score=0.633 total time=  22.6s\n"
     ]
    },
    {
     "name": "stdout",
     "output_type": "stream",
     "text": [
      "[CV 2/2] END batch_size=64, epochs=20, units1=64, units2=16, units3=32;, score=0.641 total time=  22.1s\n"
     ]
    },
    {
     "name": "stdout",
     "output_type": "stream",
     "text": [
      "[CV 1/2] END batch_size=64, epochs=20, units1=64, units2=32, units3=8;, score=0.649 total time=  29.8s\n"
     ]
    },
    {
     "name": "stdout",
     "output_type": "stream",
     "text": [
      "[CV 2/2] END batch_size=64, epochs=20, units1=64, units2=32, units3=8;, score=0.650 total time=  27.8s\n"
     ]
    },
    {
     "name": "stdout",
     "output_type": "stream",
     "text": [
      "[CV 1/2] END batch_size=64, epochs=20, units1=64, units2=32, units3=16;, score=0.652 total time=  27.3s\n"
     ]
    },
    {
     "name": "stdout",
     "output_type": "stream",
     "text": [
      "[CV 2/2] END batch_size=64, epochs=20, units1=64, units2=32, units3=16;, score=0.647 total time=  26.9s\n"
     ]
    },
    {
     "name": "stdout",
     "output_type": "stream",
     "text": [
      "[CV 1/2] END batch_size=64, epochs=20, units1=64, units2=32, units3=32;, score=0.654 total time=  26.9s\n"
     ]
    },
    {
     "name": "stdout",
     "output_type": "stream",
     "text": [
      "[CV 2/2] END batch_size=64, epochs=20, units1=64, units2=32, units3=32;, score=0.651 total time=  26.9s\n"
     ]
    },
    {
     "name": "stdout",
     "output_type": "stream",
     "text": [
      "[CV 1/2] END batch_size=64, epochs=20, units1=64, units2=64, units3=8;, score=0.650 total time=  26.7s\n"
     ]
    },
    {
     "name": "stdout",
     "output_type": "stream",
     "text": [
      "[CV 2/2] END batch_size=64, epochs=20, units1=64, units2=64, units3=8;, score=0.651 total time=  26.6s\n"
     ]
    },
    {
     "name": "stdout",
     "output_type": "stream",
     "text": [
      "[CV 1/2] END batch_size=64, epochs=20, units1=64, units2=64, units3=16;, score=0.649 total time=  26.5s\n"
     ]
    },
    {
     "name": "stdout",
     "output_type": "stream",
     "text": [
      "[CV 2/2] END batch_size=64, epochs=20, units1=64, units2=64, units3=16;, score=0.651 total time=  26.6s\n"
     ]
    },
    {
     "name": "stdout",
     "output_type": "stream",
     "text": [
      "[CV 1/2] END batch_size=64, epochs=20, units1=64, units2=64, units3=32;, score=0.645 total time=  22.2s\n"
     ]
    },
    {
     "name": "stdout",
     "output_type": "stream",
     "text": [
      "[CV 2/2] END batch_size=64, epochs=20, units1=64, units2=64, units3=32;, score=0.643 total time=  22.6s\n"
     ]
    },
    {
     "name": "stdout",
     "output_type": "stream",
     "text": [
      "[CV 1/2] END batch_size=64, epochs=20, units1=128, units2=16, units3=8;, score=0.645 total time=  22.3s\n"
     ]
    },
    {
     "name": "stdout",
     "output_type": "stream",
     "text": [
      "[CV 2/2] END batch_size=64, epochs=20, units1=128, units2=16, units3=8;, score=0.645 total time=  22.4s\n"
     ]
    },
    {
     "name": "stdout",
     "output_type": "stream",
     "text": [
      "[CV 1/2] END batch_size=64, epochs=20, units1=128, units2=16, units3=16;, score=0.650 total time=  22.5s\n"
     ]
    },
    {
     "name": "stdout",
     "output_type": "stream",
     "text": [
      "[CV 2/2] END batch_size=64, epochs=20, units1=128, units2=16, units3=16;, score=0.640 total time=  22.5s\n"
     ]
    },
    {
     "name": "stdout",
     "output_type": "stream",
     "text": [
      "[CV 1/2] END batch_size=64, epochs=20, units1=128, units2=16, units3=32;, score=0.646 total time=  22.4s\n"
     ]
    },
    {
     "name": "stdout",
     "output_type": "stream",
     "text": [
      "[CV 2/2] END batch_size=64, epochs=20, units1=128, units2=16, units3=32;, score=0.641 total time=  21.9s\n"
     ]
    },
    {
     "name": "stdout",
     "output_type": "stream",
     "text": [
      "[CV 1/2] END batch_size=64, epochs=20, units1=128, units2=32, units3=8;, score=0.653 total time=  22.2s\n"
     ]
    },
    {
     "name": "stdout",
     "output_type": "stream",
     "text": [
      "[CV 2/2] END batch_size=64, epochs=20, units1=128, units2=32, units3=8;, score=0.648 total time=  22.3s\n"
     ]
    },
    {
     "name": "stdout",
     "output_type": "stream",
     "text": [
      "[CV 1/2] END batch_size=64, epochs=20, units1=128, units2=32, units3=16;, score=0.644 total time=  22.5s\n"
     ]
    },
    {
     "name": "stdout",
     "output_type": "stream",
     "text": [
      "[CV 2/2] END batch_size=64, epochs=20, units1=128, units2=32, units3=16;, score=0.649 total time=  22.3s\n"
     ]
    },
    {
     "name": "stdout",
     "output_type": "stream",
     "text": [
      "[CV 1/2] END batch_size=64, epochs=20, units1=128, units2=32, units3=32;, score=0.649 total time=  22.3s\n"
     ]
    },
    {
     "name": "stdout",
     "output_type": "stream",
     "text": [
      "[CV 2/2] END batch_size=64, epochs=20, units1=128, units2=32, units3=32;, score=0.649 total time=  22.3s\n"
     ]
    },
    {
     "name": "stdout",
     "output_type": "stream",
     "text": [
      "[CV 1/2] END batch_size=64, epochs=20, units1=128, units2=64, units3=8;, score=0.653 total time=  22.4s\n"
     ]
    },
    {
     "name": "stdout",
     "output_type": "stream",
     "text": [
      "[CV 2/2] END batch_size=64, epochs=20, units1=128, units2=64, units3=8;, score=0.650 total time=  22.4s\n"
     ]
    },
    {
     "name": "stdout",
     "output_type": "stream",
     "text": [
      "[CV 1/2] END batch_size=64, epochs=20, units1=128, units2=64, units3=16;, score=0.653 total time=  22.4s\n"
     ]
    },
    {
     "name": "stdout",
     "output_type": "stream",
     "text": [
      "[CV 2/2] END batch_size=64, epochs=20, units1=128, units2=64, units3=16;, score=0.654 total time=  22.2s\n"
     ]
    },
    {
     "name": "stdout",
     "output_type": "stream",
     "text": [
      "[CV 1/2] END batch_size=64, epochs=20, units1=128, units2=64, units3=32;, score=0.658 total time=  22.2s\n"
     ]
    },
    {
     "name": "stdout",
     "output_type": "stream",
     "text": [
      "[CV 2/2] END batch_size=64, epochs=20, units1=128, units2=64, units3=32;, score=0.653 total time=  22.3s\n"
     ]
    },
    {
     "name": "stdout",
     "output_type": "stream",
     "text": [
      "[CV 1/2] END batch_size=64, epochs=50, units1=32, units2=16, units3=8;, score=0.656 total time=  53.1s\n"
     ]
    },
    {
     "name": "stdout",
     "output_type": "stream",
     "text": [
      "[CV 2/2] END batch_size=64, epochs=50, units1=32, units2=16, units3=8;, score=0.645 total time=  53.2s\n"
     ]
    },
    {
     "name": "stdout",
     "output_type": "stream",
     "text": [
      "[CV 1/2] END batch_size=64, epochs=50, units1=32, units2=16, units3=16;, score=0.659 total time= 1.1min\n"
     ]
    },
    {
     "name": "stdout",
     "output_type": "stream",
     "text": [
      "[CV 2/2] END batch_size=64, epochs=50, units1=32, units2=16, units3=16;, score=0.656 total time= 1.1min\n"
     ]
    },
    {
     "name": "stdout",
     "output_type": "stream",
     "text": [
      "[CV 1/2] END batch_size=64, epochs=50, units1=32, units2=16, units3=32;, score=0.656 total time= 1.1min\n"
     ]
    },
    {
     "name": "stdout",
     "output_type": "stream",
     "text": [
      "[CV 2/2] END batch_size=64, epochs=50, units1=32, units2=16, units3=32;, score=0.650 total time= 1.1min\n"
     ]
    },
    {
     "name": "stdout",
     "output_type": "stream",
     "text": [
      "[CV 1/2] END batch_size=64, epochs=50, units1=32, units2=32, units3=8;, score=0.657 total time=  59.2s\n"
     ]
    },
    {
     "name": "stdout",
     "output_type": "stream",
     "text": [
      "[CV 2/2] END batch_size=64, epochs=50, units1=32, units2=32, units3=8;, score=0.651 total time=  54.1s\n"
     ]
    },
    {
     "name": "stdout",
     "output_type": "stream",
     "text": [
      "[CV 1/2] END batch_size=64, epochs=50, units1=32, units2=32, units3=16;, score=0.659 total time=  54.4s\n"
     ]
    },
    {
     "name": "stdout",
     "output_type": "stream",
     "text": [
      "[CV 2/2] END batch_size=64, epochs=50, units1=32, units2=32, units3=16;, score=0.661 total time=  54.3s\n"
     ]
    },
    {
     "name": "stdout",
     "output_type": "stream",
     "text": [
      "[CV 1/2] END batch_size=64, epochs=50, units1=32, units2=32, units3=32;, score=0.662 total time=  53.3s\n"
     ]
    },
    {
     "name": "stdout",
     "output_type": "stream",
     "text": [
      "[CV 2/2] END batch_size=64, epochs=50, units1=32, units2=32, units3=32;, score=0.662 total time=  52.8s\n"
     ]
    },
    {
     "name": "stdout",
     "output_type": "stream",
     "text": [
      "[CV 1/2] END batch_size=64, epochs=50, units1=32, units2=64, units3=8;, score=0.661 total time=  53.9s\n"
     ]
    },
    {
     "name": "stdout",
     "output_type": "stream",
     "text": [
      "[CV 2/2] END batch_size=64, epochs=50, units1=32, units2=64, units3=8;, score=0.659 total time=  53.7s\n"
     ]
    },
    {
     "name": "stdout",
     "output_type": "stream",
     "text": [
      "[CV 1/2] END batch_size=64, epochs=50, units1=32, units2=64, units3=16;, score=0.662 total time=  53.7s\n"
     ]
    },
    {
     "name": "stdout",
     "output_type": "stream",
     "text": [
      "[CV 2/2] END batch_size=64, epochs=50, units1=32, units2=64, units3=16;, score=0.654 total time=  53.5s\n"
     ]
    },
    {
     "name": "stdout",
     "output_type": "stream",
     "text": [
      "[CV 1/2] END batch_size=64, epochs=50, units1=32, units2=64, units3=32;, score=0.666 total time=  53.3s\n"
     ]
    },
    {
     "name": "stdout",
     "output_type": "stream",
     "text": [
      "[CV 2/2] END batch_size=64, epochs=50, units1=32, units2=64, units3=32;, score=0.664 total time= 1.0min\n"
     ]
    },
    {
     "name": "stdout",
     "output_type": "stream",
     "text": [
      "[CV 1/2] END batch_size=64, epochs=50, units1=64, units2=16, units3=8;, score=0.655 total time= 1.0min\n"
     ]
    },
    {
     "name": "stdout",
     "output_type": "stream",
     "text": [
      "[CV 2/2] END batch_size=64, epochs=50, units1=64, units2=16, units3=8;, score=0.658 total time= 1.0min\n"
     ]
    },
    {
     "name": "stdout",
     "output_type": "stream",
     "text": [
      "[CV 1/2] END batch_size=64, epochs=50, units1=64, units2=16, units3=16;, score=0.652 total time= 1.1min\n"
     ]
    },
    {
     "name": "stdout",
     "output_type": "stream",
     "text": [
      "[CV 2/2] END batch_size=64, epochs=50, units1=64, units2=16, units3=16;, score=0.655 total time=  58.5s\n"
     ]
    },
    {
     "name": "stdout",
     "output_type": "stream",
     "text": [
      "[CV 1/2] END batch_size=64, epochs=50, units1=64, units2=16, units3=32;, score=0.663 total time=  53.9s\n"
     ]
    },
    {
     "name": "stdout",
     "output_type": "stream",
     "text": [
      "[CV 2/2] END batch_size=64, epochs=50, units1=64, units2=16, units3=32;, score=0.660 total time=  53.8s\n"
     ]
    },
    {
     "name": "stdout",
     "output_type": "stream",
     "text": [
      "[CV 1/2] END batch_size=64, epochs=50, units1=64, units2=32, units3=8;, score=0.663 total time=  53.2s\n"
     ]
    },
    {
     "name": "stdout",
     "output_type": "stream",
     "text": [
      "[CV 2/2] END batch_size=64, epochs=50, units1=64, units2=32, units3=8;, score=0.658 total time=  53.1s\n"
     ]
    },
    {
     "name": "stdout",
     "output_type": "stream",
     "text": [
      "[CV 1/2] END batch_size=64, epochs=50, units1=64, units2=32, units3=16;, score=0.662 total time=  53.5s\n"
     ]
    },
    {
     "name": "stdout",
     "output_type": "stream",
     "text": [
      "[CV 2/2] END batch_size=64, epochs=50, units1=64, units2=32, units3=16;, score=0.659 total time=  52.5s\n"
     ]
    },
    {
     "name": "stdout",
     "output_type": "stream",
     "text": [
      "[CV 1/2] END batch_size=64, epochs=50, units1=64, units2=32, units3=32;, score=0.665 total time=  53.3s\n"
     ]
    },
    {
     "name": "stdout",
     "output_type": "stream",
     "text": [
      "[CV 2/2] END batch_size=64, epochs=50, units1=64, units2=32, units3=32;, score=0.666 total time=  53.1s\n"
     ]
    },
    {
     "name": "stdout",
     "output_type": "stream",
     "text": [
      "[CV 1/2] END batch_size=64, epochs=50, units1=64, units2=64, units3=8;, score=0.665 total time=  53.3s\n"
     ]
    },
    {
     "name": "stdout",
     "output_type": "stream",
     "text": [
      "[CV 2/2] END batch_size=64, epochs=50, units1=64, units2=64, units3=8;, score=0.663 total time=  53.1s\n"
     ]
    },
    {
     "name": "stdout",
     "output_type": "stream",
     "text": [
      "[CV 1/2] END batch_size=64, epochs=50, units1=64, units2=64, units3=16;, score=0.669 total time= 1.0min\n"
     ]
    },
    {
     "name": "stdout",
     "output_type": "stream",
     "text": [
      "[CV 2/2] END batch_size=64, epochs=50, units1=64, units2=64, units3=16;, score=0.659 total time= 1.0min\n"
     ]
    },
    {
     "name": "stdout",
     "output_type": "stream",
     "text": [
      "[CV 1/2] END batch_size=64, epochs=50, units1=64, units2=64, units3=32;, score=0.658 total time= 1.0min\n"
     ]
    },
    {
     "name": "stdout",
     "output_type": "stream",
     "text": [
      "[CV 2/2] END batch_size=64, epochs=50, units1=64, units2=64, units3=32;, score=0.660 total time= 1.0min\n"
     ]
    },
    {
     "name": "stdout",
     "output_type": "stream",
     "text": [
      "[CV 1/2] END batch_size=64, epochs=50, units1=128, units2=16, units3=8;, score=0.660 total time=  59.9s\n"
     ]
    },
    {
     "name": "stdout",
     "output_type": "stream",
     "text": [
      "[CV 2/2] END batch_size=64, epochs=50, units1=128, units2=16, units3=8;, score=0.652 total time=  53.6s\n"
     ]
    },
    {
     "name": "stdout",
     "output_type": "stream",
     "text": [
      "[CV 1/2] END batch_size=64, epochs=50, units1=128, units2=16, units3=16;, score=0.655 total time=  53.7s\n"
     ]
    },
    {
     "name": "stdout",
     "output_type": "stream",
     "text": [
      "[CV 2/2] END batch_size=64, epochs=50, units1=128, units2=16, units3=16;, score=0.661 total time=  59.4s\n"
     ]
    },
    {
     "name": "stdout",
     "output_type": "stream",
     "text": [
      "[CV 1/2] END batch_size=64, epochs=50, units1=128, units2=16, units3=32;, score=0.666 total time=  55.9s\n"
     ]
    },
    {
     "name": "stdout",
     "output_type": "stream",
     "text": [
      "[CV 2/2] END batch_size=64, epochs=50, units1=128, units2=16, units3=32;, score=0.660 total time=  56.1s\n"
     ]
    },
    {
     "name": "stdout",
     "output_type": "stream",
     "text": [
      "[CV 1/2] END batch_size=64, epochs=50, units1=128, units2=32, units3=8;, score=0.669 total time=  55.0s\n"
     ]
    },
    {
     "name": "stdout",
     "output_type": "stream",
     "text": [
      "[CV 2/2] END batch_size=64, epochs=50, units1=128, units2=32, units3=8;, score=0.661 total time=  54.3s\n"
     ]
    },
    {
     "name": "stdout",
     "output_type": "stream",
     "text": [
      "[CV 1/2] END batch_size=64, epochs=50, units1=128, units2=32, units3=16;, score=0.665 total time=  54.6s\n"
     ]
    },
    {
     "name": "stdout",
     "output_type": "stream",
     "text": [
      "[CV 2/2] END batch_size=64, epochs=50, units1=128, units2=32, units3=16;, score=0.661 total time=  54.4s\n"
     ]
    },
    {
     "name": "stdout",
     "output_type": "stream",
     "text": [
      "[CV 1/2] END batch_size=64, epochs=50, units1=128, units2=32, units3=32;, score=0.669 total time=  53.7s\n"
     ]
    },
    {
     "name": "stdout",
     "output_type": "stream",
     "text": [
      "[CV 2/2] END batch_size=64, epochs=50, units1=128, units2=32, units3=32;, score=0.661 total time= 1.0min\n"
     ]
    },
    {
     "name": "stdout",
     "output_type": "stream",
     "text": [
      "[CV 1/2] END batch_size=64, epochs=50, units1=128, units2=64, units3=8;, score=0.667 total time= 1.1min\n"
     ]
    },
    {
     "name": "stdout",
     "output_type": "stream",
     "text": [
      "[CV 2/2] END batch_size=64, epochs=50, units1=128, units2=64, units3=8;, score=0.661 total time= 1.1min\n"
     ]
    },
    {
     "name": "stdout",
     "output_type": "stream",
     "text": [
      "[CV 1/2] END batch_size=64, epochs=50, units1=128, units2=64, units3=16;, score=0.669 total time= 1.0min\n"
     ]
    },
    {
     "name": "stdout",
     "output_type": "stream",
     "text": [
      "[CV 2/2] END batch_size=64, epochs=50, units1=128, units2=64, units3=16;, score=0.662 total time=  56.5s\n"
     ]
    },
    {
     "name": "stdout",
     "output_type": "stream",
     "text": [
      "[CV 1/2] END batch_size=64, epochs=50, units1=128, units2=64, units3=32;, score=0.668 total time=  53.3s\n"
     ]
    },
    {
     "name": "stdout",
     "output_type": "stream",
     "text": [
      "[CV 2/2] END batch_size=64, epochs=50, units1=128, units2=64, units3=32;, score=0.668 total time=  53.8s\n"
     ]
    },
    {
     "name": "stdout",
     "output_type": "stream",
     "text": [
      "[CV 1/2] END batch_size=128, epochs=10, units1=32, units2=16, units3=8;, score=0.634 total time=   6.9s\n"
     ]
    },
    {
     "name": "stdout",
     "output_type": "stream",
     "text": [
      "[CV 2/2] END batch_size=128, epochs=10, units1=32, units2=16, units3=8;, score=0.627 total time=   6.8s\n"
     ]
    },
    {
     "name": "stdout",
     "output_type": "stream",
     "text": [
      "[CV 1/2] END batch_size=128, epochs=10, units1=32, units2=16, units3=16;, score=0.635 total time=   6.8s\n"
     ]
    },
    {
     "name": "stdout",
     "output_type": "stream",
     "text": [
      "[CV 2/2] END batch_size=128, epochs=10, units1=32, units2=16, units3=16;, score=0.623 total time=   6.8s\n"
     ]
    },
    {
     "name": "stdout",
     "output_type": "stream",
     "text": [
      "[CV 1/2] END batch_size=128, epochs=10, units1=32, units2=16, units3=32;, score=0.634 total time=   6.8s\n"
     ]
    },
    {
     "name": "stdout",
     "output_type": "stream",
     "text": [
      "[CV 2/2] END batch_size=128, epochs=10, units1=32, units2=16, units3=32;, score=0.629 total time=   6.8s\n"
     ]
    },
    {
     "name": "stdout",
     "output_type": "stream",
     "text": [
      "[CV 1/2] END batch_size=128, epochs=10, units1=32, units2=32, units3=8;, score=0.635 total time=   6.8s\n"
     ]
    },
    {
     "name": "stdout",
     "output_type": "stream",
     "text": [
      "[CV 2/2] END batch_size=128, epochs=10, units1=32, units2=32, units3=8;, score=0.625 total time=   6.9s\n"
     ]
    },
    {
     "name": "stdout",
     "output_type": "stream",
     "text": [
      "[CV 1/2] END batch_size=128, epochs=10, units1=32, units2=32, units3=16;, score=0.629 total time=   6.8s\n"
     ]
    },
    {
     "name": "stdout",
     "output_type": "stream",
     "text": [
      "[CV 2/2] END batch_size=128, epochs=10, units1=32, units2=32, units3=16;, score=0.619 total time=   6.7s\n"
     ]
    },
    {
     "name": "stdout",
     "output_type": "stream",
     "text": [
      "[CV 1/2] END batch_size=128, epochs=10, units1=32, units2=32, units3=32;, score=0.640 total time=   6.7s\n"
     ]
    },
    {
     "name": "stdout",
     "output_type": "stream",
     "text": [
      "[CV 2/2] END batch_size=128, epochs=10, units1=32, units2=32, units3=32;, score=0.631 total time=   6.8s\n"
     ]
    },
    {
     "name": "stdout",
     "output_type": "stream",
     "text": [
      "[CV 1/2] END batch_size=128, epochs=10, units1=32, units2=64, units3=8;, score=0.638 total time=   6.8s\n"
     ]
    },
    {
     "name": "stdout",
     "output_type": "stream",
     "text": [
      "[CV 2/2] END batch_size=128, epochs=10, units1=32, units2=64, units3=8;, score=0.631 total time=   6.8s\n"
     ]
    },
    {
     "name": "stdout",
     "output_type": "stream",
     "text": [
      "[CV 1/2] END batch_size=128, epochs=10, units1=32, units2=64, units3=16;, score=0.627 total time=   6.8s\n"
     ]
    },
    {
     "name": "stdout",
     "output_type": "stream",
     "text": [
      "[CV 2/2] END batch_size=128, epochs=10, units1=32, units2=64, units3=16;, score=0.632 total time=   6.8s\n"
     ]
    },
    {
     "name": "stdout",
     "output_type": "stream",
     "text": [
      "[CV 1/2] END batch_size=128, epochs=10, units1=32, units2=64, units3=32;, score=0.640 total time=   6.8s\n"
     ]
    },
    {
     "name": "stdout",
     "output_type": "stream",
     "text": [
      "[CV 2/2] END batch_size=128, epochs=10, units1=32, units2=64, units3=32;, score=0.632 total time=   6.8s\n"
     ]
    },
    {
     "name": "stdout",
     "output_type": "stream",
     "text": [
      "[CV 1/2] END batch_size=128, epochs=10, units1=64, units2=16, units3=8;, score=0.631 total time=   6.8s\n"
     ]
    },
    {
     "name": "stdout",
     "output_type": "stream",
     "text": [
      "[CV 2/2] END batch_size=128, epochs=10, units1=64, units2=16, units3=8;, score=0.623 total time=   6.8s\n"
     ]
    },
    {
     "name": "stdout",
     "output_type": "stream",
     "text": [
      "[CV 1/2] END batch_size=128, epochs=10, units1=64, units2=16, units3=16;, score=0.636 total time=   6.9s\n"
     ]
    },
    {
     "name": "stdout",
     "output_type": "stream",
     "text": [
      "[CV 2/2] END batch_size=128, epochs=10, units1=64, units2=16, units3=16;, score=0.624 total time=   6.8s\n"
     ]
    },
    {
     "name": "stdout",
     "output_type": "stream",
     "text": [
      "[CV 1/2] END batch_size=128, epochs=10, units1=64, units2=16, units3=32;, score=0.615 total time=   6.8s\n"
     ]
    },
    {
     "name": "stdout",
     "output_type": "stream",
     "text": [
      "[CV 2/2] END batch_size=128, epochs=10, units1=64, units2=16, units3=32;, score=0.629 total time=   6.8s\n"
     ]
    },
    {
     "name": "stdout",
     "output_type": "stream",
     "text": [
      "[CV 1/2] END batch_size=128, epochs=10, units1=64, units2=32, units3=8;, score=0.633 total time=   6.8s\n"
     ]
    },
    {
     "name": "stdout",
     "output_type": "stream",
     "text": [
      "[CV 2/2] END batch_size=128, epochs=10, units1=64, units2=32, units3=8;, score=0.635 total time=  10.5s\n"
     ]
    },
    {
     "name": "stdout",
     "output_type": "stream",
     "text": [
      "[CV 1/2] END batch_size=128, epochs=10, units1=64, units2=32, units3=16;, score=0.641 total time=   7.1s\n"
     ]
    },
    {
     "name": "stdout",
     "output_type": "stream",
     "text": [
      "[CV 2/2] END batch_size=128, epochs=10, units1=64, units2=32, units3=16;, score=0.628 total time=   7.1s\n"
     ]
    },
    {
     "name": "stdout",
     "output_type": "stream",
     "text": [
      "[CV 1/2] END batch_size=128, epochs=10, units1=64, units2=32, units3=32;, score=0.641 total time=   7.0s\n"
     ]
    },
    {
     "name": "stdout",
     "output_type": "stream",
     "text": [
      "[CV 2/2] END batch_size=128, epochs=10, units1=64, units2=32, units3=32;, score=0.619 total time=   6.9s\n"
     ]
    },
    {
     "name": "stdout",
     "output_type": "stream",
     "text": [
      "[CV 1/2] END batch_size=128, epochs=10, units1=64, units2=64, units3=8;, score=0.639 total time=   6.9s\n"
     ]
    },
    {
     "name": "stdout",
     "output_type": "stream",
     "text": [
      "[CV 2/2] END batch_size=128, epochs=10, units1=64, units2=64, units3=8;, score=0.632 total time=   6.9s\n"
     ]
    },
    {
     "name": "stdout",
     "output_type": "stream",
     "text": [
      "[CV 1/2] END batch_size=128, epochs=10, units1=64, units2=64, units3=16;, score=0.639 total time=   6.9s\n"
     ]
    },
    {
     "name": "stdout",
     "output_type": "stream",
     "text": [
      "[CV 2/2] END batch_size=128, epochs=10, units1=64, units2=64, units3=16;, score=0.632 total time=   6.9s\n"
     ]
    },
    {
     "name": "stdout",
     "output_type": "stream",
     "text": [
      "[CV 1/2] END batch_size=128, epochs=10, units1=64, units2=64, units3=32;, score=0.627 total time=   6.9s\n"
     ]
    },
    {
     "name": "stdout",
     "output_type": "stream",
     "text": [
      "[CV 2/2] END batch_size=128, epochs=10, units1=64, units2=64, units3=32;, score=0.629 total time=   6.9s\n"
     ]
    },
    {
     "name": "stdout",
     "output_type": "stream",
     "text": [
      "[CV 1/2] END batch_size=128, epochs=10, units1=128, units2=16, units3=8;, score=0.634 total time=   6.9s\n"
     ]
    },
    {
     "name": "stdout",
     "output_type": "stream",
     "text": [
      "[CV 2/2] END batch_size=128, epochs=10, units1=128, units2=16, units3=8;, score=0.608 total time=   6.9s\n"
     ]
    },
    {
     "name": "stdout",
     "output_type": "stream",
     "text": [
      "[CV 1/2] END batch_size=128, epochs=10, units1=128, units2=16, units3=16;, score=0.634 total time=   6.9s\n"
     ]
    },
    {
     "name": "stdout",
     "output_type": "stream",
     "text": [
      "[CV 2/2] END batch_size=128, epochs=10, units1=128, units2=16, units3=16;, score=0.630 total time=   6.9s\n"
     ]
    },
    {
     "name": "stdout",
     "output_type": "stream",
     "text": [
      "[CV 1/2] END batch_size=128, epochs=10, units1=128, units2=16, units3=32;, score=0.641 total time=   6.7s\n"
     ]
    },
    {
     "name": "stdout",
     "output_type": "stream",
     "text": [
      "[CV 2/2] END batch_size=128, epochs=10, units1=128, units2=16, units3=32;, score=0.626 total time=   6.7s\n"
     ]
    },
    {
     "name": "stdout",
     "output_type": "stream",
     "text": [
      "[CV 1/2] END batch_size=128, epochs=10, units1=128, units2=32, units3=8;, score=0.633 total time=   6.6s\n"
     ]
    },
    {
     "name": "stdout",
     "output_type": "stream",
     "text": [
      "[CV 2/2] END batch_size=128, epochs=10, units1=128, units2=32, units3=8;, score=0.624 total time=   6.7s\n"
     ]
    },
    {
     "name": "stdout",
     "output_type": "stream",
     "text": [
      "[CV 1/2] END batch_size=128, epochs=10, units1=128, units2=32, units3=16;, score=0.639 total time=   6.8s\n"
     ]
    },
    {
     "name": "stdout",
     "output_type": "stream",
     "text": [
      "[CV 2/2] END batch_size=128, epochs=10, units1=128, units2=32, units3=16;, score=0.632 total time=   6.6s\n"
     ]
    },
    {
     "name": "stdout",
     "output_type": "stream",
     "text": [
      "[CV 1/2] END batch_size=128, epochs=10, units1=128, units2=32, units3=32;, score=0.642 total time=   6.8s\n"
     ]
    },
    {
     "name": "stdout",
     "output_type": "stream",
     "text": [
      "[CV 2/2] END batch_size=128, epochs=10, units1=128, units2=32, units3=32;, score=0.635 total time=   6.8s\n"
     ]
    },
    {
     "name": "stdout",
     "output_type": "stream",
     "text": [
      "[CV 1/2] END batch_size=128, epochs=10, units1=128, units2=64, units3=8;, score=0.636 total time=   6.8s\n"
     ]
    },
    {
     "name": "stdout",
     "output_type": "stream",
     "text": [
      "[CV 2/2] END batch_size=128, epochs=10, units1=128, units2=64, units3=8;, score=0.633 total time=   6.8s\n"
     ]
    },
    {
     "name": "stdout",
     "output_type": "stream",
     "text": [
      "[CV 1/2] END batch_size=128, epochs=10, units1=128, units2=64, units3=16;, score=0.632 total time=   6.8s\n"
     ]
    },
    {
     "name": "stdout",
     "output_type": "stream",
     "text": [
      "[CV 2/2] END batch_size=128, epochs=10, units1=128, units2=64, units3=16;, score=0.630 total time=   6.8s\n"
     ]
    },
    {
     "name": "stdout",
     "output_type": "stream",
     "text": [
      "[CV 1/2] END batch_size=128, epochs=10, units1=128, units2=64, units3=32;, score=0.643 total time=   6.8s\n"
     ]
    },
    {
     "name": "stdout",
     "output_type": "stream",
     "text": [
      "[CV 2/2] END batch_size=128, epochs=10, units1=128, units2=64, units3=32;, score=0.636 total time=   6.7s\n"
     ]
    },
    {
     "name": "stdout",
     "output_type": "stream",
     "text": [
      "[CV 1/2] END batch_size=128, epochs=20, units1=32, units2=16, units3=8;, score=0.638 total time=  12.1s\n"
     ]
    },
    {
     "name": "stdout",
     "output_type": "stream",
     "text": [
      "[CV 2/2] END batch_size=128, epochs=20, units1=32, units2=16, units3=8;, score=0.636 total time=  12.1s\n"
     ]
    },
    {
     "name": "stdout",
     "output_type": "stream",
     "text": [
      "[CV 1/2] END batch_size=128, epochs=20, units1=32, units2=16, units3=16;, score=0.635 total time=  12.0s\n"
     ]
    },
    {
     "name": "stdout",
     "output_type": "stream",
     "text": [
      "[CV 2/2] END batch_size=128, epochs=20, units1=32, units2=16, units3=16;, score=0.637 total time=  12.0s\n"
     ]
    },
    {
     "name": "stdout",
     "output_type": "stream",
     "text": [
      "[CV 1/2] END batch_size=128, epochs=20, units1=32, units2=16, units3=32;, score=0.636 total time=  12.0s\n"
     ]
    },
    {
     "name": "stdout",
     "output_type": "stream",
     "text": [
      "[CV 2/2] END batch_size=128, epochs=20, units1=32, units2=16, units3=32;, score=0.641 total time=  13.2s\n"
     ]
    },
    {
     "name": "stdout",
     "output_type": "stream",
     "text": [
      "[CV 1/2] END batch_size=128, epochs=20, units1=32, units2=32, units3=8;, score=0.645 total time=  14.1s\n"
     ]
    },
    {
     "name": "stdout",
     "output_type": "stream",
     "text": [
      "[CV 2/2] END batch_size=128, epochs=20, units1=32, units2=32, units3=8;, score=0.631 total time=  14.1s\n"
     ]
    },
    {
     "name": "stdout",
     "output_type": "stream",
     "text": [
      "[CV 1/2] END batch_size=128, epochs=20, units1=32, units2=32, units3=16;, score=0.640 total time=  14.0s\n"
     ]
    },
    {
     "name": "stdout",
     "output_type": "stream",
     "text": [
      "[CV 2/2] END batch_size=128, epochs=20, units1=32, units2=32, units3=16;, score=0.636 total time=  14.0s\n"
     ]
    },
    {
     "name": "stdout",
     "output_type": "stream",
     "text": [
      "[CV 1/2] END batch_size=128, epochs=20, units1=32, units2=32, units3=32;, score=0.638 total time=  14.2s\n"
     ]
    },
    {
     "name": "stdout",
     "output_type": "stream",
     "text": [
      "[CV 2/2] END batch_size=128, epochs=20, units1=32, units2=32, units3=32;, score=0.641 total time=  14.0s\n"
     ]
    },
    {
     "name": "stdout",
     "output_type": "stream",
     "text": [
      "[CV 1/2] END batch_size=128, epochs=20, units1=32, units2=64, units3=8;, score=0.644 total time=  14.1s\n"
     ]
    },
    {
     "name": "stdout",
     "output_type": "stream",
     "text": [
      "[CV 2/2] END batch_size=128, epochs=20, units1=32, units2=64, units3=8;, score=0.628 total time=  14.1s\n"
     ]
    },
    {
     "name": "stdout",
     "output_type": "stream",
     "text": [
      "[CV 1/2] END batch_size=128, epochs=20, units1=32, units2=64, units3=16;, score=0.646 total time=  14.1s\n"
     ]
    },
    {
     "name": "stdout",
     "output_type": "stream",
     "text": [
      "[CV 2/2] END batch_size=128, epochs=20, units1=32, units2=64, units3=16;, score=0.638 total time=  19.0s\n"
     ]
    },
    {
     "name": "stdout",
     "output_type": "stream",
     "text": [
      "[CV 1/2] END batch_size=128, epochs=20, units1=32, units2=64, units3=32;, score=0.644 total time=  15.0s\n"
     ]
    },
    {
     "name": "stdout",
     "output_type": "stream",
     "text": [
      "[CV 2/2] END batch_size=128, epochs=20, units1=32, units2=64, units3=32;, score=0.646 total time=  14.7s\n"
     ]
    },
    {
     "name": "stdout",
     "output_type": "stream",
     "text": [
      "[CV 1/2] END batch_size=128, epochs=20, units1=64, units2=16, units3=8;, score=0.643 total time=  14.7s\n"
     ]
    },
    {
     "name": "stdout",
     "output_type": "stream",
     "text": [
      "[CV 2/2] END batch_size=128, epochs=20, units1=64, units2=16, units3=8;, score=0.645 total time=  14.5s\n"
     ]
    },
    {
     "name": "stdout",
     "output_type": "stream",
     "text": [
      "[CV 1/2] END batch_size=128, epochs=20, units1=64, units2=16, units3=16;, score=0.644 total time=  14.5s\n"
     ]
    },
    {
     "name": "stdout",
     "output_type": "stream",
     "text": [
      "[CV 2/2] END batch_size=128, epochs=20, units1=64, units2=16, units3=16;, score=0.635 total time=  14.4s\n"
     ]
    },
    {
     "name": "stdout",
     "output_type": "stream",
     "text": [
      "[CV 1/2] END batch_size=128, epochs=20, units1=64, units2=16, units3=32;, score=0.646 total time=  14.4s\n"
     ]
    },
    {
     "name": "stdout",
     "output_type": "stream",
     "text": [
      "[CV 2/2] END batch_size=128, epochs=20, units1=64, units2=16, units3=32;, score=0.642 total time=  14.2s\n"
     ]
    },
    {
     "name": "stdout",
     "output_type": "stream",
     "text": [
      "[CV 1/2] END batch_size=128, epochs=20, units1=64, units2=32, units3=8;, score=0.638 total time=  12.1s\n"
     ]
    },
    {
     "name": "stdout",
     "output_type": "stream",
     "text": [
      "[CV 2/2] END batch_size=128, epochs=20, units1=64, units2=32, units3=8;, score=0.630 total time=  11.9s\n"
     ]
    },
    {
     "name": "stdout",
     "output_type": "stream",
     "text": [
      "[CV 1/2] END batch_size=128, epochs=20, units1=64, units2=32, units3=16;, score=0.645 total time=  11.8s\n"
     ]
    },
    {
     "name": "stdout",
     "output_type": "stream",
     "text": [
      "[CV 2/2] END batch_size=128, epochs=20, units1=64, units2=32, units3=16;, score=0.634 total time=  11.9s\n"
     ]
    },
    {
     "name": "stdout",
     "output_type": "stream",
     "text": [
      "[CV 1/2] END batch_size=128, epochs=20, units1=64, units2=32, units3=32;, score=0.645 total time=  12.2s\n"
     ]
    },
    {
     "name": "stdout",
     "output_type": "stream",
     "text": [
      "[CV 2/2] END batch_size=128, epochs=20, units1=64, units2=32, units3=32;, score=0.641 total time=  12.1s\n"
     ]
    },
    {
     "name": "stdout",
     "output_type": "stream",
     "text": [
      "[CV 1/2] END batch_size=128, epochs=20, units1=64, units2=64, units3=8;, score=0.644 total time=  12.1s\n"
     ]
    },
    {
     "name": "stdout",
     "output_type": "stream",
     "text": [
      "[CV 2/2] END batch_size=128, epochs=20, units1=64, units2=64, units3=8;, score=0.645 total time=  12.0s\n"
     ]
    },
    {
     "name": "stdout",
     "output_type": "stream",
     "text": [
      "[CV 1/2] END batch_size=128, epochs=20, units1=64, units2=64, units3=16;, score=0.647 total time=  12.0s\n"
     ]
    },
    {
     "name": "stdout",
     "output_type": "stream",
     "text": [
      "[CV 2/2] END batch_size=128, epochs=20, units1=64, units2=64, units3=16;, score=0.634 total time=  12.0s\n"
     ]
    },
    {
     "name": "stdout",
     "output_type": "stream",
     "text": [
      "[CV 1/2] END batch_size=128, epochs=20, units1=64, units2=64, units3=32;, score=0.653 total time=  12.0s\n"
     ]
    },
    {
     "name": "stdout",
     "output_type": "stream",
     "text": [
      "[CV 2/2] END batch_size=128, epochs=20, units1=64, units2=64, units3=32;, score=0.647 total time=  12.0s\n"
     ]
    },
    {
     "name": "stdout",
     "output_type": "stream",
     "text": [
      "[CV 1/2] END batch_size=128, epochs=20, units1=128, units2=16, units3=8;, score=0.644 total time=  12.0s\n"
     ]
    },
    {
     "name": "stdout",
     "output_type": "stream",
     "text": [
      "[CV 2/2] END batch_size=128, epochs=20, units1=128, units2=16, units3=8;, score=0.639 total time=  12.0s\n"
     ]
    },
    {
     "name": "stdout",
     "output_type": "stream",
     "text": [
      "[CV 1/2] END batch_size=128, epochs=20, units1=128, units2=16, units3=16;, score=0.641 total time=  12.1s\n"
     ]
    },
    {
     "name": "stdout",
     "output_type": "stream",
     "text": [
      "[CV 2/2] END batch_size=128, epochs=20, units1=128, units2=16, units3=16;, score=0.631 total time=  12.0s\n"
     ]
    },
    {
     "name": "stdout",
     "output_type": "stream",
     "text": [
      "[CV 1/2] END batch_size=128, epochs=20, units1=128, units2=16, units3=32;, score=0.653 total time=  12.1s\n"
     ]
    },
    {
     "name": "stdout",
     "output_type": "stream",
     "text": [
      "[CV 2/2] END batch_size=128, epochs=20, units1=128, units2=16, units3=32;, score=0.637 total time=  12.0s\n"
     ]
    },
    {
     "name": "stdout",
     "output_type": "stream",
     "text": [
      "[CV 1/2] END batch_size=128, epochs=20, units1=128, units2=32, units3=8;, score=0.643 total time=  12.0s\n"
     ]
    },
    {
     "name": "stdout",
     "output_type": "stream",
     "text": [
      "[CV 2/2] END batch_size=128, epochs=20, units1=128, units2=32, units3=8;, score=0.646 total time=  12.0s\n"
     ]
    },
    {
     "name": "stdout",
     "output_type": "stream",
     "text": [
      "[CV 1/2] END batch_size=128, epochs=20, units1=128, units2=32, units3=16;, score=0.655 total time=  11.9s\n"
     ]
    },
    {
     "name": "stdout",
     "output_type": "stream",
     "text": [
      "[CV 2/2] END batch_size=128, epochs=20, units1=128, units2=32, units3=16;, score=0.644 total time=  11.9s\n"
     ]
    },
    {
     "name": "stdout",
     "output_type": "stream",
     "text": [
      "[CV 1/2] END batch_size=128, epochs=20, units1=128, units2=32, units3=32;, score=0.635 total time=  12.0s\n"
     ]
    },
    {
     "name": "stdout",
     "output_type": "stream",
     "text": [
      "[CV 2/2] END batch_size=128, epochs=20, units1=128, units2=32, units3=32;, score=0.639 total time=  11.9s\n"
     ]
    },
    {
     "name": "stdout",
     "output_type": "stream",
     "text": [
      "[CV 1/2] END batch_size=128, epochs=20, units1=128, units2=64, units3=8;, score=0.647 total time=  12.0s\n"
     ]
    },
    {
     "name": "stdout",
     "output_type": "stream",
     "text": [
      "[CV 2/2] END batch_size=128, epochs=20, units1=128, units2=64, units3=8;, score=0.643 total time=  12.0s\n"
     ]
    },
    {
     "name": "stdout",
     "output_type": "stream",
     "text": [
      "[CV 1/2] END batch_size=128, epochs=20, units1=128, units2=64, units3=16;, score=0.655 total time=  11.9s\n"
     ]
    },
    {
     "name": "stdout",
     "output_type": "stream",
     "text": [
      "[CV 2/2] END batch_size=128, epochs=20, units1=128, units2=64, units3=16;, score=0.645 total time=  12.0s\n"
     ]
    },
    {
     "name": "stdout",
     "output_type": "stream",
     "text": [
      "[CV 1/2] END batch_size=128, epochs=20, units1=128, units2=64, units3=32;, score=0.647 total time=  11.9s\n"
     ]
    },
    {
     "name": "stdout",
     "output_type": "stream",
     "text": [
      "[CV 2/2] END batch_size=128, epochs=20, units1=128, units2=64, units3=32;, score=0.648 total time=  11.9s\n"
     ]
    },
    {
     "name": "stdout",
     "output_type": "stream",
     "text": [
      "[CV 1/2] END batch_size=128, epochs=50, units1=32, units2=16, units3=8;, score=0.641 total time=  27.6s\n"
     ]
    },
    {
     "name": "stdout",
     "output_type": "stream",
     "text": [
      "[CV 2/2] END batch_size=128, epochs=50, units1=32, units2=16, units3=8;, score=0.644 total time=  27.5s\n"
     ]
    },
    {
     "name": "stdout",
     "output_type": "stream",
     "text": [
      "[CV 1/2] END batch_size=128, epochs=50, units1=32, units2=16, units3=16;, score=0.654 total time=  27.5s\n"
     ]
    },
    {
     "name": "stdout",
     "output_type": "stream",
     "text": [
      "[CV 2/2] END batch_size=128, epochs=50, units1=32, units2=16, units3=16;, score=0.646 total time=  27.0s\n"
     ]
    },
    {
     "name": "stdout",
     "output_type": "stream",
     "text": [
      "[CV 1/2] END batch_size=128, epochs=50, units1=32, units2=16, units3=32;, score=0.654 total time=  27.4s\n"
     ]
    },
    {
     "name": "stdout",
     "output_type": "stream",
     "text": [
      "[CV 2/2] END batch_size=128, epochs=50, units1=32, units2=16, units3=32;, score=0.650 total time=  27.6s\n"
     ]
    },
    {
     "name": "stdout",
     "output_type": "stream",
     "text": [
      "[CV 1/2] END batch_size=128, epochs=50, units1=32, units2=32, units3=8;, score=0.652 total time=  27.6s\n"
     ]
    },
    {
     "name": "stdout",
     "output_type": "stream",
     "text": [
      "[CV 2/2] END batch_size=128, epochs=50, units1=32, units2=32, units3=8;, score=0.647 total time=  27.3s\n"
     ]
    },
    {
     "name": "stdout",
     "output_type": "stream",
     "text": [
      "[CV 1/2] END batch_size=128, epochs=50, units1=32, units2=32, units3=16;, score=0.658 total time=  32.6s\n"
     ]
    },
    {
     "name": "stdout",
     "output_type": "stream",
     "text": [
      "[CV 2/2] END batch_size=128, epochs=50, units1=32, units2=32, units3=16;, score=0.648 total time=  32.6s\n"
     ]
    },
    {
     "name": "stdout",
     "output_type": "stream",
     "text": [
      "[CV 1/2] END batch_size=128, epochs=50, units1=32, units2=32, units3=32;, score=0.655 total time=  37.4s\n"
     ]
    },
    {
     "name": "stdout",
     "output_type": "stream",
     "text": [
      "[CV 2/2] END batch_size=128, epochs=50, units1=32, units2=32, units3=32;, score=0.650 total time=  34.6s\n"
     ]
    },
    {
     "name": "stdout",
     "output_type": "stream",
     "text": [
      "[CV 1/2] END batch_size=128, epochs=50, units1=32, units2=64, units3=8;, score=0.655 total time=  34.6s\n"
     ]
    },
    {
     "name": "stdout",
     "output_type": "stream",
     "text": [
      "[CV 2/2] END batch_size=128, epochs=50, units1=32, units2=64, units3=8;, score=0.656 total time=  34.1s\n"
     ]
    },
    {
     "name": "stdout",
     "output_type": "stream",
     "text": [
      "[CV 1/2] END batch_size=128, epochs=50, units1=32, units2=64, units3=16;, score=0.662 total time=  34.2s\n"
     ]
    },
    {
     "name": "stdout",
     "output_type": "stream",
     "text": [
      "[CV 2/2] END batch_size=128, epochs=50, units1=32, units2=64, units3=16;, score=0.656 total time=  33.2s\n"
     ]
    },
    {
     "name": "stdout",
     "output_type": "stream",
     "text": [
      "[CV 1/2] END batch_size=128, epochs=50, units1=32, units2=64, units3=32;, score=0.658 total time=  28.2s\n"
     ]
    },
    {
     "name": "stdout",
     "output_type": "stream",
     "text": [
      "[CV 2/2] END batch_size=128, epochs=50, units1=32, units2=64, units3=32;, score=0.653 total time=  27.6s\n"
     ]
    },
    {
     "name": "stdout",
     "output_type": "stream",
     "text": [
      "[CV 1/2] END batch_size=128, epochs=50, units1=64, units2=16, units3=8;, score=0.644 total time=  28.2s\n"
     ]
    },
    {
     "name": "stdout",
     "output_type": "stream",
     "text": [
      "[CV 2/2] END batch_size=128, epochs=50, units1=64, units2=16, units3=8;, score=0.650 total time=  28.1s\n"
     ]
    },
    {
     "name": "stdout",
     "output_type": "stream",
     "text": [
      "[CV 1/2] END batch_size=128, epochs=50, units1=64, units2=16, units3=16;, score=0.661 total time=  28.1s\n"
     ]
    },
    {
     "name": "stdout",
     "output_type": "stream",
     "text": [
      "[CV 2/2] END batch_size=128, epochs=50, units1=64, units2=16, units3=16;, score=0.645 total time=  28.0s\n"
     ]
    },
    {
     "name": "stdout",
     "output_type": "stream",
     "text": [
      "[CV 1/2] END batch_size=128, epochs=50, units1=64, units2=16, units3=32;, score=0.661 total time=  28.3s\n"
     ]
    },
    {
     "name": "stdout",
     "output_type": "stream",
     "text": [
      "[CV 2/2] END batch_size=128, epochs=50, units1=64, units2=16, units3=32;, score=0.648 total time=  28.2s\n"
     ]
    },
    {
     "name": "stdout",
     "output_type": "stream",
     "text": [
      "[CV 1/2] END batch_size=128, epochs=50, units1=64, units2=32, units3=8;, score=0.662 total time=  27.7s\n"
     ]
    },
    {
     "name": "stdout",
     "output_type": "stream",
     "text": [
      "[CV 2/2] END batch_size=128, epochs=50, units1=64, units2=32, units3=8;, score=0.646 total time=  27.9s\n"
     ]
    },
    {
     "name": "stdout",
     "output_type": "stream",
     "text": [
      "[CV 1/2] END batch_size=128, epochs=50, units1=64, units2=32, units3=16;, score=0.665 total time=  27.8s\n"
     ]
    },
    {
     "name": "stdout",
     "output_type": "stream",
     "text": [
      "[CV 2/2] END batch_size=128, epochs=50, units1=64, units2=32, units3=16;, score=0.657 total time=  27.7s\n"
     ]
    },
    {
     "name": "stdout",
     "output_type": "stream",
     "text": [
      "[CV 1/2] END batch_size=128, epochs=50, units1=64, units2=32, units3=32;, score=0.660 total time=  27.8s\n"
     ]
    },
    {
     "name": "stdout",
     "output_type": "stream",
     "text": [
      "[CV 2/2] END batch_size=128, epochs=50, units1=64, units2=32, units3=32;, score=0.658 total time=  27.6s\n"
     ]
    },
    {
     "name": "stdout",
     "output_type": "stream",
     "text": [
      "[CV 1/2] END batch_size=128, epochs=50, units1=64, units2=64, units3=8;, score=0.666 total time=  27.6s\n"
     ]
    },
    {
     "name": "stdout",
     "output_type": "stream",
     "text": [
      "[CV 2/2] END batch_size=128, epochs=50, units1=64, units2=64, units3=8;, score=0.653 total time=  27.7s\n"
     ]
    },
    {
     "name": "stdout",
     "output_type": "stream",
     "text": [
      "[CV 1/2] END batch_size=128, epochs=50, units1=64, units2=64, units3=16;, score=0.665 total time=  27.7s\n"
     ]
    },
    {
     "name": "stdout",
     "output_type": "stream",
     "text": [
      "[CV 2/2] END batch_size=128, epochs=50, units1=64, units2=64, units3=16;, score=0.660 total time=  27.0s\n"
     ]
    },
    {
     "name": "stdout",
     "output_type": "stream",
     "text": [
      "[CV 1/2] END batch_size=128, epochs=50, units1=64, units2=64, units3=32;, score=0.667 total time=  27.3s\n"
     ]
    },
    {
     "name": "stdout",
     "output_type": "stream",
     "text": [
      "[CV 2/2] END batch_size=128, epochs=50, units1=64, units2=64, units3=32;, score=0.658 total time=  27.7s\n"
     ]
    },
    {
     "name": "stdout",
     "output_type": "stream",
     "text": [
      "[CV 1/2] END batch_size=128, epochs=50, units1=128, units2=16, units3=8;, score=0.658 total time=  28.8s\n"
     ]
    },
    {
     "name": "stdout",
     "output_type": "stream",
     "text": [
      "[CV 2/2] END batch_size=128, epochs=50, units1=128, units2=16, units3=8;, score=0.652 total time=  32.9s\n"
     ]
    },
    {
     "name": "stdout",
     "output_type": "stream",
     "text": [
      "[CV 1/2] END batch_size=128, epochs=50, units1=128, units2=16, units3=16;, score=0.665 total time=  32.7s\n"
     ]
    },
    {
     "name": "stdout",
     "output_type": "stream",
     "text": [
      "[CV 2/2] END batch_size=128, epochs=50, units1=128, units2=16, units3=16;, score=0.647 total time=  32.8s\n"
     ]
    },
    {
     "name": "stdout",
     "output_type": "stream",
     "text": [
      "[CV 1/2] END batch_size=128, epochs=50, units1=128, units2=16, units3=32;, score=0.661 total time=  32.6s\n"
     ]
    },
    {
     "name": "stdout",
     "output_type": "stream",
     "text": [
      "[CV 2/2] END batch_size=128, epochs=50, units1=128, units2=16, units3=32;, score=0.645 total time=  32.6s\n"
     ]
    },
    {
     "name": "stdout",
     "output_type": "stream",
     "text": [
      "[CV 1/2] END batch_size=128, epochs=50, units1=128, units2=32, units3=8;, score=0.661 total time=  32.6s\n"
     ]
    },
    {
     "name": "stdout",
     "output_type": "stream",
     "text": [
      "[CV 2/2] END batch_size=128, epochs=50, units1=128, units2=32, units3=8;, score=0.657 total time=  32.3s\n"
     ]
    },
    {
     "name": "stdout",
     "output_type": "stream",
     "text": [
      "[CV 1/2] END batch_size=128, epochs=50, units1=128, units2=32, units3=16;, score=0.650 total time=  32.5s\n"
     ]
    },
    {
     "name": "stdout",
     "output_type": "stream",
     "text": [
      "[CV 2/2] END batch_size=128, epochs=50, units1=128, units2=32, units3=16;, score=0.659 total time=  27.2s\n"
     ]
    },
    {
     "name": "stdout",
     "output_type": "stream",
     "text": [
      "[CV 1/2] END batch_size=128, epochs=50, units1=128, units2=32, units3=32;, score=0.662 total time=  27.5s\n"
     ]
    },
    {
     "name": "stdout",
     "output_type": "stream",
     "text": [
      "[CV 2/2] END batch_size=128, epochs=50, units1=128, units2=32, units3=32;, score=0.656 total time=  27.2s\n"
     ]
    },
    {
     "name": "stdout",
     "output_type": "stream",
     "text": [
      "[CV 1/2] END batch_size=128, epochs=50, units1=128, units2=64, units3=8;, score=0.661 total time=  26.9s\n"
     ]
    },
    {
     "name": "stdout",
     "output_type": "stream",
     "text": [
      "[CV 2/2] END batch_size=128, epochs=50, units1=128, units2=64, units3=8;, score=0.654 total time=  27.4s\n"
     ]
    },
    {
     "name": "stdout",
     "output_type": "stream",
     "text": [
      "[CV 1/2] END batch_size=128, epochs=50, units1=128, units2=64, units3=16;, score=0.668 total time=  27.2s\n"
     ]
    },
    {
     "name": "stdout",
     "output_type": "stream",
     "text": [
      "[CV 2/2] END batch_size=128, epochs=50, units1=128, units2=64, units3=16;, score=0.661 total time=  27.4s\n"
     ]
    },
    {
     "name": "stdout",
     "output_type": "stream",
     "text": [
      "[CV 1/2] END batch_size=128, epochs=50, units1=128, units2=64, units3=32;, score=0.666 total time=  27.3s\n"
     ]
    },
    {
     "name": "stdout",
     "output_type": "stream",
     "text": [
      "[CV 2/2] END batch_size=128, epochs=50, units1=128, units2=64, units3=32;, score=0.668 total time=  27.2s\n"
     ]
    },
    {
     "name": "stdout",
     "output_type": "stream",
     "text": [
      "Best: 0.6681881037197828 using {'batch_size': 64, 'epochs': 50, 'units1': 128, 'units2': 64, 'units3': 32}\n"
     ]
    },
    {
     "name": "stdout",
     "output_type": "stream",
     "text": [
      "INFO:tensorflow:Assets written to: ram://51693e088caa452983ebc9740675b06f/assets\n"
     ]
    },
    {
     "name": "stderr",
     "output_type": "stream",
     "text": [
      "INFO:tensorflow:Assets written to: ram://51693e088caa452983ebc9740675b06f/assets\n"
     ]
    }
   ],
   "source": [
    "if (not os.path.exists('gridsearch/ANN_postcovid.joblib')):\n",
    "\n",
    "    # Create a KerasRegressor\n",
    "    regressor_postcovid = KerasRegressor(model=buildModel, input_dim=X_train3.shape[1], verbose=0, epochs=100, batch_size=128, units1=256, units2=128, units3=64)\n",
    "\n",
    "    # Create a GridSearchCV and fit the model\n",
    "    grid_postcovid = GridSearchCV(estimator=regressor_postcovid, param_grid=param_grid, cv=2, verbose=3)\n",
    "    grid_result_postcovid = grid_postcovid.fit(X_train3, y_train3)\n",
    "\n",
    "    # Summarize results\n",
    "    print(f\"Best: {grid_result_postcovid.best_score_} using {grid_result_postcovid.best_params_}\")\n",
    "\n",
    "    # Save best model\n",
    "    dump(grid_result_postcovid, 'gridsearch/ANN_postcovid.joblib')\n",
    "\n",
    "else:\n",
    "    # Load grid_result from a file\n",
    "    grid_result_postcovid = load('gridsearch/ANN_postcovid.joblib')\n",
    "\n",
    "    # Summarize results\n",
    "    print(f\"Best: {grid_result_postcovid.best_score_} using {grid_result_postcovid.best_params_}\")"
   ]
  },
  {
   "cell_type": "code",
   "execution_count": 15,
   "id": "d25916a0",
   "metadata": {
    "execution": {
     "iopub.execute_input": "2024-03-28T09:19:55.153267Z",
     "iopub.status.busy": "2024-03-28T09:19:55.152861Z",
     "iopub.status.idle": "2024-03-28T09:19:56.022780Z",
     "shell.execute_reply": "2024-03-28T09:19:56.022284Z"
    },
    "papermill": {
     "duration": 0.904924,
     "end_time": "2024-03-28T09:19:56.023794",
     "exception": false,
     "start_time": "2024-03-28T09:19:55.118870",
     "status": "completed"
    },
    "tags": []
   },
   "outputs": [
    {
     "name": "stderr",
     "output_type": "stream",
     "text": [
      "2024-03-28 17:19:55.630541: W tensorflow/core/util/tensor_slice_reader.cc:98] Could not open ram://611548d961704f8386607fc6f8c638f3: INVALID_ARGUMENT: ram://611548d961704f8386607fc6f8c638f3 is a directory.\n"
     ]
    },
    {
     "name": "stdout",
     "output_type": "stream",
     "text": [
      "Test MAE: 0.6813697829813352\n"
     ]
    }
   ],
   "source": [
    "# Load and evaluate the model with the test data using the best hyperparameters\n",
    "grid_result_postcovid = load('gridsearch/ANN_postcovid.joblib')\n",
    "test_score = grid_result_postcovid.score(X_test3, y_test3)\n",
    "print(f\"Test MAE: {test_score}\")"
   ]
  },
  {
   "cell_type": "markdown",
   "id": "382e1af7",
   "metadata": {
    "papermill": {
     "duration": 0.033013,
     "end_time": "2024-03-28T09:19:56.091439",
     "exception": false,
     "start_time": "2024-03-28T09:19:56.058426",
     "status": "completed"
    },
    "tags": []
   },
   "source": [
    "### Comparing Models"
   ]
  },
  {
   "cell_type": "code",
   "execution_count": 16,
   "id": "1c2cc294",
   "metadata": {
    "execution": {
     "iopub.execute_input": "2024-03-28T09:19:56.159233Z",
     "iopub.status.busy": "2024-03-28T09:19:56.158991Z",
     "iopub.status.idle": "2024-03-28T09:19:58.940182Z",
     "shell.execute_reply": "2024-03-28T09:19:58.939637Z"
    },
    "papermill": {
     "duration": 2.816371,
     "end_time": "2024-03-28T09:19:58.941249",
     "exception": false,
     "start_time": "2024-03-28T09:19:56.124878",
     "status": "completed"
    },
    "tags": []
   },
   "outputs": [
    {
     "data": {
      "image/png": "[encoded data removed]",
      "text/plain": [
       "<Figure size 640x480 with 1 Axes>"
      ]
     },
     "metadata": {},
     "output_type": "display_data"
    },
    {
     "data": {
      "image/png": "[encoded data removed]",
      "text/plain": [
       "<Figure size 640x480 with 1 Axes>"
      ]
     },
     "metadata": {},
     "output_type": "display_data"
    },
    {
     "data": {
      "image/png": "[encoded data removed]",
      "text/plain": [
       "<Figure size 640x480 with 1 Axes>"
      ]
     },
     "metadata": {},
     "output_type": "display_data"
    },
    {
     "name": "stdout",
     "output_type": "stream",
     "text": [
      "(Full) Correlation coefficient: 0.80239690201378\n",
      "(Precovid) Correlation coefficient: 0.8049888343336389\n",
      "(Postcovid) Correlation coefficient: 0.8259881346643154\n",
      "--------------------------------------------------\n",
      "(Full) R2 score: 0.6430637799714232\n",
      "(Precovid) R2 score: 0.64724037502495\n",
      "(Postcovid) R2 score: 0.6813697829813352\n",
      "--------------------------------------------------\n",
      "(Full) Mean squared error: 0.3583199347068274\n",
      "(Precovid) Mean squared error: 0.3174636105965563\n",
      "(Postcovid) Mean squared error: 0.3175568701838387\n",
      "--------------------------------------------------\n",
      "(Full) Root mean squared error: 0.5985983083060187\n",
      "(Precovid) Root mean squared error: 0.5634390921799413\n",
      "(Postcovid) Root mean squared error: 0.5635218453474885\n"
     ]
    }
   ],
   "source": [
    "# Predict the adjusted price\n",
    "y_pred_fulldata = grid_result_fulldata.predict(X_test1)\n",
    "y_pred_precovid = grid_result_precovid.predict(X_test2)\n",
    "y_pred_postcovid = grid_result_postcovid.predict(X_test3)\n",
    "\n",
    "# Plot the predicted adjusted price against the actual adjusted price\n",
    "plt.scatter(y_test1, y_pred_fulldata, label='Full dataset')\n",
    "plt.xlabel('Actual adjusted price')\n",
    "plt.ylabel('Predicted adjusted price')\n",
    "plt.legend()\n",
    "plt.show()\n",
    "\n",
    "plt.scatter(y_test2, y_pred_precovid, label='Precovid dataset')\n",
    "plt.xlabel('Actual adjusted price')\n",
    "plt.ylabel('Predicted adjusted price')\n",
    "plt.legend()\n",
    "plt.show()\n",
    "\n",
    "plt.scatter(y_test3, y_pred_postcovid, label='Postcovid dataset')\n",
    "plt.xlabel('Actual adjusted price')\n",
    "plt.ylabel('Predicted adjusted price')\n",
    "plt.legend()\n",
    "plt.show()\n",
    "\n",
    "# Calculate the correlation coefficient\n",
    "correlation_fulldata = np.corrcoef(y_test1, y_pred_fulldata.flatten())[0, 1]\n",
    "correlation_precovid = np.corrcoef(y_test2, y_pred_precovid.flatten())[0, 1]\n",
    "correlation_postcovid = np.corrcoef(y_test3, y_pred_postcovid.flatten())[0, 1]\n",
    "print('(Full) Correlation coefficient:', correlation_fulldata)\n",
    "print('(Precovid) Correlation coefficient:', correlation_precovid)\n",
    "print('(Postcovid) Correlation coefficient:', correlation_postcovid)\n",
    "\n",
    "# Calculate r2 score\n",
    "from sklearn.metrics import r2_score\n",
    "r2_fulldata = r2_score(y_test1, y_pred_fulldata)\n",
    "r2_precovid = r2_score(y_test2, y_pred_precovid)\n",
    "r2_postcovid = r2_score(y_test3, y_pred_postcovid)\n",
    "print('-'*50)\n",
    "print('(Full) R2 score:', r2_fulldata)\n",
    "print('(Precovid) R2 score:', r2_precovid)\n",
    "print('(Postcovid) R2 score:', r2_postcovid)\n",
    "\n",
    "# Obtain the mean squared error\n",
    "from sklearn.metrics import mean_squared_error\n",
    "mse_fulldata = mean_squared_error(y_test1, y_pred_fulldata)\n",
    "mse_precovid = mean_squared_error(y_test2, y_pred_precovid)\n",
    "mse_postcovid = mean_squared_error(y_test3, y_pred_postcovid)\n",
    "print('-'*50)\n",
    "print('(Full) Mean squared error:', mse_fulldata)\n",
    "print('(Precovid) Mean squared error:', mse_precovid)\n",
    "print('(Postcovid) Mean squared error:', mse_postcovid)\n",
    "\n",
    "# Obtain the root mean squared error\n",
    "from math import sqrt\n",
    "rmse_fulldata = sqrt(mse_fulldata)\n",
    "rmse_precovid = sqrt(mse_precovid)\n",
    "rmse_postcovid = sqrt(mse_postcovid)\n",
    "print('-'*50)\n",
    "print('(Full) Root mean squared error:', rmse_fulldata)\n",
    "print('(Precovid) Root mean squared error:', rmse_precovid)\n",
    "print('(Postcovid) Root mean squared error:', rmse_postcovid)"
   ]
  }
 ],
 "metadata": {
  "kernelspec": {
   "display_name": "Python 3 (ipykernel)",
   "language": "python",
   "name": "python3"
  },
  "language_info": {
   "codemirror_mode": {
    "name": "ipython",
    "version": 3
   },
   "file_extension": ".py",
   "mimetype": "text/x-python",
   "name": "python",
   "nbconvert_exporter": "python",
   "pygments_lexer": "ipython3",
   "version": "3.11.4"
  },
  "papermill": {
   "default_parameters": {},
   "duration": 17653.644231,
   "end_time": "2024-03-28T09:20:02.511492",
   "environment_variables": {},
   "exception": null,
   "input_path": "/common/home/users/r/ryanlim.2021/ANN_RyanTest.output.26032024104408.ipynb",
   "output_path": "/common/home/users/r/ryanlim.2021/ANN_RyanTest.output.26032024104408.output.28032024122538.ipynb",
   "parameters": {},
   "start_time": "2024-03-28T04:25:48.867261",
   "version": "2.5.0"
  }
 },
 "nbformat": 4,
 "nbformat_minor": 5
}